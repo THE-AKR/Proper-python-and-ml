{
 "cells": [
  {
   "cell_type": "code",
   "execution_count": 10,
   "id": "df82e166",
   "metadata": {},
   "outputs": [],
   "source": [
    "import numpy as np\n"
   ]
  },
  {
   "cell_type": "code",
   "execution_count": 11,
   "id": "374d69c7",
   "metadata": {},
   "outputs": [
    {
     "name": "stdout",
     "output_type": "stream",
     "text": [
      "Enter a integer number2\n",
      "You chose 2\n",
      "random_number :  3\n",
      "You loose\n",
      "Enter a integer number2\n",
      "You chose 2\n",
      "random_number :  1\n",
      "You loose\n",
      "Enter a integer number2\n",
      "You chose 2\n",
      "random_number :  3\n",
      "You loose\n"
     ]
    }
   ],
   "source": [
    "for i in range(3):\n",
    "    value = np.random.randint(1,4)\n",
    "    number = int(input(\"Enter a integer number\"))\n",
    "\n",
    "    if number == value:\n",
    "        print(\"You chose\", number )\n",
    "        print(\"random_number : \", value )\n",
    "        print(\"You win!\")\n",
    "        \n",
    "    else:\n",
    "        print(\"You chose\", number )\n",
    "        print(\"random_number : \", value )\n",
    "        print(\"You loose\")"
   ]
  },
  {
   "cell_type": "code",
   "execution_count": 7,
   "id": "0c714f76",
   "metadata": {},
   "outputs": [
    {
     "data": {
      "text/plain": [
       "1"
      ]
     },
     "execution_count": 7,
     "metadata": {},
     "output_type": "execute_result"
    }
   ],
   "source": [
    "np.random.randint(1,4)"
   ]
  },
  {
   "cell_type": "code",
   "execution_count": 9,
   "id": "0957eaac",
   "metadata": {},
   "outputs": [
    {
     "data": {
      "text/plain": [
       "1.8883389497253602"
      ]
     },
     "execution_count": 9,
     "metadata": {},
     "output_type": "execute_result"
    }
   ],
   "source": [
    "np.random.randn()"
   ]
  },
  {
   "cell_type": "code",
   "execution_count": null,
   "id": "e3b08438",
   "metadata": {},
   "outputs": [],
   "source": []
  }
 ],
 "metadata": {
  "kernelspec": {
   "display_name": "Python 3",
   "language": "python",
   "name": "python3"
  },
  "language_info": {
   "codemirror_mode": {
    "name": "ipython",
    "version": 3
   },
   "file_extension": ".py",
   "mimetype": "text/x-python",
   "name": "python",
   "nbconvert_exporter": "python",
   "pygments_lexer": "ipython3",
   "version": "3.8.8"
  }
 },
 "nbformat": 4,
 "nbformat_minor": 5
}
