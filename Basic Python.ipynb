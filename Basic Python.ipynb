{
 "cells": [
  {
   "cell_type": "code",
   "execution_count": 1,
   "id": "b2a7e52c",
   "metadata": {},
   "outputs": [
    {
     "name": "stdout",
     "output_type": "stream",
     "text": [
      "hello world\n"
     ]
    }
   ],
   "source": [
    "print(\"hello world\")"
   ]
  },
  {
   "cell_type": "markdown",
   "id": "facb255c",
   "metadata": {},
   "source": [
    "# Int,float creation and methods"
   ]
  },
  {
   "cell_type": "code",
   "execution_count": 2,
   "id": "a45527ec",
   "metadata": {},
   "outputs": [
    {
     "data": {
      "text/plain": [
       "2.5"
      ]
     },
     "execution_count": 2,
     "metadata": {},
     "output_type": "execute_result"
    }
   ],
   "source": [
    "x=2.5\n",
    "x"
   ]
  },
  {
   "cell_type": "code",
   "execution_count": 214,
   "id": "13ec5beb",
   "metadata": {},
   "outputs": [
    {
     "data": {
      "text/plain": [
       "b'\\x06\\x00\\x00'"
      ]
     },
     "execution_count": 214,
     "metadata": {},
     "output_type": "execute_result"
    }
   ],
   "source": [
    "f=6\n",
    "f.to_bytes(3,\"little\")  #convert into bytes"
   ]
  },
  {
   "cell_type": "code",
   "execution_count": 3,
   "id": "d7940f49",
   "metadata": {},
   "outputs": [
    {
     "data": {
      "text/plain": [
       "(5, 2)"
      ]
     },
     "execution_count": 3,
     "metadata": {},
     "output_type": "execute_result"
    }
   ],
   "source": [
    "x.as_integer_ratio()"
   ]
  },
  {
   "cell_type": "code",
   "execution_count": 126,
   "id": "c3f5ed09",
   "metadata": {},
   "outputs": [
    {
     "data": {
      "text/plain": [
       "(5, 2)"
      ]
     },
     "execution_count": 126,
     "metadata": {},
     "output_type": "execute_result"
    }
   ],
   "source": [
    "x.as_integer_ratio() #gives fraction "
   ]
  },
  {
   "cell_type": "code",
   "execution_count": 132,
   "id": "319899c4",
   "metadata": {},
   "outputs": [
    {
     "data": {
      "text/plain": [
       "3.0"
      ]
     },
     "execution_count": 132,
     "metadata": {},
     "output_type": "execute_result"
    }
   ],
   "source": [
    "k.real #real part "
   ]
  },
  {
   "cell_type": "code",
   "execution_count": 123,
   "id": "166ef06b",
   "metadata": {},
   "outputs": [
    {
     "data": {
      "text/plain": [
       "2.0"
      ]
     },
     "execution_count": 123,
     "metadata": {},
     "output_type": "execute_result"
    }
   ],
   "source": [
    "k=3+2j\n",
    "k.imag #imaginary part \n"
   ]
  },
  {
   "cell_type": "code",
   "execution_count": 124,
   "id": "6f79dcde",
   "metadata": {},
   "outputs": [
    {
     "data": {
      "text/plain": [
       "(3-2j)"
      ]
     },
     "execution_count": 124,
     "metadata": {},
     "output_type": "execute_result"
    }
   ],
   "source": [
    "k.conjugate() #reverse the sign of imaginary part "
   ]
  },
  {
   "cell_type": "code",
   "execution_count": 1,
   "id": "6ae7906b",
   "metadata": {},
   "outputs": [
    {
     "name": "stdout",
     "output_type": "stream",
     "text": [
      "16777215.0\n"
     ]
    },
    {
     "data": {
      "text/plain": [
       "3735928559.0"
      ]
     },
     "execution_count": 1,
     "metadata": {},
     "output_type": "execute_result"
    }
   ],
   "source": [
    "c=5.6\n",
    "print(float.fromhex(\"ffffff\")) #reverse of hex , convert from hex to float \n",
    "c.fromhex(\"deadbeef\")#why? "
   ]
  },
  {
   "cell_type": "code",
   "execution_count": 185,
   "id": "19a93cd1",
   "metadata": {},
   "outputs": [
    {
     "data": {
      "text/plain": [
       "6777.0"
      ]
     },
     "execution_count": 185,
     "metadata": {},
     "output_type": "execute_result"
    }
   ],
   "source": [
    "float.fromhex(\"0x1a79\") "
   ]
  },
  {
   "cell_type": "code",
   "execution_count": 4,
   "id": "50eb57a9",
   "metadata": {},
   "outputs": [
    {
     "data": {
      "text/plain": [
       "False"
      ]
     },
     "execution_count": 4,
     "metadata": {},
     "output_type": "execute_result"
    }
   ],
   "source": [
    "x.is_integer #returns true if float is an integer"
   ]
  },
  {
   "cell_type": "code",
   "execution_count": 216,
   "id": "5c287621",
   "metadata": {},
   "outputs": [
    {
     "name": "stdout",
     "output_type": "stream",
     "text": [
      "0x1a79\n"
     ]
    }
   ],
   "source": [
    "e=6777\n",
    "print(hex(e)) #reverse of fromhex , convert from int to hex"
   ]
  },
  {
   "cell_type": "code",
   "execution_count": 5,
   "id": "7346c550",
   "metadata": {},
   "outputs": [
    {
     "data": {
      "text/plain": [
       "2.5"
      ]
     },
     "execution_count": 5,
     "metadata": {},
     "output_type": "execute_result"
    }
   ],
   "source": [
    "x.real"
   ]
  },
  {
   "cell_type": "code",
   "execution_count": 244,
   "id": "bfd584b7",
   "metadata": {},
   "outputs": [
    {
     "data": {
      "text/plain": [
       "1"
      ]
     },
     "execution_count": 244,
     "metadata": {},
     "output_type": "execute_result"
    }
   ],
   "source": [
    "den=10\n",
    "den.denominator #? how we can get other denominator rather than 1"
   ]
  },
  {
   "cell_type": "code",
   "execution_count": 11,
   "id": "d818cdb1",
   "metadata": {},
   "outputs": [
    {
     "data": {
      "text/plain": [
       "55"
      ]
     },
     "execution_count": 11,
     "metadata": {},
     "output_type": "execute_result"
    }
   ],
   "source": [
    "x=55\n",
    "x.numerator #gives numerator "
   ]
  },
  {
   "cell_type": "code",
   "execution_count": 9,
   "id": "ef7e13e6",
   "metadata": {},
   "outputs": [
    {
     "data": {
      "text/plain": [
       "1.0"
      ]
     },
     "execution_count": 9,
     "metadata": {},
     "output_type": "execute_result"
    }
   ],
   "source": [
    "x=66/66\n",
    "x"
   ]
  },
  {
   "cell_type": "code",
   "execution_count": 45,
   "id": "30e3996b",
   "metadata": {},
   "outputs": [
    {
     "data": {
      "text/plain": [
       "b'\\x00\\n'"
      ]
     },
     "execution_count": 45,
     "metadata": {},
     "output_type": "execute_result"
    }
   ],
   "source": [
    "x.to_bytes(2,\"big\")"
   ]
  },
  {
   "cell_type": "code",
   "execution_count": null,
   "id": "f8580608",
   "metadata": {},
   "outputs": [],
   "source": []
  },
  {
   "cell_type": "code",
   "execution_count": 52,
   "id": "7f8d838f",
   "metadata": {},
   "outputs": [
    {
     "data": {
      "text/plain": [
       "True"
      ]
     },
     "execution_count": 52,
     "metadata": {},
     "output_type": "execute_result"
    }
   ],
   "source": [
    "z=1.0\n",
    "z.is_integer() "
   ]
  },
  {
   "cell_type": "code",
   "execution_count": 6,
   "id": "a69c8586",
   "metadata": {},
   "outputs": [
    {
     "data": {
      "text/plain": [
       "True"
      ]
     },
     "execution_count": 6,
     "metadata": {},
     "output_type": "execute_result"
    }
   ],
   "source": [
    "y=6\n",
    "float(y).is_integer() #convert int to float first "
   ]
  },
  {
   "cell_type": "markdown",
   "id": "2b8bbe9c",
   "metadata": {},
   "source": [
    "## string"
   ]
  },
  {
   "cell_type": "code",
   "execution_count": 3,
   "id": "d2762413",
   "metadata": {},
   "outputs": [
    {
     "data": {
      "text/plain": [
       "'hello world, world, new world '"
      ]
     },
     "execution_count": 3,
     "metadata": {},
     "output_type": "execute_result"
    }
   ],
   "source": [
    "str_1=\"Hello World, World, new World \"\n",
    "str_2=\"hello world\"\n",
    "str_1.lower() #convert into lowercase letter"
   ]
  },
  {
   "cell_type": "code",
   "execution_count": 8,
   "id": "7249ee03",
   "metadata": {},
   "outputs": [
    {
     "data": {
      "text/plain": [
       "'HELLO WORLD, WORLD, NEW WORLD '"
      ]
     },
     "execution_count": 8,
     "metadata": {},
     "output_type": "execute_result"
    }
   ],
   "source": [
    "str_1.upper() #convert into uppercase letter"
   ]
  },
  {
   "cell_type": "code",
   "execution_count": 9,
   "id": "20c8d363",
   "metadata": {},
   "outputs": [
    {
     "data": {
      "text/plain": [
       "'hello ghost'"
      ]
     },
     "execution_count": 9,
     "metadata": {},
     "output_type": "execute_result"
    }
   ],
   "source": [
    "str_2.replace(\"world\",\"ghost\")  #replace word with new one"
   ]
  },
  {
   "cell_type": "code",
   "execution_count": 233,
   "id": "16c2335f",
   "metadata": {},
   "outputs": [
    {
     "data": {
      "text/plain": [
       "'Hello Ghost Ghost new Ghost'"
      ]
     },
     "execution_count": 233,
     "metadata": {},
     "output_type": "execute_result"
    }
   ],
   "source": [
    "str_1.replace(\"World\",\"Ghost\") #replace word with new one in whole string\n",
    "#str_1.replace?"
   ]
  },
  {
   "cell_type": "code",
   "execution_count": 241,
   "id": "0abeccbf",
   "metadata": {},
   "outputs": [
    {
     "data": {
      "text/plain": [
       "'Hello Ghost Ghost new World'"
      ]
     },
     "execution_count": 241,
     "metadata": {},
     "output_type": "execute_result"
    }
   ],
   "source": [
    "str_1.replace(\"World\", \"Ghost\",2)# replace word with new one with a count of occurance , for eg.here is 2 so it replace first 2."
   ]
  },
  {
   "cell_type": "code",
   "execution_count": 127,
   "id": "5c216a49",
   "metadata": {},
   "outputs": [
    {
     "name": "stdout",
     "output_type": "stream",
     "text": [
      "Hello World, World, new World \n",
      "['Hello', 'World,', 'World,', 'new', 'World', '']\n",
      "['Hello World, World, new World ']\n",
      "['Hello Worl', ', Worl', ', new Worl', ' ']\n",
      "['Hello Worl', ', Worl', ', new World ']\n",
      "['Hello World', ' World, new World ']\n"
     ]
    }
   ],
   "source": [
    "print(str_1)  #lot of confusion in whole of them\n",
    "print(str_1.split(\" \")) #2\n",
    "print(str_1.split(\"  \"))#3\n",
    "print(str_1.split('d'))#4\n",
    "print(str_1.split('d',2))#5\n",
    "print(str_1.split(',',1)) #6\n",
    "#str_1.split?"
   ]
  },
  {
   "cell_type": "code",
   "execution_count": 5,
   "id": "a6b15b8f",
   "metadata": {},
   "outputs": [
    {
     "data": {
      "text/plain": [
       "20"
      ]
     },
     "execution_count": 5,
     "metadata": {},
     "output_type": "execute_result"
    }
   ],
   "source": [
    "str_1.find(\"new\")"
   ]
  },
  {
   "cell_type": "code",
   "execution_count": 8,
   "id": "3799a0ab",
   "metadata": {},
   "outputs": [
    {
     "data": {
      "text/plain": [
       "5"
      ]
     },
     "execution_count": 8,
     "metadata": {},
     "output_type": "execute_result"
    }
   ],
   "source": [
    "str_1.count(\"l\")"
   ]
  },
  {
   "cell_type": "code",
   "execution_count": 5,
   "id": "7ee8e84d",
   "metadata": {},
   "outputs": [
    {
     "data": {
      "text/plain": [
       "True"
      ]
     },
     "execution_count": 5,
     "metadata": {},
     "output_type": "execute_result"
    }
   ],
   "source": [
    "str_1.startswith(\"Hello\")"
   ]
  },
  {
   "cell_type": "code",
   "execution_count": 16,
   "id": "9bf4bdcd",
   "metadata": {},
   "outputs": [
    {
     "name": "stdout",
     "output_type": "stream",
     "text": [
      "False\n",
      "False\n",
      "True\n"
     ]
    }
   ],
   "source": [
    "print(str_1.endswith(\"rld\"))\n",
    "print(str_1.endswith(\"Rld\"))\n",
    "print(str_1.endswith(\" \"))"
   ]
  },
  {
   "cell_type": "code",
   "execution_count": 4,
   "id": "cf9e7b38",
   "metadata": {},
   "outputs": [
    {
     "data": {
      "text/plain": [
       "'Hello$World,$World,$new$World$'"
      ]
     },
     "execution_count": 4,
     "metadata": {},
     "output_type": "execute_result"
    }
   ],
   "source": [
    "\"$\".join(str_1.split(\" \"))\n"
   ]
  },
  {
   "cell_type": "code",
   "execution_count": 19,
   "id": "6fcffb83",
   "metadata": {},
   "outputs": [
    {
     "data": {
      "text/plain": [
       "('Hello ', 'World', ', World, new World ')"
      ]
     },
     "execution_count": 19,
     "metadata": {},
     "output_type": "execute_result"
    }
   ],
   "source": [
    "str_1.partition(\"World\")\n"
   ]
  },
  {
   "cell_type": "code",
   "execution_count": 131,
   "id": "a2847d1c",
   "metadata": {},
   "outputs": [
    {
     "name": "stdout",
     "output_type": "stream",
     "text": [
      "ghOST\n"
     ]
    }
   ],
   "source": [
    "x= \"GHost\"\n",
    "print(x.swapcase())"
   ]
  },
  {
   "cell_type": "code",
   "execution_count": 134,
   "id": "2cb5f547",
   "metadata": {},
   "outputs": [],
   "source": [
    "str_1.format(1,3) #?\n",
    "#str_1.format?"
   ]
  },
  {
   "cell_type": "code",
   "execution_count": 8,
   "id": "81a03835",
   "metadata": {},
   "outputs": [
    {
     "data": {
      "text/plain": [
       "24"
      ]
     },
     "execution_count": 8,
     "metadata": {},
     "output_type": "execute_result"
    }
   ],
   "source": [
    "str_1.index(\"hi\")"
   ]
  },
  {
   "cell_type": "code",
   "execution_count": 57,
   "id": "41c8f97b",
   "metadata": {},
   "outputs": [
    {
     "data": {
      "text/plain": [
       "False"
      ]
     },
     "execution_count": 57,
     "metadata": {},
     "output_type": "execute_result"
    }
   ],
   "source": [
    "str_1.isdigit()"
   ]
  },
  {
   "cell_type": "code",
   "execution_count": 33,
   "id": "8c48cea9",
   "metadata": {},
   "outputs": [
    {
     "data": {
      "text/plain": [
       "'                                    hello , welcome , bye , hi                                      '"
      ]
     },
     "execution_count": 33,
     "metadata": {},
     "output_type": "execute_result"
    }
   ],
   "source": [
    "str_1.center(100)"
   ]
  },
  {
   "cell_type": "code",
   "execution_count": 38,
   "id": "e5d9b90c",
   "metadata": {},
   "outputs": [
    {
     "data": {
      "text/plain": [
       "True"
      ]
     },
     "execution_count": 38,
     "metadata": {},
     "output_type": "execute_result"
    }
   ],
   "source": [
    "str_1.endswith(\" \")"
   ]
  },
  {
   "cell_type": "code",
   "execution_count": 18,
   "id": "9c026583",
   "metadata": {},
   "outputs": [
    {
     "data": {
      "text/plain": [
       "False"
      ]
     },
     "execution_count": 18,
     "metadata": {},
     "output_type": "execute_result"
    }
   ],
   "source": [
    "str_1.istitle()"
   ]
  },
  {
   "cell_type": "code",
   "execution_count": 57,
   "id": "a6fdc79c",
   "metadata": {},
   "outputs": [
    {
     "data": {
      "text/plain": [
       "False"
      ]
     },
     "execution_count": 57,
     "metadata": {},
     "output_type": "execute_result"
    }
   ],
   "source": [
    "y.isdecimal()"
   ]
  },
  {
   "cell_type": "markdown",
   "id": "2ab43b8a",
   "metadata": {},
   "source": [
    "# List"
   ]
  },
  {
   "cell_type": "markdown",
   "id": "50f058d5",
   "metadata": {},
   "source": [
    "### declaration"
   ]
  },
  {
   "cell_type": "code",
   "execution_count": 17,
   "id": "fae4f157",
   "metadata": {},
   "outputs": [
    {
     "data": {
      "text/plain": [
       "['1', ',', '2', ',', '3']"
      ]
     },
     "execution_count": 17,
     "metadata": {},
     "output_type": "execute_result"
    }
   ],
   "source": [
    "lis_1 = list(\"1,2,3\") #list creation \n",
    "lis_1"
   ]
  },
  {
   "cell_type": "code",
   "execution_count": 46,
   "id": "a5845593",
   "metadata": {},
   "outputs": [
    {
     "data": {
      "text/plain": [
       "['', '']"
      ]
     },
     "execution_count": 46,
     "metadata": {},
     "output_type": "execute_result"
    }
   ],
   "source": [
    "lis_2 =[\"\",\"\"] #blank or empty square brackets also a list\n",
    "lis_2"
   ]
  },
  {
   "cell_type": "code",
   "execution_count": 13,
   "id": "5cbab498",
   "metadata": {},
   "outputs": [
    {
     "name": "stdout",
     "output_type": "stream",
     "text": [
      "<class 'str'>\n"
     ]
    },
    {
     "data": {
      "text/plain": [
       "list"
      ]
     },
     "execution_count": 13,
     "metadata": {},
     "output_type": "execute_result"
    }
   ],
   "source": [
    "x= \"abcd\"\n",
    "print(type(x))\n",
    "a= list(x)\n",
    "type(a)"
   ]
  },
  {
   "cell_type": "markdown",
   "id": "bf25c8b2",
   "metadata": {},
   "source": [
    "# Accessing elements using :-"
   ]
  },
  {
   "cell_type": "markdown",
   "id": "97ae43d0",
   "metadata": {},
   "source": [
    "### for loop - for access every single elements in a seq"
   ]
  },
  {
   "cell_type": "code",
   "execution_count": 15,
   "id": "f0dbaa2e",
   "metadata": {},
   "outputs": [
    {
     "name": "stdout",
     "output_type": "stream",
     "text": [
      "squirtle \n",
      "charmander \n",
      "bulbasaur \n",
      "121\n",
      "24\n",
      "23.3\n"
     ]
    }
   ],
   "source": [
    "a1= [\"squirtle \",\"charmander \",\"bulbasaur \",121,24,23.3]\n",
    "for i in a1:\n",
    "    print(i)"
   ]
  },
  {
   "cell_type": "markdown",
   "id": "7a18f4bc",
   "metadata": {},
   "source": [
    "### indexing , subsetting , slicing"
   ]
  },
  {
   "cell_type": "code",
   "execution_count": 3,
   "id": "7b1e3da1",
   "metadata": {},
   "outputs": [
    {
     "data": {
      "text/plain": [
       "[12, 23, 324, 'xyz', 33.3, 12, 'hello', 'espanol', 22]"
      ]
     },
     "execution_count": 3,
     "metadata": {},
     "output_type": "execute_result"
    }
   ],
   "source": [
    "a2= [12,23,324,\"xyz\",33.3,12,\"hello\",\"espanol\",22]\n",
    "a2"
   ]
  },
  {
   "cell_type": "code",
   "execution_count": 30,
   "id": "8f88c465",
   "metadata": {},
   "outputs": [
    {
     "data": {
      "text/plain": [
       "'xyz'"
      ]
     },
     "execution_count": 30,
     "metadata": {},
     "output_type": "execute_result"
    }
   ],
   "source": [
    "a2[3] #fetches 4th element"
   ]
  },
  {
   "cell_type": "code",
   "execution_count": 23,
   "id": "10dd01ce",
   "metadata": {},
   "outputs": [
    {
     "data": {
      "text/plain": [
       "[12, 324, 33.3, 'hello', 22]"
      ]
     },
     "execution_count": 23,
     "metadata": {},
     "output_type": "execute_result"
    }
   ],
   "source": [
    "a2[::2]"
   ]
  },
  {
   "cell_type": "code",
   "execution_count": 32,
   "id": "ec5a6086",
   "metadata": {},
   "outputs": [
    {
     "data": {
      "text/plain": [
       "'espanol'"
      ]
     },
     "execution_count": 32,
     "metadata": {},
     "output_type": "execute_result"
    }
   ],
   "source": [
    "a2[-2] #fetches last 2nd element"
   ]
  },
  {
   "cell_type": "code",
   "execution_count": 33,
   "id": "056823c5",
   "metadata": {},
   "outputs": [
    {
     "data": {
      "text/plain": [
       "[12, 23, 324]"
      ]
     },
     "execution_count": 33,
     "metadata": {},
     "output_type": "execute_result"
    }
   ],
   "source": [
    "a2[:3] #fetches first 3 element"
   ]
  },
  {
   "cell_type": "code",
   "execution_count": 35,
   "id": "24132dbb",
   "metadata": {},
   "outputs": [
    {
     "data": {
      "text/plain": [
       "[12, 23, 324, 'xyz', 33.3, 12]"
      ]
     },
     "execution_count": 35,
     "metadata": {},
     "output_type": "execute_result"
    }
   ],
   "source": [
    "a2[0:6] #fetches from 1st to 6th "
   ]
  },
  {
   "cell_type": "code",
   "execution_count": 36,
   "id": "9dbbb307",
   "metadata": {},
   "outputs": [
    {
     "data": {
      "text/plain": [
       "[33.3, 12, 'hello']"
      ]
     },
     "execution_count": 36,
     "metadata": {},
     "output_type": "execute_result"
    }
   ],
   "source": [
    "a2[4:7] # from 5th to 7th"
   ]
  },
  {
   "cell_type": "code",
   "execution_count": 42,
   "id": "fd2886ff",
   "metadata": {},
   "outputs": [
    {
     "data": {
      "text/plain": [
       "['hello', 'espanol', 22]"
      ]
     },
     "execution_count": 42,
     "metadata": {},
     "output_type": "execute_result"
    }
   ],
   "source": [
    "a2[-3:] #last three element"
   ]
  },
  {
   "cell_type": "code",
   "execution_count": 62,
   "id": "7cdcfd29",
   "metadata": {},
   "outputs": [
    {
     "data": {
      "text/plain": [
       "['hello', 'espanol']"
      ]
     },
     "execution_count": 62,
     "metadata": {},
     "output_type": "execute_result"
    }
   ],
   "source": [
    "a2[-3:-1] #if we want only 3rd element and 2th element from the last"
   ]
  },
  {
   "cell_type": "code",
   "execution_count": 51,
   "id": "2a09568a",
   "metadata": {},
   "outputs": [
    {
     "data": {
      "text/plain": [
       "[12, 23, 324, 'xyz', 33.3, 12, 'hello', 'espanol', 22]"
      ]
     },
     "execution_count": 51,
     "metadata": {},
     "output_type": "execute_result"
    }
   ],
   "source": [
    "a2[:] #colon means all"
   ]
  },
  {
   "cell_type": "code",
   "execution_count": 63,
   "id": "132da317",
   "metadata": {},
   "outputs": [
    {
     "data": {
      "text/plain": [
       "[22, 'espanol', 'hello', 12, 33.3, 'xyz', 324, 23, 12]"
      ]
     },
     "execution_count": 63,
     "metadata": {},
     "output_type": "execute_result"
    }
   ],
   "source": [
    "a2[::-1] #reverse the list"
   ]
  },
  {
   "cell_type": "code",
   "execution_count": 68,
   "id": "60582c4c",
   "metadata": {},
   "outputs": [
    {
     "data": {
      "text/plain": [
       "[12, 23, 324, 'xyz', 33.3, 12, 'hello']"
      ]
     },
     "execution_count": 68,
     "metadata": {},
     "output_type": "execute_result"
    }
   ],
   "source": [
    "a2[:-2] #remove last two elements "
   ]
  },
  {
   "cell_type": "code",
   "execution_count": 73,
   "id": "76dab6e7",
   "metadata": {},
   "outputs": [
    {
     "data": {
      "text/plain": [
       "[22, 'hello', 33.3, 324, 12]"
      ]
     },
     "execution_count": 73,
     "metadata": {},
     "output_type": "execute_result"
    }
   ],
   "source": [
    "a2[::-2] #reverse the list and remove with a gap one 1 element"
   ]
  },
  {
   "cell_type": "code",
   "execution_count": 97,
   "id": "4b42e6b9",
   "metadata": {},
   "outputs": [
    {
     "name": "stdout",
     "output_type": "stream",
     "text": [
      "1 2 3 4\n",
      "<class 'int'>\n"
     ]
    }
   ],
   "source": [
    "a, b, c, d = [\n",
    "    1, 2, 3, 4\n",
    "]\n",
    "print(a,b,c,d)\n",
    "print(type(a))"
   ]
  },
  {
   "cell_type": "markdown",
   "id": "df5f3f79",
   "metadata": {},
   "source": [
    "## extra"
   ]
  },
  {
   "cell_type": "code",
   "execution_count": 1,
   "id": "92b74e66",
   "metadata": {},
   "outputs": [
    {
     "name": "stdout",
     "output_type": "stream",
     "text": [
      "no of st: 6\n",
      "77\n",
      "7 1\n",
      "7 1\n"
     ]
    }
   ],
   "source": [
    "a = int(input(\"no of st: \"))\n",
    "marks = input()\n",
    "cm=0\n",
    "gn=0\n",
    "cr=0\n",
    "for mark in marks:\n",
    "    gn+=1\n",
    "    if mark!=cm:\n",
    "        cm=mark\n",
    "        cr=gn\n",
    "    print(cm,cr)\n",
    "        "
   ]
  },
  {
   "cell_type": "code",
   "execution_count": 5,
   "id": "9b7aae7a",
   "metadata": {},
   "outputs": [
    {
     "name": "stdout",
     "output_type": "stream",
     "text": [
      "enter n students: 6\n"
     ]
    },
    {
     "ename": "TypeError",
     "evalue": "'str' object cannot be interpreted as an integer",
     "output_type": "error",
     "traceback": [
      "\u001b[1;31m---------------------------------------------------------------------------\u001b[0m",
      "\u001b[1;31mTypeError\u001b[0m                                 Traceback (most recent call last)",
      "\u001b[1;32m<ipython-input-5-7cb31e159de4>\u001b[0m in \u001b[0;36m<module>\u001b[1;34m\u001b[0m\n\u001b[0;32m      5\u001b[0m \u001b[0mn\u001b[0m \u001b[1;33m=\u001b[0m\u001b[0minput\u001b[0m\u001b[1;33m(\u001b[0m\u001b[1;34m\"enter n students: \"\u001b[0m\u001b[1;33m)\u001b[0m\u001b[1;33m\u001b[0m\u001b[1;33m\u001b[0m\u001b[0m\n\u001b[0;32m      6\u001b[0m \u001b[1;33m\u001b[0m\u001b[0m\n\u001b[1;32m----> 7\u001b[1;33m \u001b[1;32mfor\u001b[0m \u001b[0mi\u001b[0m \u001b[1;32min\u001b[0m \u001b[0mrange\u001b[0m\u001b[1;33m(\u001b[0m\u001b[1;36m0\u001b[0m\u001b[1;33m,\u001b[0m\u001b[0mn\u001b[0m\u001b[1;33m)\u001b[0m\u001b[1;33m:\u001b[0m\u001b[1;33m\u001b[0m\u001b[1;33m\u001b[0m\u001b[0m\n\u001b[0m\u001b[0;32m      8\u001b[0m     \u001b[0meles\u001b[0m\u001b[1;33m=\u001b[0m\u001b[0minput\u001b[0m\u001b[1;33m(\u001b[0m\u001b[1;34m\"enter marks: \"\u001b[0m\u001b[1;33m)\u001b[0m\u001b[1;33m\u001b[0m\u001b[1;33m\u001b[0m\u001b[0m\n\u001b[0;32m      9\u001b[0m \u001b[1;33m\u001b[0m\u001b[0m\n",
      "\u001b[1;31mTypeError\u001b[0m: 'str' object cannot be interpreted as an integer"
     ]
    }
   ],
   "source": [
    "l2= []\n",
    "cm=0\n",
    "gn=0\n",
    "cr=0\n",
    "n =input(\"enter n students: \")\n",
    "\n",
    "for i in range(0,n):\n",
    "    eles=input(\"enter marks: \")\n",
    "    \n",
    "    l2.append(eles)\n",
    "    print(l2)\n"
   ]
  },
  {
   "cell_type": "markdown",
   "id": "31be3603",
   "metadata": {},
   "source": [
    "# Dictionary"
   ]
  },
  {
   "cell_type": "markdown",
   "id": "f043e4d8",
   "metadata": {},
   "source": [
    "##  1. Declaration"
   ]
  },
  {
   "cell_type": "code",
   "execution_count": 3,
   "id": "580451b0",
   "metadata": {},
   "outputs": [
    {
     "data": {
      "text/plain": [
       "{'name': 'abc', 'age': 23, 'role': 'sd'}"
      ]
     },
     "execution_count": 3,
     "metadata": {},
     "output_type": "execute_result"
    }
   ],
   "source": [
    "data1= {\"name\":\"abc\", \"age\":23,\"role\":\"sd\"}\n",
    "data1"
   ]
  },
  {
   "cell_type": "markdown",
   "id": "35906933",
   "metadata": {},
   "source": [
    "## Accessing data using for loop"
   ]
  },
  {
   "cell_type": "code",
   "execution_count": 4,
   "id": "f5fd025d",
   "metadata": {},
   "outputs": [
    {
     "name": "stdout",
     "output_type": "stream",
     "text": [
      "name\n",
      "age\n",
      "role\n"
     ]
    }
   ],
   "source": [
    "for i in data1: #prints only keys\n",
    "    print(i)   "
   ]
  },
  {
   "cell_type": "code",
   "execution_count": 5,
   "id": "76a757a6",
   "metadata": {},
   "outputs": [
    {
     "name": "stdout",
     "output_type": "stream",
     "text": [
      "('name', 'abc')\n",
      "('age', 23)\n",
      "('role', 'sd')\n"
     ]
    }
   ],
   "source": [
    "for i in data1.items(): #prints keys ana values in tuple forms\n",
    "    print(i)"
   ]
  },
  {
   "cell_type": "code",
   "execution_count": 6,
   "id": "a2a759fb",
   "metadata": {},
   "outputs": [
    {
     "name": "stdout",
     "output_type": "stream",
     "text": [
      "abc\n",
      "23\n",
      "sd\n"
     ]
    }
   ],
   "source": [
    "for i in data1.values(): #prints only values\n",
    "    print(i)"
   ]
  },
  {
   "cell_type": "markdown",
   "id": "4bda2639",
   "metadata": {},
   "source": [
    "## 2. indexing"
   ]
  },
  {
   "cell_type": "code",
   "execution_count": 12,
   "id": "4d5204c0",
   "metadata": {},
   "outputs": [
    {
     "data": {
      "text/plain": [
       "'abc'"
      ]
     },
     "execution_count": 12,
     "metadata": {},
     "output_type": "execute_result"
    }
   ],
   "source": [
    "data1[\"name\"]"
   ]
  },
  {
   "cell_type": "code",
   "execution_count": 13,
   "id": "7d4bb029",
   "metadata": {},
   "outputs": [],
   "source": [
    "data1[\"age\"]=22 #changing value using indexing"
   ]
  },
  {
   "cell_type": "code",
   "execution_count": 14,
   "id": "2c58634a",
   "metadata": {},
   "outputs": [
    {
     "data": {
      "text/plain": [
       "{'name': 'abc', 'age': 22, 'role': 'sd'}"
      ]
     },
     "execution_count": 14,
     "metadata": {},
     "output_type": "execute_result"
    }
   ],
   "source": [
    "data1"
   ]
  },
  {
   "cell_type": "code",
   "execution_count": 35,
   "id": "3f7a7642",
   "metadata": {},
   "outputs": [
    {
     "name": "stdout",
     "output_type": "stream",
     "text": [
      "yes\n"
     ]
    }
   ],
   "source": [
    " if \"def\" in data1.values(): #testing abc lies on dictionary or not\n",
    "    print(\"yes\")\n",
    "else: \n",
    "    print(\"no\")"
   ]
  },
  {
   "cell_type": "markdown",
   "id": "50a7fc50",
   "metadata": {},
   "source": [
    "## 3. Update"
   ]
  },
  {
   "cell_type": "code",
   "execution_count": 32,
   "id": "f437d39c",
   "metadata": {},
   "outputs": [
    {
     "name": "stdout",
     "output_type": "stream",
     "text": [
      "{'name': 'def', 'age': 22, 'role': 'da'}\n"
     ]
    }
   ],
   "source": [
    "data2= {\"name\":\"def\", \"age\":22, \"role\":\"da\"}\n",
    "data3 = data1.update(data2)\n",
    "print(data1) #update will remove the values of data1 and add there data2 values"
   ]
  },
  {
   "cell_type": "markdown",
   "id": "ca94cb57",
   "metadata": {},
   "source": [
    "## 4. delete"
   ]
  },
  {
   "cell_type": "code",
   "execution_count": 43,
   "id": "a0d01558",
   "metadata": {},
   "outputs": [
    {
     "data": {
      "text/plain": [
       "{'age': 22, 'role': 'da'}"
      ]
     },
     "execution_count": 43,
     "metadata": {},
     "output_type": "execute_result"
    }
   ],
   "source": [
    "del data1 #delete the data1\n",
    "del data2[\"name\"] # delete name key \n",
    "data2"
   ]
  },
  {
   "cell_type": "markdown",
   "id": "1fcc48c4",
   "metadata": {},
   "source": [
    "## 5. POP"
   ]
  },
  {
   "cell_type": "code",
   "execution_count": 45,
   "id": "de13b3c8",
   "metadata": {},
   "outputs": [
    {
     "data": {
      "text/plain": [
       "{'role': 'da'}"
      ]
     },
     "execution_count": 45,
     "metadata": {},
     "output_type": "execute_result"
    }
   ],
   "source": [
    "data2.pop('age') #pop the age value\n",
    "data2"
   ]
  },
  {
   "cell_type": "markdown",
   "id": "4092bca5",
   "metadata": {},
   "source": [
    "## 6. get()"
   ]
  },
  {
   "cell_type": "code",
   "execution_count": 51,
   "id": "90dc61a9",
   "metadata": {},
   "outputs": [
    {
     "name": "stdout",
     "output_type": "stream",
     "text": [
      "da\n"
     ]
    },
    {
     "data": {
      "text/plain": [
       "'da'"
      ]
     },
     "execution_count": 51,
     "metadata": {},
     "output_type": "execute_result"
    }
   ],
   "source": [
    "#to get key values \n",
    "print(data2.get(\"role\")) \n",
    "data2.get(\"role\",\"nothing found\") #it will shows key values if key exists otherwise nothing found"
   ]
  },
  {
   "cell_type": "markdown",
   "id": "c7aa625f",
   "metadata": {},
   "source": [
    "## 7. clear()"
   ]
  },
  {
   "cell_type": "code",
   "execution_count": 53,
   "id": "d52a2b45",
   "metadata": {},
   "outputs": [
    {
     "data": {
      "text/plain": [
       "{}"
      ]
     },
     "execution_count": 53,
     "metadata": {},
     "output_type": "execute_result"
    }
   ],
   "source": [
    "data2.clear() #clear the data keys and values\n",
    "data2"
   ]
  },
  {
   "cell_type": "markdown",
   "id": "57595cb6",
   "metadata": {},
   "source": [
    "# Tuples"
   ]
  },
  {
   "cell_type": "code",
   "execution_count": 62,
   "id": "ecb2f92b",
   "metadata": {},
   "outputs": [
    {
     "data": {
      "text/plain": [
       "tuple"
      ]
     },
     "execution_count": 62,
     "metadata": {},
     "output_type": "execute_result"
    }
   ],
   "source": [
    "name1 =()\n",
    "type(name)"
   ]
  },
  {
   "cell_type": "code",
   "execution_count": 61,
   "id": "a126d848",
   "metadata": {},
   "outputs": [
    {
     "data": {
      "text/plain": [
       "('I', ' ', 'a', 'm', ' ', 's', 'o', 'm', 'e', 'o', 'n', 'e')"
      ]
     },
     "execution_count": 61,
     "metadata": {},
     "output_type": "execute_result"
    }
   ],
   "source": [
    "name2= \"I am someone\"\n",
    "b= tuple(name2)\n",
    "b"
   ]
  },
  {
   "cell_type": "code",
   "execution_count": 64,
   "id": "69fbdf5c",
   "metadata": {},
   "outputs": [
    {
     "data": {
      "text/plain": [
       "('abdc', 33)"
      ]
     },
     "execution_count": 64,
     "metadata": {},
     "output_type": "execute_result"
    }
   ],
   "source": [
    "name3 = (\"abdc\",33) \n",
    "name3"
   ]
  },
  {
   "cell_type": "code",
   "execution_count": 66,
   "id": "43054c10",
   "metadata": {},
   "outputs": [
    {
     "data": {
      "text/plain": [
       "(0, 1, 2, 3, 4, 5, 6, 7, 8, 9)"
      ]
     },
     "execution_count": 66,
     "metadata": {},
     "output_type": "execute_result"
    }
   ],
   "source": [
    "n4= tuple(range(0,10))\n",
    "n4"
   ]
  },
  {
   "cell_type": "code",
   "execution_count": 67,
   "id": "dddf38bd",
   "metadata": {},
   "outputs": [
    {
     "name": "stdout",
     "output_type": "stream",
     "text": [
      "<class 'int'>\n",
      "<class 'tuple'>\n"
     ]
    }
   ],
   "source": [
    "#question\n",
    "d1=(10)\n",
    "d2=(10,)\n",
    "print(type(d1))\n",
    "print(type(d2))"
   ]
  },
  {
   "cell_type": "code",
   "execution_count": 69,
   "id": "4c5cc865",
   "metadata": {},
   "outputs": [
    {
     "name": "stdout",
     "output_type": "stream",
     "text": [
      "1\n",
      "2\n",
      "3\n",
      "4\n",
      "5\n"
     ]
    }
   ],
   "source": [
    "data1= (1,2,3,4,5)\n",
    "for i in data1:\n",
    "    print(i)"
   ]
  },
  {
   "cell_type": "markdown",
   "id": "1358d42a",
   "metadata": {},
   "source": [
    "## 1. indexing , slicing"
   ]
  },
  {
   "cell_type": "code",
   "execution_count": 71,
   "id": "25eb68ab",
   "metadata": {},
   "outputs": [
    {
     "data": {
      "text/plain": [
       "1"
      ]
     },
     "execution_count": 71,
     "metadata": {},
     "output_type": "execute_result"
    }
   ],
   "source": [
    "data1[0] #indexing"
   ]
  },
  {
   "cell_type": "code",
   "execution_count": 72,
   "id": "fe6d55bb",
   "metadata": {},
   "outputs": [
    {
     "data": {
      "text/plain": [
       "(1, 2)"
      ]
     },
     "execution_count": 72,
     "metadata": {},
     "output_type": "execute_result"
    }
   ],
   "source": [
    "data1[0:2] #slicing"
   ]
  },
  {
   "cell_type": "code",
   "execution_count": 80,
   "id": "f46a375d",
   "metadata": {},
   "outputs": [
    {
     "data": {
      "text/plain": [
       "(3, 4)"
      ]
     },
     "execution_count": 80,
     "metadata": {},
     "output_type": "execute_result"
    }
   ],
   "source": [
    "data1[2:-1] # :-1 means drop the last value , -1 extract last value"
   ]
  },
  {
   "cell_type": "markdown",
   "id": "396af8fe",
   "metadata": {},
   "source": [
    "## 2. len()"
   ]
  },
  {
   "cell_type": "code",
   "execution_count": 85,
   "id": "f23d7446",
   "metadata": {},
   "outputs": [
    {
     "data": {
      "text/plain": [
       "5"
      ]
     },
     "execution_count": 85,
     "metadata": {},
     "output_type": "execute_result"
    }
   ],
   "source": [
    "len(data1)"
   ]
  },
  {
   "cell_type": "markdown",
   "id": "d80fc7aa",
   "metadata": {},
   "source": [
    "## 3. List inside tuple"
   ]
  },
  {
   "cell_type": "code",
   "execution_count": 106,
   "id": "ea21ef5b",
   "metadata": {},
   "outputs": [
    {
     "data": {
      "text/plain": [
       "(1, 2, ['danial radcliff', 30, 'albus', 200])"
      ]
     },
     "execution_count": 106,
     "metadata": {},
     "output_type": "execute_result"
    }
   ],
   "source": [
    "data2= (1,2,[\"danial radcliff\",30,\"albus\",200])\n",
    "data2"
   ]
  },
  {
   "cell_type": "code",
   "execution_count": 92,
   "id": "03cdb6c5",
   "metadata": {},
   "outputs": [],
   "source": [
    "#after inserting list we can perform list operations only on list "
   ]
  },
  {
   "cell_type": "code",
   "execution_count": 107,
   "id": "ced836fa",
   "metadata": {},
   "outputs": [
    {
     "name": "stdout",
     "output_type": "stream",
     "text": [
      "(1, 2, ['danial radcliff', 30, 'albus'])\n"
     ]
    }
   ],
   "source": [
    "data2[2].pop()\n",
    "print(data2)# removes 200"
   ]
  },
  {
   "cell_type": "code",
   "execution_count": 108,
   "id": "4dbc9ae6",
   "metadata": {},
   "outputs": [
    {
     "name": "stdout",
     "output_type": "stream",
     "text": [
      "(1, 2, ['danial radcliff', 30, 'albus', 220])\n"
     ]
    }
   ],
   "source": [
    "data2[2].append(220)\n",
    "print(data2) #append a new data only on list"
   ]
  },
  {
   "cell_type": "code",
   "execution_count": 111,
   "id": "3d7fd6b1",
   "metadata": {},
   "outputs": [
    {
     "name": "stdout",
     "output_type": "stream",
     "text": [
      "(1, 2, ['danial radcliff', 'albus', 220])\n"
     ]
    }
   ],
   "source": [
    "data2[2].remove(30) #remove the 30 \n",
    "print(data2)"
   ]
  },
  {
   "cell_type": "markdown",
   "id": "18693ede",
   "metadata": {},
   "source": [
    "## 4. max, min"
   ]
  },
  {
   "cell_type": "code",
   "execution_count": 113,
   "id": "33e2d47d",
   "metadata": {},
   "outputs": [
    {
     "data": {
      "text/plain": [
       "252"
      ]
     },
     "execution_count": 113,
     "metadata": {},
     "output_type": "execute_result"
    }
   ],
   "source": [
    "data3 =(1,2,3,3,45,5 ,252) #if there is a list in tuple, max() does not work \n",
    "max(data3)"
   ]
  },
  {
   "cell_type": "code",
   "execution_count": 114,
   "id": "d92cf7dc",
   "metadata": {},
   "outputs": [
    {
     "data": {
      "text/plain": [
       "1"
      ]
     },
     "execution_count": 114,
     "metadata": {},
     "output_type": "execute_result"
    }
   ],
   "source": [
    "min(data3) #minimum value"
   ]
  },
  {
   "cell_type": "markdown",
   "id": "58c1f276",
   "metadata": {},
   "source": [
    "# SET"
   ]
  },
  {
   "cell_type": "code",
   "execution_count": 136,
   "id": "29faceca",
   "metadata": {},
   "outputs": [
    {
     "data": {
      "text/plain": [
       "{1, 2, 3}"
      ]
     },
     "execution_count": 136,
     "metadata": {},
     "output_type": "execute_result"
    }
   ],
   "source": [
    "data={1,2,3,2,1} #prints only distinct values\n",
    "data"
   ]
  },
  {
   "cell_type": "code",
   "execution_count": 1,
   "id": "0abb8846",
   "metadata": {},
   "outputs": [
    {
     "name": "stdout",
     "output_type": "stream",
     "text": [
      "<class 'list'>\n",
      "{'fjh', '1', 6}\n",
      "<class 'set'>\n"
     ]
    }
   ],
   "source": [
    "data=[\"1\",6,\"fjh\"] #converting from dict to set \n",
    "print(type(data))\n",
    "data= set(data)\n",
    "print(data)\n",
    "print(type(data))\n"
   ]
  },
  {
   "cell_type": "markdown",
   "id": "9cdaefe1",
   "metadata": {},
   "source": [
    "## 1. Accessing data using loop"
   ]
  },
  {
   "cell_type": "code",
   "execution_count": 142,
   "id": "884e0986",
   "metadata": {},
   "outputs": [
    {
     "name": "stdout",
     "output_type": "stream",
     "text": [
      "1\n",
      "6\n",
      "fjh\n"
     ]
    }
   ],
   "source": [
    "for i in data:\n",
    "    print(i)"
   ]
  },
  {
   "cell_type": "markdown",
   "id": "7f9008a6",
   "metadata": {},
   "source": [
    "## 2. Methods and Operations"
   ]
  },
  {
   "cell_type": "markdown",
   "id": "a1bc131f",
   "metadata": {},
   "source": [
    "## 2.1 Add"
   ]
  },
  {
   "cell_type": "code",
   "execution_count": 2,
   "id": "3f701bcc",
   "metadata": {},
   "outputs": [
    {
     "data": {
      "text/plain": [
       "{'1', 23, 6, 'fjh'}"
      ]
     },
     "execution_count": 2,
     "metadata": {},
     "output_type": "execute_result"
    }
   ],
   "source": [
    "data.add(23) #sequencing ?\n",
    "data"
   ]
  },
  {
   "cell_type": "code",
   "execution_count": 3,
   "id": "858de967",
   "metadata": {},
   "outputs": [
    {
     "data": {
      "text/plain": [
       "{'1', 23, 6, 'fjh', 'hello'}"
      ]
     },
     "execution_count": 3,
     "metadata": {},
     "output_type": "execute_result"
    }
   ],
   "source": [
    "data.add(\"hello\") \n",
    "data"
   ]
  },
  {
   "cell_type": "code",
   "execution_count": 4,
   "id": "3d10257a",
   "metadata": {},
   "outputs": [
    {
     "data": {
      "text/plain": [
       "{-22, '1', 23, 6, 'fjh', 'hello'}"
      ]
     },
     "execution_count": 4,
     "metadata": {},
     "output_type": "execute_result"
    }
   ],
   "source": [
    "data.add(-22) #makes sense\n",
    "data"
   ]
  },
  {
   "cell_type": "code",
   "execution_count": 5,
   "id": "b9d7309c",
   "metadata": {},
   "outputs": [
    {
     "data": {
      "text/plain": [
       "{-22, '1', 23, 6, 'fjh', 'hello', 'hi'}"
      ]
     },
     "execution_count": 5,
     "metadata": {},
     "output_type": "execute_result"
    }
   ],
   "source": [
    "data.add(\"hi\") #got it\n",
    "data"
   ]
  },
  {
   "cell_type": "code",
   "execution_count": 6,
   "id": "1032c008",
   "metadata": {},
   "outputs": [
    {
     "data": {
      "text/plain": [
       "{-22, '1', 23, 3, 6, 'fjh', 'hello', 'hi'}"
      ]
     },
     "execution_count": 6,
     "metadata": {},
     "output_type": "execute_result"
    }
   ],
   "source": [
    "data.add(3) #how?\n",
    "data"
   ]
  },
  {
   "cell_type": "code",
   "execution_count": 7,
   "id": "1cd74273",
   "metadata": {},
   "outputs": [
    {
     "data": {
      "text/plain": [
       "{-22, '1', 23, 3, 33, 6, 'fjh', 'hello', 'hi'}"
      ]
     },
     "execution_count": 7,
     "metadata": {},
     "output_type": "execute_result"
    }
   ],
   "source": [
    "data.add(33) #how?\n",
    "data"
   ]
  },
  {
   "cell_type": "code",
   "execution_count": 8,
   "id": "382464fc",
   "metadata": {},
   "outputs": [
    {
     "data": {
      "text/plain": [
       "{-22, '1', 23, 3, 33, 6, 77, 'fjh', 'hello', 'hi'}"
      ]
     },
     "execution_count": 8,
     "metadata": {},
     "output_type": "execute_result"
    }
   ],
   "source": [
    "data.add(77) #cleared , following the sequence of numbers\n",
    "data"
   ]
  },
  {
   "cell_type": "markdown",
   "id": "136239e2",
   "metadata": {},
   "source": [
    "## 2.2 indexing "
   ]
  },
  {
   "cell_type": "code",
   "execution_count": 154,
   "id": "8faf85ef",
   "metadata": {},
   "outputs": [
    {
     "data": {
      "text/plain": [
       "'No indexing'"
      ]
     },
     "execution_count": 154,
     "metadata": {},
     "output_type": "execute_result"
    }
   ],
   "source": [
    "\"No indexing\" "
   ]
  },
  {
   "cell_type": "markdown",
   "id": "b2bf45a6",
   "metadata": {},
   "source": [
    "## 2.3 Remove"
   ]
  },
  {
   "cell_type": "code",
   "execution_count": 155,
   "id": "71b3d95a",
   "metadata": {},
   "outputs": [
    {
     "data": {
      "text/plain": [
       "{-22, '1', 23, 3, 33, 6, 'fjh', 'hi'}"
      ]
     },
     "execution_count": 155,
     "metadata": {},
     "output_type": "execute_result"
    }
   ],
   "source": [
    "data.remove(\"hello\") #pass the values not index\n",
    "data"
   ]
  },
  {
   "cell_type": "markdown",
   "id": "fa353df4",
   "metadata": {},
   "source": [
    "## 2.4 \"IN\" keyword"
   ]
  },
  {
   "cell_type": "code",
   "execution_count": 163,
   "id": "f33da2d6",
   "metadata": {},
   "outputs": [
    {
     "name": "stdout",
     "output_type": "stream",
     "text": [
      "yes\n"
     ]
    }
   ],
   "source": [
    "if \"1\" in data:\n",
    "    print (\"yes\")\n",
    "else:\n",
    "    print(\"no\")"
   ]
  },
  {
   "cell_type": "markdown",
   "id": "beb95ce6",
   "metadata": {},
   "source": [
    "## 2.5 clear"
   ]
  },
  {
   "cell_type": "code",
   "execution_count": 166,
   "id": "d686e593",
   "metadata": {},
   "outputs": [
    {
     "data": {
      "text/plain": [
       "set()"
      ]
     },
     "execution_count": 166,
     "metadata": {},
     "output_type": "execute_result"
    }
   ],
   "source": [
    "data.clear() #empty data gives output as set\n",
    "data"
   ]
  },
  {
   "cell_type": "markdown",
   "id": "d7bad907",
   "metadata": {},
   "source": [
    "## 2.6 Copy()"
   ]
  },
  {
   "cell_type": "code",
   "execution_count": 168,
   "id": "e33e6942",
   "metadata": {},
   "outputs": [
    {
     "data": {
      "text/plain": [
       "set()"
      ]
     },
     "execution_count": 168,
     "metadata": {},
     "output_type": "execute_result"
    }
   ],
   "source": [
    "data1= data.copy() #copy the data \n",
    "data1 "
   ]
  },
  {
   "cell_type": "markdown",
   "id": "7dc70275",
   "metadata": {},
   "source": [
    "## 2.7 Union, intersection , difference"
   ]
  },
  {
   "cell_type": "code",
   "execution_count": 174,
   "id": "ac0490df",
   "metadata": {},
   "outputs": [
    {
     "name": "stdout",
     "output_type": "stream",
     "text": [
      "{1, 2, 3, 4, 5, 6}\n"
     ]
    }
   ],
   "source": [
    "#union\n",
    "data1= {1,2,3,4} \n",
    "data2= {3,4,5,6}\n",
    "\n",
    "data3= data1 | data2 #concat the sets and return distinct values\n",
    "print(data3)"
   ]
  },
  {
   "cell_type": "code",
   "execution_count": 175,
   "id": "28326b2f",
   "metadata": {},
   "outputs": [
    {
     "name": "stdout",
     "output_type": "stream",
     "text": [
      "{3, 4}\n"
     ]
    }
   ],
   "source": [
    "#intersection\n",
    "data1= {1,2,3,4}\n",
    "data2= {3,4,5,6}\n",
    "\n",
    "data3= data1 & data2 #returns only common values in both data's\n",
    "print(data3)"
   ]
  },
  {
   "cell_type": "code",
   "execution_count": 179,
   "id": "1032f50d",
   "metadata": {},
   "outputs": [
    {
     "name": "stdout",
     "output_type": "stream",
     "text": [
      "{1, 2}\n"
     ]
    }
   ],
   "source": [
    "#difference\n",
    "data1= {1,2,3,4}\n",
    "data2= {3,4,5,6}\n",
    "\n",
    "data3= data1.difference(data2) #returns the unmatched values from data 1\n",
    "print(data3)"
   ]
  },
  {
   "cell_type": "markdown",
   "id": "e83f865c",
   "metadata": {},
   "source": [
    "# Functions"
   ]
  },
  {
   "cell_type": "code",
   "execution_count": 205,
   "id": "ef4af58e",
   "metadata": {},
   "outputs": [
    {
     "data": {
      "text/plain": [
       "332"
      ]
     },
     "execution_count": 205,
     "metadata": {},
     "output_type": "execute_result"
    }
   ],
   "source": [
    "# find max value from 3 values\n",
    "def max_value(a,b,c):\n",
    "    if a>b :\n",
    "        if a>c:\n",
    "            return a\n",
    "        else:\n",
    "            return c\n",
    "    if b>c:\n",
    "        return b\n",
    "    else:\n",
    "        return c\n",
    "max_value(111,222,332)"
   ]
  },
  {
   "cell_type": "code",
   "execution_count": 206,
   "id": "608a2db9",
   "metadata": {},
   "outputs": [
    {
     "data": {
      "text/plain": [
       "444"
      ]
     },
     "execution_count": 206,
     "metadata": {},
     "output_type": "execute_result"
    }
   ],
   "source": [
    "max_value(444,32,323)"
   ]
  },
  {
   "cell_type": "code",
   "execution_count": 207,
   "id": "bc39c74c",
   "metadata": {},
   "outputs": [
    {
     "data": {
      "text/plain": [
       "698"
      ]
     },
     "execution_count": 207,
     "metadata": {},
     "output_type": "execute_result"
    }
   ],
   "source": [
    "max_value(446,698,77)"
   ]
  },
  {
   "cell_type": "code",
   "execution_count": 210,
   "id": "6e4b9ca0",
   "metadata": {},
   "outputs": [
    {
     "name": "stdout",
     "output_type": "stream",
     "text": [
      "o\n"
     ]
    }
   ],
   "source": [
    "# extract the last char from a string\n",
    "\n",
    "def char(a):\n",
    "    return a[-1]\n",
    "a=\"hello\"\n",
    "\n",
    "print(char(a))"
   ]
  },
  {
   "cell_type": "markdown",
   "id": "d5daae65",
   "metadata": {},
   "source": [
    "## Lambda Function , Map , Zip"
   ]
  },
  {
   "cell_type": "code",
   "execution_count": 211,
   "id": "69d77c43",
   "metadata": {},
   "outputs": [
    {
     "data": {
      "text/plain": [
       "30"
      ]
     },
     "execution_count": 211,
     "metadata": {},
     "output_type": "execute_result"
    }
   ],
   "source": [
    "add= lambda x,y:x+y\n",
    "\n",
    "add(10,20)"
   ]
  },
  {
   "cell_type": "code",
   "execution_count": 228,
   "id": "ba07c54c",
   "metadata": {},
   "outputs": [
    {
     "name": "stdout",
     "output_type": "stream",
     "text": [
      "[23, 25]\n"
     ]
    }
   ],
   "source": [
    "#convert string into int using for loop\n",
    "\n",
    "x=[\"23\",\"25\"]\n",
    "\n",
    "for i in range(len(x)):\n",
    "    x[i]=int(x[i])\n",
    "    \n",
    "print(x)"
   ]
  },
  {
   "cell_type": "code",
   "execution_count": 238,
   "id": "f331bfc5",
   "metadata": {},
   "outputs": [
    {
     "name": "stdout",
     "output_type": "stream",
     "text": [
      "[23, 24]\n"
     ]
    }
   ],
   "source": [
    "#convert string into int using map function\n",
    "\n",
    "x=[\"23\",\"24\"]\n",
    "\n",
    "x= list(map(int,x)) #using map we can convert to any datatype faster than for loop\n",
    "\n",
    "print(x)"
   ]
  },
  {
   "cell_type": "code",
   "execution_count": 245,
   "id": "e6332579",
   "metadata": {},
   "outputs": [
    {
     "name": "stdout",
     "output_type": "stream",
     "text": [
      "[529.0, 625.0]\n"
     ]
    }
   ],
   "source": [
    "#square number using map\n",
    "\n",
    "x=[\"23\",\"25\"]\n",
    "x= list(map(float,x))\n",
    "x= list(map(lambda x:x*x,x))\n",
    "\n",
    "print(x)"
   ]
  },
  {
   "cell_type": "code",
   "execution_count": 247,
   "id": "487c167d",
   "metadata": {},
   "outputs": [
    {
     "data": {
      "text/plain": [
       "[(1, 3), (2, 4), (3, 5), (4, 6)]"
      ]
     },
     "execution_count": 247,
     "metadata": {},
     "output_type": "execute_result"
    }
   ],
   "source": [
    "d1=[1,2,3,4]\n",
    "d2=[3,4,5,6]\n",
    "\n",
    "list(zip(d1,d2))"
   ]
  },
  {
   "cell_type": "code",
   "execution_count": 25,
   "id": "6d47b91e",
   "metadata": {},
   "outputs": [
    {
     "name": "stdout",
     "output_type": "stream",
     "text": [
      "0 a\n",
      "1 b\n",
      "2 c\n",
      "3 d\n",
      "4 e\n"
     ]
    }
   ],
   "source": [
    "for x1 , x2 in enumerate(\"abcde\"):\n",
    "    print(x1,x2)"
   ]
  },
  {
   "cell_type": "code",
   "execution_count": null,
   "id": "e3e4c399",
   "metadata": {},
   "outputs": [],
   "source": []
  }
 ],
 "metadata": {
  "kernelspec": {
   "display_name": "Python 3 (ipykernel)",
   "language": "python",
   "name": "python3"
  },
  "language_info": {
   "codemirror_mode": {
    "name": "ipython",
    "version": 3
   },
   "file_extension": ".py",
   "mimetype": "text/x-python",
   "name": "python",
   "nbconvert_exporter": "python",
   "pygments_lexer": "ipython3",
   "version": "3.12.2"
  },
  "widgets": {
   "application/vnd.jupyter.widget-state+json": {
    "state": {},
    "version_major": 2,
    "version_minor": 0
   }
  }
 },
 "nbformat": 4,
 "nbformat_minor": 5
}
