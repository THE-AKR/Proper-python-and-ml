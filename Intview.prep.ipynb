{
 "cells": [
  {
   "cell_type": "code",
   "execution_count": 1,
   "id": "71a156c4",
   "metadata": {},
   "outputs": [],
   "source": [
    "import numpy as np\n",
    "import pandas as pd\n",
    "import seaborn as sns"
   ]
  },
  {
   "cell_type": "code",
   "execution_count": 2,
   "id": "cc8ae18b",
   "metadata": {},
   "outputs": [
    {
     "name": "stdout",
     "output_type": "stream",
     "text": [
      "782\n"
     ]
    }
   ],
   "source": [
    "print(23*34)"
   ]
  },
  {
   "cell_type": "code",
   "execution_count": 11,
   "id": "4299b41f",
   "metadata": {},
   "outputs": [
    {
     "data": {
      "text/plain": [
       "['TExttobesplit']"
      ]
     },
     "execution_count": 11,
     "metadata": {},
     "output_type": "execute_result"
    }
   ],
   "source": [
    "j=\"TExttobesplit\"\n",
    "j.split(\" \")"
   ]
  },
  {
   "cell_type": "code",
   "execution_count": null,
   "id": "8c6f68b4",
   "metadata": {},
   "outputs": [],
   "source": [
    "prime number \n",
    "\n",
    "2,3,5,7 \n",
    "\n",
    "1) greater than 1\n",
    "2) except 2 , they are not divisible by 2 (no factors)\n"
   ]
  },
  {
   "cell_type": "markdown",
   "id": "4581a3ea",
   "metadata": {},
   "source": [
    "# for prime number"
   ]
  },
  {
   "cell_type": "code",
   "execution_count": 23,
   "id": "b933cf77",
   "metadata": {},
   "outputs": [
    {
     "name": "stdout",
     "output_type": "stream",
     "text": [
      "27\n",
      "27 not prime\n"
     ]
    }
   ],
   "source": [
    "#prime number\n",
    "\n",
    "num=int(input())\n",
    "flag=False\n",
    "\n",
    "if(num>1):\n",
    "    for i in range(2,num):\n",
    "            if(num%i==0):\n",
    "                flag= True\n",
    "                break\n",
    "if flag==True:\n",
    "    print(num,\"not prime\")\n",
    "else:\n",
    "    print(num,\"prime\")\n",
    "        "
   ]
  },
  {
   "cell_type": "markdown",
   "id": "b74c3fdb",
   "metadata": {},
   "source": [
    "# factors of a number"
   ]
  },
  {
   "cell_type": "code",
   "execution_count": 41,
   "id": "5798b589",
   "metadata": {},
   "outputs": [],
   "source": [
    "#factors\n",
    "#1) given number divisible by any other numbers like 4 is divisible by 2,4"
   ]
  },
  {
   "cell_type": "code",
   "execution_count": 47,
   "id": "5f8690df",
   "metadata": {},
   "outputs": [
    {
     "name": "stdout",
     "output_type": "stream",
     "text": [
      "1\n",
      "2\n",
      "17\n",
      "34\n"
     ]
    }
   ],
   "source": [
    "#factors of a number\n",
    "\n",
    "def factors(num):\n",
    "    for i in range(1,num+1):\n",
    "        if(num%i==0):\n",
    "            print(i)\n",
    "        \n",
    "factors(34)"
   ]
  },
  {
   "cell_type": "markdown",
   "id": "9717eb9e",
   "metadata": {},
   "source": [
    "# factorial of a number"
   ]
  },
  {
   "cell_type": "code",
   "execution_count": 49,
   "id": "c560ebca",
   "metadata": {},
   "outputs": [],
   "source": [
    "#factorial \n",
    "\n",
    "#0!=1 \n",
    "#5!=5*4*3*2*1=120\n"
   ]
  },
  {
   "cell_type": "code",
   "execution_count": 78,
   "id": "10d0fe2b",
   "metadata": {},
   "outputs": [
    {
     "name": "stdout",
     "output_type": "stream",
     "text": [
      "the factorial of 6 is 720\n"
     ]
    }
   ],
   "source": [
    "#factorial\n",
    "\n",
    "def factori(num):\n",
    "    x=1\n",
    "    if (num<0):\n",
    "        print(\"factorial does not exist\")\n",
    "    elif(num==0):\n",
    "        print(1)\n",
    "    else:\n",
    "        for i in range(1,num+1):\n",
    "            x= x*i \n",
    "            \n",
    "    print(\"the factorial of\",num,\"is\",x)\n",
    "            \n",
    "factori(6)"
   ]
  },
  {
   "cell_type": "markdown",
   "id": "ddfa0ab7",
   "metadata": {},
   "source": [
    "# armstrong number"
   ]
  },
  {
   "cell_type": "code",
   "execution_count": 6,
   "id": "00b28beb",
   "metadata": {},
   "outputs": [
    {
     "name": "stdout",
     "output_type": "stream",
     "text": [
      "0\n"
     ]
    }
   ],
   "source": [
    "#if number's cube of a three digit number sum ,gave the same number \n",
    "#153 is armstrong number like 1*1*1+5*5*5+3*3*3=1+125+27=153\n",
    "\n",
    "num=int(input())\n",
    "\n",
    "for i in range(1,num+1):\n",
    "    if(num>0):\n",
    "        x=num%10\n",
    "        y=x*x*x\n",
    "        "
   ]
  },
  {
   "cell_type": "code",
   "execution_count": 26,
   "id": "88d7250e",
   "metadata": {},
   "outputs": [
    {
     "name": "stdout",
     "output_type": "stream",
     "text": [
      "153\n"
     ]
    }
   ],
   "source": []
  },
  {
   "cell_type": "code",
   "execution_count": null,
   "id": "45df98ff",
   "metadata": {},
   "outputs": [],
   "source": [
    " "
   ]
  },
  {
   "cell_type": "code",
   "execution_count": 3,
   "id": "d8ed5d67",
   "metadata": {},
   "outputs": [],
   "source": [
    "#even odd number"
   ]
  },
  {
   "cell_type": "code",
   "execution_count": 7,
   "id": "fd1da09a",
   "metadata": {},
   "outputs": [
    {
     "name": "stdout",
     "output_type": "stream",
     "text": [
      "44\n",
      "Even number 44\n"
     ]
    }
   ],
   "source": [
    "i= int(input())\n",
    "if(i>0):\n",
    "    if(i%2==0):\n",
    "        print(\"Even number\",i)\n",
    "    else:\n",
    "        print(\"odd\",i)\n",
    "else:\n",
    "    print(\"give number above than 0\")"
   ]
  },
  {
   "cell_type": "markdown",
   "id": "d7de69cd",
   "metadata": {},
   "source": [
    "# leap year"
   ]
  },
  {
   "cell_type": "code",
   "execution_count": 19,
   "id": "9a00faa1",
   "metadata": {},
   "outputs": [
    {
     "name": "stdout",
     "output_type": "stream",
     "text": [
      "2036\n",
      "leap year\n"
     ]
    }
   ],
   "source": [
    "i=int(input())\n",
    "if(i>0):\n",
    "    if(i%4==0):\n",
    "        print(\"leap year\")\n",
    "    else:\n",
    "        print(\"not a leap year\")\n",
    "else:\n",
    "    print(\"number should be greater than 0\")"
   ]
  },
  {
   "cell_type": "markdown",
   "id": "afbb7a19",
   "metadata": {},
   "source": [
    "# text reverse"
   ]
  },
  {
   "cell_type": "code",
   "execution_count": 30,
   "id": "9a447b12",
   "metadata": {},
   "outputs": [
    {
     "name": "stdout",
     "output_type": "stream",
     "text": [
      "32acba\n"
     ]
    }
   ],
   "source": [
    "def rev(a):\n",
    "    a=a[::-1]\n",
    "    print(a)\n",
    "    \n",
    "rev(\"abca23\")"
   ]
  },
  {
   "cell_type": "markdown",
   "id": "ffbf4173",
   "metadata": {},
   "source": [
    "# palindrome number"
   ]
  },
  {
   "cell_type": "code",
   "execution_count": null,
   "id": "6adbc3af",
   "metadata": {},
   "outputs": [],
   "source": [
    "#111= 111"
   ]
  },
  {
   "cell_type": "code",
   "execution_count": 14,
   "id": "d75d4ddb",
   "metadata": {},
   "outputs": [
    {
     "name": "stdout",
     "output_type": "stream",
     "text": [
      "1121\n",
      "no\n"
     ]
    }
   ],
   "source": [
    "#palindrome num\n",
    "\n",
    "number=input()\n",
    "if number==number[::-1]:\n",
    "    print(\"palindrome\",number)\n",
    "else:\n",
    "    print(\"not a palindrome\")"
   ]
  },
  {
   "cell_type": "code",
   "execution_count": 2,
   "id": "37e8b667",
   "metadata": {},
   "outputs": [
    {
     "name": "stdout",
     "output_type": "stream",
     "text": [
      "121\n",
      "it is a palindrome!\n"
     ]
    }
   ],
   "source": [
    "number = input() \n",
    "\n",
    "if number == number[::-1]: \n",
    "\n",
    "    print(\"it is a palindrome!\") \n",
    "\n",
    "else: \n",
    "\n",
    "    print(\"it is not a palindrome!\") "
   ]
  },
  {
   "cell_type": "markdown",
   "id": "e2d26a67",
   "metadata": {},
   "source": [
    "# Count the Character"
   ]
  },
  {
   "cell_type": "code",
   "execution_count": 34,
   "id": "ef809711",
   "metadata": {},
   "outputs": [
    {
     "name": "stdout",
     "output_type": "stream",
     "text": [
      "579\n",
      "3\n"
     ]
    }
   ],
   "source": [
    "x=input()\n",
    "count=0\n",
    "\n",
    "for i in x:\n",
    "    count=count+1\n",
    "print(count)"
   ]
  },
  {
   "cell_type": "markdown",
   "id": "dbc5164f",
   "metadata": {},
   "source": [
    "# number guessing game"
   ]
  },
  {
   "cell_type": "code",
   "execution_count": 44,
   "id": "4b00cdc2",
   "metadata": {},
   "outputs": [
    {
     "name": "stdout",
     "output_type": "stream",
     "text": [
      "5\n",
      "your guess 5\n",
      "real number 3\n",
      "you lost\n",
      "3\n",
      "your guess 3\n",
      "real number 1\n",
      "you lost\n"
     ]
    }
   ],
   "source": [
    "for i in range(2):\n",
    "    value= np.random.randint(1,5)\n",
    "    i=int(input())\n",
    "    if i==value:\n",
    "        print(\"your guess\",i)\n",
    "        print(\"real number\",value)\n",
    "        print(\"you win\")\n",
    "    else:\n",
    "        print(\"your guess\",i)\n",
    "        print(\"real number\",value)\n",
    "        print(\"you lost\")\n",
    "\n"
   ]
  },
  {
   "cell_type": "markdown",
   "id": "da2231f6",
   "metadata": {},
   "source": [
    "# Find LCM"
   ]
  },
  {
   "cell_type": "code",
   "execution_count": 35,
   "id": "c426b90a",
   "metadata": {},
   "outputs": [
    {
     "name": "stdout",
     "output_type": "stream",
     "text": [
      "first number:160\n",
      "second number:12\n",
      "lcm of 160 12 is 480\n"
     ]
    }
   ],
   "source": [
    "def compute_lcm(x,y):\n",
    "    if x>y:\n",
    "        greater=x\n",
    "    else:\n",
    "        greater =y\n",
    "    \n",
    "    while(True):\n",
    "        if((greater % x==0) and (greater % y==0)):\n",
    "            lcm=greater\n",
    "            break\n",
    "        greater+=1\n",
    "            \n",
    "    return lcm\n",
    "\n",
    "num=int(input(\"first number:\"))\n",
    "num1=int(input(\"second number:\"))\n",
    "\n",
    "print(\"lcm of\",num,num1, \"is\",compute_lcm(num,num1))"
   ]
  },
  {
   "cell_type": "markdown",
   "id": "e9f6effd",
   "metadata": {},
   "source": [
    "# check all numbers are unique"
   ]
  },
  {
   "cell_type": "code",
   "execution_count": 15,
   "id": "5f7da34b",
   "metadata": {},
   "outputs": [
    {
     "data": {
      "text/plain": [
       "True"
      ]
     },
     "execution_count": 15,
     "metadata": {},
     "output_type": "execute_result"
    }
   ],
   "source": [
    "def num(n):\n",
    "    if(len(n))==len(set(n)):\n",
    "        return True\n",
    "    else:\n",
    "        return False\n",
    "            \n",
    "num([1,6,68,33])"
   ]
  },
  {
   "cell_type": "markdown",
   "id": "c65bf840",
   "metadata": {},
   "source": [
    "# write a program to match a string that has a letter \"a\" followed by 4 to 8 \"b\"s "
   ]
  },
  {
   "cell_type": "code",
   "execution_count": 51,
   "id": "245d7390",
   "metadata": {},
   "outputs": [
    {
     "data": {
      "text/plain": [
       "'matched'"
      ]
     },
     "execution_count": 51,
     "metadata": {},
     "output_type": "execute_result"
    }
   ],
   "source": [
    "import re\n",
    "\n",
    "def match(x):\n",
    "    pattern= 'ab{4,8}'\n",
    "    if re.search(pattern,x):\n",
    "        return \"matched\"\n",
    "    else:\n",
    "        return \"not matched\"\n",
    "    \n",
    "match(\"aaaabbbbbbbbb\")"
   ]
  },
  {
   "cell_type": "markdown",
   "id": "496ea28d",
   "metadata": {},
   "source": [
    "# convert datetime from yyyy-mm-dd to dd-mm-yy"
   ]
  },
  {
   "cell_type": "code",
   "execution_count": 65,
   "id": "fb08bc01",
   "metadata": {},
   "outputs": [
    {
     "name": "stdout",
     "output_type": "stream",
     "text": [
      "2022-08-11\n",
      "11-08-2022\n"
     ]
    }
   ],
   "source": [
    "from datetime import datetime\n",
    "x=input()\n",
    "new_date= datetime.strptime(x,\"%Y-%m-%d\").strftime(\"%d-%m-%Y\")\n",
    "print(new_date)"
   ]
  },
  {
   "cell_type": "markdown",
   "id": "11ea5d99",
   "metadata": {},
   "source": [
    "# combine two dictionaries , if you find same key you can add values of these same keys "
   ]
  },
  {
   "cell_type": "code",
   "execution_count": 68,
   "id": "5350dea3",
   "metadata": {},
   "outputs": [
    {
     "name": "stdout",
     "output_type": "stream",
     "text": [
      "Counter({'b3': 123, 'a3': 100, 'a2': 75, 'b2': 75, 'b1': 67, 'a1': 50})\n"
     ]
    }
   ],
   "source": [
    "from collections import Counter\n",
    "d1={\"a1\":50,\"a2\":75,\"a3\":100}\n",
    "d2={\"b1\":67,\"b2\":75,\"b3\":123}\n",
    "\n",
    "new_dict= Counter(d1)+Counter(d2)\n",
    "\n",
    "print(new_dict)"
   ]
  },
  {
   "cell_type": "code",
   "execution_count": 1,
   "id": "7b4efaa5",
   "metadata": {},
   "outputs": [],
   "source": [
    "#count the characters"
   ]
  },
  {
   "cell_type": "code",
   "execution_count": 16,
   "id": "27774a30",
   "metadata": {},
   "outputs": [
    {
     "name": "stdout",
     "output_type": "stream",
     "text": [
      "asbvjs\n"
     ]
    },
    {
     "data": {
      "text/plain": [
       "{'b': 1, 'v': 1, 's': 2, 'a': 1, 'j': 1}"
      ]
     },
     "execution_count": 16,
     "metadata": {},
     "output_type": "execute_result"
    }
   ],
   "source": [
    "s=input()\n",
    "{x:s.count(x) for x in set(s)}"
   ]
  },
  {
   "cell_type": "code",
   "execution_count": null,
   "id": "10b1d65b",
   "metadata": {},
   "outputs": [],
   "source": []
  }
 ],
 "metadata": {
  "kernelspec": {
   "display_name": "Python 3",
   "language": "python",
   "name": "python3"
  },
  "language_info": {
   "codemirror_mode": {
    "name": "ipython",
    "version": 3
   },
   "file_extension": ".py",
   "mimetype": "text/x-python",
   "name": "python",
   "nbconvert_exporter": "python",
   "pygments_lexer": "ipython3",
   "version": "3.8.8"
  }
 },
 "nbformat": 4,
 "nbformat_minor": 5
}
