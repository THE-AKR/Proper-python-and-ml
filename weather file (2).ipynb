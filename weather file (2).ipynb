{
 "cells": [
  {
   "cell_type": "markdown",
   "metadata": {
    "slideshow": {
     "slide_type": "slide"
    }
   },
   "source": [
    "# Data Manipulation with pandas"
   ]
  },
  {
   "cell_type": "code",
   "execution_count": 1,
   "metadata": {
    "slideshow": {
     "slide_type": "subslide"
    }
   },
   "outputs": [],
   "source": [
    "import pandas as pd\n",
    "import numpy as np"
   ]
  },
  {
   "cell_type": "markdown",
   "metadata": {
    "slideshow": {
     "slide_type": "slide"
    }
   },
   "source": [
    "# Program so far \n",
    "***\n",
    "- Python Basics\n",
    "- Python Programming Constructs\n",
    "- Data Structures\n",
    "- Functions\n",
    "- Object Oriented Programming in Python\n",
    "- NumPy\n",
    "- Pandas"
   ]
  },
  {
   "cell_type": "markdown",
   "metadata": {
    "slideshow": {
     "slide_type": "slide"
    }
   },
   "source": [
    "\n",
    "\n",
    "# What are we going to learn today?\n",
    "***\n",
    "- DataFrame Basics\n",
    "- Reading Data into DataFrame\n",
    "- Data Manipulation and Transformations\n",
    "- Pivot Tables and Group By\n",
    "- Merging Data"
   ]
  },
  {
   "cell_type": "markdown",
   "metadata": {
    "slideshow": {
     "slide_type": "slide"
    }
   },
   "source": [
    "\n",
    "# DataFrame Basics\n",
    "***\n",
    "We'll talk about\n",
    "- Creating DataFrames\n",
    "- Shape and Rank\n",
    "- Reading DataFrames from File\n",
    "- Index"
   ]
  },
  {
   "cell_type": "markdown",
   "metadata": {
    "slideshow": {
     "slide_type": "subslide"
    }
   },
   "source": [
    "<img src=\"../images/icon/Technical-Stuff.png\" alt=\"Concept-Alert\" style=\"width: 100px;float:left; margin-right:15px\"/>\n",
    "<br /> \n",
    "## How do I create DataFrames?\n",
    "***\n",
    "DataFrames can be created from lists, or read from files"
   ]
  },
  {
   "cell_type": "markdown",
   "metadata": {
    "slideshow": {
     "slide_type": "subslide"
    }
   },
   "source": [
    "<div class=\"alert alert-block alert-success\">**Creating DataFrames manually**</div>"
   ]
  },
  {
   "cell_type": "code",
   "execution_count": 2,
   "metadata": {
    "ExecuteTime": {
     "end_time": "2017-09-25T09:11:16.357395Z",
     "start_time": "2017-09-25T09:11:11.644455Z"
    },
    "slideshow": {
     "slide_type": "fragment"
    }
   },
   "outputs": [
    {
     "data": {
      "text/html": [
       "<div>\n",
       "<style scoped>\n",
       "    .dataframe tbody tr th:only-of-type {\n",
       "        vertical-align: middle;\n",
       "    }\n",
       "\n",
       "    .dataframe tbody tr th {\n",
       "        vertical-align: top;\n",
       "    }\n",
       "\n",
       "    .dataframe thead th {\n",
       "        text-align: right;\n",
       "    }\n",
       "</style>\n",
       "<table border=\"1\" class=\"dataframe\">\n",
       "  <thead>\n",
       "    <tr style=\"text-align: right;\">\n",
       "      <th></th>\n",
       "      <th>0</th>\n",
       "      <th>1</th>\n",
       "      <th>2</th>\n",
       "    </tr>\n",
       "  </thead>\n",
       "  <tbody>\n",
       "    <tr>\n",
       "      <th>0</th>\n",
       "      <td>1</td>\n",
       "      <td>2</td>\n",
       "      <td>3</td>\n",
       "    </tr>\n",
       "    <tr>\n",
       "      <th>1</th>\n",
       "      <td>3</td>\n",
       "      <td>4</td>\n",
       "      <td>5</td>\n",
       "    </tr>\n",
       "    <tr>\n",
       "      <th>2</th>\n",
       "      <td>5</td>\n",
       "      <td>6</td>\n",
       "      <td>7</td>\n",
       "    </tr>\n",
       "    <tr>\n",
       "      <th>3</th>\n",
       "      <td>7</td>\n",
       "      <td>8</td>\n",
       "      <td>9</td>\n",
       "    </tr>\n",
       "  </tbody>\n",
       "</table>\n",
       "</div>"
      ],
      "text/plain": [
       "   0  1  2\n",
       "0  1  2  3\n",
       "1  3  4  5\n",
       "2  5  6  7\n",
       "3  7  8  9"
      ]
     },
     "execution_count": 2,
     "metadata": {},
     "output_type": "execute_result"
    }
   ],
   "source": [
    "import pandas as pd\n",
    "import numpy as np\n",
    "\n",
    "df = pd.DataFrame([[1, 2, 3],\n",
    "                   [3, 4, 5],\n",
    "                   [5, 6, 7],\n",
    "                   [7, 8, 9]])\n",
    "df"
   ]
  },
  {
   "cell_type": "code",
   "execution_count": 5,
   "metadata": {
    "ExecuteTime": {
     "end_time": "2017-09-23T06:16:35.242361Z",
     "start_time": "2017-09-23T06:16:35.212742Z"
    },
    "slideshow": {
     "slide_type": "subslide"
    }
   },
   "outputs": [
    {
     "name": "stdout",
     "output_type": "stream",
     "text": [
      "('Shape:', (4, 3))\n",
      "('Index:', RangeIndex(start=0, stop=4, step=1))\n"
     ]
    }
   ],
   "source": [
    "df = pd.DataFrame([[1, 2, 3], [3, 4, 5], [5, 6, 7], [7, 8, 9]])\n",
    "\n",
    "print((\"Shape:\", df.shape))\n",
    "print((\"Index:\", df.index))\n",
    "\n",
    "df.head??"
   ]
  },
  {
   "cell_type": "markdown",
   "metadata": {
    "slideshow": {
     "slide_type": "subslide"
    }
   },
   "source": [
    "<div class=\"alert alert-block alert-success\">**Understanding the Index**</div>"
   ]
  },
  {
   "cell_type": "code",
   "execution_count": 4,
   "metadata": {
    "ExecuteTime": {
     "end_time": "2017-09-23T07:08:51.531243Z",
     "start_time": "2017-09-23T07:08:51.510432Z"
    },
    "slideshow": {
     "slide_type": "fragment"
    }
   },
   "outputs": [
    {
     "name": "stdout",
     "output_type": "stream",
     "text": [
      "('Shape:', (4, 3))\n",
      "('Index:', RangeIndex(start=0, stop=4, step=1))\n"
     ]
    },
    {
     "data": {
      "text/html": [
       "<div>\n",
       "<style scoped>\n",
       "    .dataframe tbody tr th:only-of-type {\n",
       "        vertical-align: middle;\n",
       "    }\n",
       "\n",
       "    .dataframe tbody tr th {\n",
       "        vertical-align: top;\n",
       "    }\n",
       "\n",
       "    .dataframe thead th {\n",
       "        text-align: right;\n",
       "    }\n",
       "</style>\n",
       "<table border=\"1\" class=\"dataframe\">\n",
       "  <thead>\n",
       "    <tr style=\"text-align: right;\">\n",
       "      <th></th>\n",
       "      <th>x</th>\n",
       "      <th>y</th>\n",
       "      <th>z</th>\n",
       "    </tr>\n",
       "  </thead>\n",
       "  <tbody>\n",
       "    <tr>\n",
       "      <th>a</th>\n",
       "      <td>1</td>\n",
       "      <td>2</td>\n",
       "      <td>3</td>\n",
       "    </tr>\n",
       "    <tr>\n",
       "      <th>b</th>\n",
       "      <td>3</td>\n",
       "      <td>4</td>\n",
       "      <td>5</td>\n",
       "    </tr>\n",
       "    <tr>\n",
       "      <th>c</th>\n",
       "      <td>5</td>\n",
       "      <td>6</td>\n",
       "      <td>7</td>\n",
       "    </tr>\n",
       "    <tr>\n",
       "      <th>d</th>\n",
       "      <td>7</td>\n",
       "      <td>8</td>\n",
       "      <td>9</td>\n",
       "    </tr>\n",
       "  </tbody>\n",
       "</table>\n",
       "</div>"
      ],
      "text/plain": [
       "   x  y  z\n",
       "a  1  2  3\n",
       "b  3  4  5\n",
       "c  5  6  7\n",
       "d  7  8  9"
      ]
     },
     "execution_count": 4,
     "metadata": {},
     "output_type": "execute_result"
    }
   ],
   "source": [
    "df2 = pd.DataFrame([[1, 2, 3], [3, 4, 5], [5, 6, 7], [7, 8, 9]],\n",
    "                   index=['a', 'b', 'c', 'd'], columns=['x', 'y', 'z'])\n",
    "\n",
    "print((\"Shape:\", df.shape))\n",
    "print((\"Index:\", df.index))\n",
    "\n",
    "df2"
   ]
  },
  {
   "cell_type": "markdown",
   "metadata": {
    "slideshow": {
     "slide_type": "subslide"
    }
   },
   "source": [
    "<div class=\"alert alert-block alert-success\">**Creating DataFrames manually: Hierarchical Index**</div>\n"
   ]
  },
  {
   "cell_type": "code",
   "execution_count": 5,
   "metadata": {
    "ExecuteTime": {
     "end_time": "2017-09-23T06:36:37.572838Z",
     "start_time": "2017-09-23T06:36:37.548841Z"
    },
    "scrolled": true,
    "slideshow": {
     "slide_type": "fragment"
    }
   },
   "outputs": [
    {
     "name": "stdout",
     "output_type": "stream",
     "text": [
      "[('G1', 1), ('G1', 2), ('G1', 3), ('G2', 1), ('G2', 2), ('G2', 3)]\n",
      "MultiIndex(levels=[['G1', 'G2'], [1, 2, 3]],\n",
      "           labels=[[0, 0, 0, 1, 1, 1], [0, 1, 2, 0, 1, 2]])\n"
     ]
    }
   ],
   "source": [
    "outside = ['G1']*3 + ['G2']*3  # G1 repeated thrice, then G2 repeated thrice\n",
    "inside = [1, 2, 3, 1, 2, 3]  # 1,2,3 repeated twice\n",
    "\n",
    "hier_index = list(zip(outside,inside))\n",
    "print(hier_index)\n",
    " \n",
    "hier_index = pd.MultiIndex.from_tuples(hier_index)\n",
    "print(hier_index)\n",
    "\n",
    "hier_df = pd.DataFrame(np.random.randn(6,2), index=hier_index, columns=['A','B'])"
   ]
  },
  {
   "cell_type": "code",
   "execution_count": 6,
   "metadata": {
    "ExecuteTime": {
     "end_time": "2017-09-23T06:36:46.217265Z",
     "start_time": "2017-09-23T06:36:46.171985Z"
    },
    "slideshow": {
     "slide_type": "subslide"
    }
   },
   "outputs": [
    {
     "name": "stdout",
     "output_type": "stream",
     "text": [
      "('Shape:', (6, 2))\n",
      "('Index:', MultiIndex(levels=[['G1', 'G2'], [1, 2, 3]],\n",
      "           labels=[[0, 0, 0, 1, 1, 1], [0, 1, 2, 0, 1, 2]]))\n"
     ]
    },
    {
     "data": {
      "text/html": [
       "<div>\n",
       "<style scoped>\n",
       "    .dataframe tbody tr th:only-of-type {\n",
       "        vertical-align: middle;\n",
       "    }\n",
       "\n",
       "    .dataframe tbody tr th {\n",
       "        vertical-align: top;\n",
       "    }\n",
       "\n",
       "    .dataframe thead th {\n",
       "        text-align: right;\n",
       "    }\n",
       "</style>\n",
       "<table border=\"1\" class=\"dataframe\">\n",
       "  <thead>\n",
       "    <tr style=\"text-align: right;\">\n",
       "      <th></th>\n",
       "      <th></th>\n",
       "      <th>A</th>\n",
       "      <th>B</th>\n",
       "    </tr>\n",
       "  </thead>\n",
       "  <tbody>\n",
       "    <tr>\n",
       "      <th rowspan=\"3\" valign=\"top\">G1</th>\n",
       "      <th>1</th>\n",
       "      <td>0.084310</td>\n",
       "      <td>-0.046187</td>\n",
       "    </tr>\n",
       "    <tr>\n",
       "      <th>2</th>\n",
       "      <td>-1.964551</td>\n",
       "      <td>1.888227</td>\n",
       "    </tr>\n",
       "    <tr>\n",
       "      <th>3</th>\n",
       "      <td>-1.682949</td>\n",
       "      <td>-0.693031</td>\n",
       "    </tr>\n",
       "    <tr>\n",
       "      <th rowspan=\"3\" valign=\"top\">G2</th>\n",
       "      <th>1</th>\n",
       "      <td>-1.917585</td>\n",
       "      <td>-0.211014</td>\n",
       "    </tr>\n",
       "    <tr>\n",
       "      <th>2</th>\n",
       "      <td>-0.720763</td>\n",
       "      <td>-1.789181</td>\n",
       "    </tr>\n",
       "    <tr>\n",
       "      <th>3</th>\n",
       "      <td>-0.811274</td>\n",
       "      <td>-1.461477</td>\n",
       "    </tr>\n",
       "  </tbody>\n",
       "</table>\n",
       "</div>"
      ],
      "text/plain": [
       "             A         B\n",
       "G1 1  0.084310 -0.046187\n",
       "   2 -1.964551  1.888227\n",
       "   3 -1.682949 -0.693031\n",
       "G2 1 -1.917585 -0.211014\n",
       "   2 -0.720763 -1.789181\n",
       "   3 -0.811274 -1.461477"
      ]
     },
     "execution_count": 6,
     "metadata": {},
     "output_type": "execute_result"
    }
   ],
   "source": [
    "print((\"Shape:\", hier_df.shape))\n",
    "print((\"Index:\", hier_df.index))\n",
    "\n",
    "hier_df"
   ]
  },
  {
   "cell_type": "markdown",
   "metadata": {
    "slideshow": {
     "slide_type": "subslide"
    }
   },
   "source": [
    "# The Weather Dataset: Reading DataFrames from Files\n",
    "***\n",
    "The Weather Dataset is a time-series data set with per-hour information about the weather conditions at a particular location. It records Temperature, Dew Point Temperature, Relative Humidity, Wind Speed, Visibility, Pressure, and Conditions.\n",
    "\n",
    "\n",
    "This data is available as a CSV file. We are going to analyze this data set using the Pandas DataFrame."
   ]
  },
  {
   "cell_type": "code",
   "execution_count": 7,
   "metadata": {
    "ExecuteTime": {
     "end_time": "2017-09-25T09:11:22.400390Z",
     "start_time": "2017-09-25T09:11:22.342923Z"
    },
    "slideshow": {
     "slide_type": "subslide"
    }
   },
   "outputs": [
    {
     "name": "stdout",
     "output_type": "stream",
     "text": [
      "('Shape:', (8784, 8))\n",
      "('Index:', RangeIndex(start=0, stop=8784, step=1))\n"
     ]
    },
    {
     "data": {
      "text/html": [
       "<div>\n",
       "<style scoped>\n",
       "    .dataframe tbody tr th:only-of-type {\n",
       "        vertical-align: middle;\n",
       "    }\n",
       "\n",
       "    .dataframe tbody tr th {\n",
       "        vertical-align: top;\n",
       "    }\n",
       "\n",
       "    .dataframe thead th {\n",
       "        text-align: right;\n",
       "    }\n",
       "</style>\n",
       "<table border=\"1\" class=\"dataframe\">\n",
       "  <thead>\n",
       "    <tr style=\"text-align: right;\">\n",
       "      <th></th>\n",
       "      <th>Date/Time</th>\n",
       "      <th>Temp (C)</th>\n",
       "      <th>Dew Point Temp (C)</th>\n",
       "      <th>Rel Hum (%)</th>\n",
       "      <th>Wind Spd (km/h)</th>\n",
       "      <th>Visibility (km)</th>\n",
       "      <th>Stn Press (kPa)</th>\n",
       "      <th>Weather</th>\n",
       "    </tr>\n",
       "  </thead>\n",
       "  <tbody>\n",
       "    <tr>\n",
       "      <th>0</th>\n",
       "      <td>2012-01-01 00:00:00</td>\n",
       "      <td>-1.8</td>\n",
       "      <td>-3.9</td>\n",
       "      <td>86</td>\n",
       "      <td>4</td>\n",
       "      <td>8.0</td>\n",
       "      <td>101.24</td>\n",
       "      <td>Fog</td>\n",
       "    </tr>\n",
       "    <tr>\n",
       "      <th>1</th>\n",
       "      <td>2012-01-01 01:00:00</td>\n",
       "      <td>-1.8</td>\n",
       "      <td>-3.7</td>\n",
       "      <td>87</td>\n",
       "      <td>4</td>\n",
       "      <td>8.0</td>\n",
       "      <td>101.24</td>\n",
       "      <td>Fog</td>\n",
       "    </tr>\n",
       "    <tr>\n",
       "      <th>2</th>\n",
       "      <td>2012-01-01 02:00:00</td>\n",
       "      <td>-1.8</td>\n",
       "      <td>-3.4</td>\n",
       "      <td>89</td>\n",
       "      <td>7</td>\n",
       "      <td>4.0</td>\n",
       "      <td>101.26</td>\n",
       "      <td>Freezing Drizzle,Fog</td>\n",
       "    </tr>\n",
       "    <tr>\n",
       "      <th>3</th>\n",
       "      <td>2012-01-01 03:00:00</td>\n",
       "      <td>-1.5</td>\n",
       "      <td>-3.2</td>\n",
       "      <td>88</td>\n",
       "      <td>6</td>\n",
       "      <td>4.0</td>\n",
       "      <td>101.27</td>\n",
       "      <td>Freezing Drizzle,Fog</td>\n",
       "    </tr>\n",
       "    <tr>\n",
       "      <th>4</th>\n",
       "      <td>2012-01-01 04:00:00</td>\n",
       "      <td>-1.5</td>\n",
       "      <td>-3.3</td>\n",
       "      <td>88</td>\n",
       "      <td>7</td>\n",
       "      <td>4.8</td>\n",
       "      <td>101.23</td>\n",
       "      <td>Fog</td>\n",
       "    </tr>\n",
       "    <tr>\n",
       "      <th>5</th>\n",
       "      <td>2012-01-01 05:00:00</td>\n",
       "      <td>-1.4</td>\n",
       "      <td>-3.3</td>\n",
       "      <td>87</td>\n",
       "      <td>9</td>\n",
       "      <td>6.4</td>\n",
       "      <td>101.27</td>\n",
       "      <td>Fog</td>\n",
       "    </tr>\n",
       "    <tr>\n",
       "      <th>6</th>\n",
       "      <td>2012-01-01 06:00:00</td>\n",
       "      <td>-1.5</td>\n",
       "      <td>-3.1</td>\n",
       "      <td>89</td>\n",
       "      <td>7</td>\n",
       "      <td>6.4</td>\n",
       "      <td>101.29</td>\n",
       "      <td>Fog</td>\n",
       "    </tr>\n",
       "    <tr>\n",
       "      <th>7</th>\n",
       "      <td>2012-01-01 07:00:00</td>\n",
       "      <td>-1.4</td>\n",
       "      <td>-3.6</td>\n",
       "      <td>85</td>\n",
       "      <td>7</td>\n",
       "      <td>8.0</td>\n",
       "      <td>101.26</td>\n",
       "      <td>Fog</td>\n",
       "    </tr>\n",
       "    <tr>\n",
       "      <th>8</th>\n",
       "      <td>2012-01-01 08:00:00</td>\n",
       "      <td>-1.4</td>\n",
       "      <td>-3.6</td>\n",
       "      <td>85</td>\n",
       "      <td>9</td>\n",
       "      <td>8.0</td>\n",
       "      <td>101.23</td>\n",
       "      <td>Fog</td>\n",
       "    </tr>\n",
       "    <tr>\n",
       "      <th>9</th>\n",
       "      <td>2012-01-01 09:00:00</td>\n",
       "      <td>-1.3</td>\n",
       "      <td>-3.1</td>\n",
       "      <td>88</td>\n",
       "      <td>15</td>\n",
       "      <td>4.0</td>\n",
       "      <td>101.20</td>\n",
       "      <td>Fog</td>\n",
       "    </tr>\n",
       "    <tr>\n",
       "      <th>10</th>\n",
       "      <td>2012-01-01 10:00:00</td>\n",
       "      <td>-1.0</td>\n",
       "      <td>-2.3</td>\n",
       "      <td>91</td>\n",
       "      <td>9</td>\n",
       "      <td>1.2</td>\n",
       "      <td>101.15</td>\n",
       "      <td>Fog</td>\n",
       "    </tr>\n",
       "    <tr>\n",
       "      <th>11</th>\n",
       "      <td>2012-01-01 11:00:00</td>\n",
       "      <td>-0.5</td>\n",
       "      <td>-2.1</td>\n",
       "      <td>89</td>\n",
       "      <td>7</td>\n",
       "      <td>4.0</td>\n",
       "      <td>100.98</td>\n",
       "      <td>Fog</td>\n",
       "    </tr>\n",
       "    <tr>\n",
       "      <th>12</th>\n",
       "      <td>2012-01-01 12:00:00</td>\n",
       "      <td>-0.2</td>\n",
       "      <td>-2.0</td>\n",
       "      <td>88</td>\n",
       "      <td>9</td>\n",
       "      <td>4.8</td>\n",
       "      <td>100.79</td>\n",
       "      <td>Fog</td>\n",
       "    </tr>\n",
       "    <tr>\n",
       "      <th>13</th>\n",
       "      <td>2012-01-01 13:00:00</td>\n",
       "      <td>0.2</td>\n",
       "      <td>-1.7</td>\n",
       "      <td>87</td>\n",
       "      <td>13</td>\n",
       "      <td>4.8</td>\n",
       "      <td>100.58</td>\n",
       "      <td>Fog</td>\n",
       "    </tr>\n",
       "    <tr>\n",
       "      <th>14</th>\n",
       "      <td>2012-01-01 14:00:00</td>\n",
       "      <td>0.8</td>\n",
       "      <td>-1.1</td>\n",
       "      <td>87</td>\n",
       "      <td>20</td>\n",
       "      <td>4.8</td>\n",
       "      <td>100.31</td>\n",
       "      <td>Fog</td>\n",
       "    </tr>\n",
       "    <tr>\n",
       "      <th>15</th>\n",
       "      <td>2012-01-01 15:00:00</td>\n",
       "      <td>1.8</td>\n",
       "      <td>-0.4</td>\n",
       "      <td>85</td>\n",
       "      <td>22</td>\n",
       "      <td>6.4</td>\n",
       "      <td>100.07</td>\n",
       "      <td>Fog</td>\n",
       "    </tr>\n",
       "    <tr>\n",
       "      <th>16</th>\n",
       "      <td>2012-01-01 16:00:00</td>\n",
       "      <td>2.6</td>\n",
       "      <td>-0.2</td>\n",
       "      <td>82</td>\n",
       "      <td>13</td>\n",
       "      <td>12.9</td>\n",
       "      <td>99.93</td>\n",
       "      <td>Mostly Cloudy</td>\n",
       "    </tr>\n",
       "    <tr>\n",
       "      <th>17</th>\n",
       "      <td>2012-01-01 17:00:00</td>\n",
       "      <td>3.0</td>\n",
       "      <td>0.0</td>\n",
       "      <td>81</td>\n",
       "      <td>13</td>\n",
       "      <td>16.1</td>\n",
       "      <td>99.81</td>\n",
       "      <td>Cloudy</td>\n",
       "    </tr>\n",
       "    <tr>\n",
       "      <th>18</th>\n",
       "      <td>2012-01-01 18:00:00</td>\n",
       "      <td>3.8</td>\n",
       "      <td>1.0</td>\n",
       "      <td>82</td>\n",
       "      <td>15</td>\n",
       "      <td>12.9</td>\n",
       "      <td>99.74</td>\n",
       "      <td>Rain</td>\n",
       "    </tr>\n",
       "    <tr>\n",
       "      <th>19</th>\n",
       "      <td>2012-01-01 19:00:00</td>\n",
       "      <td>3.1</td>\n",
       "      <td>1.3</td>\n",
       "      <td>88</td>\n",
       "      <td>15</td>\n",
       "      <td>12.9</td>\n",
       "      <td>99.68</td>\n",
       "      <td>Rain</td>\n",
       "    </tr>\n",
       "    <tr>\n",
       "      <th>20</th>\n",
       "      <td>2012-01-01 20:00:00</td>\n",
       "      <td>3.2</td>\n",
       "      <td>1.3</td>\n",
       "      <td>87</td>\n",
       "      <td>19</td>\n",
       "      <td>25.0</td>\n",
       "      <td>99.50</td>\n",
       "      <td>Cloudy</td>\n",
       "    </tr>\n",
       "    <tr>\n",
       "      <th>21</th>\n",
       "      <td>2012-01-01 21:00:00</td>\n",
       "      <td>4.0</td>\n",
       "      <td>1.7</td>\n",
       "      <td>85</td>\n",
       "      <td>20</td>\n",
       "      <td>25.0</td>\n",
       "      <td>99.39</td>\n",
       "      <td>Cloudy</td>\n",
       "    </tr>\n",
       "    <tr>\n",
       "      <th>22</th>\n",
       "      <td>2012-01-01 22:00:00</td>\n",
       "      <td>4.4</td>\n",
       "      <td>1.9</td>\n",
       "      <td>84</td>\n",
       "      <td>24</td>\n",
       "      <td>19.3</td>\n",
       "      <td>99.32</td>\n",
       "      <td>Rain Showers</td>\n",
       "    </tr>\n",
       "    <tr>\n",
       "      <th>23</th>\n",
       "      <td>2012-01-01 23:00:00</td>\n",
       "      <td>5.3</td>\n",
       "      <td>2.0</td>\n",
       "      <td>79</td>\n",
       "      <td>30</td>\n",
       "      <td>25.0</td>\n",
       "      <td>99.31</td>\n",
       "      <td>Cloudy</td>\n",
       "    </tr>\n",
       "    <tr>\n",
       "      <th>24</th>\n",
       "      <td>2012-01-02 00:00:00</td>\n",
       "      <td>5.2</td>\n",
       "      <td>1.5</td>\n",
       "      <td>77</td>\n",
       "      <td>35</td>\n",
       "      <td>25.0</td>\n",
       "      <td>99.26</td>\n",
       "      <td>Rain Showers</td>\n",
       "    </tr>\n",
       "    <tr>\n",
       "      <th>25</th>\n",
       "      <td>2012-01-02 01:00:00</td>\n",
       "      <td>4.6</td>\n",
       "      <td>0.0</td>\n",
       "      <td>72</td>\n",
       "      <td>39</td>\n",
       "      <td>25.0</td>\n",
       "      <td>99.26</td>\n",
       "      <td>Cloudy</td>\n",
       "    </tr>\n",
       "    <tr>\n",
       "      <th>26</th>\n",
       "      <td>2012-01-02 02:00:00</td>\n",
       "      <td>3.9</td>\n",
       "      <td>-0.9</td>\n",
       "      <td>71</td>\n",
       "      <td>32</td>\n",
       "      <td>25.0</td>\n",
       "      <td>99.26</td>\n",
       "      <td>Mostly Cloudy</td>\n",
       "    </tr>\n",
       "    <tr>\n",
       "      <th>27</th>\n",
       "      <td>2012-01-02 03:00:00</td>\n",
       "      <td>3.7</td>\n",
       "      <td>-1.5</td>\n",
       "      <td>69</td>\n",
       "      <td>33</td>\n",
       "      <td>25.0</td>\n",
       "      <td>99.30</td>\n",
       "      <td>Mostly Cloudy</td>\n",
       "    </tr>\n",
       "    <tr>\n",
       "      <th>28</th>\n",
       "      <td>2012-01-02 04:00:00</td>\n",
       "      <td>2.9</td>\n",
       "      <td>-2.3</td>\n",
       "      <td>69</td>\n",
       "      <td>32</td>\n",
       "      <td>25.0</td>\n",
       "      <td>99.26</td>\n",
       "      <td>Mostly Cloudy</td>\n",
       "    </tr>\n",
       "    <tr>\n",
       "      <th>29</th>\n",
       "      <td>2012-01-02 05:00:00</td>\n",
       "      <td>2.6</td>\n",
       "      <td>-2.3</td>\n",
       "      <td>70</td>\n",
       "      <td>32</td>\n",
       "      <td>25.0</td>\n",
       "      <td>99.21</td>\n",
       "      <td>Mostly Cloudy</td>\n",
       "    </tr>\n",
       "    <tr>\n",
       "      <th>...</th>\n",
       "      <td>...</td>\n",
       "      <td>...</td>\n",
       "      <td>...</td>\n",
       "      <td>...</td>\n",
       "      <td>...</td>\n",
       "      <td>...</td>\n",
       "      <td>...</td>\n",
       "      <td>...</td>\n",
       "    </tr>\n",
       "    <tr>\n",
       "      <th>8754</th>\n",
       "      <td>2012-12-30 18:00:00</td>\n",
       "      <td>-12.6</td>\n",
       "      <td>-16.0</td>\n",
       "      <td>76</td>\n",
       "      <td>24</td>\n",
       "      <td>25.0</td>\n",
       "      <td>101.36</td>\n",
       "      <td>Mainly Clear</td>\n",
       "    </tr>\n",
       "    <tr>\n",
       "      <th>8755</th>\n",
       "      <td>2012-12-30 19:00:00</td>\n",
       "      <td>-13.4</td>\n",
       "      <td>-16.5</td>\n",
       "      <td>77</td>\n",
       "      <td>26</td>\n",
       "      <td>25.0</td>\n",
       "      <td>101.47</td>\n",
       "      <td>Mainly Clear</td>\n",
       "    </tr>\n",
       "    <tr>\n",
       "      <th>8756</th>\n",
       "      <td>2012-12-30 20:00:00</td>\n",
       "      <td>-13.8</td>\n",
       "      <td>-16.5</td>\n",
       "      <td>80</td>\n",
       "      <td>24</td>\n",
       "      <td>25.0</td>\n",
       "      <td>101.52</td>\n",
       "      <td>Clear</td>\n",
       "    </tr>\n",
       "    <tr>\n",
       "      <th>8757</th>\n",
       "      <td>2012-12-30 21:00:00</td>\n",
       "      <td>-13.8</td>\n",
       "      <td>-16.5</td>\n",
       "      <td>80</td>\n",
       "      <td>20</td>\n",
       "      <td>25.0</td>\n",
       "      <td>101.50</td>\n",
       "      <td>Mainly Clear</td>\n",
       "    </tr>\n",
       "    <tr>\n",
       "      <th>8758</th>\n",
       "      <td>2012-12-30 22:00:00</td>\n",
       "      <td>-13.7</td>\n",
       "      <td>-16.3</td>\n",
       "      <td>81</td>\n",
       "      <td>19</td>\n",
       "      <td>25.0</td>\n",
       "      <td>101.54</td>\n",
       "      <td>Mainly Clear</td>\n",
       "    </tr>\n",
       "    <tr>\n",
       "      <th>8759</th>\n",
       "      <td>2012-12-30 23:00:00</td>\n",
       "      <td>-12.1</td>\n",
       "      <td>-15.1</td>\n",
       "      <td>78</td>\n",
       "      <td>28</td>\n",
       "      <td>25.0</td>\n",
       "      <td>101.52</td>\n",
       "      <td>Mostly Cloudy</td>\n",
       "    </tr>\n",
       "    <tr>\n",
       "      <th>8760</th>\n",
       "      <td>2012-12-31 00:00:00</td>\n",
       "      <td>-11.1</td>\n",
       "      <td>-14.4</td>\n",
       "      <td>77</td>\n",
       "      <td>26</td>\n",
       "      <td>25.0</td>\n",
       "      <td>101.51</td>\n",
       "      <td>Cloudy</td>\n",
       "    </tr>\n",
       "    <tr>\n",
       "      <th>8761</th>\n",
       "      <td>2012-12-31 01:00:00</td>\n",
       "      <td>-10.7</td>\n",
       "      <td>-14.0</td>\n",
       "      <td>77</td>\n",
       "      <td>15</td>\n",
       "      <td>25.0</td>\n",
       "      <td>101.50</td>\n",
       "      <td>Cloudy</td>\n",
       "    </tr>\n",
       "    <tr>\n",
       "      <th>8762</th>\n",
       "      <td>2012-12-31 02:00:00</td>\n",
       "      <td>-10.1</td>\n",
       "      <td>-13.4</td>\n",
       "      <td>77</td>\n",
       "      <td>9</td>\n",
       "      <td>25.0</td>\n",
       "      <td>101.45</td>\n",
       "      <td>Cloudy</td>\n",
       "    </tr>\n",
       "    <tr>\n",
       "      <th>8763</th>\n",
       "      <td>2012-12-31 03:00:00</td>\n",
       "      <td>-11.8</td>\n",
       "      <td>-14.4</td>\n",
       "      <td>81</td>\n",
       "      <td>6</td>\n",
       "      <td>25.0</td>\n",
       "      <td>101.42</td>\n",
       "      <td>Mostly Cloudy</td>\n",
       "    </tr>\n",
       "    <tr>\n",
       "      <th>8764</th>\n",
       "      <td>2012-12-31 04:00:00</td>\n",
       "      <td>-10.5</td>\n",
       "      <td>-12.8</td>\n",
       "      <td>83</td>\n",
       "      <td>11</td>\n",
       "      <td>25.0</td>\n",
       "      <td>101.34</td>\n",
       "      <td>Cloudy</td>\n",
       "    </tr>\n",
       "    <tr>\n",
       "      <th>8765</th>\n",
       "      <td>2012-12-31 05:00:00</td>\n",
       "      <td>-10.2</td>\n",
       "      <td>-12.4</td>\n",
       "      <td>84</td>\n",
       "      <td>6</td>\n",
       "      <td>25.0</td>\n",
       "      <td>101.28</td>\n",
       "      <td>Cloudy</td>\n",
       "    </tr>\n",
       "    <tr>\n",
       "      <th>8766</th>\n",
       "      <td>2012-12-31 06:00:00</td>\n",
       "      <td>-9.7</td>\n",
       "      <td>-11.7</td>\n",
       "      <td>85</td>\n",
       "      <td>4</td>\n",
       "      <td>25.0</td>\n",
       "      <td>101.23</td>\n",
       "      <td>Cloudy</td>\n",
       "    </tr>\n",
       "    <tr>\n",
       "      <th>8767</th>\n",
       "      <td>2012-12-31 07:00:00</td>\n",
       "      <td>-9.3</td>\n",
       "      <td>-11.3</td>\n",
       "      <td>85</td>\n",
       "      <td>0</td>\n",
       "      <td>19.3</td>\n",
       "      <td>101.19</td>\n",
       "      <td>Snow Showers</td>\n",
       "    </tr>\n",
       "    <tr>\n",
       "      <th>8768</th>\n",
       "      <td>2012-12-31 08:00:00</td>\n",
       "      <td>-8.6</td>\n",
       "      <td>-10.3</td>\n",
       "      <td>87</td>\n",
       "      <td>4</td>\n",
       "      <td>3.2</td>\n",
       "      <td>101.14</td>\n",
       "      <td>Snow Showers</td>\n",
       "    </tr>\n",
       "    <tr>\n",
       "      <th>8769</th>\n",
       "      <td>2012-12-31 09:00:00</td>\n",
       "      <td>-8.1</td>\n",
       "      <td>-9.6</td>\n",
       "      <td>89</td>\n",
       "      <td>4</td>\n",
       "      <td>2.4</td>\n",
       "      <td>101.09</td>\n",
       "      <td>Snow</td>\n",
       "    </tr>\n",
       "    <tr>\n",
       "      <th>8770</th>\n",
       "      <td>2012-12-31 10:00:00</td>\n",
       "      <td>-7.4</td>\n",
       "      <td>-8.9</td>\n",
       "      <td>89</td>\n",
       "      <td>4</td>\n",
       "      <td>6.4</td>\n",
       "      <td>101.05</td>\n",
       "      <td>Snow,Fog</td>\n",
       "    </tr>\n",
       "    <tr>\n",
       "      <th>8771</th>\n",
       "      <td>2012-12-31 11:00:00</td>\n",
       "      <td>-6.7</td>\n",
       "      <td>-7.9</td>\n",
       "      <td>91</td>\n",
       "      <td>9</td>\n",
       "      <td>9.7</td>\n",
       "      <td>100.93</td>\n",
       "      <td>Snow</td>\n",
       "    </tr>\n",
       "    <tr>\n",
       "      <th>8772</th>\n",
       "      <td>2012-12-31 12:00:00</td>\n",
       "      <td>-5.8</td>\n",
       "      <td>-7.5</td>\n",
       "      <td>88</td>\n",
       "      <td>4</td>\n",
       "      <td>12.9</td>\n",
       "      <td>100.78</td>\n",
       "      <td>Snow</td>\n",
       "    </tr>\n",
       "    <tr>\n",
       "      <th>8773</th>\n",
       "      <td>2012-12-31 13:00:00</td>\n",
       "      <td>-4.6</td>\n",
       "      <td>-6.6</td>\n",
       "      <td>86</td>\n",
       "      <td>4</td>\n",
       "      <td>12.9</td>\n",
       "      <td>100.63</td>\n",
       "      <td>Snow</td>\n",
       "    </tr>\n",
       "    <tr>\n",
       "      <th>8774</th>\n",
       "      <td>2012-12-31 14:00:00</td>\n",
       "      <td>-3.4</td>\n",
       "      <td>-5.7</td>\n",
       "      <td>84</td>\n",
       "      <td>6</td>\n",
       "      <td>11.3</td>\n",
       "      <td>100.57</td>\n",
       "      <td>Snow</td>\n",
       "    </tr>\n",
       "    <tr>\n",
       "      <th>8775</th>\n",
       "      <td>2012-12-31 15:00:00</td>\n",
       "      <td>-2.3</td>\n",
       "      <td>-4.6</td>\n",
       "      <td>84</td>\n",
       "      <td>9</td>\n",
       "      <td>9.7</td>\n",
       "      <td>100.47</td>\n",
       "      <td>Snow</td>\n",
       "    </tr>\n",
       "    <tr>\n",
       "      <th>8776</th>\n",
       "      <td>2012-12-31 16:00:00</td>\n",
       "      <td>-1.4</td>\n",
       "      <td>-4.0</td>\n",
       "      <td>82</td>\n",
       "      <td>13</td>\n",
       "      <td>12.9</td>\n",
       "      <td>100.40</td>\n",
       "      <td>Snow</td>\n",
       "    </tr>\n",
       "    <tr>\n",
       "      <th>8777</th>\n",
       "      <td>2012-12-31 17:00:00</td>\n",
       "      <td>-1.1</td>\n",
       "      <td>-3.3</td>\n",
       "      <td>85</td>\n",
       "      <td>19</td>\n",
       "      <td>9.7</td>\n",
       "      <td>100.30</td>\n",
       "      <td>Snow</td>\n",
       "    </tr>\n",
       "    <tr>\n",
       "      <th>8778</th>\n",
       "      <td>2012-12-31 18:00:00</td>\n",
       "      <td>-1.3</td>\n",
       "      <td>-3.1</td>\n",
       "      <td>88</td>\n",
       "      <td>17</td>\n",
       "      <td>9.7</td>\n",
       "      <td>100.19</td>\n",
       "      <td>Snow</td>\n",
       "    </tr>\n",
       "    <tr>\n",
       "      <th>8779</th>\n",
       "      <td>2012-12-31 19:00:00</td>\n",
       "      <td>0.1</td>\n",
       "      <td>-2.7</td>\n",
       "      <td>81</td>\n",
       "      <td>30</td>\n",
       "      <td>9.7</td>\n",
       "      <td>100.13</td>\n",
       "      <td>Snow</td>\n",
       "    </tr>\n",
       "    <tr>\n",
       "      <th>8780</th>\n",
       "      <td>2012-12-31 20:00:00</td>\n",
       "      <td>0.2</td>\n",
       "      <td>-2.4</td>\n",
       "      <td>83</td>\n",
       "      <td>24</td>\n",
       "      <td>9.7</td>\n",
       "      <td>100.03</td>\n",
       "      <td>Snow</td>\n",
       "    </tr>\n",
       "    <tr>\n",
       "      <th>8781</th>\n",
       "      <td>2012-12-31 21:00:00</td>\n",
       "      <td>-0.5</td>\n",
       "      <td>-1.5</td>\n",
       "      <td>93</td>\n",
       "      <td>28</td>\n",
       "      <td>4.8</td>\n",
       "      <td>99.95</td>\n",
       "      <td>Snow</td>\n",
       "    </tr>\n",
       "    <tr>\n",
       "      <th>8782</th>\n",
       "      <td>2012-12-31 22:00:00</td>\n",
       "      <td>-0.2</td>\n",
       "      <td>-1.8</td>\n",
       "      <td>89</td>\n",
       "      <td>28</td>\n",
       "      <td>9.7</td>\n",
       "      <td>99.91</td>\n",
       "      <td>Snow</td>\n",
       "    </tr>\n",
       "    <tr>\n",
       "      <th>8783</th>\n",
       "      <td>2012-12-31 23:00:00</td>\n",
       "      <td>0.0</td>\n",
       "      <td>-2.1</td>\n",
       "      <td>86</td>\n",
       "      <td>30</td>\n",
       "      <td>11.3</td>\n",
       "      <td>99.89</td>\n",
       "      <td>Snow</td>\n",
       "    </tr>\n",
       "  </tbody>\n",
       "</table>\n",
       "<p>8784 rows × 8 columns</p>\n",
       "</div>"
      ],
      "text/plain": [
       "                Date/Time  Temp (C)  Dew Point Temp (C)  Rel Hum (%)  \\\n",
       "0     2012-01-01 00:00:00      -1.8                -3.9           86   \n",
       "1     2012-01-01 01:00:00      -1.8                -3.7           87   \n",
       "2     2012-01-01 02:00:00      -1.8                -3.4           89   \n",
       "3     2012-01-01 03:00:00      -1.5                -3.2           88   \n",
       "4     2012-01-01 04:00:00      -1.5                -3.3           88   \n",
       "5     2012-01-01 05:00:00      -1.4                -3.3           87   \n",
       "6     2012-01-01 06:00:00      -1.5                -3.1           89   \n",
       "7     2012-01-01 07:00:00      -1.4                -3.6           85   \n",
       "8     2012-01-01 08:00:00      -1.4                -3.6           85   \n",
       "9     2012-01-01 09:00:00      -1.3                -3.1           88   \n",
       "10    2012-01-01 10:00:00      -1.0                -2.3           91   \n",
       "11    2012-01-01 11:00:00      -0.5                -2.1           89   \n",
       "12    2012-01-01 12:00:00      -0.2                -2.0           88   \n",
       "13    2012-01-01 13:00:00       0.2                -1.7           87   \n",
       "14    2012-01-01 14:00:00       0.8                -1.1           87   \n",
       "15    2012-01-01 15:00:00       1.8                -0.4           85   \n",
       "16    2012-01-01 16:00:00       2.6                -0.2           82   \n",
       "17    2012-01-01 17:00:00       3.0                 0.0           81   \n",
       "18    2012-01-01 18:00:00       3.8                 1.0           82   \n",
       "19    2012-01-01 19:00:00       3.1                 1.3           88   \n",
       "20    2012-01-01 20:00:00       3.2                 1.3           87   \n",
       "21    2012-01-01 21:00:00       4.0                 1.7           85   \n",
       "22    2012-01-01 22:00:00       4.4                 1.9           84   \n",
       "23    2012-01-01 23:00:00       5.3                 2.0           79   \n",
       "24    2012-01-02 00:00:00       5.2                 1.5           77   \n",
       "25    2012-01-02 01:00:00       4.6                 0.0           72   \n",
       "26    2012-01-02 02:00:00       3.9                -0.9           71   \n",
       "27    2012-01-02 03:00:00       3.7                -1.5           69   \n",
       "28    2012-01-02 04:00:00       2.9                -2.3           69   \n",
       "29    2012-01-02 05:00:00       2.6                -2.3           70   \n",
       "...                   ...       ...                 ...          ...   \n",
       "8754  2012-12-30 18:00:00     -12.6               -16.0           76   \n",
       "8755  2012-12-30 19:00:00     -13.4               -16.5           77   \n",
       "8756  2012-12-30 20:00:00     -13.8               -16.5           80   \n",
       "8757  2012-12-30 21:00:00     -13.8               -16.5           80   \n",
       "8758  2012-12-30 22:00:00     -13.7               -16.3           81   \n",
       "8759  2012-12-30 23:00:00     -12.1               -15.1           78   \n",
       "8760  2012-12-31 00:00:00     -11.1               -14.4           77   \n",
       "8761  2012-12-31 01:00:00     -10.7               -14.0           77   \n",
       "8762  2012-12-31 02:00:00     -10.1               -13.4           77   \n",
       "8763  2012-12-31 03:00:00     -11.8               -14.4           81   \n",
       "8764  2012-12-31 04:00:00     -10.5               -12.8           83   \n",
       "8765  2012-12-31 05:00:00     -10.2               -12.4           84   \n",
       "8766  2012-12-31 06:00:00      -9.7               -11.7           85   \n",
       "8767  2012-12-31 07:00:00      -9.3               -11.3           85   \n",
       "8768  2012-12-31 08:00:00      -8.6               -10.3           87   \n",
       "8769  2012-12-31 09:00:00      -8.1                -9.6           89   \n",
       "8770  2012-12-31 10:00:00      -7.4                -8.9           89   \n",
       "8771  2012-12-31 11:00:00      -6.7                -7.9           91   \n",
       "8772  2012-12-31 12:00:00      -5.8                -7.5           88   \n",
       "8773  2012-12-31 13:00:00      -4.6                -6.6           86   \n",
       "8774  2012-12-31 14:00:00      -3.4                -5.7           84   \n",
       "8775  2012-12-31 15:00:00      -2.3                -4.6           84   \n",
       "8776  2012-12-31 16:00:00      -1.4                -4.0           82   \n",
       "8777  2012-12-31 17:00:00      -1.1                -3.3           85   \n",
       "8778  2012-12-31 18:00:00      -1.3                -3.1           88   \n",
       "8779  2012-12-31 19:00:00       0.1                -2.7           81   \n",
       "8780  2012-12-31 20:00:00       0.2                -2.4           83   \n",
       "8781  2012-12-31 21:00:00      -0.5                -1.5           93   \n",
       "8782  2012-12-31 22:00:00      -0.2                -1.8           89   \n",
       "8783  2012-12-31 23:00:00       0.0                -2.1           86   \n",
       "\n",
       "      Wind Spd (km/h)  Visibility (km)  Stn Press (kPa)               Weather  \n",
       "0                   4              8.0           101.24                   Fog  \n",
       "1                   4              8.0           101.24                   Fog  \n",
       "2                   7              4.0           101.26  Freezing Drizzle,Fog  \n",
       "3                   6              4.0           101.27  Freezing Drizzle,Fog  \n",
       "4                   7              4.8           101.23                   Fog  \n",
       "5                   9              6.4           101.27                   Fog  \n",
       "6                   7              6.4           101.29                   Fog  \n",
       "7                   7              8.0           101.26                   Fog  \n",
       "8                   9              8.0           101.23                   Fog  \n",
       "9                  15              4.0           101.20                   Fog  \n",
       "10                  9              1.2           101.15                   Fog  \n",
       "11                  7              4.0           100.98                   Fog  \n",
       "12                  9              4.8           100.79                   Fog  \n",
       "13                 13              4.8           100.58                   Fog  \n",
       "14                 20              4.8           100.31                   Fog  \n",
       "15                 22              6.4           100.07                   Fog  \n",
       "16                 13             12.9            99.93         Mostly Cloudy  \n",
       "17                 13             16.1            99.81                Cloudy  \n",
       "18                 15             12.9            99.74                  Rain  \n",
       "19                 15             12.9            99.68                  Rain  \n",
       "20                 19             25.0            99.50                Cloudy  \n",
       "21                 20             25.0            99.39                Cloudy  \n",
       "22                 24             19.3            99.32          Rain Showers  \n",
       "23                 30             25.0            99.31                Cloudy  \n",
       "24                 35             25.0            99.26          Rain Showers  \n",
       "25                 39             25.0            99.26                Cloudy  \n",
       "26                 32             25.0            99.26         Mostly Cloudy  \n",
       "27                 33             25.0            99.30         Mostly Cloudy  \n",
       "28                 32             25.0            99.26         Mostly Cloudy  \n",
       "29                 32             25.0            99.21         Mostly Cloudy  \n",
       "...               ...              ...              ...                   ...  \n",
       "8754               24             25.0           101.36          Mainly Clear  \n",
       "8755               26             25.0           101.47          Mainly Clear  \n",
       "8756               24             25.0           101.52                 Clear  \n",
       "8757               20             25.0           101.50          Mainly Clear  \n",
       "8758               19             25.0           101.54          Mainly Clear  \n",
       "8759               28             25.0           101.52         Mostly Cloudy  \n",
       "8760               26             25.0           101.51                Cloudy  \n",
       "8761               15             25.0           101.50                Cloudy  \n",
       "8762                9             25.0           101.45                Cloudy  \n",
       "8763                6             25.0           101.42         Mostly Cloudy  \n",
       "8764               11             25.0           101.34                Cloudy  \n",
       "8765                6             25.0           101.28                Cloudy  \n",
       "8766                4             25.0           101.23                Cloudy  \n",
       "8767                0             19.3           101.19          Snow Showers  \n",
       "8768                4              3.2           101.14          Snow Showers  \n",
       "8769                4              2.4           101.09                  Snow  \n",
       "8770                4              6.4           101.05              Snow,Fog  \n",
       "8771                9              9.7           100.93                  Snow  \n",
       "8772                4             12.9           100.78                  Snow  \n",
       "8773                4             12.9           100.63                  Snow  \n",
       "8774                6             11.3           100.57                  Snow  \n",
       "8775                9              9.7           100.47                  Snow  \n",
       "8776               13             12.9           100.40                  Snow  \n",
       "8777               19              9.7           100.30                  Snow  \n",
       "8778               17              9.7           100.19                  Snow  \n",
       "8779               30              9.7           100.13                  Snow  \n",
       "8780               24              9.7           100.03                  Snow  \n",
       "8781               28              4.8            99.95                  Snow  \n",
       "8782               28              9.7            99.91                  Snow  \n",
       "8783               30             11.3            99.89                  Snow  \n",
       "\n",
       "[8784 rows x 8 columns]"
      ]
     },
     "execution_count": 7,
     "metadata": {},
     "output_type": "execute_result"
    }
   ],
   "source": [
    "# Read the data:\n",
    "\n",
    "weather_df = pd.read_csv(\"D:\\DATA SCIENCE\\python\\DataScience\\python al docs\\Slack_Docs\\CSVs Data Set/weather_2012.csv\")\n",
    "\n",
    "print((\"Shape:\", weather_df.shape))\n",
    "print((\"Index:\", weather_df.index))\n",
    "weather_df"
   ]
  },
  {
   "cell_type": "markdown",
   "metadata": {
    "slideshow": {
     "slide_type": "slide"
    }
   },
   "source": [
    "\n",
    "# How to Analyze DataFrames?\n",
    "***"
   ]
  },
  {
   "cell_type": "markdown",
   "metadata": {
    "slideshow": {
     "slide_type": "subslide"
    }
   },
   "source": [
    "## `.info()`\n",
    "***\n",
    "Provides basic information about the dataframe: rows, columns, types (if automatically detected)"
   ]
  },
  {
   "cell_type": "code",
   "execution_count": 8,
   "metadata": {
    "ExecuteTime": {
     "end_time": "2017-09-22T12:33:47.789590Z",
     "start_time": "2017-09-22T12:33:47.775863Z"
    },
    "slideshow": {
     "slide_type": "fragment"
    }
   },
   "outputs": [
    {
     "name": "stdout",
     "output_type": "stream",
     "text": [
      "<class 'pandas.core.frame.DataFrame'>\n",
      "RangeIndex: 8784 entries, 0 to 8783\n",
      "Data columns (total 8 columns):\n",
      "Date/Time             8784 non-null object\n",
      "Temp (C)              8784 non-null float64\n",
      "Dew Point Temp (C)    8784 non-null float64\n",
      "Rel Hum (%)           8784 non-null int64\n",
      "Wind Spd (km/h)       8784 non-null int64\n",
      "Visibility (km)       8784 non-null float64\n",
      "Stn Press (kPa)       8784 non-null float64\n",
      "Weather               8784 non-null object\n",
      "dtypes: float64(4), int64(2), object(2)\n",
      "memory usage: 480.4+ KB\n"
     ]
    }
   ],
   "source": [
    "weather_df.info()"
   ]
  },
  {
   "cell_type": "markdown",
   "metadata": {
    "slideshow": {
     "slide_type": "subslide"
    }
   },
   "source": [
    "## `.head()`\n",
    "***\n",
    "Similar to the linux `head` command. Shows the first N rows in the data (by default, N=5)."
   ]
  },
  {
   "cell_type": "code",
   "execution_count": 9,
   "metadata": {
    "ExecuteTime": {
     "end_time": "2017-09-22T12:54:51.722869Z",
     "start_time": "2017-09-22T12:54:51.701607Z"
    },
    "slideshow": {
     "slide_type": "fragment"
    }
   },
   "outputs": [
    {
     "data": {
      "text/html": [
       "<div>\n",
       "<style scoped>\n",
       "    .dataframe tbody tr th:only-of-type {\n",
       "        vertical-align: middle;\n",
       "    }\n",
       "\n",
       "    .dataframe tbody tr th {\n",
       "        vertical-align: top;\n",
       "    }\n",
       "\n",
       "    .dataframe thead th {\n",
       "        text-align: right;\n",
       "    }\n",
       "</style>\n",
       "<table border=\"1\" class=\"dataframe\">\n",
       "  <thead>\n",
       "    <tr style=\"text-align: right;\">\n",
       "      <th></th>\n",
       "      <th>Date/Time</th>\n",
       "      <th>Temp (C)</th>\n",
       "      <th>Dew Point Temp (C)</th>\n",
       "      <th>Rel Hum (%)</th>\n",
       "      <th>Wind Spd (km/h)</th>\n",
       "      <th>Visibility (km)</th>\n",
       "      <th>Stn Press (kPa)</th>\n",
       "      <th>Weather</th>\n",
       "    </tr>\n",
       "  </thead>\n",
       "  <tbody>\n",
       "    <tr>\n",
       "      <th>0</th>\n",
       "      <td>2012-01-01 00:00:00</td>\n",
       "      <td>-1.8</td>\n",
       "      <td>-3.9</td>\n",
       "      <td>86</td>\n",
       "      <td>4</td>\n",
       "      <td>8.0</td>\n",
       "      <td>101.24</td>\n",
       "      <td>Fog</td>\n",
       "    </tr>\n",
       "    <tr>\n",
       "      <th>1</th>\n",
       "      <td>2012-01-01 01:00:00</td>\n",
       "      <td>-1.8</td>\n",
       "      <td>-3.7</td>\n",
       "      <td>87</td>\n",
       "      <td>4</td>\n",
       "      <td>8.0</td>\n",
       "      <td>101.24</td>\n",
       "      <td>Fog</td>\n",
       "    </tr>\n",
       "    <tr>\n",
       "      <th>2</th>\n",
       "      <td>2012-01-01 02:00:00</td>\n",
       "      <td>-1.8</td>\n",
       "      <td>-3.4</td>\n",
       "      <td>89</td>\n",
       "      <td>7</td>\n",
       "      <td>4.0</td>\n",
       "      <td>101.26</td>\n",
       "      <td>Freezing Drizzle,Fog</td>\n",
       "    </tr>\n",
       "    <tr>\n",
       "      <th>3</th>\n",
       "      <td>2012-01-01 03:00:00</td>\n",
       "      <td>-1.5</td>\n",
       "      <td>-3.2</td>\n",
       "      <td>88</td>\n",
       "      <td>6</td>\n",
       "      <td>4.0</td>\n",
       "      <td>101.27</td>\n",
       "      <td>Freezing Drizzle,Fog</td>\n",
       "    </tr>\n",
       "    <tr>\n",
       "      <th>4</th>\n",
       "      <td>2012-01-01 04:00:00</td>\n",
       "      <td>-1.5</td>\n",
       "      <td>-3.3</td>\n",
       "      <td>88</td>\n",
       "      <td>7</td>\n",
       "      <td>4.8</td>\n",
       "      <td>101.23</td>\n",
       "      <td>Fog</td>\n",
       "    </tr>\n",
       "  </tbody>\n",
       "</table>\n",
       "</div>"
      ],
      "text/plain": [
       "             Date/Time  Temp (C)  Dew Point Temp (C)  Rel Hum (%)  \\\n",
       "0  2012-01-01 00:00:00      -1.8                -3.9           86   \n",
       "1  2012-01-01 01:00:00      -1.8                -3.7           87   \n",
       "2  2012-01-01 02:00:00      -1.8                -3.4           89   \n",
       "3  2012-01-01 03:00:00      -1.5                -3.2           88   \n",
       "4  2012-01-01 04:00:00      -1.5                -3.3           88   \n",
       "\n",
       "   Wind Spd (km/h)  Visibility (km)  Stn Press (kPa)               Weather  \n",
       "0                4              8.0           101.24                   Fog  \n",
       "1                4              8.0           101.24                   Fog  \n",
       "2                7              4.0           101.26  Freezing Drizzle,Fog  \n",
       "3                6              4.0           101.27  Freezing Drizzle,Fog  \n",
       "4                7              4.8           101.23                   Fog  "
      ]
     },
     "execution_count": 9,
     "metadata": {},
     "output_type": "execute_result"
    }
   ],
   "source": [
    "weather_df.head( )"
   ]
  },
  {
   "cell_type": "markdown",
   "metadata": {
    "slideshow": {
     "slide_type": "subslide"
    }
   },
   "source": [
    "## `.index`\n",
    "***\n",
    "This attribute provides the `index` of the dataframe"
   ]
  },
  {
   "cell_type": "code",
   "execution_count": 10,
   "metadata": {
    "ExecuteTime": {
     "end_time": "2017-09-22T12:53:38.858279Z",
     "start_time": "2017-09-22T12:53:38.841642Z"
    },
    "slideshow": {
     "slide_type": "fragment"
    }
   },
   "outputs": [
    {
     "data": {
      "text/plain": [
       "RangeIndex(start=0, stop=8784, step=1)"
      ]
     },
     "execution_count": 10,
     "metadata": {},
     "output_type": "execute_result"
    }
   ],
   "source": [
    "weather_df.index"
   ]
  },
  {
   "cell_type": "markdown",
   "metadata": {
    "slideshow": {
     "slide_type": "subslide"
    }
   },
   "source": [
    "## `.unique()`\n",
    "***\n",
    "This method, which belongs to the `Series` object, can be useful when trying to identify unique values in a column"
   ]
  },
  {
   "cell_type": "code",
   "execution_count": 11,
   "metadata": {
    "ExecuteTime": {
     "end_time": "2017-09-22T12:54:51.722869Z",
     "start_time": "2017-09-22T12:54:51.701607Z"
    },
    "slideshow": {
     "slide_type": "fragment"
    }
   },
   "outputs": [
    {
     "data": {
      "text/plain": [
       "array(['Fog', 'Freezing Drizzle,Fog', 'Mostly Cloudy', 'Cloudy', 'Rain',\n",
       "       'Rain Showers', 'Mainly Clear', 'Snow Showers', 'Snow', 'Clear',\n",
       "       'Freezing Rain,Fog', 'Freezing Rain', 'Freezing Drizzle',\n",
       "       'Rain,Snow', 'Moderate Snow', 'Freezing Drizzle,Snow',\n",
       "       'Freezing Rain,Snow Grains', 'Snow,Blowing Snow', 'Freezing Fog',\n",
       "       'Haze', 'Rain,Fog', 'Drizzle,Fog', 'Drizzle',\n",
       "       'Freezing Drizzle,Haze', 'Freezing Rain,Haze', 'Snow,Haze',\n",
       "       'Snow,Fog', 'Snow,Ice Pellets', 'Rain,Haze', 'Thunderstorms,Rain',\n",
       "       'Thunderstorms,Rain Showers', 'Thunderstorms,Heavy Rain Showers',\n",
       "       'Thunderstorms,Rain Showers,Fog', 'Thunderstorms',\n",
       "       'Thunderstorms,Rain,Fog',\n",
       "       'Thunderstorms,Moderate Rain Showers,Fog', 'Rain Showers,Fog',\n",
       "       'Rain Showers,Snow Showers', 'Snow Pellets', 'Rain,Snow,Fog',\n",
       "       'Moderate Rain,Fog', 'Freezing Rain,Ice Pellets,Fog',\n",
       "       'Drizzle,Ice Pellets,Fog', 'Drizzle,Snow', 'Rain,Ice Pellets',\n",
       "       'Drizzle,Snow,Fog', 'Rain,Snow Grains', 'Rain,Snow,Ice Pellets',\n",
       "       'Snow Showers,Fog', 'Moderate Snow,Blowing Snow'], dtype=object)"
      ]
     },
     "execution_count": 11,
     "metadata": {},
     "output_type": "execute_result"
    }
   ],
   "source": [
    "weather_df['Weather'].unique()"
   ]
  },
  {
   "cell_type": "markdown",
   "metadata": {
    "ExecuteTime": {
     "end_time": "2017-09-22T12:41:32.876489Z",
     "start_time": "2017-09-22T12:41:32.860307Z"
    },
    "slideshow": {
     "slide_type": "subslide"
    }
   },
   "source": [
    "<div class=\"alert alert-block alert-info\">**Find all the unique Wind Speed values recorded in the dataset**</div>"
   ]
  },
  {
   "cell_type": "code",
   "execution_count": 12,
   "metadata": {
    "ExecuteTime": {
     "end_time": "2017-09-22T13:28:59.183183Z",
     "start_time": "2017-09-22T13:28:59.177614Z"
    },
    "slideshow": {
     "slide_type": "fragment"
    }
   },
   "outputs": [
    {
     "data": {
      "text/plain": [
       "array([ 4,  7,  6,  9, 15, 13, 20, 22, 19, 24, 30, 35, 39, 32, 33, 26, 44,\n",
       "       43, 48, 37, 28, 17, 11,  0, 83, 70, 57, 46, 41, 52, 50, 63, 54,  2],\n",
       "      dtype=int64)"
      ]
     },
     "execution_count": 12,
     "metadata": {},
     "output_type": "execute_result"
    }
   ],
   "source": [
    "# Code your solution here\n",
    "weather_df['Wind Spd (km/h)'].unique()"
   ]
  },
  {
   "cell_type": "markdown",
   "metadata": {
    "slideshow": {
     "slide_type": "subslide"
    }
   },
   "source": [
    "## `.nunique()`\n",
    "***\n",
    "This method, which belongs to the `Series` object, can be useful when trying to identify the number of unique values in a column"
   ]
  },
  {
   "cell_type": "code",
   "execution_count": 13,
   "metadata": {
    "ExecuteTime": {
     "end_time": "2017-09-22T12:40:02.074693Z",
     "start_time": "2017-09-22T12:40:02.056956Z"
    },
    "slideshow": {
     "slide_type": "fragment"
    }
   },
   "outputs": [
    {
     "data": {
      "text/plain": [
       "50"
      ]
     },
     "execution_count": 13,
     "metadata": {},
     "output_type": "execute_result"
    }
   ],
   "source": [
    "weather_df['Weather'].nunique()"
   ]
  },
  {
   "cell_type": "markdown",
   "metadata": {
    "slideshow": {
     "slide_type": "subslide"
    }
   },
   "source": [
    "## `.value_counts()`\n",
    "***\n",
    "This method, which belongs to the `Series` object, can be useful when trying to identify unique values and their counts in a column"
   ]
  },
  {
   "cell_type": "code",
   "execution_count": 30,
   "metadata": {
    "ExecuteTime": {
     "end_time": "2017-09-22T12:54:51.722869Z",
     "start_time": "2017-09-22T12:54:51.701607Z"
    },
    "slideshow": {
     "slide_type": "fragment"
    }
   },
   "outputs": [
    {
     "data": {
      "text/plain": [
       "Mainly Clear                               2106\n",
       "Mostly Cloudy                              2069\n",
       "Cloudy                                     1728\n",
       "Clear                                      1326\n",
       "Snow                                        390\n",
       "Rain                                        306\n",
       "Rain Showers                                188\n",
       "Fog                                         150\n",
       "Rain,Fog                                    116\n",
       "Drizzle,Fog                                  80\n",
       "Snow Showers                                 60\n",
       "Drizzle                                      41\n",
       "Snow,Fog                                     37\n",
       "Snow,Blowing Snow                            19\n",
       "Rain,Snow                                    18\n",
       "Haze                                         16\n",
       "Thunderstorms,Rain Showers                   16\n",
       "Drizzle,Snow,Fog                             15\n",
       "Freezing Rain                                14\n",
       "Freezing Drizzle,Snow                        11\n",
       "Freezing Drizzle                              7\n",
       "Snow,Ice Pellets                              6\n",
       "Freezing Drizzle,Fog                          6\n",
       "Snow,Haze                                     5\n",
       "Freezing Fog                                  4\n",
       "Moderate Snow                                 4\n",
       "Rain,Snow,Ice Pellets                         4\n",
       "Freezing Rain,Fog                             4\n",
       "Snow Showers,Fog                              4\n",
       "Thunderstorms,Rain                            3\n",
       "Thunderstorms,Rain Showers,Fog                3\n",
       "Rain,Haze                                     3\n",
       "Freezing Drizzle,Haze                         3\n",
       "Rain Showers,Snow Showers                     2\n",
       "Moderate Snow,Blowing Snow                    2\n",
       "Freezing Rain,Haze                            2\n",
       "Drizzle,Snow                                  2\n",
       "Thunderstorms                                 2\n",
       "Rain,Ice Pellets                              1\n",
       "Rain,Snow Grains                              1\n",
       "Thunderstorms,Heavy Rain Showers              1\n",
       "Rain,Snow,Fog                                 1\n",
       "Freezing Rain,Snow Grains                     1\n",
       "Moderate Rain,Fog                             1\n",
       "Drizzle,Ice Pellets,Fog                       1\n",
       "Thunderstorms,Moderate Rain Showers,Fog       1\n",
       "Thunderstorms,Rain,Fog                        1\n",
       "Freezing Rain,Ice Pellets,Fog                 1\n",
       "Rain Showers,Fog                              1\n",
       "Snow Pellets                                  1\n",
       "Name: Weather, dtype: int64"
      ]
     },
     "execution_count": 30,
     "metadata": {},
     "output_type": "execute_result"
    }
   ],
   "source": [
    "weather_df['Weather'].value_counts()\n"
   ]
  },
  {
   "cell_type": "markdown",
   "metadata": {
    "ExecuteTime": {
     "end_time": "2017-09-22T12:41:32.876489Z",
     "start_time": "2017-09-22T12:41:32.860307Z"
    },
    "slideshow": {
     "slide_type": "subslide"
    }
   },
   "source": [
    "<div class=\"alert alert-block alert-info\">**Find the number of times when the weather was exactly 'Clear'**</div>"
   ]
  },
  {
   "cell_type": "code",
   "execution_count": 31,
   "metadata": {
    "ExecuteTime": {
     "end_time": "2017-09-22T12:50:14.384725Z",
     "start_time": "2017-09-22T12:50:14.374665Z"
    },
    "slideshow": {
     "slide_type": "fragment"
    }
   },
   "outputs": [
    {
     "name": "stdout",
     "output_type": "stream",
     "text": [
      "Mainly Clear                               2106\n",
      "Mostly Cloudy                              2069\n",
      "Cloudy                                     1728\n",
      "Clear                                      1326\n",
      "Snow                                        390\n",
      "Rain                                        306\n",
      "Rain Showers                                188\n",
      "Fog                                         150\n",
      "Rain,Fog                                    116\n",
      "Drizzle,Fog                                  80\n",
      "Snow Showers                                 60\n",
      "Drizzle                                      41\n",
      "Snow,Fog                                     37\n",
      "Snow,Blowing Snow                            19\n",
      "Rain,Snow                                    18\n",
      "Haze                                         16\n",
      "Thunderstorms,Rain Showers                   16\n",
      "Drizzle,Snow,Fog                             15\n",
      "Freezing Rain                                14\n",
      "Freezing Drizzle,Snow                        11\n",
      "Freezing Drizzle                              7\n",
      "Snow,Ice Pellets                              6\n",
      "Freezing Drizzle,Fog                          6\n",
      "Snow,Haze                                     5\n",
      "Freezing Fog                                  4\n",
      "Moderate Snow                                 4\n",
      "Rain,Snow,Ice Pellets                         4\n",
      "Freezing Rain,Fog                             4\n",
      "Snow Showers,Fog                              4\n",
      "Thunderstorms,Rain                            3\n",
      "Thunderstorms,Rain Showers,Fog                3\n",
      "Rain,Haze                                     3\n",
      "Freezing Drizzle,Haze                         3\n",
      "Rain Showers,Snow Showers                     2\n",
      "Moderate Snow,Blowing Snow                    2\n",
      "Freezing Rain,Haze                            2\n",
      "Drizzle,Snow                                  2\n",
      "Thunderstorms                                 2\n",
      "Rain,Ice Pellets                              1\n",
      "Rain,Snow Grains                              1\n",
      "Thunderstorms,Heavy Rain Showers              1\n",
      "Rain,Snow,Fog                                 1\n",
      "Freezing Rain,Snow Grains                     1\n",
      "Moderate Rain,Fog                             1\n",
      "Drizzle,Ice Pellets,Fog                       1\n",
      "Thunderstorms,Moderate Rain Showers,Fog       1\n",
      "Thunderstorms,Rain,Fog                        1\n",
      "Freezing Rain,Ice Pellets,Fog                 1\n",
      "Rain Showers,Fog                              1\n",
      "Snow Pellets                                  1\n",
      "Name: Weather, dtype: int64\n"
     ]
    }
   ],
   "source": [
    "value_counts = weather_df['Weather'].value_counts()\n",
    "print(value_counts)\n",
    "\n",
    "# How can we get the count for Clear ?"
   ]
  },
  {
   "cell_type": "markdown",
   "metadata": {
    "ExecuteTime": {
     "end_time": "2017-09-22T12:41:32.876489Z",
     "start_time": "2017-09-22T12:41:32.860307Z"
    },
    "slideshow": {
     "slide_type": "subslide"
    }
   },
   "source": [
    "<div class=\"alert alert-block alert-info\">**Find the number of times when the wind speed was exactly 4 km/h**</div>"
   ]
  },
  {
   "cell_type": "code",
   "execution_count": 33,
   "metadata": {
    "ExecuteTime": {
     "end_time": "2017-09-22T13:28:59.183183Z",
     "start_time": "2017-09-22T13:28:59.177614Z"
    },
    "slideshow": {
     "slide_type": "fragment"
    }
   },
   "outputs": [
    {
     "data": {
      "text/plain": [
       "474"
      ]
     },
     "execution_count": 33,
     "metadata": {},
     "output_type": "execute_result"
    }
   ],
   "source": [
    "# Your solution here\n",
    "\n",
    "weather_df['Wind Spd (km/h)'].value_counts()[4]"
   ]
  },
  {
   "cell_type": "markdown",
   "metadata": {
    "slideshow": {
     "slide_type": "slide"
    }
   },
   "source": [
    "\n",
    "\n",
    "# Data Manipulation : Gets you desired results\n",
    "***\n",
    "The true power of the Pandas DataFrame is the ease and flexibility of manipulating data to get your desired results."
   ]
  },
  {
   "cell_type": "markdown",
   "metadata": {
    "slideshow": {
     "slide_type": "subslide"
    }
   },
   "source": [
    "## Selection (Part 1)\n",
    "***\n",
    "How do you select particular rows/columns from the DataFrame ?\n",
    "\n",
    "The DataFrame object supports indexing operations just like the Python `list` class and the Pandas Series object, but much more powerful."
   ]
  },
  {
   "cell_type": "markdown",
   "metadata": {
    "ExecuteTime": {
     "end_time": "2017-09-22T12:41:32.876489Z",
     "start_time": "2017-09-22T12:41:32.860307Z"
    },
    "slideshow": {
     "slide_type": "subslide"
    }
   },
   "source": [
    "<div class=\"alert alert-block alert-info\">**Get the Weather column in the `weather_df` dataframe**</div>"
   ]
  },
  {
   "cell_type": "code",
   "execution_count": 34,
   "metadata": {
    "ExecuteTime": {
     "end_time": "2017-09-23T06:49:35.103934Z",
     "start_time": "2017-09-23T06:49:35.091266Z"
    },
    "slideshow": {
     "slide_type": "fragment"
    }
   },
   "outputs": [
    {
     "name": "stdout",
     "output_type": "stream",
     "text": [
      "<class 'pandas.core.series.Series'>\n"
     ]
    }
   ],
   "source": [
    "col = weather_df['Weather' ]\n",
    "\n",
    "print((type(col)))\n",
    "# col.head()"
   ]
  },
  {
   "cell_type": "markdown",
   "metadata": {
    "ExecuteTime": {
     "end_time": "2017-09-22T12:41:32.876489Z",
     "start_time": "2017-09-22T12:41:32.860307Z"
    },
    "slideshow": {
     "slide_type": "subslide"
    }
   },
   "source": [
    "<div class=\"alert alert-block alert-info\">**Get the Weather and Temperature columns from the `weather_df` dataframe**</div>"
   ]
  },
  {
   "cell_type": "code",
   "execution_count": 35,
   "metadata": {
    "ExecuteTime": {
     "end_time": "2017-09-23T06:47:30.322888Z",
     "start_time": "2017-09-23T06:47:30.306861Z"
    },
    "slideshow": {
     "slide_type": "fragment"
    }
   },
   "outputs": [
    {
     "name": "stdout",
     "output_type": "stream",
     "text": [
      "<class 'pandas.core.frame.DataFrame'>\n"
     ]
    }
   ],
   "source": [
    "two_cols = weather_df[['Weather', 'Temp (C)']]\n",
    "\n",
    "print((type(two_cols)))\n",
    "# two_cols.head()"
   ]
  },
  {
   "cell_type": "markdown",
   "metadata": {
    "ExecuteTime": {
     "end_time": "2017-09-22T12:41:32.876489Z",
     "start_time": "2017-09-22T12:41:32.860307Z"
    },
    "slideshow": {
     "slide_type": "subslide"
    }
   },
   "source": [
    "<div class=\"alert alert-block alert-info\">**Get the first 25 rows from the `weather_df` dataframe**</div>\n",
    "***\n",
    "**Important**: This slicing would work even if the row index had non-numeric labels, because slicing works here the same way as a list"
   ]
  },
  {
   "cell_type": "code",
   "execution_count": 36,
   "metadata": {
    "ExecuteTime": {
     "end_time": "2017-09-23T06:51:32.341235Z",
     "start_time": "2017-09-23T06:51:32.290327Z"
    },
    "slideshow": {
     "slide_type": "fragment"
    }
   },
   "outputs": [
    {
     "data": {
      "text/html": [
       "<div>\n",
       "<style scoped>\n",
       "    .dataframe tbody tr th:only-of-type {\n",
       "        vertical-align: middle;\n",
       "    }\n",
       "\n",
       "    .dataframe tbody tr th {\n",
       "        vertical-align: top;\n",
       "    }\n",
       "\n",
       "    .dataframe thead th {\n",
       "        text-align: right;\n",
       "    }\n",
       "</style>\n",
       "<table border=\"1\" class=\"dataframe\">\n",
       "  <thead>\n",
       "    <tr style=\"text-align: right;\">\n",
       "      <th></th>\n",
       "      <th>Date/Time</th>\n",
       "      <th>Temp (C)</th>\n",
       "      <th>Dew Point Temp (C)</th>\n",
       "      <th>Rel Hum (%)</th>\n",
       "      <th>Wind Spd (km/h)</th>\n",
       "      <th>Visibility (km)</th>\n",
       "      <th>Stn Press (kPa)</th>\n",
       "      <th>Weather</th>\n",
       "    </tr>\n",
       "  </thead>\n",
       "  <tbody>\n",
       "    <tr>\n",
       "      <th>0</th>\n",
       "      <td>2012-01-01 00:00:00</td>\n",
       "      <td>-1.8</td>\n",
       "      <td>-3.9</td>\n",
       "      <td>86</td>\n",
       "      <td>4</td>\n",
       "      <td>8.0</td>\n",
       "      <td>101.24</td>\n",
       "      <td>Fog</td>\n",
       "    </tr>\n",
       "    <tr>\n",
       "      <th>1</th>\n",
       "      <td>2012-01-01 01:00:00</td>\n",
       "      <td>-1.8</td>\n",
       "      <td>-3.7</td>\n",
       "      <td>87</td>\n",
       "      <td>4</td>\n",
       "      <td>8.0</td>\n",
       "      <td>101.24</td>\n",
       "      <td>Fog</td>\n",
       "    </tr>\n",
       "    <tr>\n",
       "      <th>2</th>\n",
       "      <td>2012-01-01 02:00:00</td>\n",
       "      <td>-1.8</td>\n",
       "      <td>-3.4</td>\n",
       "      <td>89</td>\n",
       "      <td>7</td>\n",
       "      <td>4.0</td>\n",
       "      <td>101.26</td>\n",
       "      <td>Freezing Drizzle,Fog</td>\n",
       "    </tr>\n",
       "    <tr>\n",
       "      <th>3</th>\n",
       "      <td>2012-01-01 03:00:00</td>\n",
       "      <td>-1.5</td>\n",
       "      <td>-3.2</td>\n",
       "      <td>88</td>\n",
       "      <td>6</td>\n",
       "      <td>4.0</td>\n",
       "      <td>101.27</td>\n",
       "      <td>Freezing Drizzle,Fog</td>\n",
       "    </tr>\n",
       "    <tr>\n",
       "      <th>4</th>\n",
       "      <td>2012-01-01 04:00:00</td>\n",
       "      <td>-1.5</td>\n",
       "      <td>-3.3</td>\n",
       "      <td>88</td>\n",
       "      <td>7</td>\n",
       "      <td>4.8</td>\n",
       "      <td>101.23</td>\n",
       "      <td>Fog</td>\n",
       "    </tr>\n",
       "  </tbody>\n",
       "</table>\n",
       "</div>"
      ],
      "text/plain": [
       "             Date/Time  Temp (C)  Dew Point Temp (C)  Rel Hum (%)  \\\n",
       "0  2012-01-01 00:00:00      -1.8                -3.9           86   \n",
       "1  2012-01-01 01:00:00      -1.8                -3.7           87   \n",
       "2  2012-01-01 02:00:00      -1.8                -3.4           89   \n",
       "3  2012-01-01 03:00:00      -1.5                -3.2           88   \n",
       "4  2012-01-01 04:00:00      -1.5                -3.3           88   \n",
       "\n",
       "   Wind Spd (km/h)  Visibility (km)  Stn Press (kPa)               Weather  \n",
       "0                4              8.0           101.24                   Fog  \n",
       "1                4              8.0           101.24                   Fog  \n",
       "2                7              4.0           101.26  Freezing Drizzle,Fog  \n",
       "3                6              4.0           101.27  Freezing Drizzle,Fog  \n",
       "4                7              4.8           101.23                   Fog  "
      ]
     },
     "execution_count": 36,
     "metadata": {},
     "output_type": "execute_result"
    }
   ],
   "source": [
    "weather_df[:25].head()"
   ]
  },
  {
   "cell_type": "markdown",
   "metadata": {
    "ExecuteTime": {
     "end_time": "2017-09-22T12:41:32.876489Z",
     "start_time": "2017-09-22T12:41:32.860307Z"
    },
    "slideshow": {
     "slide_type": "subslide"
    }
   },
   "source": [
    "<div class=\"alert alert-block alert-info\">**Get the first 3 alternating rows from the `weather_df` dataframe, but only the Visibility and Relative Humidity columns**</div>"
   ]
  },
  {
   "cell_type": "code",
   "execution_count": 37,
   "metadata": {
    "slideshow": {
     "slide_type": "fragment"
    }
   },
   "outputs": [
    {
     "data": {
      "text/html": [
       "<div>\n",
       "<style scoped>\n",
       "    .dataframe tbody tr th:only-of-type {\n",
       "        vertical-align: middle;\n",
       "    }\n",
       "\n",
       "    .dataframe tbody tr th {\n",
       "        vertical-align: top;\n",
       "    }\n",
       "\n",
       "    .dataframe thead th {\n",
       "        text-align: right;\n",
       "    }\n",
       "</style>\n",
       "<table border=\"1\" class=\"dataframe\">\n",
       "  <thead>\n",
       "    <tr style=\"text-align: right;\">\n",
       "      <th></th>\n",
       "      <th>Rel Hum (%)</th>\n",
       "      <th>Visibility (km)</th>\n",
       "    </tr>\n",
       "  </thead>\n",
       "  <tbody>\n",
       "    <tr>\n",
       "      <th>0</th>\n",
       "      <td>True</td>\n",
       "      <td>True</td>\n",
       "    </tr>\n",
       "    <tr>\n",
       "      <th>2</th>\n",
       "      <td>True</td>\n",
       "      <td>True</td>\n",
       "    </tr>\n",
       "    <tr>\n",
       "      <th>4</th>\n",
       "      <td>True</td>\n",
       "      <td>True</td>\n",
       "    </tr>\n",
       "  </tbody>\n",
       "</table>\n",
       "</div>"
      ],
      "text/plain": [
       "   Rel Hum (%)  Visibility (km)\n",
       "0         True             True\n",
       "2         True             True\n",
       "4         True             True"
      ]
     },
     "execution_count": 37,
     "metadata": {},
     "output_type": "execute_result"
    }
   ],
   "source": [
    "# solution 1\n",
    "result1 = weather_df[:6:2][['Rel Hum (%)', 'Visibility (km)']]\n",
    "\n",
    "# solution 2\n",
    "result2 = weather_df[['Rel Hum (%)', 'Visibility (km)']][:6:2]\n",
    "\n",
    "# are they the same?\n",
    "result1 == result2"
   ]
  },
  {
   "cell_type": "markdown",
   "metadata": {
    "ExecuteTime": {
     "end_time": "2017-09-22T12:41:32.876489Z",
     "start_time": "2017-09-22T12:41:32.860307Z"
    },
    "slideshow": {
     "slide_type": "fragment"
    }
   },
   "source": [
    "#### So which of the two solutions should you use?"
   ]
  },
  {
   "cell_type": "markdown",
   "metadata": {
    "slideshow": {
     "slide_type": "subslide"
    }
   },
   "source": [
    "**Answer**: Neither. Because we're indexing more than once (Chained Indexing)\n",
    "\n",
    "Let's analyse (break down) one of the above solutions."
   ]
  },
  {
   "cell_type": "code",
   "execution_count": 38,
   "metadata": {
    "slideshow": {
     "slide_type": "fragment"
    }
   },
   "outputs": [],
   "source": [
    "# first indexing\n",
    "df1 = weather_df[:6:2]\n",
    "\n",
    "# second indexing\n",
    "df2 = df1[['Rel Hum (%)', 'Visibility (km)']]"
   ]
  },
  {
   "cell_type": "markdown",
   "metadata": {
    "ExecuteTime": {
     "end_time": "2017-09-22T12:41:32.876489Z",
     "start_time": "2017-09-22T12:41:32.860307Z"
    },
    "slideshow": {
     "slide_type": "fragment"
    }
   },
   "source": [
    "While both results are correct in this **read-only** case, chained indexing may give unpredictable behaviours when **writing** to a dataframe.\n",
    "\n",
    "This is because indexing could either return a \"view\" (of slices of the dataframe), or a copy of the dataframe."
   ]
  },
  {
   "cell_type": "markdown",
   "metadata": {
    "ExecuteTime": {
     "end_time": "2017-09-22T12:41:32.876489Z",
     "start_time": "2017-09-22T12:41:32.860307Z"
    },
    "slideshow": {
     "slide_type": "subslide"
    }
   },
   "source": [
    "## Selection (Part 2)\n",
    "***\n",
    "Pandas provides a powerful way to work with both rows and columns together, optionally using their label indices or numeric indices.\n",
    "\n",
    "- **`.loc :`**<br/>\n",
    "Purely label-location based indexer for selection by label (but may also be used with a boolean array).<br/>\n",
    "**Important: If you use slicing in loc, it will return the end index as well**\n",
    "<br/><br/>\n",
    "\n",
    "- **`.iloc:`**<br/>\n",
    "Purely integer-location based indexing for selection by position (but may also be used with a boolean array)."
   ]
  },
  {
   "cell_type": "markdown",
   "metadata": {
    "ExecuteTime": {
     "end_time": "2017-09-22T12:41:32.876489Z",
     "start_time": "2017-09-22T12:41:32.860307Z"
    },
    "slideshow": {
     "slide_type": "subslide"
    }
   },
   "source": [
    "<div class=\"alert alert-block alert-info\">**Get the first 3 alternating rows from the `weather_df` dataframe, but only the Visibility and Relative Humidity columns**</div>"
   ]
  },
  {
   "cell_type": "code",
   "execution_count": 21,
   "metadata": {
    "slideshow": {
     "slide_type": "fragment"
    }
   },
   "outputs": [
    {
     "data": {
      "text/html": [
       "<div>\n",
       "<style scoped>\n",
       "    .dataframe tbody tr th:only-of-type {\n",
       "        vertical-align: middle;\n",
       "    }\n",
       "\n",
       "    .dataframe tbody tr th {\n",
       "        vertical-align: top;\n",
       "    }\n",
       "\n",
       "    .dataframe thead th {\n",
       "        text-align: right;\n",
       "    }\n",
       "</style>\n",
       "<table border=\"1\" class=\"dataframe\">\n",
       "  <thead>\n",
       "    <tr style=\"text-align: right;\">\n",
       "      <th></th>\n",
       "      <th>Rel Hum (%)</th>\n",
       "      <th>Visibility (km)</th>\n",
       "    </tr>\n",
       "  </thead>\n",
       "  <tbody>\n",
       "    <tr>\n",
       "      <th>0</th>\n",
       "      <td>86</td>\n",
       "      <td>8.0</td>\n",
       "    </tr>\n",
       "    <tr>\n",
       "      <th>2</th>\n",
       "      <td>89</td>\n",
       "      <td>4.0</td>\n",
       "    </tr>\n",
       "    <tr>\n",
       "      <th>4</th>\n",
       "      <td>88</td>\n",
       "      <td>4.8</td>\n",
       "    </tr>\n",
       "  </tbody>\n",
       "</table>\n",
       "</div>"
      ],
      "text/plain": [
       "   Rel Hum (%)  Visibility (km)\n",
       "0           86              8.0\n",
       "2           89              4.0\n",
       "4           88              4.8"
      ]
     },
     "execution_count": 21,
     "metadata": {},
     "output_type": "execute_result"
    }
   ],
   "source": [
    "# Using loc\n",
    "# NOTE: slice is `:5:2`, not 6 !\n",
    "weather_df.loc[:5:2, ['Rel Hum (%)', 'Visibility (km)']]"
   ]
  },
  {
   "cell_type": "code",
   "execution_count": 22,
   "metadata": {
    "slideshow": {
     "slide_type": "fragment"
    }
   },
   "outputs": [
    {
     "data": {
      "text/html": [
       "<div>\n",
       "<style scoped>\n",
       "    .dataframe tbody tr th:only-of-type {\n",
       "        vertical-align: middle;\n",
       "    }\n",
       "\n",
       "    .dataframe tbody tr th {\n",
       "        vertical-align: top;\n",
       "    }\n",
       "\n",
       "    .dataframe thead th {\n",
       "        text-align: right;\n",
       "    }\n",
       "</style>\n",
       "<table border=\"1\" class=\"dataframe\">\n",
       "  <thead>\n",
       "    <tr style=\"text-align: right;\">\n",
       "      <th></th>\n",
       "      <th>Rel Hum (%)</th>\n",
       "      <th>Visibility (km)</th>\n",
       "    </tr>\n",
       "  </thead>\n",
       "  <tbody>\n",
       "    <tr>\n",
       "      <th>0</th>\n",
       "      <td>86</td>\n",
       "      <td>8.0</td>\n",
       "    </tr>\n",
       "    <tr>\n",
       "      <th>2</th>\n",
       "      <td>89</td>\n",
       "      <td>4.0</td>\n",
       "    </tr>\n",
       "    <tr>\n",
       "      <th>4</th>\n",
       "      <td>88</td>\n",
       "      <td>4.8</td>\n",
       "    </tr>\n",
       "  </tbody>\n",
       "</table>\n",
       "</div>"
      ],
      "text/plain": [
       "   Rel Hum (%)  Visibility (km)\n",
       "0           86              8.0\n",
       "2           89              4.0\n",
       "4           88              4.8"
      ]
     },
     "execution_count": 22,
     "metadata": {},
     "output_type": "execute_result"
    }
   ],
   "source": [
    "# Using iloc\n",
    "weather_df.iloc[:6:2, [3,5]]"
   ]
  },
  {
   "cell_type": "markdown",
   "metadata": {
    "slideshow": {
     "slide_type": "slide"
    }
   },
   "source": [
    "### Upgrading the Weather DataFrame\n",
    "***\n",
    "We've been working with the weather dataframe with integer row indices. But the data is essentially time-series data. Can we do better?"
   ]
  },
  {
   "cell_type": "code",
   "execution_count": 14,
   "metadata": {
    "slideshow": {
     "slide_type": "fragment"
    }
   },
   "outputs": [
    {
     "data": {
      "text/html": [
       "<div>\n",
       "<style scoped>\n",
       "    .dataframe tbody tr th:only-of-type {\n",
       "        vertical-align: middle;\n",
       "    }\n",
       "\n",
       "    .dataframe tbody tr th {\n",
       "        vertical-align: top;\n",
       "    }\n",
       "\n",
       "    .dataframe thead th {\n",
       "        text-align: right;\n",
       "    }\n",
       "</style>\n",
       "<table border=\"1\" class=\"dataframe\">\n",
       "  <thead>\n",
       "    <tr style=\"text-align: right;\">\n",
       "      <th></th>\n",
       "      <th>Temp (C)</th>\n",
       "      <th>Dew Point Temp (C)</th>\n",
       "      <th>Rel Hum (%)</th>\n",
       "      <th>Wind Spd (km/h)</th>\n",
       "      <th>Visibility (km)</th>\n",
       "      <th>Stn Press (kPa)</th>\n",
       "      <th>Weather</th>\n",
       "    </tr>\n",
       "    <tr>\n",
       "      <th>Date/Time</th>\n",
       "      <th></th>\n",
       "      <th></th>\n",
       "      <th></th>\n",
       "      <th></th>\n",
       "      <th></th>\n",
       "      <th></th>\n",
       "      <th></th>\n",
       "    </tr>\n",
       "  </thead>\n",
       "  <tbody>\n",
       "    <tr>\n",
       "      <th>2012-01-01 00:00:00</th>\n",
       "      <td>-1.8</td>\n",
       "      <td>-3.9</td>\n",
       "      <td>86</td>\n",
       "      <td>4</td>\n",
       "      <td>8.0</td>\n",
       "      <td>101.24</td>\n",
       "      <td>Fog</td>\n",
       "    </tr>\n",
       "    <tr>\n",
       "      <th>2012-01-01 01:00:00</th>\n",
       "      <td>-1.8</td>\n",
       "      <td>-3.7</td>\n",
       "      <td>87</td>\n",
       "      <td>4</td>\n",
       "      <td>8.0</td>\n",
       "      <td>101.24</td>\n",
       "      <td>Fog</td>\n",
       "    </tr>\n",
       "    <tr>\n",
       "      <th>2012-01-01 02:00:00</th>\n",
       "      <td>-1.8</td>\n",
       "      <td>-3.4</td>\n",
       "      <td>89</td>\n",
       "      <td>7</td>\n",
       "      <td>4.0</td>\n",
       "      <td>101.26</td>\n",
       "      <td>Freezing Drizzle,Fog</td>\n",
       "    </tr>\n",
       "    <tr>\n",
       "      <th>2012-01-01 03:00:00</th>\n",
       "      <td>-1.5</td>\n",
       "      <td>-3.2</td>\n",
       "      <td>88</td>\n",
       "      <td>6</td>\n",
       "      <td>4.0</td>\n",
       "      <td>101.27</td>\n",
       "      <td>Freezing Drizzle,Fog</td>\n",
       "    </tr>\n",
       "    <tr>\n",
       "      <th>2012-01-01 04:00:00</th>\n",
       "      <td>-1.5</td>\n",
       "      <td>-3.3</td>\n",
       "      <td>88</td>\n",
       "      <td>7</td>\n",
       "      <td>4.8</td>\n",
       "      <td>101.23</td>\n",
       "      <td>Fog</td>\n",
       "    </tr>\n",
       "  </tbody>\n",
       "</table>\n",
       "</div>"
      ],
      "text/plain": [
       "                     Temp (C)  Dew Point Temp (C)  Rel Hum (%)  \\\n",
       "Date/Time                                                        \n",
       "2012-01-01 00:00:00      -1.8                -3.9           86   \n",
       "2012-01-01 01:00:00      -1.8                -3.7           87   \n",
       "2012-01-01 02:00:00      -1.8                -3.4           89   \n",
       "2012-01-01 03:00:00      -1.5                -3.2           88   \n",
       "2012-01-01 04:00:00      -1.5                -3.3           88   \n",
       "\n",
       "                     Wind Spd (km/h)  Visibility (km)  Stn Press (kPa)  \\\n",
       "Date/Time                                                                \n",
       "2012-01-01 00:00:00                4              8.0           101.24   \n",
       "2012-01-01 01:00:00                4              8.0           101.24   \n",
       "2012-01-01 02:00:00                7              4.0           101.26   \n",
       "2012-01-01 03:00:00                6              4.0           101.27   \n",
       "2012-01-01 04:00:00                7              4.8           101.23   \n",
       "\n",
       "                                  Weather  \n",
       "Date/Time                                  \n",
       "2012-01-01 00:00:00                   Fog  \n",
       "2012-01-01 01:00:00                   Fog  \n",
       "2012-01-01 02:00:00  Freezing Drizzle,Fog  \n",
       "2012-01-01 03:00:00  Freezing Drizzle,Fog  \n",
       "2012-01-01 04:00:00                   Fog  "
      ]
     },
     "execution_count": 14,
     "metadata": {},
     "output_type": "execute_result"
    }
   ],
   "source": [
    "weather_df2 = pd.read_csv('D:\\DATA SCIENCE\\python\\DataScience\\python al docs\\Slack_Docs\\CSVs Data Set/weather_2012.csv', parse_dates=True, index_col='Date/Time')\n",
    "weather_df2.head()"
   ]
  },
  {
   "cell_type": "code",
   "execution_count": 15,
   "metadata": {
    "slideshow": {
     "slide_type": "subslide"
    }
   },
   "outputs": [
    {
     "name": "stdout",
     "output_type": "stream",
     "text": [
      "<class 'pandas.core.frame.DataFrame'>\n",
      "DatetimeIndex: 8784 entries, 2012-01-01 00:00:00 to 2012-12-31 23:00:00\n",
      "Data columns (total 7 columns):\n",
      "Temp (C)              8784 non-null float64\n",
      "Dew Point Temp (C)    8784 non-null float64\n",
      "Rel Hum (%)           8784 non-null int64\n",
      "Wind Spd (km/h)       8784 non-null int64\n",
      "Visibility (km)       8784 non-null float64\n",
      "Stn Press (kPa)       8784 non-null float64\n",
      "Weather               8784 non-null object\n",
      "dtypes: float64(4), int64(2), object(1)\n",
      "memory usage: 514.7+ KB\n"
     ]
    }
   ],
   "source": [
    "weather_df2 = pd.read_csv('D:\\DATA SCIENCE\\python\\DataScience\\python al docs\\Slack_Docs\\CSVs Data Set/weather_2012.csv', parse_dates=True, index_col='Date/Time')\n",
    "weather_df2.info()"
   ]
  },
  {
   "cell_type": "markdown",
   "metadata": {
    "ExecuteTime": {
     "end_time": "2017-09-22T12:41:32.876489Z",
     "start_time": "2017-09-22T12:41:32.860307Z"
    },
    "slideshow": {
     "slide_type": "subslide"
    }
   },
   "source": [
    "### What were the first 5 pressure values recorded on Jan 6 ?"
   ]
  },
  {
   "cell_type": "code",
   "execution_count": 16,
   "metadata": {
    "slideshow": {
     "slide_type": "fragment"
    }
   },
   "outputs": [
    {
     "data": {
      "text/plain": [
       "Date/Time\n",
       "2012-01-06 00:00:00    100.81\n",
       "2012-01-06 01:00:00    100.81\n",
       "2012-01-06 02:00:00    100.84\n",
       "2012-01-06 03:00:00    100.76\n",
       "2012-01-06 04:00:00    100.70\n",
       "Name: Stn Press (kPa), dtype: float64"
      ]
     },
     "execution_count": 16,
     "metadata": {},
     "output_type": "execute_result"
    }
   ],
   "source": [
    "weather_df2.loc['2012-01-06', 'Stn Press (kPa)'][:5]"
   ]
  },
  {
   "cell_type": "markdown",
   "metadata": {
    "slideshow": {
     "slide_type": "slide"
    }
   },
   "source": [
    "\n",
    "\n",
    "## Filtering\n",
    "***\n",
    "\n",
    "Anything that takes in data, processes it, and provides an output\n",
    "\n",
    "Input Data ⟶ Filter ⟶ Output Data"
   ]
  },
  {
   "cell_type": "markdown",
   "metadata": {
    "ExecuteTime": {
     "end_time": "2017-09-22T12:41:32.876489Z",
     "start_time": "2017-09-22T12:41:32.860307Z"
    },
    "slideshow": {
     "slide_type": "subslide"
    }
   },
   "source": [
    "### Find all instances when snow was recorded\n",
    "***\n",
    "Whether or not it snowed can be found out using the Weather column"
   ]
  },
  {
   "cell_type": "code",
   "execution_count": 45,
   "metadata": {
    "slideshow": {
     "slide_type": "fragment"
    }
   },
   "outputs": [
    {
     "data": {
      "text/plain": [
       "array(['Fog', 'Freezing Drizzle,Fog', 'Mostly Cloudy', 'Cloudy', 'Rain',\n",
       "       'Rain Showers', 'Mainly Clear', 'Snow Showers', 'Snow', 'Clear',\n",
       "       'Freezing Rain,Fog', 'Freezing Rain', 'Freezing Drizzle',\n",
       "       'Rain,Snow', 'Moderate Snow', 'Freezing Drizzle,Snow',\n",
       "       'Freezing Rain,Snow Grains', 'Snow,Blowing Snow', 'Freezing Fog',\n",
       "       'Haze', 'Rain,Fog', 'Drizzle,Fog', 'Drizzle',\n",
       "       'Freezing Drizzle,Haze', 'Freezing Rain,Haze', 'Snow,Haze',\n",
       "       'Snow,Fog', 'Snow,Ice Pellets', 'Rain,Haze', 'Thunderstorms,Rain',\n",
       "       'Thunderstorms,Rain Showers', 'Thunderstorms,Heavy Rain Showers',\n",
       "       'Thunderstorms,Rain Showers,Fog', 'Thunderstorms',\n",
       "       'Thunderstorms,Rain,Fog',\n",
       "       'Thunderstorms,Moderate Rain Showers,Fog', 'Rain Showers,Fog',\n",
       "       'Rain Showers,Snow Showers', 'Snow Pellets', 'Rain,Snow,Fog',\n",
       "       'Moderate Rain,Fog', 'Freezing Rain,Ice Pellets,Fog',\n",
       "       'Drizzle,Ice Pellets,Fog', 'Drizzle,Snow', 'Rain,Ice Pellets',\n",
       "       'Drizzle,Snow,Fog', 'Rain,Snow Grains', 'Rain,Snow,Ice Pellets',\n",
       "       'Snow Showers,Fog', 'Moderate Snow,Blowing Snow'], dtype=object)"
      ]
     },
     "execution_count": 45,
     "metadata": {},
     "output_type": "execute_result"
    }
   ],
   "source": [
    "weather_df2['Weather'].unique()"
   ]
  },
  {
   "cell_type": "code",
   "execution_count": 17,
   "metadata": {
    "slideshow": {
     "slide_type": "subslide"
    }
   },
   "outputs": [
    {
     "data": {
      "text/html": [
       "<div>\n",
       "<style scoped>\n",
       "    .dataframe tbody tr th:only-of-type {\n",
       "        vertical-align: middle;\n",
       "    }\n",
       "\n",
       "    .dataframe tbody tr th {\n",
       "        vertical-align: top;\n",
       "    }\n",
       "\n",
       "    .dataframe thead th {\n",
       "        text-align: right;\n",
       "    }\n",
       "</style>\n",
       "<table border=\"1\" class=\"dataframe\">\n",
       "  <thead>\n",
       "    <tr style=\"text-align: right;\">\n",
       "      <th></th>\n",
       "      <th>Temp (C)</th>\n",
       "      <th>Dew Point Temp (C)</th>\n",
       "      <th>Rel Hum (%)</th>\n",
       "      <th>Wind Spd (km/h)</th>\n",
       "      <th>Visibility (km)</th>\n",
       "      <th>Stn Press (kPa)</th>\n",
       "      <th>Weather</th>\n",
       "    </tr>\n",
       "    <tr>\n",
       "      <th>Date/Time</th>\n",
       "      <th></th>\n",
       "      <th></th>\n",
       "      <th></th>\n",
       "      <th></th>\n",
       "      <th></th>\n",
       "      <th></th>\n",
       "      <th></th>\n",
       "    </tr>\n",
       "  </thead>\n",
       "  <tbody>\n",
       "    <tr>\n",
       "      <th>2012-01-02 17:00:00</th>\n",
       "      <td>-2.1</td>\n",
       "      <td>-9.5</td>\n",
       "      <td>57</td>\n",
       "      <td>22</td>\n",
       "      <td>25.0</td>\n",
       "      <td>99.66</td>\n",
       "      <td>Snow Showers</td>\n",
       "    </tr>\n",
       "    <tr>\n",
       "      <th>2012-01-02 20:00:00</th>\n",
       "      <td>-5.6</td>\n",
       "      <td>-13.4</td>\n",
       "      <td>54</td>\n",
       "      <td>24</td>\n",
       "      <td>25.0</td>\n",
       "      <td>100.07</td>\n",
       "      <td>Snow Showers</td>\n",
       "    </tr>\n",
       "    <tr>\n",
       "      <th>2012-01-02 21:00:00</th>\n",
       "      <td>-5.8</td>\n",
       "      <td>-12.8</td>\n",
       "      <td>58</td>\n",
       "      <td>26</td>\n",
       "      <td>25.0</td>\n",
       "      <td>100.15</td>\n",
       "      <td>Snow Showers</td>\n",
       "    </tr>\n",
       "    <tr>\n",
       "      <th>2012-01-02 23:00:00</th>\n",
       "      <td>-7.4</td>\n",
       "      <td>-14.1</td>\n",
       "      <td>59</td>\n",
       "      <td>17</td>\n",
       "      <td>19.3</td>\n",
       "      <td>100.27</td>\n",
       "      <td>Snow Showers</td>\n",
       "    </tr>\n",
       "    <tr>\n",
       "      <th>2012-01-03 00:00:00</th>\n",
       "      <td>-9.0</td>\n",
       "      <td>-16.0</td>\n",
       "      <td>57</td>\n",
       "      <td>28</td>\n",
       "      <td>25.0</td>\n",
       "      <td>100.35</td>\n",
       "      <td>Snow Showers</td>\n",
       "    </tr>\n",
       "    <tr>\n",
       "      <th>2012-01-03 02:00:00</th>\n",
       "      <td>-10.5</td>\n",
       "      <td>-15.8</td>\n",
       "      <td>65</td>\n",
       "      <td>22</td>\n",
       "      <td>12.9</td>\n",
       "      <td>100.53</td>\n",
       "      <td>Snow Showers</td>\n",
       "    </tr>\n",
       "    <tr>\n",
       "      <th>2012-01-03 03:00:00</th>\n",
       "      <td>-11.3</td>\n",
       "      <td>-18.7</td>\n",
       "      <td>54</td>\n",
       "      <td>33</td>\n",
       "      <td>25.0</td>\n",
       "      <td>100.61</td>\n",
       "      <td>Snow Showers</td>\n",
       "    </tr>\n",
       "    <tr>\n",
       "      <th>2012-01-03 05:00:00</th>\n",
       "      <td>-12.9</td>\n",
       "      <td>-19.1</td>\n",
       "      <td>60</td>\n",
       "      <td>22</td>\n",
       "      <td>25.0</td>\n",
       "      <td>100.76</td>\n",
       "      <td>Snow Showers</td>\n",
       "    </tr>\n",
       "    <tr>\n",
       "      <th>2012-01-03 06:00:00</th>\n",
       "      <td>-13.3</td>\n",
       "      <td>-19.3</td>\n",
       "      <td>61</td>\n",
       "      <td>19</td>\n",
       "      <td>25.0</td>\n",
       "      <td>100.85</td>\n",
       "      <td>Snow Showers</td>\n",
       "    </tr>\n",
       "    <tr>\n",
       "      <th>2012-01-03 07:00:00</th>\n",
       "      <td>-14.0</td>\n",
       "      <td>-19.5</td>\n",
       "      <td>63</td>\n",
       "      <td>19</td>\n",
       "      <td>25.0</td>\n",
       "      <td>100.95</td>\n",
       "      <td>Snow</td>\n",
       "    </tr>\n",
       "    <tr>\n",
       "      <th>2012-01-04 12:00:00</th>\n",
       "      <td>-13.7</td>\n",
       "      <td>-21.7</td>\n",
       "      <td>51</td>\n",
       "      <td>11</td>\n",
       "      <td>24.1</td>\n",
       "      <td>101.25</td>\n",
       "      <td>Snow</td>\n",
       "    </tr>\n",
       "    <tr>\n",
       "      <th>2012-01-04 14:00:00</th>\n",
       "      <td>-11.3</td>\n",
       "      <td>-19.0</td>\n",
       "      <td>53</td>\n",
       "      <td>7</td>\n",
       "      <td>19.3</td>\n",
       "      <td>100.97</td>\n",
       "      <td>Snow</td>\n",
       "    </tr>\n",
       "    <tr>\n",
       "      <th>2012-01-04 15:00:00</th>\n",
       "      <td>-10.2</td>\n",
       "      <td>-16.3</td>\n",
       "      <td>61</td>\n",
       "      <td>11</td>\n",
       "      <td>9.7</td>\n",
       "      <td>100.89</td>\n",
       "      <td>Snow</td>\n",
       "    </tr>\n",
       "    <tr>\n",
       "      <th>2012-01-04 16:00:00</th>\n",
       "      <td>-9.4</td>\n",
       "      <td>-15.5</td>\n",
       "      <td>61</td>\n",
       "      <td>13</td>\n",
       "      <td>19.3</td>\n",
       "      <td>100.79</td>\n",
       "      <td>Snow</td>\n",
       "    </tr>\n",
       "    <tr>\n",
       "      <th>2012-01-04 17:00:00</th>\n",
       "      <td>-8.9</td>\n",
       "      <td>-13.2</td>\n",
       "      <td>71</td>\n",
       "      <td>9</td>\n",
       "      <td>4.8</td>\n",
       "      <td>100.76</td>\n",
       "      <td>Snow</td>\n",
       "    </tr>\n",
       "    <tr>\n",
       "      <th>2012-01-04 18:00:00</th>\n",
       "      <td>-8.9</td>\n",
       "      <td>-12.6</td>\n",
       "      <td>75</td>\n",
       "      <td>11</td>\n",
       "      <td>9.7</td>\n",
       "      <td>100.69</td>\n",
       "      <td>Snow</td>\n",
       "    </tr>\n",
       "    <tr>\n",
       "      <th>2012-01-04 19:00:00</th>\n",
       "      <td>-8.4</td>\n",
       "      <td>-12.7</td>\n",
       "      <td>71</td>\n",
       "      <td>9</td>\n",
       "      <td>16.1</td>\n",
       "      <td>100.65</td>\n",
       "      <td>Snow</td>\n",
       "    </tr>\n",
       "    <tr>\n",
       "      <th>2012-01-04 20:00:00</th>\n",
       "      <td>-7.8</td>\n",
       "      <td>-12.1</td>\n",
       "      <td>71</td>\n",
       "      <td>9</td>\n",
       "      <td>16.1</td>\n",
       "      <td>100.61</td>\n",
       "      <td>Snow</td>\n",
       "    </tr>\n",
       "    <tr>\n",
       "      <th>2012-01-04 21:00:00</th>\n",
       "      <td>-7.6</td>\n",
       "      <td>-11.6</td>\n",
       "      <td>73</td>\n",
       "      <td>7</td>\n",
       "      <td>11.3</td>\n",
       "      <td>100.54</td>\n",
       "      <td>Snow</td>\n",
       "    </tr>\n",
       "    <tr>\n",
       "      <th>2012-01-04 22:00:00</th>\n",
       "      <td>-9.5</td>\n",
       "      <td>-12.7</td>\n",
       "      <td>77</td>\n",
       "      <td>6</td>\n",
       "      <td>9.7</td>\n",
       "      <td>100.50</td>\n",
       "      <td>Snow</td>\n",
       "    </tr>\n",
       "    <tr>\n",
       "      <th>2012-01-04 23:00:00</th>\n",
       "      <td>-9.6</td>\n",
       "      <td>-12.6</td>\n",
       "      <td>79</td>\n",
       "      <td>6</td>\n",
       "      <td>9.7</td>\n",
       "      <td>100.42</td>\n",
       "      <td>Snow</td>\n",
       "    </tr>\n",
       "    <tr>\n",
       "      <th>2012-01-05 00:00:00</th>\n",
       "      <td>-8.8</td>\n",
       "      <td>-11.7</td>\n",
       "      <td>79</td>\n",
       "      <td>4</td>\n",
       "      <td>9.7</td>\n",
       "      <td>100.32</td>\n",
       "      <td>Snow</td>\n",
       "    </tr>\n",
       "    <tr>\n",
       "      <th>2012-01-05 01:00:00</th>\n",
       "      <td>-7.5</td>\n",
       "      <td>-10.2</td>\n",
       "      <td>81</td>\n",
       "      <td>0</td>\n",
       "      <td>9.7</td>\n",
       "      <td>100.29</td>\n",
       "      <td>Snow</td>\n",
       "    </tr>\n",
       "    <tr>\n",
       "      <th>2012-01-05 02:00:00</th>\n",
       "      <td>-5.4</td>\n",
       "      <td>-8.3</td>\n",
       "      <td>80</td>\n",
       "      <td>9</td>\n",
       "      <td>8.0</td>\n",
       "      <td>100.28</td>\n",
       "      <td>Snow</td>\n",
       "    </tr>\n",
       "    <tr>\n",
       "      <th>2012-01-05 03:00:00</th>\n",
       "      <td>-5.0</td>\n",
       "      <td>-7.7</td>\n",
       "      <td>81</td>\n",
       "      <td>11</td>\n",
       "      <td>9.7</td>\n",
       "      <td>100.24</td>\n",
       "      <td>Snow</td>\n",
       "    </tr>\n",
       "    <tr>\n",
       "      <th>2012-01-05 04:00:00</th>\n",
       "      <td>-4.1</td>\n",
       "      <td>-6.5</td>\n",
       "      <td>83</td>\n",
       "      <td>9</td>\n",
       "      <td>4.8</td>\n",
       "      <td>100.21</td>\n",
       "      <td>Snow</td>\n",
       "    </tr>\n",
       "    <tr>\n",
       "      <th>2012-01-05 05:00:00</th>\n",
       "      <td>-7.0</td>\n",
       "      <td>-9.5</td>\n",
       "      <td>82</td>\n",
       "      <td>4</td>\n",
       "      <td>4.0</td>\n",
       "      <td>100.19</td>\n",
       "      <td>Snow</td>\n",
       "    </tr>\n",
       "    <tr>\n",
       "      <th>2012-01-05 06:00:00</th>\n",
       "      <td>-8.2</td>\n",
       "      <td>-10.7</td>\n",
       "      <td>82</td>\n",
       "      <td>6</td>\n",
       "      <td>6.4</td>\n",
       "      <td>100.26</td>\n",
       "      <td>Snow</td>\n",
       "    </tr>\n",
       "    <tr>\n",
       "      <th>2012-01-05 07:00:00</th>\n",
       "      <td>-7.1</td>\n",
       "      <td>-9.7</td>\n",
       "      <td>82</td>\n",
       "      <td>9</td>\n",
       "      <td>9.7</td>\n",
       "      <td>100.31</td>\n",
       "      <td>Snow</td>\n",
       "    </tr>\n",
       "    <tr>\n",
       "      <th>2012-01-05 08:00:00</th>\n",
       "      <td>-6.1</td>\n",
       "      <td>-9.1</td>\n",
       "      <td>79</td>\n",
       "      <td>11</td>\n",
       "      <td>9.7</td>\n",
       "      <td>100.39</td>\n",
       "      <td>Snow</td>\n",
       "    </tr>\n",
       "    <tr>\n",
       "      <th>...</th>\n",
       "      <td>...</td>\n",
       "      <td>...</td>\n",
       "      <td>...</td>\n",
       "      <td>...</td>\n",
       "      <td>...</td>\n",
       "      <td>...</td>\n",
       "      <td>...</td>\n",
       "    </tr>\n",
       "    <tr>\n",
       "      <th>2012-12-29 18:00:00</th>\n",
       "      <td>-9.3</td>\n",
       "      <td>-10.9</td>\n",
       "      <td>88</td>\n",
       "      <td>26</td>\n",
       "      <td>6.4</td>\n",
       "      <td>100.38</td>\n",
       "      <td>Snow,Fog</td>\n",
       "    </tr>\n",
       "    <tr>\n",
       "      <th>2012-12-29 19:00:00</th>\n",
       "      <td>-9.5</td>\n",
       "      <td>-11.2</td>\n",
       "      <td>87</td>\n",
       "      <td>26</td>\n",
       "      <td>3.2</td>\n",
       "      <td>100.33</td>\n",
       "      <td>Snow,Fog</td>\n",
       "    </tr>\n",
       "    <tr>\n",
       "      <th>2012-12-29 20:00:00</th>\n",
       "      <td>-9.7</td>\n",
       "      <td>-11.6</td>\n",
       "      <td>86</td>\n",
       "      <td>24</td>\n",
       "      <td>9.7</td>\n",
       "      <td>100.25</td>\n",
       "      <td>Snow,Fog</td>\n",
       "    </tr>\n",
       "    <tr>\n",
       "      <th>2012-12-29 21:00:00</th>\n",
       "      <td>-9.8</td>\n",
       "      <td>-11.8</td>\n",
       "      <td>85</td>\n",
       "      <td>24</td>\n",
       "      <td>8.0</td>\n",
       "      <td>100.24</td>\n",
       "      <td>Snow,Fog</td>\n",
       "    </tr>\n",
       "    <tr>\n",
       "      <th>2012-12-29 22:00:00</th>\n",
       "      <td>-10.1</td>\n",
       "      <td>-11.6</td>\n",
       "      <td>89</td>\n",
       "      <td>15</td>\n",
       "      <td>2.4</td>\n",
       "      <td>100.20</td>\n",
       "      <td>Snow,Fog</td>\n",
       "    </tr>\n",
       "    <tr>\n",
       "      <th>2012-12-29 23:00:00</th>\n",
       "      <td>-10.0</td>\n",
       "      <td>-12.0</td>\n",
       "      <td>85</td>\n",
       "      <td>20</td>\n",
       "      <td>6.4</td>\n",
       "      <td>100.19</td>\n",
       "      <td>Snow,Fog</td>\n",
       "    </tr>\n",
       "    <tr>\n",
       "      <th>2012-12-30 00:00:00</th>\n",
       "      <td>-9.6</td>\n",
       "      <td>-11.3</td>\n",
       "      <td>87</td>\n",
       "      <td>13</td>\n",
       "      <td>3.2</td>\n",
       "      <td>100.23</td>\n",
       "      <td>Snow,Fog</td>\n",
       "    </tr>\n",
       "    <tr>\n",
       "      <th>2012-12-30 01:00:00</th>\n",
       "      <td>-9.4</td>\n",
       "      <td>-10.5</td>\n",
       "      <td>92</td>\n",
       "      <td>9</td>\n",
       "      <td>2.4</td>\n",
       "      <td>100.22</td>\n",
       "      <td>Snow,Fog</td>\n",
       "    </tr>\n",
       "    <tr>\n",
       "      <th>2012-12-30 02:00:00</th>\n",
       "      <td>-9.3</td>\n",
       "      <td>-10.4</td>\n",
       "      <td>92</td>\n",
       "      <td>9</td>\n",
       "      <td>4.0</td>\n",
       "      <td>100.28</td>\n",
       "      <td>Snow,Fog</td>\n",
       "    </tr>\n",
       "    <tr>\n",
       "      <th>2012-12-30 03:00:00</th>\n",
       "      <td>-9.1</td>\n",
       "      <td>-10.4</td>\n",
       "      <td>90</td>\n",
       "      <td>11</td>\n",
       "      <td>3.6</td>\n",
       "      <td>100.30</td>\n",
       "      <td>Snow,Fog</td>\n",
       "    </tr>\n",
       "    <tr>\n",
       "      <th>2012-12-30 04:00:00</th>\n",
       "      <td>-9.3</td>\n",
       "      <td>-10.6</td>\n",
       "      <td>90</td>\n",
       "      <td>13</td>\n",
       "      <td>9.7</td>\n",
       "      <td>100.28</td>\n",
       "      <td>Snow,Fog</td>\n",
       "    </tr>\n",
       "    <tr>\n",
       "      <th>2012-12-30 05:00:00</th>\n",
       "      <td>-9.1</td>\n",
       "      <td>-10.4</td>\n",
       "      <td>90</td>\n",
       "      <td>11</td>\n",
       "      <td>4.0</td>\n",
       "      <td>100.32</td>\n",
       "      <td>Snow,Fog</td>\n",
       "    </tr>\n",
       "    <tr>\n",
       "      <th>2012-12-30 06:00:00</th>\n",
       "      <td>-9.3</td>\n",
       "      <td>-10.8</td>\n",
       "      <td>89</td>\n",
       "      <td>17</td>\n",
       "      <td>8.0</td>\n",
       "      <td>100.39</td>\n",
       "      <td>Snow,Fog</td>\n",
       "    </tr>\n",
       "    <tr>\n",
       "      <th>2012-12-31 07:00:00</th>\n",
       "      <td>-9.3</td>\n",
       "      <td>-11.3</td>\n",
       "      <td>85</td>\n",
       "      <td>0</td>\n",
       "      <td>19.3</td>\n",
       "      <td>101.19</td>\n",
       "      <td>Snow Showers</td>\n",
       "    </tr>\n",
       "    <tr>\n",
       "      <th>2012-12-31 08:00:00</th>\n",
       "      <td>-8.6</td>\n",
       "      <td>-10.3</td>\n",
       "      <td>87</td>\n",
       "      <td>4</td>\n",
       "      <td>3.2</td>\n",
       "      <td>101.14</td>\n",
       "      <td>Snow Showers</td>\n",
       "    </tr>\n",
       "    <tr>\n",
       "      <th>2012-12-31 09:00:00</th>\n",
       "      <td>-8.1</td>\n",
       "      <td>-9.6</td>\n",
       "      <td>89</td>\n",
       "      <td>4</td>\n",
       "      <td>2.4</td>\n",
       "      <td>101.09</td>\n",
       "      <td>Snow</td>\n",
       "    </tr>\n",
       "    <tr>\n",
       "      <th>2012-12-31 10:00:00</th>\n",
       "      <td>-7.4</td>\n",
       "      <td>-8.9</td>\n",
       "      <td>89</td>\n",
       "      <td>4</td>\n",
       "      <td>6.4</td>\n",
       "      <td>101.05</td>\n",
       "      <td>Snow,Fog</td>\n",
       "    </tr>\n",
       "    <tr>\n",
       "      <th>2012-12-31 11:00:00</th>\n",
       "      <td>-6.7</td>\n",
       "      <td>-7.9</td>\n",
       "      <td>91</td>\n",
       "      <td>9</td>\n",
       "      <td>9.7</td>\n",
       "      <td>100.93</td>\n",
       "      <td>Snow</td>\n",
       "    </tr>\n",
       "    <tr>\n",
       "      <th>2012-12-31 12:00:00</th>\n",
       "      <td>-5.8</td>\n",
       "      <td>-7.5</td>\n",
       "      <td>88</td>\n",
       "      <td>4</td>\n",
       "      <td>12.9</td>\n",
       "      <td>100.78</td>\n",
       "      <td>Snow</td>\n",
       "    </tr>\n",
       "    <tr>\n",
       "      <th>2012-12-31 13:00:00</th>\n",
       "      <td>-4.6</td>\n",
       "      <td>-6.6</td>\n",
       "      <td>86</td>\n",
       "      <td>4</td>\n",
       "      <td>12.9</td>\n",
       "      <td>100.63</td>\n",
       "      <td>Snow</td>\n",
       "    </tr>\n",
       "    <tr>\n",
       "      <th>2012-12-31 14:00:00</th>\n",
       "      <td>-3.4</td>\n",
       "      <td>-5.7</td>\n",
       "      <td>84</td>\n",
       "      <td>6</td>\n",
       "      <td>11.3</td>\n",
       "      <td>100.57</td>\n",
       "      <td>Snow</td>\n",
       "    </tr>\n",
       "    <tr>\n",
       "      <th>2012-12-31 15:00:00</th>\n",
       "      <td>-2.3</td>\n",
       "      <td>-4.6</td>\n",
       "      <td>84</td>\n",
       "      <td>9</td>\n",
       "      <td>9.7</td>\n",
       "      <td>100.47</td>\n",
       "      <td>Snow</td>\n",
       "    </tr>\n",
       "    <tr>\n",
       "      <th>2012-12-31 16:00:00</th>\n",
       "      <td>-1.4</td>\n",
       "      <td>-4.0</td>\n",
       "      <td>82</td>\n",
       "      <td>13</td>\n",
       "      <td>12.9</td>\n",
       "      <td>100.40</td>\n",
       "      <td>Snow</td>\n",
       "    </tr>\n",
       "    <tr>\n",
       "      <th>2012-12-31 17:00:00</th>\n",
       "      <td>-1.1</td>\n",
       "      <td>-3.3</td>\n",
       "      <td>85</td>\n",
       "      <td>19</td>\n",
       "      <td>9.7</td>\n",
       "      <td>100.30</td>\n",
       "      <td>Snow</td>\n",
       "    </tr>\n",
       "    <tr>\n",
       "      <th>2012-12-31 18:00:00</th>\n",
       "      <td>-1.3</td>\n",
       "      <td>-3.1</td>\n",
       "      <td>88</td>\n",
       "      <td>17</td>\n",
       "      <td>9.7</td>\n",
       "      <td>100.19</td>\n",
       "      <td>Snow</td>\n",
       "    </tr>\n",
       "    <tr>\n",
       "      <th>2012-12-31 19:00:00</th>\n",
       "      <td>0.1</td>\n",
       "      <td>-2.7</td>\n",
       "      <td>81</td>\n",
       "      <td>30</td>\n",
       "      <td>9.7</td>\n",
       "      <td>100.13</td>\n",
       "      <td>Snow</td>\n",
       "    </tr>\n",
       "    <tr>\n",
       "      <th>2012-12-31 20:00:00</th>\n",
       "      <td>0.2</td>\n",
       "      <td>-2.4</td>\n",
       "      <td>83</td>\n",
       "      <td>24</td>\n",
       "      <td>9.7</td>\n",
       "      <td>100.03</td>\n",
       "      <td>Snow</td>\n",
       "    </tr>\n",
       "    <tr>\n",
       "      <th>2012-12-31 21:00:00</th>\n",
       "      <td>-0.5</td>\n",
       "      <td>-1.5</td>\n",
       "      <td>93</td>\n",
       "      <td>28</td>\n",
       "      <td>4.8</td>\n",
       "      <td>99.95</td>\n",
       "      <td>Snow</td>\n",
       "    </tr>\n",
       "    <tr>\n",
       "      <th>2012-12-31 22:00:00</th>\n",
       "      <td>-0.2</td>\n",
       "      <td>-1.8</td>\n",
       "      <td>89</td>\n",
       "      <td>28</td>\n",
       "      <td>9.7</td>\n",
       "      <td>99.91</td>\n",
       "      <td>Snow</td>\n",
       "    </tr>\n",
       "    <tr>\n",
       "      <th>2012-12-31 23:00:00</th>\n",
       "      <td>0.0</td>\n",
       "      <td>-2.1</td>\n",
       "      <td>86</td>\n",
       "      <td>30</td>\n",
       "      <td>11.3</td>\n",
       "      <td>99.89</td>\n",
       "      <td>Snow</td>\n",
       "    </tr>\n",
       "  </tbody>\n",
       "</table>\n",
       "<p>583 rows × 7 columns</p>\n",
       "</div>"
      ],
      "text/plain": [
       "                     Temp (C)  Dew Point Temp (C)  Rel Hum (%)  \\\n",
       "Date/Time                                                        \n",
       "2012-01-02 17:00:00      -2.1                -9.5           57   \n",
       "2012-01-02 20:00:00      -5.6               -13.4           54   \n",
       "2012-01-02 21:00:00      -5.8               -12.8           58   \n",
       "2012-01-02 23:00:00      -7.4               -14.1           59   \n",
       "2012-01-03 00:00:00      -9.0               -16.0           57   \n",
       "2012-01-03 02:00:00     -10.5               -15.8           65   \n",
       "2012-01-03 03:00:00     -11.3               -18.7           54   \n",
       "2012-01-03 05:00:00     -12.9               -19.1           60   \n",
       "2012-01-03 06:00:00     -13.3               -19.3           61   \n",
       "2012-01-03 07:00:00     -14.0               -19.5           63   \n",
       "2012-01-04 12:00:00     -13.7               -21.7           51   \n",
       "2012-01-04 14:00:00     -11.3               -19.0           53   \n",
       "2012-01-04 15:00:00     -10.2               -16.3           61   \n",
       "2012-01-04 16:00:00      -9.4               -15.5           61   \n",
       "2012-01-04 17:00:00      -8.9               -13.2           71   \n",
       "2012-01-04 18:00:00      -8.9               -12.6           75   \n",
       "2012-01-04 19:00:00      -8.4               -12.7           71   \n",
       "2012-01-04 20:00:00      -7.8               -12.1           71   \n",
       "2012-01-04 21:00:00      -7.6               -11.6           73   \n",
       "2012-01-04 22:00:00      -9.5               -12.7           77   \n",
       "2012-01-04 23:00:00      -9.6               -12.6           79   \n",
       "2012-01-05 00:00:00      -8.8               -11.7           79   \n",
       "2012-01-05 01:00:00      -7.5               -10.2           81   \n",
       "2012-01-05 02:00:00      -5.4                -8.3           80   \n",
       "2012-01-05 03:00:00      -5.0                -7.7           81   \n",
       "2012-01-05 04:00:00      -4.1                -6.5           83   \n",
       "2012-01-05 05:00:00      -7.0                -9.5           82   \n",
       "2012-01-05 06:00:00      -8.2               -10.7           82   \n",
       "2012-01-05 07:00:00      -7.1                -9.7           82   \n",
       "2012-01-05 08:00:00      -6.1                -9.1           79   \n",
       "...                       ...                 ...          ...   \n",
       "2012-12-29 18:00:00      -9.3               -10.9           88   \n",
       "2012-12-29 19:00:00      -9.5               -11.2           87   \n",
       "2012-12-29 20:00:00      -9.7               -11.6           86   \n",
       "2012-12-29 21:00:00      -9.8               -11.8           85   \n",
       "2012-12-29 22:00:00     -10.1               -11.6           89   \n",
       "2012-12-29 23:00:00     -10.0               -12.0           85   \n",
       "2012-12-30 00:00:00      -9.6               -11.3           87   \n",
       "2012-12-30 01:00:00      -9.4               -10.5           92   \n",
       "2012-12-30 02:00:00      -9.3               -10.4           92   \n",
       "2012-12-30 03:00:00      -9.1               -10.4           90   \n",
       "2012-12-30 04:00:00      -9.3               -10.6           90   \n",
       "2012-12-30 05:00:00      -9.1               -10.4           90   \n",
       "2012-12-30 06:00:00      -9.3               -10.8           89   \n",
       "2012-12-31 07:00:00      -9.3               -11.3           85   \n",
       "2012-12-31 08:00:00      -8.6               -10.3           87   \n",
       "2012-12-31 09:00:00      -8.1                -9.6           89   \n",
       "2012-12-31 10:00:00      -7.4                -8.9           89   \n",
       "2012-12-31 11:00:00      -6.7                -7.9           91   \n",
       "2012-12-31 12:00:00      -5.8                -7.5           88   \n",
       "2012-12-31 13:00:00      -4.6                -6.6           86   \n",
       "2012-12-31 14:00:00      -3.4                -5.7           84   \n",
       "2012-12-31 15:00:00      -2.3                -4.6           84   \n",
       "2012-12-31 16:00:00      -1.4                -4.0           82   \n",
       "2012-12-31 17:00:00      -1.1                -3.3           85   \n",
       "2012-12-31 18:00:00      -1.3                -3.1           88   \n",
       "2012-12-31 19:00:00       0.1                -2.7           81   \n",
       "2012-12-31 20:00:00       0.2                -2.4           83   \n",
       "2012-12-31 21:00:00      -0.5                -1.5           93   \n",
       "2012-12-31 22:00:00      -0.2                -1.8           89   \n",
       "2012-12-31 23:00:00       0.0                -2.1           86   \n",
       "\n",
       "                     Wind Spd (km/h)  Visibility (km)  Stn Press (kPa)  \\\n",
       "Date/Time                                                                \n",
       "2012-01-02 17:00:00               22             25.0            99.66   \n",
       "2012-01-02 20:00:00               24             25.0           100.07   \n",
       "2012-01-02 21:00:00               26             25.0           100.15   \n",
       "2012-01-02 23:00:00               17             19.3           100.27   \n",
       "2012-01-03 00:00:00               28             25.0           100.35   \n",
       "2012-01-03 02:00:00               22             12.9           100.53   \n",
       "2012-01-03 03:00:00               33             25.0           100.61   \n",
       "2012-01-03 05:00:00               22             25.0           100.76   \n",
       "2012-01-03 06:00:00               19             25.0           100.85   \n",
       "2012-01-03 07:00:00               19             25.0           100.95   \n",
       "2012-01-04 12:00:00               11             24.1           101.25   \n",
       "2012-01-04 14:00:00                7             19.3           100.97   \n",
       "2012-01-04 15:00:00               11              9.7           100.89   \n",
       "2012-01-04 16:00:00               13             19.3           100.79   \n",
       "2012-01-04 17:00:00                9              4.8           100.76   \n",
       "2012-01-04 18:00:00               11              9.7           100.69   \n",
       "2012-01-04 19:00:00                9             16.1           100.65   \n",
       "2012-01-04 20:00:00                9             16.1           100.61   \n",
       "2012-01-04 21:00:00                7             11.3           100.54   \n",
       "2012-01-04 22:00:00                6              9.7           100.50   \n",
       "2012-01-04 23:00:00                6              9.7           100.42   \n",
       "2012-01-05 00:00:00                4              9.7           100.32   \n",
       "2012-01-05 01:00:00                0              9.7           100.29   \n",
       "2012-01-05 02:00:00                9              8.0           100.28   \n",
       "2012-01-05 03:00:00               11              9.7           100.24   \n",
       "2012-01-05 04:00:00                9              4.8           100.21   \n",
       "2012-01-05 05:00:00                4              4.0           100.19   \n",
       "2012-01-05 06:00:00                6              6.4           100.26   \n",
       "2012-01-05 07:00:00                9              9.7           100.31   \n",
       "2012-01-05 08:00:00               11              9.7           100.39   \n",
       "...                              ...              ...              ...   \n",
       "2012-12-29 18:00:00               26              6.4           100.38   \n",
       "2012-12-29 19:00:00               26              3.2           100.33   \n",
       "2012-12-29 20:00:00               24              9.7           100.25   \n",
       "2012-12-29 21:00:00               24              8.0           100.24   \n",
       "2012-12-29 22:00:00               15              2.4           100.20   \n",
       "2012-12-29 23:00:00               20              6.4           100.19   \n",
       "2012-12-30 00:00:00               13              3.2           100.23   \n",
       "2012-12-30 01:00:00                9              2.4           100.22   \n",
       "2012-12-30 02:00:00                9              4.0           100.28   \n",
       "2012-12-30 03:00:00               11              3.6           100.30   \n",
       "2012-12-30 04:00:00               13              9.7           100.28   \n",
       "2012-12-30 05:00:00               11              4.0           100.32   \n",
       "2012-12-30 06:00:00               17              8.0           100.39   \n",
       "2012-12-31 07:00:00                0             19.3           101.19   \n",
       "2012-12-31 08:00:00                4              3.2           101.14   \n",
       "2012-12-31 09:00:00                4              2.4           101.09   \n",
       "2012-12-31 10:00:00                4              6.4           101.05   \n",
       "2012-12-31 11:00:00                9              9.7           100.93   \n",
       "2012-12-31 12:00:00                4             12.9           100.78   \n",
       "2012-12-31 13:00:00                4             12.9           100.63   \n",
       "2012-12-31 14:00:00                6             11.3           100.57   \n",
       "2012-12-31 15:00:00                9              9.7           100.47   \n",
       "2012-12-31 16:00:00               13             12.9           100.40   \n",
       "2012-12-31 17:00:00               19              9.7           100.30   \n",
       "2012-12-31 18:00:00               17              9.7           100.19   \n",
       "2012-12-31 19:00:00               30              9.7           100.13   \n",
       "2012-12-31 20:00:00               24              9.7           100.03   \n",
       "2012-12-31 21:00:00               28              4.8            99.95   \n",
       "2012-12-31 22:00:00               28              9.7            99.91   \n",
       "2012-12-31 23:00:00               30             11.3            99.89   \n",
       "\n",
       "                          Weather  \n",
       "Date/Time                          \n",
       "2012-01-02 17:00:00  Snow Showers  \n",
       "2012-01-02 20:00:00  Snow Showers  \n",
       "2012-01-02 21:00:00  Snow Showers  \n",
       "2012-01-02 23:00:00  Snow Showers  \n",
       "2012-01-03 00:00:00  Snow Showers  \n",
       "2012-01-03 02:00:00  Snow Showers  \n",
       "2012-01-03 03:00:00  Snow Showers  \n",
       "2012-01-03 05:00:00  Snow Showers  \n",
       "2012-01-03 06:00:00  Snow Showers  \n",
       "2012-01-03 07:00:00          Snow  \n",
       "2012-01-04 12:00:00          Snow  \n",
       "2012-01-04 14:00:00          Snow  \n",
       "2012-01-04 15:00:00          Snow  \n",
       "2012-01-04 16:00:00          Snow  \n",
       "2012-01-04 17:00:00          Snow  \n",
       "2012-01-04 18:00:00          Snow  \n",
       "2012-01-04 19:00:00          Snow  \n",
       "2012-01-04 20:00:00          Snow  \n",
       "2012-01-04 21:00:00          Snow  \n",
       "2012-01-04 22:00:00          Snow  \n",
       "2012-01-04 23:00:00          Snow  \n",
       "2012-01-05 00:00:00          Snow  \n",
       "2012-01-05 01:00:00          Snow  \n",
       "2012-01-05 02:00:00          Snow  \n",
       "2012-01-05 03:00:00          Snow  \n",
       "2012-01-05 04:00:00          Snow  \n",
       "2012-01-05 05:00:00          Snow  \n",
       "2012-01-05 06:00:00          Snow  \n",
       "2012-01-05 07:00:00          Snow  \n",
       "2012-01-05 08:00:00          Snow  \n",
       "...                           ...  \n",
       "2012-12-29 18:00:00      Snow,Fog  \n",
       "2012-12-29 19:00:00      Snow,Fog  \n",
       "2012-12-29 20:00:00      Snow,Fog  \n",
       "2012-12-29 21:00:00      Snow,Fog  \n",
       "2012-12-29 22:00:00      Snow,Fog  \n",
       "2012-12-29 23:00:00      Snow,Fog  \n",
       "2012-12-30 00:00:00      Snow,Fog  \n",
       "2012-12-30 01:00:00      Snow,Fog  \n",
       "2012-12-30 02:00:00      Snow,Fog  \n",
       "2012-12-30 03:00:00      Snow,Fog  \n",
       "2012-12-30 04:00:00      Snow,Fog  \n",
       "2012-12-30 05:00:00      Snow,Fog  \n",
       "2012-12-30 06:00:00      Snow,Fog  \n",
       "2012-12-31 07:00:00  Snow Showers  \n",
       "2012-12-31 08:00:00  Snow Showers  \n",
       "2012-12-31 09:00:00          Snow  \n",
       "2012-12-31 10:00:00      Snow,Fog  \n",
       "2012-12-31 11:00:00          Snow  \n",
       "2012-12-31 12:00:00          Snow  \n",
       "2012-12-31 13:00:00          Snow  \n",
       "2012-12-31 14:00:00          Snow  \n",
       "2012-12-31 15:00:00          Snow  \n",
       "2012-12-31 16:00:00          Snow  \n",
       "2012-12-31 17:00:00          Snow  \n",
       "2012-12-31 18:00:00          Snow  \n",
       "2012-12-31 19:00:00          Snow  \n",
       "2012-12-31 20:00:00          Snow  \n",
       "2012-12-31 21:00:00          Snow  \n",
       "2012-12-31 22:00:00          Snow  \n",
       "2012-12-31 23:00:00          Snow  \n",
       "\n",
       "[583 rows x 7 columns]"
      ]
     },
     "execution_count": 17,
     "metadata": {},
     "output_type": "execute_result"
    }
   ],
   "source": [
    "# Basically, we want a way to \"filter out\" records that don't have the word \"snow\" (case insensitive) in the last column\n",
    "\n",
    "snowed_filter = weather_df2['Weather'].str.lower().str.contains('snow')\n",
    "weather_df2[snowed_filter]"
   ]
  },
  {
   "cell_type": "markdown",
   "metadata": {
    "ExecuteTime": {
     "end_time": "2017-09-22T12:41:32.876489Z",
     "start_time": "2017-09-22T12:41:32.860307Z"
    },
    "slideshow": {
     "slide_type": "subslide"
    }
   },
   "source": [
    "<div class=\"alert alert-block alert-info\">**Find all instances when wind speed was above 24 and visibility was 25**</div>"
   ]
  },
  {
   "cell_type": "code",
   "execution_count": 19,
   "metadata": {
    "slideshow": {
     "slide_type": "fragment"
    }
   },
   "outputs": [
    {
     "data": {
      "text/html": [
       "<div>\n",
       "<style scoped>\n",
       "    .dataframe tbody tr th:only-of-type {\n",
       "        vertical-align: middle;\n",
       "    }\n",
       "\n",
       "    .dataframe tbody tr th {\n",
       "        vertical-align: top;\n",
       "    }\n",
       "\n",
       "    .dataframe thead th {\n",
       "        text-align: right;\n",
       "    }\n",
       "</style>\n",
       "<table border=\"1\" class=\"dataframe\">\n",
       "  <thead>\n",
       "    <tr style=\"text-align: right;\">\n",
       "      <th></th>\n",
       "      <th>Temp (C)</th>\n",
       "      <th>Dew Point Temp (C)</th>\n",
       "      <th>Rel Hum (%)</th>\n",
       "      <th>Wind Spd (km/h)</th>\n",
       "      <th>Visibility (km)</th>\n",
       "      <th>Stn Press (kPa)</th>\n",
       "      <th>Weather</th>\n",
       "    </tr>\n",
       "    <tr>\n",
       "      <th>Date/Time</th>\n",
       "      <th></th>\n",
       "      <th></th>\n",
       "      <th></th>\n",
       "      <th></th>\n",
       "      <th></th>\n",
       "      <th></th>\n",
       "      <th></th>\n",
       "    </tr>\n",
       "  </thead>\n",
       "  <tbody>\n",
       "    <tr>\n",
       "      <th>2012-01-01 23:00:00</th>\n",
       "      <td>5.3</td>\n",
       "      <td>2.0</td>\n",
       "      <td>79</td>\n",
       "      <td>30</td>\n",
       "      <td>25.0</td>\n",
       "      <td>99.31</td>\n",
       "      <td>Cloudy</td>\n",
       "    </tr>\n",
       "    <tr>\n",
       "      <th>2012-01-02 00:00:00</th>\n",
       "      <td>5.2</td>\n",
       "      <td>1.5</td>\n",
       "      <td>77</td>\n",
       "      <td>35</td>\n",
       "      <td>25.0</td>\n",
       "      <td>99.26</td>\n",
       "      <td>Rain Showers</td>\n",
       "    </tr>\n",
       "    <tr>\n",
       "      <th>2012-01-02 01:00:00</th>\n",
       "      <td>4.6</td>\n",
       "      <td>0.0</td>\n",
       "      <td>72</td>\n",
       "      <td>39</td>\n",
       "      <td>25.0</td>\n",
       "      <td>99.26</td>\n",
       "      <td>Cloudy</td>\n",
       "    </tr>\n",
       "    <tr>\n",
       "      <th>2012-01-02 02:00:00</th>\n",
       "      <td>3.9</td>\n",
       "      <td>-0.9</td>\n",
       "      <td>71</td>\n",
       "      <td>32</td>\n",
       "      <td>25.0</td>\n",
       "      <td>99.26</td>\n",
       "      <td>Mostly Cloudy</td>\n",
       "    </tr>\n",
       "    <tr>\n",
       "      <th>2012-01-02 03:00:00</th>\n",
       "      <td>3.7</td>\n",
       "      <td>-1.5</td>\n",
       "      <td>69</td>\n",
       "      <td>33</td>\n",
       "      <td>25.0</td>\n",
       "      <td>99.30</td>\n",
       "      <td>Mostly Cloudy</td>\n",
       "    </tr>\n",
       "    <tr>\n",
       "      <th>2012-01-02 04:00:00</th>\n",
       "      <td>2.9</td>\n",
       "      <td>-2.3</td>\n",
       "      <td>69</td>\n",
       "      <td>32</td>\n",
       "      <td>25.0</td>\n",
       "      <td>99.26</td>\n",
       "      <td>Mostly Cloudy</td>\n",
       "    </tr>\n",
       "    <tr>\n",
       "      <th>2012-01-02 05:00:00</th>\n",
       "      <td>2.6</td>\n",
       "      <td>-2.3</td>\n",
       "      <td>70</td>\n",
       "      <td>32</td>\n",
       "      <td>25.0</td>\n",
       "      <td>99.21</td>\n",
       "      <td>Mostly Cloudy</td>\n",
       "    </tr>\n",
       "    <tr>\n",
       "      <th>2012-01-02 06:00:00</th>\n",
       "      <td>2.3</td>\n",
       "      <td>-2.6</td>\n",
       "      <td>70</td>\n",
       "      <td>26</td>\n",
       "      <td>25.0</td>\n",
       "      <td>99.18</td>\n",
       "      <td>Mostly Cloudy</td>\n",
       "    </tr>\n",
       "    <tr>\n",
       "      <th>2012-01-02 07:00:00</th>\n",
       "      <td>2.0</td>\n",
       "      <td>-2.9</td>\n",
       "      <td>70</td>\n",
       "      <td>33</td>\n",
       "      <td>25.0</td>\n",
       "      <td>99.14</td>\n",
       "      <td>Mostly Cloudy</td>\n",
       "    </tr>\n",
       "    <tr>\n",
       "      <th>2012-01-02 18:00:00</th>\n",
       "      <td>-4.1</td>\n",
       "      <td>-11.4</td>\n",
       "      <td>57</td>\n",
       "      <td>28</td>\n",
       "      <td>25.0</td>\n",
       "      <td>99.86</td>\n",
       "      <td>Mostly Cloudy</td>\n",
       "    </tr>\n",
       "    <tr>\n",
       "      <th>2012-01-02 21:00:00</th>\n",
       "      <td>-5.8</td>\n",
       "      <td>-12.8</td>\n",
       "      <td>58</td>\n",
       "      <td>26</td>\n",
       "      <td>25.0</td>\n",
       "      <td>100.15</td>\n",
       "      <td>Snow Showers</td>\n",
       "    </tr>\n",
       "    <tr>\n",
       "      <th>2012-01-03 00:00:00</th>\n",
       "      <td>-9.0</td>\n",
       "      <td>-16.0</td>\n",
       "      <td>57</td>\n",
       "      <td>28</td>\n",
       "      <td>25.0</td>\n",
       "      <td>100.35</td>\n",
       "      <td>Snow Showers</td>\n",
       "    </tr>\n",
       "    <tr>\n",
       "      <th>2012-01-03 03:00:00</th>\n",
       "      <td>-11.3</td>\n",
       "      <td>-18.7</td>\n",
       "      <td>54</td>\n",
       "      <td>33</td>\n",
       "      <td>25.0</td>\n",
       "      <td>100.61</td>\n",
       "      <td>Snow Showers</td>\n",
       "    </tr>\n",
       "    <tr>\n",
       "      <th>2012-01-08 00:00:00</th>\n",
       "      <td>0.6</td>\n",
       "      <td>-3.2</td>\n",
       "      <td>76</td>\n",
       "      <td>32</td>\n",
       "      <td>25.0</td>\n",
       "      <td>100.72</td>\n",
       "      <td>Cloudy</td>\n",
       "    </tr>\n",
       "    <tr>\n",
       "      <th>2012-01-08 01:00:00</th>\n",
       "      <td>-0.6</td>\n",
       "      <td>-4.6</td>\n",
       "      <td>74</td>\n",
       "      <td>32</td>\n",
       "      <td>25.0</td>\n",
       "      <td>100.80</td>\n",
       "      <td>Mostly Cloudy</td>\n",
       "    </tr>\n",
       "    <tr>\n",
       "      <th>2012-01-08 02:00:00</th>\n",
       "      <td>-1.7</td>\n",
       "      <td>-6.2</td>\n",
       "      <td>71</td>\n",
       "      <td>30</td>\n",
       "      <td>25.0</td>\n",
       "      <td>100.98</td>\n",
       "      <td>Mostly Cloudy</td>\n",
       "    </tr>\n",
       "    <tr>\n",
       "      <th>2012-01-08 03:00:00</th>\n",
       "      <td>-3.5</td>\n",
       "      <td>-8.3</td>\n",
       "      <td>69</td>\n",
       "      <td>32</td>\n",
       "      <td>25.0</td>\n",
       "      <td>101.13</td>\n",
       "      <td>Mainly Clear</td>\n",
       "    </tr>\n",
       "    <tr>\n",
       "      <th>2012-01-10 00:00:00</th>\n",
       "      <td>2.5</td>\n",
       "      <td>-5.2</td>\n",
       "      <td>57</td>\n",
       "      <td>30</td>\n",
       "      <td>25.0</td>\n",
       "      <td>100.38</td>\n",
       "      <td>Cloudy</td>\n",
       "    </tr>\n",
       "    <tr>\n",
       "      <th>2012-01-10 01:00:00</th>\n",
       "      <td>2.3</td>\n",
       "      <td>-3.4</td>\n",
       "      <td>66</td>\n",
       "      <td>35</td>\n",
       "      <td>25.0</td>\n",
       "      <td>100.28</td>\n",
       "      <td>Snow</td>\n",
       "    </tr>\n",
       "    <tr>\n",
       "      <th>2012-01-10 03:00:00</th>\n",
       "      <td>1.6</td>\n",
       "      <td>-2.0</td>\n",
       "      <td>77</td>\n",
       "      <td>28</td>\n",
       "      <td>25.0</td>\n",
       "      <td>100.16</td>\n",
       "      <td>Snow</td>\n",
       "    </tr>\n",
       "    <tr>\n",
       "      <th>2012-01-10 04:00:00</th>\n",
       "      <td>1.2</td>\n",
       "      <td>-1.7</td>\n",
       "      <td>81</td>\n",
       "      <td>26</td>\n",
       "      <td>25.0</td>\n",
       "      <td>100.07</td>\n",
       "      <td>Cloudy</td>\n",
       "    </tr>\n",
       "    <tr>\n",
       "      <th>2012-01-11 19:00:00</th>\n",
       "      <td>-11.8</td>\n",
       "      <td>-19.2</td>\n",
       "      <td>54</td>\n",
       "      <td>30</td>\n",
       "      <td>25.0</td>\n",
       "      <td>101.43</td>\n",
       "      <td>Mostly Cloudy</td>\n",
       "    </tr>\n",
       "    <tr>\n",
       "      <th>2012-01-12 02:00:00</th>\n",
       "      <td>-9.4</td>\n",
       "      <td>-15.0</td>\n",
       "      <td>64</td>\n",
       "      <td>26</td>\n",
       "      <td>25.0</td>\n",
       "      <td>101.08</td>\n",
       "      <td>Cloudy</td>\n",
       "    </tr>\n",
       "    <tr>\n",
       "      <th>2012-01-12 03:00:00</th>\n",
       "      <td>-9.0</td>\n",
       "      <td>-14.7</td>\n",
       "      <td>63</td>\n",
       "      <td>33</td>\n",
       "      <td>25.0</td>\n",
       "      <td>101.02</td>\n",
       "      <td>Cloudy</td>\n",
       "    </tr>\n",
       "    <tr>\n",
       "      <th>2012-01-12 05:00:00</th>\n",
       "      <td>-8.0</td>\n",
       "      <td>-13.7</td>\n",
       "      <td>64</td>\n",
       "      <td>30</td>\n",
       "      <td>25.0</td>\n",
       "      <td>100.81</td>\n",
       "      <td>Cloudy</td>\n",
       "    </tr>\n",
       "    <tr>\n",
       "      <th>2012-01-12 06:00:00</th>\n",
       "      <td>-7.6</td>\n",
       "      <td>-13.1</td>\n",
       "      <td>65</td>\n",
       "      <td>28</td>\n",
       "      <td>25.0</td>\n",
       "      <td>100.76</td>\n",
       "      <td>Cloudy</td>\n",
       "    </tr>\n",
       "    <tr>\n",
       "      <th>2012-01-12 22:00:00</th>\n",
       "      <td>-4.1</td>\n",
       "      <td>-6.8</td>\n",
       "      <td>81</td>\n",
       "      <td>26</td>\n",
       "      <td>25.0</td>\n",
       "      <td>99.47</td>\n",
       "      <td>Snow</td>\n",
       "    </tr>\n",
       "    <tr>\n",
       "      <th>2012-01-14 07:00:00</th>\n",
       "      <td>-16.8</td>\n",
       "      <td>-22.2</td>\n",
       "      <td>63</td>\n",
       "      <td>26</td>\n",
       "      <td>25.0</td>\n",
       "      <td>100.73</td>\n",
       "      <td>Mostly Cloudy</td>\n",
       "    </tr>\n",
       "    <tr>\n",
       "      <th>2012-01-18 01:00:00</th>\n",
       "      <td>3.7</td>\n",
       "      <td>-2.1</td>\n",
       "      <td>66</td>\n",
       "      <td>83</td>\n",
       "      <td>25.0</td>\n",
       "      <td>98.36</td>\n",
       "      <td>Mostly Cloudy</td>\n",
       "    </tr>\n",
       "    <tr>\n",
       "      <th>2012-01-18 02:00:00</th>\n",
       "      <td>0.5</td>\n",
       "      <td>-4.0</td>\n",
       "      <td>72</td>\n",
       "      <td>70</td>\n",
       "      <td>25.0</td>\n",
       "      <td>98.62</td>\n",
       "      <td>Mostly Cloudy</td>\n",
       "    </tr>\n",
       "    <tr>\n",
       "      <th>...</th>\n",
       "      <td>...</td>\n",
       "      <td>...</td>\n",
       "      <td>...</td>\n",
       "      <td>...</td>\n",
       "      <td>...</td>\n",
       "      <td>...</td>\n",
       "      <td>...</td>\n",
       "    </tr>\n",
       "    <tr>\n",
       "      <th>2012-12-05 22:00:00</th>\n",
       "      <td>-1.6</td>\n",
       "      <td>-9.5</td>\n",
       "      <td>55</td>\n",
       "      <td>26</td>\n",
       "      <td>25.0</td>\n",
       "      <td>102.01</td>\n",
       "      <td>Mostly Cloudy</td>\n",
       "    </tr>\n",
       "    <tr>\n",
       "      <th>2012-12-09 20:00:00</th>\n",
       "      <td>-2.2</td>\n",
       "      <td>-7.2</td>\n",
       "      <td>69</td>\n",
       "      <td>28</td>\n",
       "      <td>25.0</td>\n",
       "      <td>102.11</td>\n",
       "      <td>Cloudy</td>\n",
       "    </tr>\n",
       "    <tr>\n",
       "      <th>2012-12-09 22:00:00</th>\n",
       "      <td>-3.0</td>\n",
       "      <td>-8.2</td>\n",
       "      <td>67</td>\n",
       "      <td>28</td>\n",
       "      <td>25.0</td>\n",
       "      <td>101.78</td>\n",
       "      <td>Cloudy</td>\n",
       "    </tr>\n",
       "    <tr>\n",
       "      <th>2012-12-09 23:00:00</th>\n",
       "      <td>-3.6</td>\n",
       "      <td>-8.6</td>\n",
       "      <td>68</td>\n",
       "      <td>32</td>\n",
       "      <td>25.0</td>\n",
       "      <td>101.64</td>\n",
       "      <td>Cloudy</td>\n",
       "    </tr>\n",
       "    <tr>\n",
       "      <th>2012-12-11 01:00:00</th>\n",
       "      <td>0.0</td>\n",
       "      <td>-3.6</td>\n",
       "      <td>77</td>\n",
       "      <td>28</td>\n",
       "      <td>25.0</td>\n",
       "      <td>99.99</td>\n",
       "      <td>Cloudy</td>\n",
       "    </tr>\n",
       "    <tr>\n",
       "      <th>2012-12-15 23:00:00</th>\n",
       "      <td>-9.9</td>\n",
       "      <td>-15.0</td>\n",
       "      <td>66</td>\n",
       "      <td>26</td>\n",
       "      <td>25.0</td>\n",
       "      <td>102.38</td>\n",
       "      <td>Cloudy</td>\n",
       "    </tr>\n",
       "    <tr>\n",
       "      <th>2012-12-16 02:00:00</th>\n",
       "      <td>-10.1</td>\n",
       "      <td>-14.6</td>\n",
       "      <td>70</td>\n",
       "      <td>28</td>\n",
       "      <td>25.0</td>\n",
       "      <td>102.17</td>\n",
       "      <td>Cloudy</td>\n",
       "    </tr>\n",
       "    <tr>\n",
       "      <th>2012-12-16 03:00:00</th>\n",
       "      <td>-10.1</td>\n",
       "      <td>-14.5</td>\n",
       "      <td>70</td>\n",
       "      <td>28</td>\n",
       "      <td>25.0</td>\n",
       "      <td>102.15</td>\n",
       "      <td>Cloudy</td>\n",
       "    </tr>\n",
       "    <tr>\n",
       "      <th>2012-12-16 06:00:00</th>\n",
       "      <td>-9.9</td>\n",
       "      <td>-14.6</td>\n",
       "      <td>68</td>\n",
       "      <td>35</td>\n",
       "      <td>25.0</td>\n",
       "      <td>101.93</td>\n",
       "      <td>Cloudy</td>\n",
       "    </tr>\n",
       "    <tr>\n",
       "      <th>2012-12-16 07:00:00</th>\n",
       "      <td>-9.8</td>\n",
       "      <td>-14.9</td>\n",
       "      <td>66</td>\n",
       "      <td>32</td>\n",
       "      <td>25.0</td>\n",
       "      <td>101.89</td>\n",
       "      <td>Cloudy</td>\n",
       "    </tr>\n",
       "    <tr>\n",
       "      <th>2012-12-20 23:00:00</th>\n",
       "      <td>1.2</td>\n",
       "      <td>-2.1</td>\n",
       "      <td>79</td>\n",
       "      <td>28</td>\n",
       "      <td>25.0</td>\n",
       "      <td>100.69</td>\n",
       "      <td>Cloudy</td>\n",
       "    </tr>\n",
       "    <tr>\n",
       "      <th>2012-12-21 00:00:00</th>\n",
       "      <td>1.9</td>\n",
       "      <td>-2.1</td>\n",
       "      <td>75</td>\n",
       "      <td>26</td>\n",
       "      <td>25.0</td>\n",
       "      <td>100.60</td>\n",
       "      <td>Rain,Snow Grains</td>\n",
       "    </tr>\n",
       "    <tr>\n",
       "      <th>2012-12-21 18:00:00</th>\n",
       "      <td>1.4</td>\n",
       "      <td>0.3</td>\n",
       "      <td>92</td>\n",
       "      <td>46</td>\n",
       "      <td>25.0</td>\n",
       "      <td>97.56</td>\n",
       "      <td>Rain</td>\n",
       "    </tr>\n",
       "    <tr>\n",
       "      <th>2012-12-23 01:00:00</th>\n",
       "      <td>-7.9</td>\n",
       "      <td>-11.8</td>\n",
       "      <td>74</td>\n",
       "      <td>32</td>\n",
       "      <td>25.0</td>\n",
       "      <td>100.27</td>\n",
       "      <td>Snow Showers</td>\n",
       "    </tr>\n",
       "    <tr>\n",
       "      <th>2012-12-23 02:00:00</th>\n",
       "      <td>-8.2</td>\n",
       "      <td>-12.5</td>\n",
       "      <td>71</td>\n",
       "      <td>30</td>\n",
       "      <td>25.0</td>\n",
       "      <td>100.36</td>\n",
       "      <td>Mostly Cloudy</td>\n",
       "    </tr>\n",
       "    <tr>\n",
       "      <th>2012-12-23 03:00:00</th>\n",
       "      <td>-8.2</td>\n",
       "      <td>-12.4</td>\n",
       "      <td>72</td>\n",
       "      <td>30</td>\n",
       "      <td>25.0</td>\n",
       "      <td>100.40</td>\n",
       "      <td>Cloudy</td>\n",
       "    </tr>\n",
       "    <tr>\n",
       "      <th>2012-12-23 04:00:00</th>\n",
       "      <td>-8.3</td>\n",
       "      <td>-12.7</td>\n",
       "      <td>71</td>\n",
       "      <td>28</td>\n",
       "      <td>25.0</td>\n",
       "      <td>100.43</td>\n",
       "      <td>Cloudy</td>\n",
       "    </tr>\n",
       "    <tr>\n",
       "      <th>2012-12-23 05:00:00</th>\n",
       "      <td>-8.5</td>\n",
       "      <td>-13.2</td>\n",
       "      <td>69</td>\n",
       "      <td>30</td>\n",
       "      <td>25.0</td>\n",
       "      <td>100.49</td>\n",
       "      <td>Cloudy</td>\n",
       "    </tr>\n",
       "    <tr>\n",
       "      <th>2012-12-23 06:00:00</th>\n",
       "      <td>-8.4</td>\n",
       "      <td>-12.3</td>\n",
       "      <td>73</td>\n",
       "      <td>26</td>\n",
       "      <td>25.0</td>\n",
       "      <td>100.51</td>\n",
       "      <td>Cloudy</td>\n",
       "    </tr>\n",
       "    <tr>\n",
       "      <th>2012-12-26 19:00:00</th>\n",
       "      <td>-9.6</td>\n",
       "      <td>-13.1</td>\n",
       "      <td>76</td>\n",
       "      <td>39</td>\n",
       "      <td>25.0</td>\n",
       "      <td>102.03</td>\n",
       "      <td>Cloudy</td>\n",
       "    </tr>\n",
       "    <tr>\n",
       "      <th>2012-12-26 20:00:00</th>\n",
       "      <td>-10.3</td>\n",
       "      <td>-12.9</td>\n",
       "      <td>81</td>\n",
       "      <td>28</td>\n",
       "      <td>25.0</td>\n",
       "      <td>101.88</td>\n",
       "      <td>Cloudy</td>\n",
       "    </tr>\n",
       "    <tr>\n",
       "      <th>2012-12-26 22:00:00</th>\n",
       "      <td>-9.7</td>\n",
       "      <td>-12.8</td>\n",
       "      <td>78</td>\n",
       "      <td>37</td>\n",
       "      <td>25.0</td>\n",
       "      <td>101.70</td>\n",
       "      <td>Cloudy</td>\n",
       "    </tr>\n",
       "    <tr>\n",
       "      <th>2012-12-27 00:00:00</th>\n",
       "      <td>-9.8</td>\n",
       "      <td>-12.5</td>\n",
       "      <td>81</td>\n",
       "      <td>30</td>\n",
       "      <td>25.0</td>\n",
       "      <td>101.46</td>\n",
       "      <td>Cloudy</td>\n",
       "    </tr>\n",
       "    <tr>\n",
       "      <th>2012-12-27 01:00:00</th>\n",
       "      <td>-9.4</td>\n",
       "      <td>-12.2</td>\n",
       "      <td>80</td>\n",
       "      <td>26</td>\n",
       "      <td>25.0</td>\n",
       "      <td>101.37</td>\n",
       "      <td>Cloudy</td>\n",
       "    </tr>\n",
       "    <tr>\n",
       "      <th>2012-12-27 02:00:00</th>\n",
       "      <td>-8.5</td>\n",
       "      <td>-11.3</td>\n",
       "      <td>80</td>\n",
       "      <td>30</td>\n",
       "      <td>25.0</td>\n",
       "      <td>101.31</td>\n",
       "      <td>Cloudy</td>\n",
       "    </tr>\n",
       "    <tr>\n",
       "      <th>2012-12-28 17:00:00</th>\n",
       "      <td>-8.6</td>\n",
       "      <td>-12.0</td>\n",
       "      <td>76</td>\n",
       "      <td>26</td>\n",
       "      <td>25.0</td>\n",
       "      <td>101.34</td>\n",
       "      <td>Mainly Clear</td>\n",
       "    </tr>\n",
       "    <tr>\n",
       "      <th>2012-12-30 17:00:00</th>\n",
       "      <td>-12.1</td>\n",
       "      <td>-15.8</td>\n",
       "      <td>74</td>\n",
       "      <td>28</td>\n",
       "      <td>25.0</td>\n",
       "      <td>101.26</td>\n",
       "      <td>Mainly Clear</td>\n",
       "    </tr>\n",
       "    <tr>\n",
       "      <th>2012-12-30 19:00:00</th>\n",
       "      <td>-13.4</td>\n",
       "      <td>-16.5</td>\n",
       "      <td>77</td>\n",
       "      <td>26</td>\n",
       "      <td>25.0</td>\n",
       "      <td>101.47</td>\n",
       "      <td>Mainly Clear</td>\n",
       "    </tr>\n",
       "    <tr>\n",
       "      <th>2012-12-30 23:00:00</th>\n",
       "      <td>-12.1</td>\n",
       "      <td>-15.1</td>\n",
       "      <td>78</td>\n",
       "      <td>28</td>\n",
       "      <td>25.0</td>\n",
       "      <td>101.52</td>\n",
       "      <td>Mostly Cloudy</td>\n",
       "    </tr>\n",
       "    <tr>\n",
       "      <th>2012-12-31 00:00:00</th>\n",
       "      <td>-11.1</td>\n",
       "      <td>-14.4</td>\n",
       "      <td>77</td>\n",
       "      <td>26</td>\n",
       "      <td>25.0</td>\n",
       "      <td>101.51</td>\n",
       "      <td>Cloudy</td>\n",
       "    </tr>\n",
       "  </tbody>\n",
       "</table>\n",
       "<p>308 rows × 7 columns</p>\n",
       "</div>"
      ],
      "text/plain": [
       "                     Temp (C)  Dew Point Temp (C)  Rel Hum (%)  \\\n",
       "Date/Time                                                        \n",
       "2012-01-01 23:00:00       5.3                 2.0           79   \n",
       "2012-01-02 00:00:00       5.2                 1.5           77   \n",
       "2012-01-02 01:00:00       4.6                 0.0           72   \n",
       "2012-01-02 02:00:00       3.9                -0.9           71   \n",
       "2012-01-02 03:00:00       3.7                -1.5           69   \n",
       "2012-01-02 04:00:00       2.9                -2.3           69   \n",
       "2012-01-02 05:00:00       2.6                -2.3           70   \n",
       "2012-01-02 06:00:00       2.3                -2.6           70   \n",
       "2012-01-02 07:00:00       2.0                -2.9           70   \n",
       "2012-01-02 18:00:00      -4.1               -11.4           57   \n",
       "2012-01-02 21:00:00      -5.8               -12.8           58   \n",
       "2012-01-03 00:00:00      -9.0               -16.0           57   \n",
       "2012-01-03 03:00:00     -11.3               -18.7           54   \n",
       "2012-01-08 00:00:00       0.6                -3.2           76   \n",
       "2012-01-08 01:00:00      -0.6                -4.6           74   \n",
       "2012-01-08 02:00:00      -1.7                -6.2           71   \n",
       "2012-01-08 03:00:00      -3.5                -8.3           69   \n",
       "2012-01-10 00:00:00       2.5                -5.2           57   \n",
       "2012-01-10 01:00:00       2.3                -3.4           66   \n",
       "2012-01-10 03:00:00       1.6                -2.0           77   \n",
       "2012-01-10 04:00:00       1.2                -1.7           81   \n",
       "2012-01-11 19:00:00     -11.8               -19.2           54   \n",
       "2012-01-12 02:00:00      -9.4               -15.0           64   \n",
       "2012-01-12 03:00:00      -9.0               -14.7           63   \n",
       "2012-01-12 05:00:00      -8.0               -13.7           64   \n",
       "2012-01-12 06:00:00      -7.6               -13.1           65   \n",
       "2012-01-12 22:00:00      -4.1                -6.8           81   \n",
       "2012-01-14 07:00:00     -16.8               -22.2           63   \n",
       "2012-01-18 01:00:00       3.7                -2.1           66   \n",
       "2012-01-18 02:00:00       0.5                -4.0           72   \n",
       "...                       ...                 ...          ...   \n",
       "2012-12-05 22:00:00      -1.6                -9.5           55   \n",
       "2012-12-09 20:00:00      -2.2                -7.2           69   \n",
       "2012-12-09 22:00:00      -3.0                -8.2           67   \n",
       "2012-12-09 23:00:00      -3.6                -8.6           68   \n",
       "2012-12-11 01:00:00       0.0                -3.6           77   \n",
       "2012-12-15 23:00:00      -9.9               -15.0           66   \n",
       "2012-12-16 02:00:00     -10.1               -14.6           70   \n",
       "2012-12-16 03:00:00     -10.1               -14.5           70   \n",
       "2012-12-16 06:00:00      -9.9               -14.6           68   \n",
       "2012-12-16 07:00:00      -9.8               -14.9           66   \n",
       "2012-12-20 23:00:00       1.2                -2.1           79   \n",
       "2012-12-21 00:00:00       1.9                -2.1           75   \n",
       "2012-12-21 18:00:00       1.4                 0.3           92   \n",
       "2012-12-23 01:00:00      -7.9               -11.8           74   \n",
       "2012-12-23 02:00:00      -8.2               -12.5           71   \n",
       "2012-12-23 03:00:00      -8.2               -12.4           72   \n",
       "2012-12-23 04:00:00      -8.3               -12.7           71   \n",
       "2012-12-23 05:00:00      -8.5               -13.2           69   \n",
       "2012-12-23 06:00:00      -8.4               -12.3           73   \n",
       "2012-12-26 19:00:00      -9.6               -13.1           76   \n",
       "2012-12-26 20:00:00     -10.3               -12.9           81   \n",
       "2012-12-26 22:00:00      -9.7               -12.8           78   \n",
       "2012-12-27 00:00:00      -9.8               -12.5           81   \n",
       "2012-12-27 01:00:00      -9.4               -12.2           80   \n",
       "2012-12-27 02:00:00      -8.5               -11.3           80   \n",
       "2012-12-28 17:00:00      -8.6               -12.0           76   \n",
       "2012-12-30 17:00:00     -12.1               -15.8           74   \n",
       "2012-12-30 19:00:00     -13.4               -16.5           77   \n",
       "2012-12-30 23:00:00     -12.1               -15.1           78   \n",
       "2012-12-31 00:00:00     -11.1               -14.4           77   \n",
       "\n",
       "                     Wind Spd (km/h)  Visibility (km)  Stn Press (kPa)  \\\n",
       "Date/Time                                                                \n",
       "2012-01-01 23:00:00               30             25.0            99.31   \n",
       "2012-01-02 00:00:00               35             25.0            99.26   \n",
       "2012-01-02 01:00:00               39             25.0            99.26   \n",
       "2012-01-02 02:00:00               32             25.0            99.26   \n",
       "2012-01-02 03:00:00               33             25.0            99.30   \n",
       "2012-01-02 04:00:00               32             25.0            99.26   \n",
       "2012-01-02 05:00:00               32             25.0            99.21   \n",
       "2012-01-02 06:00:00               26             25.0            99.18   \n",
       "2012-01-02 07:00:00               33             25.0            99.14   \n",
       "2012-01-02 18:00:00               28             25.0            99.86   \n",
       "2012-01-02 21:00:00               26             25.0           100.15   \n",
       "2012-01-03 00:00:00               28             25.0           100.35   \n",
       "2012-01-03 03:00:00               33             25.0           100.61   \n",
       "2012-01-08 00:00:00               32             25.0           100.72   \n",
       "2012-01-08 01:00:00               32             25.0           100.80   \n",
       "2012-01-08 02:00:00               30             25.0           100.98   \n",
       "2012-01-08 03:00:00               32             25.0           101.13   \n",
       "2012-01-10 00:00:00               30             25.0           100.38   \n",
       "2012-01-10 01:00:00               35             25.0           100.28   \n",
       "2012-01-10 03:00:00               28             25.0           100.16   \n",
       "2012-01-10 04:00:00               26             25.0           100.07   \n",
       "2012-01-11 19:00:00               30             25.0           101.43   \n",
       "2012-01-12 02:00:00               26             25.0           101.08   \n",
       "2012-01-12 03:00:00               33             25.0           101.02   \n",
       "2012-01-12 05:00:00               30             25.0           100.81   \n",
       "2012-01-12 06:00:00               28             25.0           100.76   \n",
       "2012-01-12 22:00:00               26             25.0            99.47   \n",
       "2012-01-14 07:00:00               26             25.0           100.73   \n",
       "2012-01-18 01:00:00               83             25.0            98.36   \n",
       "2012-01-18 02:00:00               70             25.0            98.62   \n",
       "...                              ...              ...              ...   \n",
       "2012-12-05 22:00:00               26             25.0           102.01   \n",
       "2012-12-09 20:00:00               28             25.0           102.11   \n",
       "2012-12-09 22:00:00               28             25.0           101.78   \n",
       "2012-12-09 23:00:00               32             25.0           101.64   \n",
       "2012-12-11 01:00:00               28             25.0            99.99   \n",
       "2012-12-15 23:00:00               26             25.0           102.38   \n",
       "2012-12-16 02:00:00               28             25.0           102.17   \n",
       "2012-12-16 03:00:00               28             25.0           102.15   \n",
       "2012-12-16 06:00:00               35             25.0           101.93   \n",
       "2012-12-16 07:00:00               32             25.0           101.89   \n",
       "2012-12-20 23:00:00               28             25.0           100.69   \n",
       "2012-12-21 00:00:00               26             25.0           100.60   \n",
       "2012-12-21 18:00:00               46             25.0            97.56   \n",
       "2012-12-23 01:00:00               32             25.0           100.27   \n",
       "2012-12-23 02:00:00               30             25.0           100.36   \n",
       "2012-12-23 03:00:00               30             25.0           100.40   \n",
       "2012-12-23 04:00:00               28             25.0           100.43   \n",
       "2012-12-23 05:00:00               30             25.0           100.49   \n",
       "2012-12-23 06:00:00               26             25.0           100.51   \n",
       "2012-12-26 19:00:00               39             25.0           102.03   \n",
       "2012-12-26 20:00:00               28             25.0           101.88   \n",
       "2012-12-26 22:00:00               37             25.0           101.70   \n",
       "2012-12-27 00:00:00               30             25.0           101.46   \n",
       "2012-12-27 01:00:00               26             25.0           101.37   \n",
       "2012-12-27 02:00:00               30             25.0           101.31   \n",
       "2012-12-28 17:00:00               26             25.0           101.34   \n",
       "2012-12-30 17:00:00               28             25.0           101.26   \n",
       "2012-12-30 19:00:00               26             25.0           101.47   \n",
       "2012-12-30 23:00:00               28             25.0           101.52   \n",
       "2012-12-31 00:00:00               26             25.0           101.51   \n",
       "\n",
       "                              Weather  \n",
       "Date/Time                              \n",
       "2012-01-01 23:00:00            Cloudy  \n",
       "2012-01-02 00:00:00      Rain Showers  \n",
       "2012-01-02 01:00:00            Cloudy  \n",
       "2012-01-02 02:00:00     Mostly Cloudy  \n",
       "2012-01-02 03:00:00     Mostly Cloudy  \n",
       "2012-01-02 04:00:00     Mostly Cloudy  \n",
       "2012-01-02 05:00:00     Mostly Cloudy  \n",
       "2012-01-02 06:00:00     Mostly Cloudy  \n",
       "2012-01-02 07:00:00     Mostly Cloudy  \n",
       "2012-01-02 18:00:00     Mostly Cloudy  \n",
       "2012-01-02 21:00:00      Snow Showers  \n",
       "2012-01-03 00:00:00      Snow Showers  \n",
       "2012-01-03 03:00:00      Snow Showers  \n",
       "2012-01-08 00:00:00            Cloudy  \n",
       "2012-01-08 01:00:00     Mostly Cloudy  \n",
       "2012-01-08 02:00:00     Mostly Cloudy  \n",
       "2012-01-08 03:00:00      Mainly Clear  \n",
       "2012-01-10 00:00:00            Cloudy  \n",
       "2012-01-10 01:00:00              Snow  \n",
       "2012-01-10 03:00:00              Snow  \n",
       "2012-01-10 04:00:00            Cloudy  \n",
       "2012-01-11 19:00:00     Mostly Cloudy  \n",
       "2012-01-12 02:00:00            Cloudy  \n",
       "2012-01-12 03:00:00            Cloudy  \n",
       "2012-01-12 05:00:00            Cloudy  \n",
       "2012-01-12 06:00:00            Cloudy  \n",
       "2012-01-12 22:00:00              Snow  \n",
       "2012-01-14 07:00:00     Mostly Cloudy  \n",
       "2012-01-18 01:00:00     Mostly Cloudy  \n",
       "2012-01-18 02:00:00     Mostly Cloudy  \n",
       "...                               ...  \n",
       "2012-12-05 22:00:00     Mostly Cloudy  \n",
       "2012-12-09 20:00:00            Cloudy  \n",
       "2012-12-09 22:00:00            Cloudy  \n",
       "2012-12-09 23:00:00            Cloudy  \n",
       "2012-12-11 01:00:00            Cloudy  \n",
       "2012-12-15 23:00:00            Cloudy  \n",
       "2012-12-16 02:00:00            Cloudy  \n",
       "2012-12-16 03:00:00            Cloudy  \n",
       "2012-12-16 06:00:00            Cloudy  \n",
       "2012-12-16 07:00:00            Cloudy  \n",
       "2012-12-20 23:00:00            Cloudy  \n",
       "2012-12-21 00:00:00  Rain,Snow Grains  \n",
       "2012-12-21 18:00:00              Rain  \n",
       "2012-12-23 01:00:00      Snow Showers  \n",
       "2012-12-23 02:00:00     Mostly Cloudy  \n",
       "2012-12-23 03:00:00            Cloudy  \n",
       "2012-12-23 04:00:00            Cloudy  \n",
       "2012-12-23 05:00:00            Cloudy  \n",
       "2012-12-23 06:00:00            Cloudy  \n",
       "2012-12-26 19:00:00            Cloudy  \n",
       "2012-12-26 20:00:00            Cloudy  \n",
       "2012-12-26 22:00:00            Cloudy  \n",
       "2012-12-27 00:00:00            Cloudy  \n",
       "2012-12-27 01:00:00            Cloudy  \n",
       "2012-12-27 02:00:00            Cloudy  \n",
       "2012-12-28 17:00:00      Mainly Clear  \n",
       "2012-12-30 17:00:00      Mainly Clear  \n",
       "2012-12-30 19:00:00      Mainly Clear  \n",
       "2012-12-30 23:00:00     Mostly Cloudy  \n",
       "2012-12-31 00:00:00            Cloudy  \n",
       "\n",
       "[308 rows x 7 columns]"
      ]
     },
     "execution_count": 19,
     "metadata": {},
     "output_type": "execute_result"
    }
   ],
   "source": [
    "df = weather_df2[(weather_df2['Wind Spd (km/h)'] > 24) & (weather_df2['Visibility (km)']== 25)]\n",
    "df"
   ]
  },
  {
   "cell_type": "code",
   "execution_count": 20,
   "metadata": {},
   "outputs": [
    {
     "data": {
      "text/html": [
       "<div>\n",
       "<style scoped>\n",
       "    .dataframe tbody tr th:only-of-type {\n",
       "        vertical-align: middle;\n",
       "    }\n",
       "\n",
       "    .dataframe tbody tr th {\n",
       "        vertical-align: top;\n",
       "    }\n",
       "\n",
       "    .dataframe thead th {\n",
       "        text-align: right;\n",
       "    }\n",
       "</style>\n",
       "<table border=\"1\" class=\"dataframe\">\n",
       "  <thead>\n",
       "    <tr style=\"text-align: right;\">\n",
       "      <th></th>\n",
       "      <th>Temp (C)</th>\n",
       "      <th>Dew Point Temp (C)</th>\n",
       "      <th>Rel Hum (%)</th>\n",
       "      <th>Wind Spd (km/h)</th>\n",
       "      <th>Visibility (km)</th>\n",
       "      <th>Stn Press (kPa)</th>\n",
       "      <th>Weather</th>\n",
       "    </tr>\n",
       "    <tr>\n",
       "      <th>Date/Time</th>\n",
       "      <th></th>\n",
       "      <th></th>\n",
       "      <th></th>\n",
       "      <th></th>\n",
       "      <th></th>\n",
       "      <th></th>\n",
       "      <th></th>\n",
       "    </tr>\n",
       "  </thead>\n",
       "  <tbody>\n",
       "    <tr>\n",
       "      <th>2012-01-01 23:00:00</th>\n",
       "      <td>5.3</td>\n",
       "      <td>2.0</td>\n",
       "      <td>79</td>\n",
       "      <td>30</td>\n",
       "      <td>25.0</td>\n",
       "      <td>99.31</td>\n",
       "      <td>Cloudy</td>\n",
       "    </tr>\n",
       "    <tr>\n",
       "      <th>2012-01-02 00:00:00</th>\n",
       "      <td>5.2</td>\n",
       "      <td>1.5</td>\n",
       "      <td>77</td>\n",
       "      <td>35</td>\n",
       "      <td>25.0</td>\n",
       "      <td>99.26</td>\n",
       "      <td>Rain Showers</td>\n",
       "    </tr>\n",
       "    <tr>\n",
       "      <th>2012-01-02 01:00:00</th>\n",
       "      <td>4.6</td>\n",
       "      <td>0.0</td>\n",
       "      <td>72</td>\n",
       "      <td>39</td>\n",
       "      <td>25.0</td>\n",
       "      <td>99.26</td>\n",
       "      <td>Cloudy</td>\n",
       "    </tr>\n",
       "    <tr>\n",
       "      <th>2012-01-02 02:00:00</th>\n",
       "      <td>3.9</td>\n",
       "      <td>-0.9</td>\n",
       "      <td>71</td>\n",
       "      <td>32</td>\n",
       "      <td>25.0</td>\n",
       "      <td>99.26</td>\n",
       "      <td>Mostly Cloudy</td>\n",
       "    </tr>\n",
       "    <tr>\n",
       "      <th>2012-01-02 03:00:00</th>\n",
       "      <td>3.7</td>\n",
       "      <td>-1.5</td>\n",
       "      <td>69</td>\n",
       "      <td>33</td>\n",
       "      <td>25.0</td>\n",
       "      <td>99.30</td>\n",
       "      <td>Mostly Cloudy</td>\n",
       "    </tr>\n",
       "  </tbody>\n",
       "</table>\n",
       "</div>"
      ],
      "text/plain": [
       "                     Temp (C)  Dew Point Temp (C)  Rel Hum (%)  \\\n",
       "Date/Time                                                        \n",
       "2012-01-01 23:00:00       5.3                 2.0           79   \n",
       "2012-01-02 00:00:00       5.2                 1.5           77   \n",
       "2012-01-02 01:00:00       4.6                 0.0           72   \n",
       "2012-01-02 02:00:00       3.9                -0.9           71   \n",
       "2012-01-02 03:00:00       3.7                -1.5           69   \n",
       "\n",
       "                     Wind Spd (km/h)  Visibility (km)  Stn Press (kPa)  \\\n",
       "Date/Time                                                                \n",
       "2012-01-01 23:00:00               30             25.0            99.31   \n",
       "2012-01-02 00:00:00               35             25.0            99.26   \n",
       "2012-01-02 01:00:00               39             25.0            99.26   \n",
       "2012-01-02 02:00:00               32             25.0            99.26   \n",
       "2012-01-02 03:00:00               33             25.0            99.30   \n",
       "\n",
       "                           Weather  \n",
       "Date/Time                           \n",
       "2012-01-01 23:00:00         Cloudy  \n",
       "2012-01-02 00:00:00   Rain Showers  \n",
       "2012-01-02 01:00:00         Cloudy  \n",
       "2012-01-02 02:00:00  Mostly Cloudy  \n",
       "2012-01-02 03:00:00  Mostly Cloudy  "
      ]
     },
     "execution_count": 20,
     "metadata": {},
     "output_type": "execute_result"
    }
   ],
   "source": [
    "df.head()"
   ]
  },
  {
   "cell_type": "markdown",
   "metadata": {
    "collapsed": true,
    "slideshow": {
     "slide_type": "subslide"
    }
   },
   "source": [
    "## Summary / Cheatsheet: Selection/Indexing/Filtering\n",
    "***\n",
    "This is a handy reminder for what syntax will get what result.\n",
    "\n",
    "Syntax | Function | Remarks\n",
    ":--- | :--- | :---\n",
    "**`df['some_label']`** |  Get the (single) Column referenced by name `some_label` | A **str** is provided\n",
    "**`df[['label1', 'label2']]`** | Get multiple columns referenced by given names | A **list** is provided \n",
    "**`df[('label1', 'label2')]`** | Get a single Column referenced by the hierarchical column index | A **tuple** is provided\n",
    "**`df[start:end:step]`** | Get corresponding rows (same as list slicing) | A **slicing operator**<br/> is provided\n",
    "**`df[boolean array/df]`** | Get corresponding rows (same as list slicing) | A **filter object** is provided\n",
    "**`df.loc [row_sel, col_sel]`** | Select specified rows and columns (by labels) | \n",
    "**`df.iloc[row_sel, col_sel]`** | Select specified rows and columns (by index) | \n"
   ]
  },
  {
   "cell_type": "markdown",
   "metadata": {
    "slideshow": {
     "slide_type": "subslide"
    }
   },
   "source": [
    "<img src=\"../images/icon/Concept-Alert.png\" alt=\"Concept-Alert\" style=\"width: 100px;float:left; margin-right:15px\"/>\n",
    "<br /> \n",
    "\n",
    "## Working with Columns\n",
    "***\n",
    "- Series operations\n",
    "- Adding/Updating Columns\n",
    "- Renaming Columns\n",
    "- Deleting Columns"
   ]
  },
  {
   "cell_type": "markdown",
   "metadata": {
    "slideshow": {
     "slide_type": "subslide"
    }
   },
   "source": [
    "### Series Operations"
   ]
  },
  {
   "cell_type": "code",
   "execution_count": 48,
   "metadata": {
    "slideshow": {
     "slide_type": "fragment"
    }
   },
   "outputs": [
    {
     "data": {
      "text/plain": [
       "Date/Time\n",
       "2012-01-01 00:00:00    14\n",
       "2012-01-01 01:00:00    14\n",
       "2012-01-01 02:00:00    17\n",
       "2012-01-01 03:00:00    16\n",
       "2012-01-01 04:00:00    17\n",
       "Name: Wind Spd (km/h), dtype: int64"
      ]
     },
     "execution_count": 48,
     "metadata": {},
     "output_type": "execute_result"
    }
   ],
   "source": [
    "add_10 = weather_df2[\"Wind Spd (km/h)\"] + 10\n",
    "add_10.head()"
   ]
  },
  {
   "cell_type": "code",
   "execution_count": 49,
   "metadata": {
    "slideshow": {
     "slide_type": "subslide"
    }
   },
   "outputs": [
    {
     "data": {
      "text/plain": [
       "Date/Time\n",
       "2012-01-01 00:00:00    16.0\n",
       "2012-01-01 01:00:00    16.0\n",
       "2012-01-01 02:00:00     8.0\n",
       "2012-01-01 03:00:00     8.0\n",
       "2012-01-01 04:00:00     9.6\n",
       "Name: Visibility (km), dtype: float64"
      ]
     },
     "execution_count": 49,
     "metadata": {},
     "output_type": "execute_result"
    }
   ],
   "source": [
    "mult_2 = weather_df2['Visibility (km)'] * 2\n",
    "mult_2.head()"
   ]
  },
  {
   "cell_type": "code",
   "execution_count": 50,
   "metadata": {
    "slideshow": {
     "slide_type": "fragment"
    }
   },
   "outputs": [
    {
     "data": {
      "text/plain": [
       "Date/Time\n",
       "2012-01-01 00:00:00   -5.7\n",
       "2012-01-01 01:00:00   -5.5\n",
       "2012-01-01 02:00:00   -5.2\n",
       "2012-01-01 03:00:00   -4.7\n",
       "2012-01-01 04:00:00   -4.8\n",
       "dtype: float64"
      ]
     },
     "execution_count": 50,
     "metadata": {},
     "output_type": "execute_result"
    }
   ],
   "source": [
    "temperature = weather_df2[\"Temp (C)\"] + weather_df2[\"Dew Point Temp (C)\"]\n",
    "temperature.head()"
   ]
  },
  {
   "cell_type": "markdown",
   "metadata": {
    "slideshow": {
     "slide_type": "subslide"
    }
   },
   "source": [
    "### Apply / Call Functions"
   ]
  },
  {
   "cell_type": "code",
   "execution_count": 51,
   "metadata": {
    "slideshow": {
     "slide_type": "fragment"
    }
   },
   "outputs": [
    {
     "data": {
      "text/plain": [
       "count    8784.000000\n",
       "mean       27.664447\n",
       "std        12.622688\n",
       "min         0.200000\n",
       "25%        24.100000\n",
       "50%        25.000000\n",
       "75%        25.000000\n",
       "max        48.300000\n",
       "Name: Visibility (km), dtype: float64"
      ]
     },
     "execution_count": 51,
     "metadata": {},
     "output_type": "execute_result"
    }
   ],
   "source": [
    "weather_df2['Visibility (km)'].describe()"
   ]
  },
  {
   "cell_type": "code",
   "execution_count": 52,
   "metadata": {
    "slideshow": {
     "slide_type": "fragment"
    }
   },
   "outputs": [
    {
     "data": {
      "text/plain": [
       "0.2"
      ]
     },
     "execution_count": 52,
     "metadata": {},
     "output_type": "execute_result"
    }
   ],
   "source": [
    "weather_df2['Visibility (km)'].min()"
   ]
  },
  {
   "cell_type": "code",
   "execution_count": 53,
   "metadata": {
    "slideshow": {
     "slide_type": "subslide"
    }
   },
   "outputs": [
    {
     "data": {
      "text/plain": [
       "Date/Time\n",
       "2012-01-01 00:00:00    16.0\n",
       "2012-01-01 01:00:00    16.0\n",
       "2012-01-01 02:00:00     8.0\n",
       "2012-01-01 03:00:00     8.0\n",
       "2012-01-01 04:00:00     9.6\n",
       "Name: Visibility (km), dtype: float64"
      ]
     },
     "execution_count": 53,
     "metadata": {},
     "output_type": "execute_result"
    }
   ],
   "source": [
    "# Applying custom functions\n",
    "\n",
    "def times2(value):\n",
    "    return value * 2\n",
    "\n",
    "t2 = weather_df2['Visibility (km)'].apply(times2)\n",
    "t2.head()"
   ]
  },
  {
   "cell_type": "markdown",
   "metadata": {
    "slideshow": {
     "slide_type": "subslide"
    }
   },
   "source": [
    "### Adding/Updating Columns"
   ]
  },
  {
   "cell_type": "code",
   "execution_count": 54,
   "metadata": {
    "slideshow": {
     "slide_type": "fragment"
    }
   },
   "outputs": [
    {
     "data": {
      "text/html": [
       "<div>\n",
       "<style scoped>\n",
       "    .dataframe tbody tr th:only-of-type {\n",
       "        vertical-align: middle;\n",
       "    }\n",
       "\n",
       "    .dataframe tbody tr th {\n",
       "        vertical-align: top;\n",
       "    }\n",
       "\n",
       "    .dataframe thead th {\n",
       "        text-align: right;\n",
       "    }\n",
       "</style>\n",
       "<table border=\"1\" class=\"dataframe\">\n",
       "  <thead>\n",
       "    <tr style=\"text-align: right;\">\n",
       "      <th></th>\n",
       "      <th>Temp (C)</th>\n",
       "      <th>Dew Point Temp (C)</th>\n",
       "      <th>Rel Hum (%)</th>\n",
       "      <th>Wind Spd (km/h)</th>\n",
       "      <th>Visibility (km)</th>\n",
       "      <th>Stn Press (kPa)</th>\n",
       "      <th>Weather</th>\n",
       "      <th>Visibility (m)</th>\n",
       "    </tr>\n",
       "    <tr>\n",
       "      <th>Date/Time</th>\n",
       "      <th></th>\n",
       "      <th></th>\n",
       "      <th></th>\n",
       "      <th></th>\n",
       "      <th></th>\n",
       "      <th></th>\n",
       "      <th></th>\n",
       "      <th></th>\n",
       "    </tr>\n",
       "  </thead>\n",
       "  <tbody>\n",
       "    <tr>\n",
       "      <th>2012-01-01 00:00:00</th>\n",
       "      <td>-1.8</td>\n",
       "      <td>-3.9</td>\n",
       "      <td>86</td>\n",
       "      <td>4</td>\n",
       "      <td>8.0</td>\n",
       "      <td>101.24</td>\n",
       "      <td>Fog</td>\n",
       "      <td>8000.0</td>\n",
       "    </tr>\n",
       "    <tr>\n",
       "      <th>2012-01-01 01:00:00</th>\n",
       "      <td>-1.8</td>\n",
       "      <td>-3.7</td>\n",
       "      <td>87</td>\n",
       "      <td>4</td>\n",
       "      <td>8.0</td>\n",
       "      <td>101.24</td>\n",
       "      <td>Fog</td>\n",
       "      <td>8000.0</td>\n",
       "    </tr>\n",
       "    <tr>\n",
       "      <th>2012-01-01 02:00:00</th>\n",
       "      <td>-1.8</td>\n",
       "      <td>-3.4</td>\n",
       "      <td>89</td>\n",
       "      <td>7</td>\n",
       "      <td>4.0</td>\n",
       "      <td>101.26</td>\n",
       "      <td>Freezing Drizzle,Fog</td>\n",
       "      <td>4000.0</td>\n",
       "    </tr>\n",
       "    <tr>\n",
       "      <th>2012-01-01 03:00:00</th>\n",
       "      <td>-1.5</td>\n",
       "      <td>-3.2</td>\n",
       "      <td>88</td>\n",
       "      <td>6</td>\n",
       "      <td>4.0</td>\n",
       "      <td>101.27</td>\n",
       "      <td>Freezing Drizzle,Fog</td>\n",
       "      <td>4000.0</td>\n",
       "    </tr>\n",
       "    <tr>\n",
       "      <th>2012-01-01 04:00:00</th>\n",
       "      <td>-1.5</td>\n",
       "      <td>-3.3</td>\n",
       "      <td>88</td>\n",
       "      <td>7</td>\n",
       "      <td>4.8</td>\n",
       "      <td>101.23</td>\n",
       "      <td>Fog</td>\n",
       "      <td>4800.0</td>\n",
       "    </tr>\n",
       "  </tbody>\n",
       "</table>\n",
       "</div>"
      ],
      "text/plain": [
       "                     Temp (C)  Dew Point Temp (C)  Rel Hum (%)  \\\n",
       "Date/Time                                                        \n",
       "2012-01-01 00:00:00      -1.8                -3.9           86   \n",
       "2012-01-01 01:00:00      -1.8                -3.7           87   \n",
       "2012-01-01 02:00:00      -1.8                -3.4           89   \n",
       "2012-01-01 03:00:00      -1.5                -3.2           88   \n",
       "2012-01-01 04:00:00      -1.5                -3.3           88   \n",
       "\n",
       "                     Wind Spd (km/h)  Visibility (km)  Stn Press (kPa)  \\\n",
       "Date/Time                                                                \n",
       "2012-01-01 00:00:00                4              8.0           101.24   \n",
       "2012-01-01 01:00:00                4              8.0           101.24   \n",
       "2012-01-01 02:00:00                7              4.0           101.26   \n",
       "2012-01-01 03:00:00                6              4.0           101.27   \n",
       "2012-01-01 04:00:00                7              4.8           101.23   \n",
       "\n",
       "                                  Weather  Visibility (m)  \n",
       "Date/Time                                                  \n",
       "2012-01-01 00:00:00                   Fog          8000.0  \n",
       "2012-01-01 01:00:00                   Fog          8000.0  \n",
       "2012-01-01 02:00:00  Freezing Drizzle,Fog          4000.0  \n",
       "2012-01-01 03:00:00  Freezing Drizzle,Fog          4000.0  \n",
       "2012-01-01 04:00:00                   Fog          4800.0  "
      ]
     },
     "execution_count": 54,
     "metadata": {},
     "output_type": "execute_result"
    }
   ],
   "source": [
    "visibility_in_meter = weather_df2[\"Visibility (km)\"] * 1000  \n",
    "weather_df2[\"Visibility (m)\"] = visibility_in_meter\n",
    "\n",
    "weather_df2.head()"
   ]
  },
  {
   "cell_type": "markdown",
   "metadata": {
    "slideshow": {
     "slide_type": "subslide"
    }
   },
   "source": [
    "### Renaming Columns"
   ]
  },
  {
   "cell_type": "code",
   "execution_count": 55,
   "metadata": {
    "slideshow": {
     "slide_type": "fragment"
    }
   },
   "outputs": [
    {
     "data": {
      "text/html": [
       "<div>\n",
       "<style scoped>\n",
       "    .dataframe tbody tr th:only-of-type {\n",
       "        vertical-align: middle;\n",
       "    }\n",
       "\n",
       "    .dataframe tbody tr th {\n",
       "        vertical-align: top;\n",
       "    }\n",
       "\n",
       "    .dataframe thead th {\n",
       "        text-align: right;\n",
       "    }\n",
       "</style>\n",
       "<table border=\"1\" class=\"dataframe\">\n",
       "  <thead>\n",
       "    <tr style=\"text-align: right;\">\n",
       "      <th></th>\n",
       "      <th>Temp (C)</th>\n",
       "      <th>Dew Point Temp (C)</th>\n",
       "      <th>Rel Hum (%)</th>\n",
       "      <th>Wind Spd (km/h)</th>\n",
       "      <th>Visibility (km)</th>\n",
       "      <th>Stn Press (kPa)</th>\n",
       "      <th>Weather</th>\n",
       "      <th>Visibility (meters)</th>\n",
       "    </tr>\n",
       "    <tr>\n",
       "      <th>Date/Time</th>\n",
       "      <th></th>\n",
       "      <th></th>\n",
       "      <th></th>\n",
       "      <th></th>\n",
       "      <th></th>\n",
       "      <th></th>\n",
       "      <th></th>\n",
       "      <th></th>\n",
       "    </tr>\n",
       "  </thead>\n",
       "  <tbody>\n",
       "    <tr>\n",
       "      <th>2012-01-01 00:00:00</th>\n",
       "      <td>-1.8</td>\n",
       "      <td>-3.9</td>\n",
       "      <td>86</td>\n",
       "      <td>4</td>\n",
       "      <td>8.0</td>\n",
       "      <td>101.24</td>\n",
       "      <td>Fog</td>\n",
       "      <td>8000.0</td>\n",
       "    </tr>\n",
       "    <tr>\n",
       "      <th>2012-01-01 01:00:00</th>\n",
       "      <td>-1.8</td>\n",
       "      <td>-3.7</td>\n",
       "      <td>87</td>\n",
       "      <td>4</td>\n",
       "      <td>8.0</td>\n",
       "      <td>101.24</td>\n",
       "      <td>Fog</td>\n",
       "      <td>8000.0</td>\n",
       "    </tr>\n",
       "    <tr>\n",
       "      <th>2012-01-01 02:00:00</th>\n",
       "      <td>-1.8</td>\n",
       "      <td>-3.4</td>\n",
       "      <td>89</td>\n",
       "      <td>7</td>\n",
       "      <td>4.0</td>\n",
       "      <td>101.26</td>\n",
       "      <td>Freezing Drizzle,Fog</td>\n",
       "      <td>4000.0</td>\n",
       "    </tr>\n",
       "    <tr>\n",
       "      <th>2012-01-01 03:00:00</th>\n",
       "      <td>-1.5</td>\n",
       "      <td>-3.2</td>\n",
       "      <td>88</td>\n",
       "      <td>6</td>\n",
       "      <td>4.0</td>\n",
       "      <td>101.27</td>\n",
       "      <td>Freezing Drizzle,Fog</td>\n",
       "      <td>4000.0</td>\n",
       "    </tr>\n",
       "    <tr>\n",
       "      <th>2012-01-01 04:00:00</th>\n",
       "      <td>-1.5</td>\n",
       "      <td>-3.3</td>\n",
       "      <td>88</td>\n",
       "      <td>7</td>\n",
       "      <td>4.8</td>\n",
       "      <td>101.23</td>\n",
       "      <td>Fog</td>\n",
       "      <td>4800.0</td>\n",
       "    </tr>\n",
       "  </tbody>\n",
       "</table>\n",
       "</div>"
      ],
      "text/plain": [
       "                     Temp (C)  Dew Point Temp (C)  Rel Hum (%)  \\\n",
       "Date/Time                                                        \n",
       "2012-01-01 00:00:00      -1.8                -3.9           86   \n",
       "2012-01-01 01:00:00      -1.8                -3.7           87   \n",
       "2012-01-01 02:00:00      -1.8                -3.4           89   \n",
       "2012-01-01 03:00:00      -1.5                -3.2           88   \n",
       "2012-01-01 04:00:00      -1.5                -3.3           88   \n",
       "\n",
       "                     Wind Spd (km/h)  Visibility (km)  Stn Press (kPa)  \\\n",
       "Date/Time                                                                \n",
       "2012-01-01 00:00:00                4              8.0           101.24   \n",
       "2012-01-01 01:00:00                4              8.0           101.24   \n",
       "2012-01-01 02:00:00                7              4.0           101.26   \n",
       "2012-01-01 03:00:00                6              4.0           101.27   \n",
       "2012-01-01 04:00:00                7              4.8           101.23   \n",
       "\n",
       "                                  Weather  Visibility (meters)  \n",
       "Date/Time                                                       \n",
       "2012-01-01 00:00:00                   Fog               8000.0  \n",
       "2012-01-01 01:00:00                   Fog               8000.0  \n",
       "2012-01-01 02:00:00  Freezing Drizzle,Fog               4000.0  \n",
       "2012-01-01 03:00:00  Freezing Drizzle,Fog               4000.0  \n",
       "2012-01-01 04:00:00                   Fog               4800.0  "
      ]
     },
     "execution_count": 55,
     "metadata": {},
     "output_type": "execute_result"
    }
   ],
   "source": [
    "# Notice the \"inplace=True\" parameter !\n",
    "\n",
    "weather_df2.rename(columns={'Visibility (m)': 'Visibility (meters)'}, inplace=True)\n",
    "weather_df2.head()"
   ]
  },
  {
   "cell_type": "markdown",
   "metadata": {
    "slideshow": {
     "slide_type": "subslide"
    }
   },
   "source": [
    "### Deleting Columns"
   ]
  },
  {
   "cell_type": "code",
   "execution_count": 56,
   "metadata": {
    "slideshow": {
     "slide_type": "fragment"
    }
   },
   "outputs": [
    {
     "data": {
      "text/html": [
       "<div>\n",
       "<style scoped>\n",
       "    .dataframe tbody tr th:only-of-type {\n",
       "        vertical-align: middle;\n",
       "    }\n",
       "\n",
       "    .dataframe tbody tr th {\n",
       "        vertical-align: top;\n",
       "    }\n",
       "\n",
       "    .dataframe thead th {\n",
       "        text-align: right;\n",
       "    }\n",
       "</style>\n",
       "<table border=\"1\" class=\"dataframe\">\n",
       "  <thead>\n",
       "    <tr style=\"text-align: right;\">\n",
       "      <th></th>\n",
       "      <th>Temp (C)</th>\n",
       "      <th>Dew Point Temp (C)</th>\n",
       "      <th>Rel Hum (%)</th>\n",
       "      <th>Wind Spd (km/h)</th>\n",
       "      <th>Visibility (km)</th>\n",
       "      <th>Stn Press (kPa)</th>\n",
       "      <th>Weather</th>\n",
       "    </tr>\n",
       "    <tr>\n",
       "      <th>Date/Time</th>\n",
       "      <th></th>\n",
       "      <th></th>\n",
       "      <th></th>\n",
       "      <th></th>\n",
       "      <th></th>\n",
       "      <th></th>\n",
       "      <th></th>\n",
       "    </tr>\n",
       "  </thead>\n",
       "  <tbody>\n",
       "    <tr>\n",
       "      <th>2012-01-01 00:00:00</th>\n",
       "      <td>-1.8</td>\n",
       "      <td>-3.9</td>\n",
       "      <td>86</td>\n",
       "      <td>4</td>\n",
       "      <td>8.0</td>\n",
       "      <td>101.24</td>\n",
       "      <td>Fog</td>\n",
       "    </tr>\n",
       "    <tr>\n",
       "      <th>2012-01-01 01:00:00</th>\n",
       "      <td>-1.8</td>\n",
       "      <td>-3.7</td>\n",
       "      <td>87</td>\n",
       "      <td>4</td>\n",
       "      <td>8.0</td>\n",
       "      <td>101.24</td>\n",
       "      <td>Fog</td>\n",
       "    </tr>\n",
       "    <tr>\n",
       "      <th>2012-01-01 02:00:00</th>\n",
       "      <td>-1.8</td>\n",
       "      <td>-3.4</td>\n",
       "      <td>89</td>\n",
       "      <td>7</td>\n",
       "      <td>4.0</td>\n",
       "      <td>101.26</td>\n",
       "      <td>Freezing Drizzle,Fog</td>\n",
       "    </tr>\n",
       "  </tbody>\n",
       "</table>\n",
       "</div>"
      ],
      "text/plain": [
       "                     Temp (C)  Dew Point Temp (C)  Rel Hum (%)  \\\n",
       "Date/Time                                                        \n",
       "2012-01-01 00:00:00      -1.8                -3.9           86   \n",
       "2012-01-01 01:00:00      -1.8                -3.7           87   \n",
       "2012-01-01 02:00:00      -1.8                -3.4           89   \n",
       "\n",
       "                     Wind Spd (km/h)  Visibility (km)  Stn Press (kPa)  \\\n",
       "Date/Time                                                                \n",
       "2012-01-01 00:00:00                4              8.0           101.24   \n",
       "2012-01-01 01:00:00                4              8.0           101.24   \n",
       "2012-01-01 02:00:00                7              4.0           101.26   \n",
       "\n",
       "                                  Weather  \n",
       "Date/Time                                  \n",
       "2012-01-01 00:00:00                   Fog  \n",
       "2012-01-01 01:00:00                   Fog  \n",
       "2012-01-01 02:00:00  Freezing Drizzle,Fog  "
      ]
     },
     "execution_count": 56,
     "metadata": {},
     "output_type": "execute_result"
    }
   ],
   "source": [
    "# Since we have not mentioned inplace=True, it returns a new dataframe\n",
    "weather_df2.drop(labels=['Visibility (meters)'], axis=1).head(3)"
   ]
  },
  {
   "cell_type": "code",
   "execution_count": 57,
   "metadata": {
    "slideshow": {
     "slide_type": "fragment"
    }
   },
   "outputs": [],
   "source": [
    "# Alternatively, you can also write\n",
    "# del weather_df2['Visibility (meters)']"
   ]
  },
  {
   "cell_type": "markdown",
   "metadata": {
    "slideshow": {
     "slide_type": "slide"
    }
   },
   "source": [
    "<img src=\"../images/icon/Technical-Stuff.png\" alt=\"Concept-Alert\" style=\"width: 100px;float:left; margin-right:15px\"/>\n",
    "<br /> \n",
    "## Sorting\n",
    "***"
   ]
  },
  {
   "cell_type": "code",
   "execution_count": 58,
   "metadata": {
    "slideshow": {
     "slide_type": "fragment"
    }
   },
   "outputs": [
    {
     "data": {
      "text/html": [
       "<div>\n",
       "<style scoped>\n",
       "    .dataframe tbody tr th:only-of-type {\n",
       "        vertical-align: middle;\n",
       "    }\n",
       "\n",
       "    .dataframe tbody tr th {\n",
       "        vertical-align: top;\n",
       "    }\n",
       "\n",
       "    .dataframe thead th {\n",
       "        text-align: right;\n",
       "    }\n",
       "</style>\n",
       "<table border=\"1\" class=\"dataframe\">\n",
       "  <thead>\n",
       "    <tr style=\"text-align: right;\">\n",
       "      <th></th>\n",
       "      <th>Temp (C)</th>\n",
       "      <th>Dew Point Temp (C)</th>\n",
       "      <th>Rel Hum (%)</th>\n",
       "      <th>Wind Spd (km/h)</th>\n",
       "      <th>Visibility (km)</th>\n",
       "      <th>Stn Press (kPa)</th>\n",
       "      <th>Weather</th>\n",
       "      <th>Visibility (meters)</th>\n",
       "    </tr>\n",
       "    <tr>\n",
       "      <th>Date/Time</th>\n",
       "      <th></th>\n",
       "      <th></th>\n",
       "      <th></th>\n",
       "      <th></th>\n",
       "      <th></th>\n",
       "      <th></th>\n",
       "      <th></th>\n",
       "      <th></th>\n",
       "    </tr>\n",
       "  </thead>\n",
       "  <tbody>\n",
       "    <tr>\n",
       "      <th>2012-07-14 15:00:00</th>\n",
       "      <td>33.0</td>\n",
       "      <td>16.8</td>\n",
       "      <td>38</td>\n",
       "      <td>22</td>\n",
       "      <td>48.3</td>\n",
       "      <td>101.31</td>\n",
       "      <td>Mainly Clear</td>\n",
       "      <td>48300.0</td>\n",
       "    </tr>\n",
       "    <tr>\n",
       "      <th>2012-06-21 15:00:00</th>\n",
       "      <td>33.0</td>\n",
       "      <td>19.0</td>\n",
       "      <td>44</td>\n",
       "      <td>24</td>\n",
       "      <td>24.1</td>\n",
       "      <td>100.20</td>\n",
       "      <td>Mainly Clear</td>\n",
       "      <td>24100.0</td>\n",
       "    </tr>\n",
       "    <tr>\n",
       "      <th>2012-07-14 16:00:00</th>\n",
       "      <td>32.9</td>\n",
       "      <td>15.3</td>\n",
       "      <td>35</td>\n",
       "      <td>24</td>\n",
       "      <td>48.3</td>\n",
       "      <td>101.26</td>\n",
       "      <td>Mainly Clear</td>\n",
       "      <td>48300.0</td>\n",
       "    </tr>\n",
       "    <tr>\n",
       "      <th>2012-08-04 15:00:00</th>\n",
       "      <td>32.8</td>\n",
       "      <td>18.8</td>\n",
       "      <td>44</td>\n",
       "      <td>17</td>\n",
       "      <td>24.1</td>\n",
       "      <td>101.39</td>\n",
       "      <td>Clear</td>\n",
       "      <td>24100.0</td>\n",
       "    </tr>\n",
       "    <tr>\n",
       "      <th>2012-07-14 14:00:00</th>\n",
       "      <td>32.7</td>\n",
       "      <td>15.3</td>\n",
       "      <td>35</td>\n",
       "      <td>28</td>\n",
       "      <td>48.3</td>\n",
       "      <td>101.35</td>\n",
       "      <td>Mainly Clear</td>\n",
       "      <td>48300.0</td>\n",
       "    </tr>\n",
       "  </tbody>\n",
       "</table>\n",
       "</div>"
      ],
      "text/plain": [
       "                     Temp (C)  Dew Point Temp (C)  Rel Hum (%)  \\\n",
       "Date/Time                                                        \n",
       "2012-07-14 15:00:00      33.0                16.8           38   \n",
       "2012-06-21 15:00:00      33.0                19.0           44   \n",
       "2012-07-14 16:00:00      32.9                15.3           35   \n",
       "2012-08-04 15:00:00      32.8                18.8           44   \n",
       "2012-07-14 14:00:00      32.7                15.3           35   \n",
       "\n",
       "                     Wind Spd (km/h)  Visibility (km)  Stn Press (kPa)  \\\n",
       "Date/Time                                                                \n",
       "2012-07-14 15:00:00               22             48.3           101.31   \n",
       "2012-06-21 15:00:00               24             24.1           100.20   \n",
       "2012-07-14 16:00:00               24             48.3           101.26   \n",
       "2012-08-04 15:00:00               17             24.1           101.39   \n",
       "2012-07-14 14:00:00               28             48.3           101.35   \n",
       "\n",
       "                          Weather  Visibility (meters)  \n",
       "Date/Time                                               \n",
       "2012-07-14 15:00:00  Mainly Clear              48300.0  \n",
       "2012-06-21 15:00:00  Mainly Clear              24100.0  \n",
       "2012-07-14 16:00:00  Mainly Clear              48300.0  \n",
       "2012-08-04 15:00:00         Clear              24100.0  \n",
       "2012-07-14 14:00:00  Mainly Clear              48300.0  "
      ]
     },
     "execution_count": 58,
     "metadata": {},
     "output_type": "execute_result"
    }
   ],
   "source": [
    "sorted_by_temp = weather_df2.sort_values('Temp (C)', ascending=False)  # can be inplace as well\n",
    "sorted_by_temp.head()"
   ]
  },
  {
   "cell_type": "markdown",
   "metadata": {
    "ExecuteTime": {
     "end_time": "2017-09-22T12:41:32.876489Z",
     "start_time": "2017-09-22T12:41:32.860307Z"
    },
    "slideshow": {
     "slide_type": "subslide"
    }
   },
   "source": [
    "### Which were the top 10 hottest values and their counts?"
   ]
  },
  {
   "cell_type": "code",
   "execution_count": 59,
   "metadata": {
    "slideshow": {
     "slide_type": "fragment"
    }
   },
   "outputs": [
    {
     "data": {
      "text/plain": [
       "16.6    65\n",
       "1.1     58\n",
       "0.8     47\n",
       "1.5     45\n",
       "19.3    44\n",
       "21.1    43\n",
       "2.6     43\n",
       "0.4     41\n",
       "1.3     40\n",
       "14.6    39\n",
       "Name: Temp (C), dtype: int64"
      ]
     },
     "execution_count": 59,
     "metadata": {},
     "output_type": "execute_result"
    }
   ],
   "source": [
    "sorted_value_counts = weather_df2['Temp (C)'].value_counts().sort_values(ascending=False)\n",
    "sorted_value_counts.iloc[:10]"
   ]
  },
  {
   "cell_type": "markdown",
   "metadata": {
    "ExecuteTime": {
     "end_time": "2017-09-22T12:41:32.876489Z",
     "start_time": "2017-09-22T12:41:32.860307Z"
    },
    "slideshow": {
     "slide_type": "subslide"
    }
   },
   "source": [
    "### What is the mean temperature recorded by month?"
   ]
  },
  {
   "cell_type": "code",
   "execution_count": 60,
   "metadata": {
    "slideshow": {
     "slide_type": "fragment"
    }
   },
   "outputs": [
    {
     "data": {
      "text/plain": [
       "1     -7.371505\n",
       "2     -4.225000\n",
       "3      3.121237\n",
       "4      7.009306\n",
       "5     16.237769\n",
       "6     20.134028\n",
       "7     22.790054\n",
       "8     22.279301\n",
       "9     16.484444\n",
       "10    10.954973\n",
       "11     0.931389\n",
       "12    -3.306317\n",
       "dtype: float64"
      ]
     },
     "execution_count": 60,
     "metadata": {},
     "output_type": "execute_result"
    }
   ],
   "source": [
    "# One Solution\n",
    "mean_temperatures = {}\n",
    "\n",
    "for month in range(1, 13):\n",
    "    mean_temperatures[month] = weather_df2.loc[weather_df2.index.month == month, 'Temp (C)'].mean()\n",
    "\n",
    "pd.Series(mean_temperatures)"
   ]
  },
  {
   "cell_type": "markdown",
   "metadata": {
    "slideshow": {
     "slide_type": "slide"
    }
   },
   "source": [
    "<img src=\"../images/icon/Technical-Stuff.png\" alt=\"Concept-Alert\" style=\"width: 100px;float:left; margin-right:15px\"/>\n",
    "<br /> \n",
    "\n",
    "# Pivot Tables : Excellent way to Summarize your Data!\n",
    "***\n",
    "- A pivot table is a tool that allows you to reorganize and summarize selected columns and rows of data in a dataframe <br/><br/>\n",
    "\n",
    "- Pivot tables provide an easy way to subset by one column and then apply a calculation like a sum or a mean <br/><br/>\n",
    "\n",
    "- Pivot tables first group and then apply a calculation"
   ]
  },
  {
   "cell_type": "code",
   "execution_count": 61,
   "metadata": {
    "slideshow": {
     "slide_type": "subslide"
    }
   },
   "outputs": [
    {
     "data": {
      "text/html": [
       "<div>\n",
       "<style scoped>\n",
       "    .dataframe tbody tr th:only-of-type {\n",
       "        vertical-align: middle;\n",
       "    }\n",
       "\n",
       "    .dataframe tbody tr th {\n",
       "        vertical-align: top;\n",
       "    }\n",
       "\n",
       "    .dataframe thead th {\n",
       "        text-align: right;\n",
       "    }\n",
       "</style>\n",
       "<table border=\"1\" class=\"dataframe\">\n",
       "  <thead>\n",
       "    <tr style=\"text-align: right;\">\n",
       "      <th></th>\n",
       "      <th>A</th>\n",
       "      <th>B</th>\n",
       "      <th>C</th>\n",
       "      <th>D</th>\n",
       "    </tr>\n",
       "  </thead>\n",
       "  <tbody>\n",
       "    <tr>\n",
       "      <th>0</th>\n",
       "      <td>foo</td>\n",
       "      <td>one</td>\n",
       "      <td>x</td>\n",
       "      <td>1</td>\n",
       "    </tr>\n",
       "    <tr>\n",
       "      <th>1</th>\n",
       "      <td>foo</td>\n",
       "      <td>one</td>\n",
       "      <td>y</td>\n",
       "      <td>3</td>\n",
       "    </tr>\n",
       "    <tr>\n",
       "      <th>2</th>\n",
       "      <td>foo</td>\n",
       "      <td>two</td>\n",
       "      <td>x</td>\n",
       "      <td>2</td>\n",
       "    </tr>\n",
       "    <tr>\n",
       "      <th>3</th>\n",
       "      <td>bar</td>\n",
       "      <td>two</td>\n",
       "      <td>y</td>\n",
       "      <td>5</td>\n",
       "    </tr>\n",
       "    <tr>\n",
       "      <th>4</th>\n",
       "      <td>bar</td>\n",
       "      <td>one</td>\n",
       "      <td>x</td>\n",
       "      <td>4</td>\n",
       "    </tr>\n",
       "    <tr>\n",
       "      <th>5</th>\n",
       "      <td>bar</td>\n",
       "      <td>one</td>\n",
       "      <td>y</td>\n",
       "      <td>1</td>\n",
       "    </tr>\n",
       "  </tbody>\n",
       "</table>\n",
       "</div>"
      ],
      "text/plain": [
       "     A    B  C  D\n",
       "0  foo  one  x  1\n",
       "1  foo  one  y  3\n",
       "2  foo  two  x  2\n",
       "3  bar  two  y  5\n",
       "4  bar  one  x  4\n",
       "5  bar  one  y  1"
      ]
     },
     "execution_count": 61,
     "metadata": {},
     "output_type": "execute_result"
    }
   ],
   "source": [
    "data = {\n",
    "    'A': ['foo','foo','foo','bar','bar','bar'],\n",
    "    'B': ['one','one','two','two','one','one'],\n",
    "    'C': ['x','y','x','y','x','y'],\n",
    "    'D': [1, 3, 2, 5, 4, 1]\n",
    "}\n",
    "\n",
    "df = pd.DataFrame(data)\n",
    "df"
   ]
  },
  {
   "cell_type": "code",
   "execution_count": 62,
   "metadata": {
    "scrolled": true,
    "slideshow": {
     "slide_type": "subslide"
    }
   },
   "outputs": [
    {
     "data": {
      "text/html": [
       "<div>\n",
       "<style scoped>\n",
       "    .dataframe tbody tr th:only-of-type {\n",
       "        vertical-align: middle;\n",
       "    }\n",
       "\n",
       "    .dataframe tbody tr th {\n",
       "        vertical-align: top;\n",
       "    }\n",
       "\n",
       "    .dataframe thead th {\n",
       "        text-align: right;\n",
       "    }\n",
       "</style>\n",
       "<table border=\"1\" class=\"dataframe\">\n",
       "  <thead>\n",
       "    <tr style=\"text-align: right;\">\n",
       "      <th>C</th>\n",
       "      <th>x</th>\n",
       "      <th>y</th>\n",
       "    </tr>\n",
       "    <tr>\n",
       "      <th>A</th>\n",
       "      <th></th>\n",
       "      <th></th>\n",
       "    </tr>\n",
       "  </thead>\n",
       "  <tbody>\n",
       "    <tr>\n",
       "      <th>bar</th>\n",
       "      <td>4</td>\n",
       "      <td>6</td>\n",
       "    </tr>\n",
       "    <tr>\n",
       "      <th>foo</th>\n",
       "      <td>3</td>\n",
       "      <td>3</td>\n",
       "    </tr>\n",
       "  </tbody>\n",
       "</table>\n",
       "</div>"
      ],
      "text/plain": [
       "C    x  y\n",
       "A        \n",
       "bar  4  6\n",
       "foo  3  3"
      ]
     },
     "execution_count": 62,
     "metadata": {},
     "output_type": "execute_result"
    }
   ],
   "source": [
    "pivot_df = df.pivot_table(\n",
    "                values='D',      # We want to aggregate the values of which column?\n",
    "                index='A',       # We want to use which column as the new index?\n",
    "                columns=['C'],   # We want to use the values of which column as the new columns? (optional)\n",
    "                aggfunc=np.sum)  # What aggregation function to use ?\n",
    "\n",
    "# Notice that the result is a hierarchical index\n",
    "pivot_df"
   ]
  },
  {
   "cell_type": "code",
   "execution_count": 63,
   "metadata": {
    "scrolled": true,
    "slideshow": {
     "slide_type": "subslide"
    }
   },
   "outputs": [
    {
     "data": {
      "text/html": [
       "<div>\n",
       "<style scoped>\n",
       "    .dataframe tbody tr th:only-of-type {\n",
       "        vertical-align: middle;\n",
       "    }\n",
       "\n",
       "    .dataframe tbody tr th {\n",
       "        vertical-align: top;\n",
       "    }\n",
       "\n",
       "    .dataframe thead th {\n",
       "        text-align: right;\n",
       "    }\n",
       "</style>\n",
       "<table border=\"1\" class=\"dataframe\">\n",
       "  <thead>\n",
       "    <tr style=\"text-align: right;\">\n",
       "      <th>C</th>\n",
       "      <th>A</th>\n",
       "      <th>x</th>\n",
       "      <th>y</th>\n",
       "    </tr>\n",
       "  </thead>\n",
       "  <tbody>\n",
       "    <tr>\n",
       "      <th>0</th>\n",
       "      <td>bar</td>\n",
       "      <td>4</td>\n",
       "      <td>6</td>\n",
       "    </tr>\n",
       "    <tr>\n",
       "      <th>1</th>\n",
       "      <td>foo</td>\n",
       "      <td>3</td>\n",
       "      <td>3</td>\n",
       "    </tr>\n",
       "  </tbody>\n",
       "</table>\n",
       "</div>"
      ],
      "text/plain": [
       "C    A  x  y\n",
       "0  bar  4  6\n",
       "1  foo  3  3"
      ]
     },
     "execution_count": 63,
     "metadata": {},
     "output_type": "execute_result"
    }
   ],
   "source": [
    "# convert it back to a simple index\n",
    "\n",
    "pivot_df.reset_index()"
   ]
  },
  {
   "cell_type": "markdown",
   "metadata": {
    "ExecuteTime": {
     "end_time": "2017-09-22T12:41:32.876489Z",
     "start_time": "2017-09-22T12:41:32.860307Z"
    },
    "slideshow": {
     "slide_type": "subslide"
    }
   },
   "source": [
    "### What is the mean temperature recorded by month?"
   ]
  },
  {
   "cell_type": "code",
   "execution_count": 64,
   "metadata": {
    "scrolled": true,
    "slideshow": {
     "slide_type": "fragment"
    }
   },
   "outputs": [
    {
     "data": {
      "text/html": [
       "<div>\n",
       "<style scoped>\n",
       "    .dataframe tbody tr th:only-of-type {\n",
       "        vertical-align: middle;\n",
       "    }\n",
       "\n",
       "    .dataframe tbody tr th {\n",
       "        vertical-align: top;\n",
       "    }\n",
       "\n",
       "    .dataframe thead th {\n",
       "        text-align: right;\n",
       "    }\n",
       "</style>\n",
       "<table border=\"1\" class=\"dataframe\">\n",
       "  <thead>\n",
       "    <tr style=\"text-align: right;\">\n",
       "      <th></th>\n",
       "      <th>Temp (C)</th>\n",
       "    </tr>\n",
       "    <tr>\n",
       "      <th>Date/Time</th>\n",
       "      <th></th>\n",
       "    </tr>\n",
       "  </thead>\n",
       "  <tbody>\n",
       "    <tr>\n",
       "      <th>1</th>\n",
       "      <td>-7.371505</td>\n",
       "    </tr>\n",
       "    <tr>\n",
       "      <th>2</th>\n",
       "      <td>-4.225000</td>\n",
       "    </tr>\n",
       "    <tr>\n",
       "      <th>3</th>\n",
       "      <td>3.121237</td>\n",
       "    </tr>\n",
       "    <tr>\n",
       "      <th>4</th>\n",
       "      <td>7.009306</td>\n",
       "    </tr>\n",
       "    <tr>\n",
       "      <th>5</th>\n",
       "      <td>16.237769</td>\n",
       "    </tr>\n",
       "    <tr>\n",
       "      <th>6</th>\n",
       "      <td>20.134028</td>\n",
       "    </tr>\n",
       "    <tr>\n",
       "      <th>7</th>\n",
       "      <td>22.790054</td>\n",
       "    </tr>\n",
       "    <tr>\n",
       "      <th>8</th>\n",
       "      <td>22.279301</td>\n",
       "    </tr>\n",
       "    <tr>\n",
       "      <th>9</th>\n",
       "      <td>16.484444</td>\n",
       "    </tr>\n",
       "    <tr>\n",
       "      <th>10</th>\n",
       "      <td>10.954973</td>\n",
       "    </tr>\n",
       "    <tr>\n",
       "      <th>11</th>\n",
       "      <td>0.931389</td>\n",
       "    </tr>\n",
       "    <tr>\n",
       "      <th>12</th>\n",
       "      <td>-3.306317</td>\n",
       "    </tr>\n",
       "  </tbody>\n",
       "</table>\n",
       "</div>"
      ],
      "text/plain": [
       "            Temp (C)\n",
       "Date/Time           \n",
       "1          -7.371505\n",
       "2          -4.225000\n",
       "3           3.121237\n",
       "4           7.009306\n",
       "5          16.237769\n",
       "6          20.134028\n",
       "7          22.790054\n",
       "8          22.279301\n",
       "9          16.484444\n",
       "10         10.954973\n",
       "11          0.931389\n",
       "12         -3.306317"
      ]
     },
     "execution_count": 64,
     "metadata": {},
     "output_type": "execute_result"
    }
   ],
   "source": [
    "mean_temperature_df = weather_df2.pivot_table(values='Temp (C)', index=weather_df2.index.month, aggfunc=np.mean)\n",
    "mean_temperature_df"
   ]
  },
  {
   "cell_type": "markdown",
   "metadata": {
    "slideshow": {
     "slide_type": "slide"
    }
   },
   "source": [
    "<img src=\"../images/icon/Technical-Stuff.png\" alt=\"Concept-Alert\" style=\"width: 100px;float:left; margin-right:15px\"/>\n",
    "<br /> \n",
    "\n",
    "# Group By\n",
    "***\n",
    "The groupby method allows you to group rows of data together and call aggregate functions"
   ]
  },
  {
   "cell_type": "code",
   "execution_count": 65,
   "metadata": {
    "scrolled": true,
    "slideshow": {
     "slide_type": "subslide"
    }
   },
   "outputs": [
    {
     "data": {
      "text/html": [
       "<div>\n",
       "<style scoped>\n",
       "    .dataframe tbody tr th:only-of-type {\n",
       "        vertical-align: middle;\n",
       "    }\n",
       "\n",
       "    .dataframe tbody tr th {\n",
       "        vertical-align: top;\n",
       "    }\n",
       "\n",
       "    .dataframe thead th {\n",
       "        text-align: right;\n",
       "    }\n",
       "</style>\n",
       "<table border=\"1\" class=\"dataframe\">\n",
       "  <thead>\n",
       "    <tr style=\"text-align: right;\">\n",
       "      <th></th>\n",
       "      <th>Date/Time</th>\n",
       "      <th>Temp (C)</th>\n",
       "      <th>Dew Point Temp (C)</th>\n",
       "      <th>Rel Hum (%)</th>\n",
       "      <th>Wind Spd (km/h)</th>\n",
       "      <th>Visibility (km)</th>\n",
       "      <th>Stn Press (kPa)</th>\n",
       "      <th>Visibility (meters)</th>\n",
       "    </tr>\n",
       "  </thead>\n",
       "  <tbody>\n",
       "    <tr>\n",
       "      <th>0</th>\n",
       "      <td>1</td>\n",
       "      <td>-7.371505</td>\n",
       "      <td>-12.294758</td>\n",
       "      <td>68.383065</td>\n",
       "      <td>18.108871</td>\n",
       "      <td>22.100269</td>\n",
       "      <td>101.005349</td>\n",
       "      <td>22100.268817</td>\n",
       "    </tr>\n",
       "    <tr>\n",
       "      <th>1</th>\n",
       "      <td>2</td>\n",
       "      <td>-4.225000</td>\n",
       "      <td>-9.221695</td>\n",
       "      <td>68.956897</td>\n",
       "      <td>14.837644</td>\n",
       "      <td>25.182184</td>\n",
       "      <td>101.142414</td>\n",
       "      <td>25182.183908</td>\n",
       "    </tr>\n",
       "    <tr>\n",
       "      <th>2</th>\n",
       "      <td>3</td>\n",
       "      <td>3.121237</td>\n",
       "      <td>-3.488575</td>\n",
       "      <td>64.862903</td>\n",
       "      <td>14.514785</td>\n",
       "      <td>26.177957</td>\n",
       "      <td>101.335255</td>\n",
       "      <td>26177.956989</td>\n",
       "    </tr>\n",
       "    <tr>\n",
       "      <th>3</th>\n",
       "      <td>4</td>\n",
       "      <td>7.009306</td>\n",
       "      <td>-1.934583</td>\n",
       "      <td>56.150000</td>\n",
       "      <td>17.369444</td>\n",
       "      <td>31.777083</td>\n",
       "      <td>100.716833</td>\n",
       "      <td>31777.083333</td>\n",
       "    </tr>\n",
       "    <tr>\n",
       "      <th>4</th>\n",
       "      <td>5</td>\n",
       "      <td>16.237769</td>\n",
       "      <td>8.080780</td>\n",
       "      <td>61.760753</td>\n",
       "      <td>12.846774</td>\n",
       "      <td>29.418548</td>\n",
       "      <td>101.057164</td>\n",
       "      <td>29418.548387</td>\n",
       "    </tr>\n",
       "    <tr>\n",
       "      <th>5</th>\n",
       "      <td>6</td>\n",
       "      <td>20.134028</td>\n",
       "      <td>11.738056</td>\n",
       "      <td>60.643056</td>\n",
       "      <td>14.681944</td>\n",
       "      <td>32.104167</td>\n",
       "      <td>100.784222</td>\n",
       "      <td>32104.166667</td>\n",
       "    </tr>\n",
       "    <tr>\n",
       "      <th>6</th>\n",
       "      <td>7</td>\n",
       "      <td>22.790054</td>\n",
       "      <td>14.595430</td>\n",
       "      <td>62.017473</td>\n",
       "      <td>11.887097</td>\n",
       "      <td>33.655108</td>\n",
       "      <td>100.828333</td>\n",
       "      <td>33655.107527</td>\n",
       "    </tr>\n",
       "    <tr>\n",
       "      <th>7</th>\n",
       "      <td>8</td>\n",
       "      <td>22.279301</td>\n",
       "      <td>15.644758</td>\n",
       "      <td>67.943548</td>\n",
       "      <td>13.931452</td>\n",
       "      <td>30.192608</td>\n",
       "      <td>100.927097</td>\n",
       "      <td>30192.607527</td>\n",
       "    </tr>\n",
       "    <tr>\n",
       "      <th>8</th>\n",
       "      <td>9</td>\n",
       "      <td>16.484444</td>\n",
       "      <td>10.757917</td>\n",
       "      <td>71.165278</td>\n",
       "      <td>14.108333</td>\n",
       "      <td>30.603472</td>\n",
       "      <td>101.087903</td>\n",
       "      <td>30603.472222</td>\n",
       "    </tr>\n",
       "    <tr>\n",
       "      <th>9</th>\n",
       "      <td>10</td>\n",
       "      <td>10.954973</td>\n",
       "      <td>6.533468</td>\n",
       "      <td>75.731183</td>\n",
       "      <td>15.475806</td>\n",
       "      <td>25.111022</td>\n",
       "      <td>100.909368</td>\n",
       "      <td>25111.021505</td>\n",
       "    </tr>\n",
       "    <tr>\n",
       "      <th>10</th>\n",
       "      <td>11</td>\n",
       "      <td>0.931389</td>\n",
       "      <td>-4.179306</td>\n",
       "      <td>69.984722</td>\n",
       "      <td>13.973611</td>\n",
       "      <td>26.077083</td>\n",
       "      <td>101.658306</td>\n",
       "      <td>26077.083333</td>\n",
       "    </tr>\n",
       "    <tr>\n",
       "      <th>11</th>\n",
       "      <td>12</td>\n",
       "      <td>-3.306317</td>\n",
       "      <td>-6.129032</td>\n",
       "      <td>81.299731</td>\n",
       "      <td>17.614247</td>\n",
       "      <td>19.733199</td>\n",
       "      <td>101.174409</td>\n",
       "      <td>19733.198925</td>\n",
       "    </tr>\n",
       "  </tbody>\n",
       "</table>\n",
       "</div>"
      ],
      "text/plain": [
       "    Date/Time   Temp (C)  Dew Point Temp (C)  Rel Hum (%)  Wind Spd (km/h)  \\\n",
       "0           1  -7.371505          -12.294758    68.383065        18.108871   \n",
       "1           2  -4.225000           -9.221695    68.956897        14.837644   \n",
       "2           3   3.121237           -3.488575    64.862903        14.514785   \n",
       "3           4   7.009306           -1.934583    56.150000        17.369444   \n",
       "4           5  16.237769            8.080780    61.760753        12.846774   \n",
       "5           6  20.134028           11.738056    60.643056        14.681944   \n",
       "6           7  22.790054           14.595430    62.017473        11.887097   \n",
       "7           8  22.279301           15.644758    67.943548        13.931452   \n",
       "8           9  16.484444           10.757917    71.165278        14.108333   \n",
       "9          10  10.954973            6.533468    75.731183        15.475806   \n",
       "10         11   0.931389           -4.179306    69.984722        13.973611   \n",
       "11         12  -3.306317           -6.129032    81.299731        17.614247   \n",
       "\n",
       "    Visibility (km)  Stn Press (kPa)  Visibility (meters)  \n",
       "0         22.100269       101.005349         22100.268817  \n",
       "1         25.182184       101.142414         25182.183908  \n",
       "2         26.177957       101.335255         26177.956989  \n",
       "3         31.777083       100.716833         31777.083333  \n",
       "4         29.418548       101.057164         29418.548387  \n",
       "5         32.104167       100.784222         32104.166667  \n",
       "6         33.655108       100.828333         33655.107527  \n",
       "7         30.192608       100.927097         30192.607527  \n",
       "8         30.603472       101.087903         30603.472222  \n",
       "9         25.111022       100.909368         25111.021505  \n",
       "10        26.077083       101.658306         26077.083333  \n",
       "11        19.733199       101.174409         19733.198925  "
      ]
     },
     "execution_count": 65,
     "metadata": {},
     "output_type": "execute_result"
    }
   ],
   "source": [
    "mean_temperature_df2 = weather_df2.groupby(weather_df2.index.month).agg(np.mean).reset_index()\n",
    "mean_temperature_df2"
   ]
  },
  {
   "cell_type": "markdown",
   "metadata": {
    "slideshow": {
     "slide_type": "slide"
    }
   },
   "source": [
    "<img src=\"../images/icon/Technical-Stuff.png\" alt=\"Concept-Alert\" style=\"width: 100px;float:left; margin-right:15px\"/>\n",
    "<br /> \n",
    "# Concat, Merge and Join (1/2)\n",
    "<br/>\n",
    "***\n",
    "There are 3 key ways of combining DataFrames together:\n",
    "\n",
    "- **Concatenation**: Concatenation basically glues together DataFrames. Keep in mind that dimensions should match along the axis you are concatenating on <br/><br/>\n",
    "- **Merging**: The merge function allows you to merge DataFrames together using a similar logic as merging SQL Tables together<br/><br/>"
   ]
  },
  {
   "cell_type": "markdown",
   "metadata": {
    "slideshow": {
     "slide_type": "subslide"
    }
   },
   "source": [
    "<img src=\"../images/icon/Technical-Stuff.png\" alt=\"Concept-Alert\" style=\"width: 100px;float:left; margin-right:15px\"/>\n",
    "<br /> \n",
    "# Concat, Merge and Join (2/2)\n",
    "***\n",
    "- **Join**: Join is a convenient method for combining the columns of two potentially differently-indexed DataFrames into a single result DataFrame"
   ]
  },
  {
   "cell_type": "markdown",
   "metadata": {
    "slideshow": {
     "slide_type": "subslide"
    }
   },
   "source": [
    "## Concat"
   ]
  },
  {
   "cell_type": "code",
   "execution_count": 66,
   "metadata": {
    "slideshow": {
     "slide_type": "fragment"
    }
   },
   "outputs": [],
   "source": [
    "df1 = pd.DataFrame({\n",
    "    'A': ['A0', 'A1', 'A2', 'A3'],\n",
    "    'B': ['B0', 'B1', 'B2', 'B3'],\n",
    "    'C': ['C0', 'C1', 'C2', 'C3'],\n",
    "    'D': ['D0', 'D1', 'D2', 'D3']\n",
    "}, index=[0, 1, 2, 3])\n",
    "\n",
    "df2 = pd.DataFrame({\n",
    "    'A': ['A4', 'A5', 'A6', 'A7'],\n",
    "    'B': ['B4', 'B5', 'B6', 'B7'],\n",
    "    'C': ['C4', 'C5', 'C6', 'C7'],\n",
    "    'D': ['D4', 'D5', 'D6', 'D7']\n",
    "}, index=[4, 5, 6, 7])\n",
    "\n",
    "df3 = pd.DataFrame({\n",
    "    'A': ['A8', 'A9', 'A10', 'A11'],\n",
    "    'B': ['B8', 'B9', 'B10', 'B11'],\n",
    "    'C': ['C8', 'C9', 'C10', 'C11'],\n",
    "    'E': ['D8', 'D9', 'D10', 'D11']\n",
    "}, index=[8, 9, 10, 11])"
   ]
  },
  {
   "cell_type": "code",
   "execution_count": 67,
   "metadata": {
    "slideshow": {
     "slide_type": "subslide"
    }
   },
   "outputs": [
    {
     "data": {
      "text/html": [
       "<div>\n",
       "<style scoped>\n",
       "    .dataframe tbody tr th:only-of-type {\n",
       "        vertical-align: middle;\n",
       "    }\n",
       "\n",
       "    .dataframe tbody tr th {\n",
       "        vertical-align: top;\n",
       "    }\n",
       "\n",
       "    .dataframe thead th {\n",
       "        text-align: right;\n",
       "    }\n",
       "</style>\n",
       "<table border=\"1\" class=\"dataframe\">\n",
       "  <thead>\n",
       "    <tr style=\"text-align: right;\">\n",
       "      <th></th>\n",
       "      <th>A</th>\n",
       "      <th>B</th>\n",
       "      <th>C</th>\n",
       "      <th>D</th>\n",
       "    </tr>\n",
       "  </thead>\n",
       "  <tbody>\n",
       "    <tr>\n",
       "      <th>0</th>\n",
       "      <td>A0</td>\n",
       "      <td>B0</td>\n",
       "      <td>C0</td>\n",
       "      <td>D0</td>\n",
       "    </tr>\n",
       "    <tr>\n",
       "      <th>1</th>\n",
       "      <td>A1</td>\n",
       "      <td>B1</td>\n",
       "      <td>C1</td>\n",
       "      <td>D1</td>\n",
       "    </tr>\n",
       "    <tr>\n",
       "      <th>2</th>\n",
       "      <td>A2</td>\n",
       "      <td>B2</td>\n",
       "      <td>C2</td>\n",
       "      <td>D2</td>\n",
       "    </tr>\n",
       "    <tr>\n",
       "      <th>3</th>\n",
       "      <td>A3</td>\n",
       "      <td>B3</td>\n",
       "      <td>C3</td>\n",
       "      <td>D3</td>\n",
       "    </tr>\n",
       "  </tbody>\n",
       "</table>\n",
       "</div>"
      ],
      "text/plain": [
       "    A   B   C   D\n",
       "0  A0  B0  C0  D0\n",
       "1  A1  B1  C1  D1\n",
       "2  A2  B2  C2  D2\n",
       "3  A3  B3  C3  D3"
      ]
     },
     "execution_count": 67,
     "metadata": {},
     "output_type": "execute_result"
    }
   ],
   "source": [
    "df1"
   ]
  },
  {
   "cell_type": "code",
   "execution_count": 76,
   "metadata": {
    "slideshow": {
     "slide_type": "subslide"
    }
   },
   "outputs": [
    {
     "data": {
      "text/html": [
       "<div>\n",
       "<style scoped>\n",
       "    .dataframe tbody tr th:only-of-type {\n",
       "        vertical-align: middle;\n",
       "    }\n",
       "\n",
       "    .dataframe tbody tr th {\n",
       "        vertical-align: top;\n",
       "    }\n",
       "\n",
       "    .dataframe thead th {\n",
       "        text-align: right;\n",
       "    }\n",
       "</style>\n",
       "<table border=\"1\" class=\"dataframe\">\n",
       "  <thead>\n",
       "    <tr style=\"text-align: right;\">\n",
       "      <th></th>\n",
       "      <th>A</th>\n",
       "      <th>B</th>\n",
       "      <th>C</th>\n",
       "      <th>D</th>\n",
       "      <th>E</th>\n",
       "    </tr>\n",
       "  </thead>\n",
       "  <tbody>\n",
       "    <tr>\n",
       "      <th>0</th>\n",
       "      <td>A0</td>\n",
       "      <td>B0</td>\n",
       "      <td>C0</td>\n",
       "      <td>D0</td>\n",
       "      <td>NaN</td>\n",
       "    </tr>\n",
       "    <tr>\n",
       "      <th>1</th>\n",
       "      <td>A1</td>\n",
       "      <td>B1</td>\n",
       "      <td>C1</td>\n",
       "      <td>D1</td>\n",
       "      <td>NaN</td>\n",
       "    </tr>\n",
       "    <tr>\n",
       "      <th>2</th>\n",
       "      <td>A2</td>\n",
       "      <td>B2</td>\n",
       "      <td>C2</td>\n",
       "      <td>D2</td>\n",
       "      <td>NaN</td>\n",
       "    </tr>\n",
       "    <tr>\n",
       "      <th>3</th>\n",
       "      <td>A3</td>\n",
       "      <td>B3</td>\n",
       "      <td>C3</td>\n",
       "      <td>D3</td>\n",
       "      <td>NaN</td>\n",
       "    </tr>\n",
       "    <tr>\n",
       "      <th>4</th>\n",
       "      <td>A4</td>\n",
       "      <td>B4</td>\n",
       "      <td>C4</td>\n",
       "      <td>D4</td>\n",
       "      <td>NaN</td>\n",
       "    </tr>\n",
       "    <tr>\n",
       "      <th>5</th>\n",
       "      <td>A5</td>\n",
       "      <td>B5</td>\n",
       "      <td>C5</td>\n",
       "      <td>D5</td>\n",
       "      <td>NaN</td>\n",
       "    </tr>\n",
       "    <tr>\n",
       "      <th>6</th>\n",
       "      <td>A6</td>\n",
       "      <td>B6</td>\n",
       "      <td>C6</td>\n",
       "      <td>D6</td>\n",
       "      <td>NaN</td>\n",
       "    </tr>\n",
       "    <tr>\n",
       "      <th>7</th>\n",
       "      <td>A7</td>\n",
       "      <td>B7</td>\n",
       "      <td>C7</td>\n",
       "      <td>D7</td>\n",
       "      <td>NaN</td>\n",
       "    </tr>\n",
       "    <tr>\n",
       "      <th>8</th>\n",
       "      <td>A8</td>\n",
       "      <td>B8</td>\n",
       "      <td>C8</td>\n",
       "      <td>NaN</td>\n",
       "      <td>D8</td>\n",
       "    </tr>\n",
       "    <tr>\n",
       "      <th>9</th>\n",
       "      <td>A9</td>\n",
       "      <td>B9</td>\n",
       "      <td>C9</td>\n",
       "      <td>NaN</td>\n",
       "      <td>D9</td>\n",
       "    </tr>\n",
       "    <tr>\n",
       "      <th>10</th>\n",
       "      <td>A10</td>\n",
       "      <td>B10</td>\n",
       "      <td>C10</td>\n",
       "      <td>NaN</td>\n",
       "      <td>D10</td>\n",
       "    </tr>\n",
       "    <tr>\n",
       "      <th>11</th>\n",
       "      <td>A11</td>\n",
       "      <td>B11</td>\n",
       "      <td>C11</td>\n",
       "      <td>NaN</td>\n",
       "      <td>D11</td>\n",
       "    </tr>\n",
       "  </tbody>\n",
       "</table>\n",
       "</div>"
      ],
      "text/plain": [
       "      A    B    C    D    E\n",
       "0    A0   B0   C0   D0  NaN\n",
       "1    A1   B1   C1   D1  NaN\n",
       "2    A2   B2   C2   D2  NaN\n",
       "3    A3   B3   C3   D3  NaN\n",
       "4    A4   B4   C4   D4  NaN\n",
       "5    A5   B5   C5   D5  NaN\n",
       "6    A6   B6   C6   D6  NaN\n",
       "7    A7   B7   C7   D7  NaN\n",
       "8    A8   B8   C8  NaN   D8\n",
       "9    A9   B9   C9  NaN   D9\n",
       "10  A10  B10  C10  NaN  D10\n",
       "11  A11  B11  C11  NaN  D11"
      ]
     },
     "execution_count": 76,
     "metadata": {},
     "output_type": "execute_result"
    }
   ],
   "source": [
    "# if you don't specify an axis, it defaults to axis=0, which means it appends to rows\n",
    "pd.concat([df1, df2, df3], sort=True)"
   ]
  },
  {
   "cell_type": "code",
   "execution_count": 69,
   "metadata": {
    "slideshow": {
     "slide_type": "subslide"
    }
   },
   "outputs": [],
   "source": [
    "# axis=1 means concat along columns\n",
    "\n",
    "pd.concat([df1, df2, df3], axis=1);"
   ]
  },
  {
   "cell_type": "markdown",
   "metadata": {
    "slideshow": {
     "slide_type": "subslide"
    }
   },
   "source": [
    "## Join\n",
    "***\n",
    "Simply join two DFs having potentially different row indices"
   ]
  },
  {
   "cell_type": "code",
   "execution_count": 70,
   "metadata": {
    "slideshow": {
     "slide_type": "fragment"
    }
   },
   "outputs": [
    {
     "data": {
      "text/html": [
       "<div>\n",
       "<style scoped>\n",
       "    .dataframe tbody tr th:only-of-type {\n",
       "        vertical-align: middle;\n",
       "    }\n",
       "\n",
       "    .dataframe tbody tr th {\n",
       "        vertical-align: top;\n",
       "    }\n",
       "\n",
       "    .dataframe thead th {\n",
       "        text-align: right;\n",
       "    }\n",
       "</style>\n",
       "<table border=\"1\" class=\"dataframe\">\n",
       "  <thead>\n",
       "    <tr style=\"text-align: right;\">\n",
       "      <th></th>\n",
       "      <th>A</th>\n",
       "      <th>B</th>\n",
       "      <th>C</th>\n",
       "      <th>D</th>\n",
       "    </tr>\n",
       "  </thead>\n",
       "  <tbody>\n",
       "    <tr>\n",
       "      <th>K0</th>\n",
       "      <td>A0</td>\n",
       "      <td>B0</td>\n",
       "      <td>C0</td>\n",
       "      <td>D0</td>\n",
       "    </tr>\n",
       "    <tr>\n",
       "      <th>K1</th>\n",
       "      <td>A1</td>\n",
       "      <td>B1</td>\n",
       "      <td>NaN</td>\n",
       "      <td>NaN</td>\n",
       "    </tr>\n",
       "    <tr>\n",
       "      <th>K2</th>\n",
       "      <td>A2</td>\n",
       "      <td>B2</td>\n",
       "      <td>C2</td>\n",
       "      <td>D2</td>\n",
       "    </tr>\n",
       "    <tr>\n",
       "      <th>K3</th>\n",
       "      <td>NaN</td>\n",
       "      <td>NaN</td>\n",
       "      <td>C3</td>\n",
       "      <td>D3</td>\n",
       "    </tr>\n",
       "  </tbody>\n",
       "</table>\n",
       "</div>"
      ],
      "text/plain": [
       "      A    B    C    D\n",
       "K0   A0   B0   C0   D0\n",
       "K1   A1   B1  NaN  NaN\n",
       "K2   A2   B2   C2   D2\n",
       "K3  NaN  NaN   C3   D3"
      ]
     },
     "execution_count": 70,
     "metadata": {},
     "output_type": "execute_result"
    }
   ],
   "source": [
    "# Join\n",
    "left_df = pd.DataFrame({\n",
    "    'A': ['A0', 'A1', 'A2'],\n",
    "    'B': ['B0', 'B1', 'B2']\n",
    "}, index=['K0', 'K1', 'K2']) \n",
    "\n",
    "right_df = pd.DataFrame({\n",
    "    'C': ['C0', 'C2', 'C3'],\n",
    "    'D': ['D0', 'D2', 'D3']\n",
    "}, index=['K0', 'K2', 'K3'])\n",
    "\n",
    "left_df.join(right_df, how='outer')"
   ]
  },
  {
   "cell_type": "markdown",
   "metadata": {
    "slideshow": {
     "slide_type": "subslide"
    }
   },
   "source": [
    "## Merge"
   ]
  },
  {
   "cell_type": "code",
   "execution_count": 77,
   "metadata": {
    "slideshow": {
     "slide_type": "fragment"
    }
   },
   "outputs": [],
   "source": [
    "# Merging on multiple keys\n",
    "left = pd.DataFrame({\n",
    "    'key1': ['K0', 'K0', 'K1', 'K2'],\n",
    "    'key2': ['K0', 'K1', 'K0', 'K1'],\n",
    "    'A': ['A0', 'A1', 'A2', 'A3'],\n",
    "    'B': ['B0', 'B1', 'B2', 'B3']\n",
    "})\n",
    "    \n",
    "right = pd.DataFrame({\n",
    "    'key1': ['K0', 'K1', 'K1', 'K2'],\n",
    "    'key2': ['K0', 'K0', 'K0', 'K0'],\n",
    "    'C': ['C0', 'C1', 'C2', 'C3'],\n",
    "    'D': ['D0', 'D1', 'D2', 'D3']\n",
    "})\n",
    "\n",
    "pd.merge(left, right, how='outer', on=['key1', 'key2']);"
   ]
  },
  {
   "cell_type": "code",
   "execution_count": 78,
   "metadata": {
    "slideshow": {
     "slide_type": "subslide"
    }
   },
   "outputs": [],
   "source": [
    "# other options are 'inner', 'left', 'right'\n",
    "\n",
    "pd.merge(left, right, how='left', on=['key1', 'key2']);"
   ]
  },
  {
   "cell_type": "markdown",
   "metadata": {
    "slideshow": {
     "slide_type": "slide"
    }
   },
   "source": [
    "# Further Reading\n",
    "***\n",
    "- Pandas documentation: http://pandas.pydata.org/"
   ]
  },
  {
   "cell_type": "markdown",
   "metadata": {
    "slideshow": {
     "slide_type": "slide"
    }
   },
   "source": [
    "<img src=\"../images/icon/Recap.png\" alt=\"Recap\" style=\"width: 100px;float:left; margin-right:15px\"/>\n",
    "<br />\n",
    "# In-session Recap Time\n",
    "***\n",
    "- Creating DataFrames: Manually and from files\n",
    "- Analzing DataFrame\n",
    "- Data Manipulation and Transformations\n",
    "    - Filtering\n",
    "    - Selection\n",
    "    - Working with Coloumns\n",
    "    - Sorting\n",
    "    - Pivot Tables and GroupBy\n",
    "    - Merging Data"
   ]
  },
  {
   "cell_type": "markdown",
   "metadata": {
    "collapsed": true,
    "slideshow": {
     "slide_type": "slide"
    }
   },
   "source": [
    "# Thank You\n",
    "***\n",
    "### Coming up next...\n",
    "***\n",
    "- Visualizing data using `matplotlib`\n",
    "- Getting started with Machine Learning"
   ]
  },
  {
   "cell_type": "code",
   "execution_count": null,
   "metadata": {},
   "outputs": [],
   "source": []
  }
 ],
 "metadata": {
  "celltoolbar": "Raw Cell Format",
  "kernelspec": {
   "display_name": "Python 3 (ipykernel)",
   "language": "python",
   "name": "python3"
  },
  "language_info": {
   "codemirror_mode": {
    "name": "ipython",
    "version": 3
   },
   "file_extension": ".py",
   "mimetype": "text/x-python",
   "name": "python",
   "nbconvert_exporter": "python",
   "pygments_lexer": "ipython3",
   "version": "3.7.8"
  },
  "toc": {
   "colors": {
    "hover_highlight": "#DAA520",
    "running_highlight": "#FF0000",
    "selected_highlight": "#FFD700"
   },
   "moveMenuLeft": true,
   "nav_menu": {
    "height": "364px",
    "width": "252px"
   },
   "navigate_menu": true,
   "number_sections": true,
   "sideBar": true,
   "threshold": "2",
   "toc_cell": false,
   "toc_section_display": "block",
   "toc_window_display": false
  }
 },
 "nbformat": 4,
 "nbformat_minor": 2
}
