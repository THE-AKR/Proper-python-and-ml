{
 "cells": [
  {
   "cell_type": "code",
   "execution_count": 1,
   "id": "ea9ae106",
   "metadata": {},
   "outputs": [],
   "source": [
    "import numpy as np\n",
    "import pandas as pd\n",
    "import matplotlib.pyplot as plt\n",
    "%matplotlib inline\n",
    "import seaborn as sns"
   ]
  },
  {
   "cell_type": "code",
   "execution_count": 2,
   "id": "e3e196c6",
   "metadata": {},
   "outputs": [
    {
     "data": {
      "text/html": [
       "<div>\n",
       "<style scoped>\n",
       "    .dataframe tbody tr th:only-of-type {\n",
       "        vertical-align: middle;\n",
       "    }\n",
       "\n",
       "    .dataframe tbody tr th {\n",
       "        vertical-align: top;\n",
       "    }\n",
       "\n",
       "    .dataframe thead th {\n",
       "        text-align: right;\n",
       "    }\n",
       "</style>\n",
       "<table border=\"1\" class=\"dataframe\">\n",
       "  <thead>\n",
       "    <tr style=\"text-align: right;\">\n",
       "      <th></th>\n",
       "      <th>LotArea</th>\n",
       "      <th>SalePrice</th>\n",
       "    </tr>\n",
       "  </thead>\n",
       "  <tbody>\n",
       "    <tr>\n",
       "      <th>0</th>\n",
       "      <td>8450</td>\n",
       "      <td>208500</td>\n",
       "    </tr>\n",
       "    <tr>\n",
       "      <th>1</th>\n",
       "      <td>9600</td>\n",
       "      <td>181500</td>\n",
       "    </tr>\n",
       "    <tr>\n",
       "      <th>2</th>\n",
       "      <td>11250</td>\n",
       "      <td>223500</td>\n",
       "    </tr>\n",
       "    <tr>\n",
       "      <th>3</th>\n",
       "      <td>9550</td>\n",
       "      <td>140000</td>\n",
       "    </tr>\n",
       "    <tr>\n",
       "      <th>4</th>\n",
       "      <td>14260</td>\n",
       "      <td>250000</td>\n",
       "    </tr>\n",
       "    <tr>\n",
       "      <th>5</th>\n",
       "      <td>14115</td>\n",
       "      <td>143000</td>\n",
       "    </tr>\n",
       "    <tr>\n",
       "      <th>6</th>\n",
       "      <td>10084</td>\n",
       "      <td>307000</td>\n",
       "    </tr>\n",
       "    <tr>\n",
       "      <th>7</th>\n",
       "      <td>10382</td>\n",
       "      <td>200000</td>\n",
       "    </tr>\n",
       "    <tr>\n",
       "      <th>8</th>\n",
       "      <td>6120</td>\n",
       "      <td>129900</td>\n",
       "    </tr>\n",
       "    <tr>\n",
       "      <th>9</th>\n",
       "      <td>7420</td>\n",
       "      <td>118000</td>\n",
       "    </tr>\n",
       "  </tbody>\n",
       "</table>\n",
       "</div>"
      ],
      "text/plain": [
       "   LotArea  SalePrice\n",
       "0     8450     208500\n",
       "1     9600     181500\n",
       "2    11250     223500\n",
       "3     9550     140000\n",
       "4    14260     250000\n",
       "5    14115     143000\n",
       "6    10084     307000\n",
       "7    10382     200000\n",
       "8     6120     129900\n",
       "9     7420     118000"
      ]
     },
     "execution_count": 2,
     "metadata": {},
     "output_type": "execute_result"
    }
   ],
   "source": [
    "url=\"house_prices.csv\"\n",
    "house = pd.read_csv(url)\n",
    "house.head(n=10)"
   ]
  },
  {
   "cell_type": "code",
   "execution_count": 4,
   "id": "02c9dd68",
   "metadata": {},
   "outputs": [
    {
     "data": {
      "text/plain": [
       "(1326, 2)"
      ]
     },
     "execution_count": 4,
     "metadata": {},
     "output_type": "execute_result"
    }
   ],
   "source": [
    "house.shape"
   ]
  },
  {
   "cell_type": "code",
   "execution_count": 6,
   "id": "4758ed1e",
   "metadata": {},
   "outputs": [
    {
     "data": {
      "text/plain": [
       "LotArea      0\n",
       "SalePrice    0\n",
       "dtype: int64"
      ]
     },
     "execution_count": 6,
     "metadata": {},
     "output_type": "execute_result"
    }
   ],
   "source": [
    "house.isnull().sum()"
   ]
  },
  {
   "cell_type": "code",
   "execution_count": 11,
   "id": "1754c37e",
   "metadata": {},
   "outputs": [
    {
     "data": {
      "text/plain": [
       "167433.0422322775"
      ]
     },
     "execution_count": 11,
     "metadata": {},
     "output_type": "execute_result"
    }
   ],
   "source": [
    "mean= np.mean(house.SalePrice)\n",
    "mean"
   ]
  },
  {
   "cell_type": "code",
   "execution_count": 14,
   "id": "38f38b06",
   "metadata": {},
   "outputs": [
    {
     "data": {
      "text/plain": [
       "157000.0"
      ]
     },
     "execution_count": 14,
     "metadata": {},
     "output_type": "execute_result"
    }
   ],
   "source": [
    "median=np.median(house.SalePrice)\n",
    "median"
   ]
  },
  {
   "cell_type": "code",
   "execution_count": 17,
   "id": "f8290036",
   "metadata": {},
   "outputs": [
    {
     "data": {
      "text/html": [
       "<div>\n",
       "<style scoped>\n",
       "    .dataframe tbody tr th:only-of-type {\n",
       "        vertical-align: middle;\n",
       "    }\n",
       "\n",
       "    .dataframe tbody tr th {\n",
       "        vertical-align: top;\n",
       "    }\n",
       "\n",
       "    .dataframe thead th {\n",
       "        text-align: right;\n",
       "    }\n",
       "</style>\n",
       "<table border=\"1\" class=\"dataframe\">\n",
       "  <thead>\n",
       "    <tr style=\"text-align: right;\">\n",
       "      <th></th>\n",
       "      <th>LotArea</th>\n",
       "      <th>SalePrice</th>\n",
       "    </tr>\n",
       "  </thead>\n",
       "  <tbody>\n",
       "    <tr>\n",
       "      <th>count</th>\n",
       "      <td>1326.000000</td>\n",
       "      <td>1326.000000</td>\n",
       "    </tr>\n",
       "    <tr>\n",
       "      <th>mean</th>\n",
       "      <td>9076.268477</td>\n",
       "      <td>167433.042232</td>\n",
       "    </tr>\n",
       "    <tr>\n",
       "      <th>std</th>\n",
       "      <td>3119.870831</td>\n",
       "      <td>57192.320151</td>\n",
       "    </tr>\n",
       "    <tr>\n",
       "      <th>min</th>\n",
       "      <td>1300.000000</td>\n",
       "      <td>34900.000000</td>\n",
       "    </tr>\n",
       "    <tr>\n",
       "      <th>25%</th>\n",
       "      <td>7253.750000</td>\n",
       "      <td>128000.000000</td>\n",
       "    </tr>\n",
       "    <tr>\n",
       "      <th>50%</th>\n",
       "      <td>9127.500000</td>\n",
       "      <td>157000.000000</td>\n",
       "    </tr>\n",
       "    <tr>\n",
       "      <th>75%</th>\n",
       "      <td>10963.500000</td>\n",
       "      <td>200000.000000</td>\n",
       "    </tr>\n",
       "    <tr>\n",
       "      <th>max</th>\n",
       "      <td>17400.000000</td>\n",
       "      <td>326000.000000</td>\n",
       "    </tr>\n",
       "  </tbody>\n",
       "</table>\n",
       "</div>"
      ],
      "text/plain": [
       "            LotArea      SalePrice\n",
       "count   1326.000000    1326.000000\n",
       "mean    9076.268477  167433.042232\n",
       "std     3119.870831   57192.320151\n",
       "min     1300.000000   34900.000000\n",
       "25%     7253.750000  128000.000000\n",
       "50%     9127.500000  157000.000000\n",
       "75%    10963.500000  200000.000000\n",
       "max    17400.000000  326000.000000"
      ]
     },
     "execution_count": 17,
     "metadata": {},
     "output_type": "execute_result"
    }
   ],
   "source": [
    "house.describe()"
   ]
  },
  {
   "cell_type": "code",
   "execution_count": null,
   "id": "fe497d0b",
   "metadata": {},
   "outputs": [],
   "source": [
    "#quartile\n",
    "#q1= 0.25 ()\n",
    "#q3=0.75 \n",
    "#iqr= q3-q1 (data more clustered) #interquartile range\n"
   ]
  },
  {
   "cell_type": "code",
   "execution_count": 19,
   "id": "7816650c",
   "metadata": {},
   "outputs": [
    {
     "data": {
      "text/plain": [
       "128000.0"
      ]
     },
     "execution_count": 19,
     "metadata": {},
     "output_type": "execute_result"
    }
   ],
   "source": [
    "q1=house.SalePrice.quantile(0.25)\n",
    "q1"
   ]
  },
  {
   "cell_type": "code",
   "execution_count": 24,
   "id": "bf11463f",
   "metadata": {},
   "outputs": [
    {
     "data": {
      "text/plain": [
       "200000.0"
      ]
     },
     "execution_count": 24,
     "metadata": {},
     "output_type": "execute_result"
    }
   ],
   "source": [
    "q3= house.SalePrice.quantile(0.75)\n",
    "q3"
   ]
  },
  {
   "cell_type": "code",
   "execution_count": 25,
   "id": "00869952",
   "metadata": {},
   "outputs": [
    {
     "data": {
      "text/plain": [
       "72000.0"
      ]
     },
     "execution_count": 25,
     "metadata": {},
     "output_type": "execute_result"
    }
   ],
   "source": [
    "iqr= q3-q1\n",
    "iqr"
   ]
  },
  {
   "cell_type": "code",
   "execution_count": 26,
   "id": "d6250e50",
   "metadata": {},
   "outputs": [
    {
     "data": {
      "text/plain": [
       "array([ 8450,  9600, 11250,  9550, 14260, 14115, 10084, 10382,  6120,\n",
       "        7420, 11200, 12968, 10652, 10920, 11241, 10791, 13695,  7560,\n",
       "       14215,  7449,  9742,  4224,  8246, 14230,  7200, 11478, 16321,\n",
       "        6324,  8500,  8544, 11049, 10552,  7313, 13418, 10859,  8532,\n",
       "        7922,  6040,  8658, 16905,  9180,  9200,  7945,  7658, 12822,\n",
       "       11096,  4456,  7742, 13869,  6240,  8472,  7134, 10175,  2645,\n",
       "       11645, 13072,  6442, 10300,  9375,  9591, 10665,  4608, 15593,\n",
       "       13651,  7599, 10141, 10200,  5790,  1596,  8475,  8635, 10778,\n",
       "       10440, 13000,  4500, 10206,  8892,  8530, 16059, 11911,  3951,\n",
       "        8470,  8070, 13360,  9337,  9765, 10264, 10921, 10625,  9320,\n",
       "       10603,  9206,  7018, 10402,  7758, 10800,  6000, 11751,  9525,\n",
       "        7750,  7259,  3230, 11616,  8536, 12376,  8461,  6060,  9464,\n",
       "        7892, 17043,  6780,  4928,  4388,  7590,  8973, 14200, 12224,\n",
       "        7388,  6853, 10335, 10400, 10355, 11070,  9066, 15426, 10500,\n",
       "        8520,  9100,  2522,  9505,  7500, 10356, 14803, 13500, 11340,\n",
       "       12003, 12552, 11120, 12182,  5500,  5400, 10106, 10708, 10562,\n",
       "        8244, 16669, 12358,  5306, 10197, 12416, 12615, 10029, 13650,\n",
       "        2117,  7588,  9060, 11426,  7438,  9947, 10410,  4923, 10570,\n",
       "        7472,  9017,  7180,  2280,  9416,  5520,  8546, 10125,  7000,\n",
       "        4438,  3500, 11851, 13673, 12493, 14364,  8250,  5604, 10420,\n",
       "        8640, 13568, 10900, 10011,  9906, 15660,  3010,  8990,  8068,\n",
       "       11475,  1680,  9950,  1869,  8521,  3182,  8760, 10650,  7851,\n",
       "        8773,  9453, 12030,  8741,  9000,  3880,  5000, 10762,  8880,\n",
       "        9142, 11310, 11317,  5350,  4750,  8366,  9350,  8400,  8738,\n",
       "        8791,  8814, 12435, 12702,  9588,  8471,  5232, 12090, 11207,\n",
       "        6900,  7917, 10728, 11764,  8314,  7264,  9196, 10005, 11287,\n",
       "        5063,  9612,  8012,  4251,  9786,  8125,  9819,  8730, 15611,\n",
       "        5687, 11409, 16659,  7937, 13710,  7399, 11700, 14000, 15750,\n",
       "       16226, 13704,  9800, 10386, 13474,  7920, 12342,  7685,  8000,\n",
       "        7800,  7795, 13005,  9900, 10380,  5820, 11275, 10846, 11600,\n",
       "       11888,  6402, 10624,  8176, 10655,  8198,  9042,  9135, 14145,\n",
       "       12400, 14191,  8849,  2592,  6435, 12772,  2448,  7820,  5271,\n",
       "        9084, 11249,  9248,  6930, 12011,  7540,  9144,  7301, 10690,\n",
       "        9500,  9150,  9830,  8121, 17120,  7175, 10634,  8200, 10020,\n",
       "        8846,  8123,  9245,  8410,  9382,  8405, 12209,  8339,  7446,\n",
       "       10134,  9571,  8967, 14963,  8767, 10364,  9991, 10480, 15576,\n",
       "       14154,  4403,  8960, 11228,  8899,  7844,  8160,  7060, 16635,\n",
       "        3378, 12800,  8593,  6762, 11457,  5586,  1920, 10839,  1890,\n",
       "       10667,  4400,  4280, 12354, 12108,  3922,  8750,  9855, 16492,\n",
       "       11214,  8600,  5684,  9303,  9297,  4571,  5100,  7015,  8004,\n",
       "        8281, 11988,  8430,  3072, 10628,  9480, 11428,  9291,  6820,\n",
       "       11952,  3675,  5330,  8480, 13125, 10637,  5925, 16033,  2500,\n",
       "       10289, 12243,  1526,  2665,  9490, 15578,  7931,  5784,  7879,\n",
       "        9120,  7535,  9803,  9170, 15602,  2308,  7596,  9554,  7862,\n",
       "       14559,  6792,  9187, 10594, 10448, 10208,  9531, 10918, 11787,\n",
       "       13300,  9098,  6155,  9056,  8924, 12735, 11553, 11423, 14601,\n",
       "       11000, 10140,  4058, 17104, 13837,  8737,  7244,  8235,  4043,\n",
       "       11146,  8777,  6380, 14850, 11040,  3196, 11341, 10010, 13907,\n",
       "       13346,  6858, 11198, 10171, 12327,  7032, 13101,  7332, 13159,\n",
       "        9967,  6292, 11777,  3604, 12150, 14585, 12704, 11841, 10267,\n",
       "        8740,  8320,  6600,  4435,  7990, 11302,  3600, 12984,  1950,\n",
       "       10927, 10041, 12803, 13600, 12464,  7943, 11050, 10395, 11885,\n",
       "        8402,  1491,  8800,  7861,  7227, 11694, 12244,  8248,  7064,\n",
       "       10000, 11606,  9020,  4590, 11900,  9250,  6979, 10896,  3982,\n",
       "       12677,  7050, 10793, 10530, 10452,  7700,  1936, 10320, 10007,\n",
       "        9937, 12384, 13560, 10012, 11194, 14175,  8633,  6629, 14442,\n",
       "        2289,  9022,  9945,  2887, 11248, 16770,  5062, 10207,  5105,\n",
       "        7577,  4426, 13811,  6420,  4282, 14331,  7630,  5600,  9018,\n",
       "        7162,  4130,  8712,  4671,  9873, 13517,  9920,  6563,  8120,\n",
       "        8172, 13286,  6960,  7314,  5389,  9590, 11404,  8978, 10463,\n",
       "        9313,  6768, 12886,  5395,  8963,  8795, 10593,  9236, 10240,\n",
       "        7930, 10769, 12257,  6911,  9549, 14587, 10421, 12508,  7252,\n",
       "        8877,  7819, 10150, 11210, 13350,  7875,  7153, 16285,  9101,\n",
       "        6300,  9790, 10142, 12205, 11333,  9158, 10832,  8197,  7677,\n",
       "       12798,  4800,  8199, 12274,  9750, 13400,  8100, 12137, 11425,\n",
       "       13265,  8816,  6371,  7226, 12394, 11216,  6130,  8529,  2544,\n",
       "        3180,  9548, 10004, 11767, 12155, 12665, 16647,  9317, 15523,\n",
       "        7128, 12095,  6897, 10970, 11029,  7642, 11625,  9672, 10656,\n",
       "        6970, 14762,  9938, 12144,  5720, 11782,  7024, 13758,  9636,\n",
       "        6204,  7150,  8393, 16466, 15865, 12160,  8064, 11184,  8414,\n",
       "       13284,  7056,  8765,  6993,  7340, 14859,  6173, 13501, 11500,\n",
       "        8885, 12589,  9286,  6270,  3000,  2001, 17140,  8462, 10237,\n",
       "       11999, 11838, 13006,  8925, 11670,  8487,  5825, 10083,  9675,\n",
       "       12640,  8755,  7711, 14375,  8820,  8163, 14536, 14006,  9360,\n",
       "       11075,  9400,  7136,  1300,  2572,  7207, 12227, 11923, 11316,\n",
       "        7390,  2268, 11639, 11414,  2651,  5900,  4274,  9450, 12122,\n",
       "       10880,  5310, 12046,  9760,  4712, 10659, 11717, 11957,  8385,\n",
       "        2217, 12118,  9825, 10592, 11664, 11883,  5814, 10784,  3013,\n",
       "        7406,  9439, 15498,  9300,  9520,  9492,  7082, 15863, 14541,\n",
       "        6305, 12898,  9240,  1533,  1477,  9130,  5381, 11839, 13680,\n",
       "       11100,  8993, 11175,  8562, 11367, 11361,  7052,  4920,  7837,\n",
       "        3964, 10152,  7585,  7950,  8556, 15870,  8775,  8749, 13031,\n",
       "        9069,  1974, 10574,  3316,  2160,  9230,  5868,  6882,  3696,\n",
       "       11880,  9758,  8910,  2016, 12256, 10357,  8063, 11362,  7100,\n",
       "        8923, 12085,  9764, 13825,  8263,  8926,  9405,  9125, 10434,\n",
       "        3684, 14572, 11796,  7804, 10712,  9828,  6180,  6342,  8731,\n",
       "        7350, 10304, 12180, 12000,  5700,  8280,  5890, 13700, 10768,\n",
       "        5001, 11932, 14778,  8724, 12900, 16157,  9541, 10475, 10852,\n",
       "       13728,  9880,  4017, 16560, 10678,  6951,  3950,  7681,  8335,\n",
       "       11170,  9738, 10615, 12461,  8935,  9364,  8029, 14054,  8850,\n",
       "       11235,  9353, 14684,  8900,  7763, 10182, 11218, 12134,  9340,\n",
       "       10246, 10205,  7094,  8930, 10496, 10680, 15384, 10482, 14598,\n",
       "        8872,  7910,  7728,  9842,  8525, 13132,  2628, 12393,  9037,\n",
       "        8158,  9849, 11435, 12328, 11160,  3136,  9858,  6931, 14303,\n",
       "        4060,  9587, 13515,  3735, 10120, 11344,  9156, 13526, 11512,\n",
       "        5362, 11345, 12936,  9473,  9808,  8049,  9638,  5664, 11065,\n",
       "       14112,  8700,  8688,  3363, 13173,  6955,  8072,  9572,  8190,\n",
       "       10226,  4230, 14781, 10215,  6627, 10186,  9986,  3636,  4270,\n",
       "       10780,  2368,  9650,  9246,  4118, 13450,  9560,  8294,  7558,\n",
       "       11103, 15306, 16196,  5250, 11643,  9247, 10316, 10192,  9477,\n",
       "       12537, 16737, 16158, 12513,  8499,  9179, 10635, 10991, 10998,\n",
       "        1953,  9735,  8212, 12925,  5436, 16692,  8944,  7838,  4045,\n",
       "        6171,  7415, 15256,  3842,  8445,  8780,  7740, 12420, 10994,\n",
       "       13053,  3635,  9204, 16381,  9503, 10721, 10944, 10930, 12546,\n",
       "       10261, 17400,  7407, 11584, 11526, 11003,  8854,  9262, 17217,\n",
       "       13175,  9717], dtype=int64)"
      ]
     },
     "execution_count": 26,
     "metadata": {},
     "output_type": "execute_result"
    }
   ],
   "source": [
    "house.LotArea.unique()"
   ]
  },
  {
   "cell_type": "code",
   "execution_count": 30,
   "id": "1ee228e8",
   "metadata": {},
   "outputs": [
    {
     "data": {
      "text/plain": [
       "LotArea      int64\n",
       "SalePrice    int64\n",
       "dtype: object"
      ]
     },
     "execution_count": 30,
     "metadata": {},
     "output_type": "execute_result"
    }
   ],
   "source": [
    "house.dtypes"
   ]
  },
  {
   "cell_type": "code",
   "execution_count": 32,
   "id": "e74c4586",
   "metadata": {},
   "outputs": [
    {
     "data": {
      "text/html": [
       "<div>\n",
       "<style scoped>\n",
       "    .dataframe tbody tr th:only-of-type {\n",
       "        vertical-align: middle;\n",
       "    }\n",
       "\n",
       "    .dataframe tbody tr th {\n",
       "        vertical-align: top;\n",
       "    }\n",
       "\n",
       "    .dataframe thead th {\n",
       "        text-align: right;\n",
       "    }\n",
       "</style>\n",
       "<table border=\"1\" class=\"dataframe\">\n",
       "  <thead>\n",
       "    <tr style=\"text-align: right;\">\n",
       "      <th></th>\n",
       "      <th>SalePrice</th>\n",
       "    </tr>\n",
       "    <tr>\n",
       "      <th>LotArea</th>\n",
       "      <th></th>\n",
       "    </tr>\n",
       "  </thead>\n",
       "  <tbody>\n",
       "    <tr>\n",
       "      <th>1300</th>\n",
       "      <td>124000.0</td>\n",
       "    </tr>\n",
       "    <tr>\n",
       "      <th>1477</th>\n",
       "      <td>80000.0</td>\n",
       "    </tr>\n",
       "    <tr>\n",
       "      <th>1491</th>\n",
       "      <td>75500.0</td>\n",
       "    </tr>\n",
       "    <tr>\n",
       "      <th>1526</th>\n",
       "      <td>86000.0</td>\n",
       "    </tr>\n",
       "    <tr>\n",
       "      <th>1533</th>\n",
       "      <td>94500.0</td>\n",
       "    </tr>\n",
       "    <tr>\n",
       "      <th>...</th>\n",
       "      <td>...</td>\n",
       "    </tr>\n",
       "    <tr>\n",
       "      <th>17104</th>\n",
       "      <td>179665.0</td>\n",
       "    </tr>\n",
       "    <tr>\n",
       "      <th>17120</th>\n",
       "      <td>134432.0</td>\n",
       "    </tr>\n",
       "    <tr>\n",
       "      <th>17140</th>\n",
       "      <td>135000.0</td>\n",
       "    </tr>\n",
       "    <tr>\n",
       "      <th>17217</th>\n",
       "      <td>84500.0</td>\n",
       "    </tr>\n",
       "    <tr>\n",
       "      <th>17400</th>\n",
       "      <td>160000.0</td>\n",
       "    </tr>\n",
       "  </tbody>\n",
       "</table>\n",
       "<p>947 rows × 1 columns</p>\n",
       "</div>"
      ],
      "text/plain": [
       "         SalePrice\n",
       "LotArea           \n",
       "1300      124000.0\n",
       "1477       80000.0\n",
       "1491       75500.0\n",
       "1526       86000.0\n",
       "1533       94500.0\n",
       "...            ...\n",
       "17104     179665.0\n",
       "17120     134432.0\n",
       "17140     135000.0\n",
       "17217      84500.0\n",
       "17400     160000.0\n",
       "\n",
       "[947 rows x 1 columns]"
      ]
     },
     "execution_count": 32,
     "metadata": {},
     "output_type": "execute_result"
    }
   ],
   "source": [
    "house.groupby(\"LotArea\").mean()"
   ]
  },
  {
   "cell_type": "code",
   "execution_count": 35,
   "id": "dcc0f5db",
   "metadata": {},
   "outputs": [
    {
     "name": "stdout",
     "output_type": "stream",
     "text": [
      "<class 'pandas.core.frame.DataFrame'>\n",
      "RangeIndex: 1326 entries, 0 to 1325\n",
      "Data columns (total 2 columns):\n",
      " #   Column     Non-Null Count  Dtype\n",
      "---  ------     --------------  -----\n",
      " 0   LotArea    1326 non-null   int64\n",
      " 1   SalePrice  1326 non-null   int64\n",
      "dtypes: int64(2)\n",
      "memory usage: 20.8 KB\n"
     ]
    }
   ],
   "source": [
    "house.info()"
   ]
  },
  {
   "cell_type": "code",
   "execution_count": 37,
   "id": "640205af",
   "metadata": {},
   "outputs": [],
   "source": [
    "x=house[[\"LotArea\",\"SalePrice\"]]\n",
    "corr=x.corr()"
   ]
  },
  {
   "cell_type": "code",
   "execution_count": 40,
   "id": "5e47e62d",
   "metadata": {},
   "outputs": [
    {
     "data": {
      "text/html": [
       "<div>\n",
       "<style scoped>\n",
       "    .dataframe tbody tr th:only-of-type {\n",
       "        vertical-align: middle;\n",
       "    }\n",
       "\n",
       "    .dataframe tbody tr th {\n",
       "        vertical-align: top;\n",
       "    }\n",
       "\n",
       "    .dataframe thead th {\n",
       "        text-align: right;\n",
       "    }\n",
       "</style>\n",
       "<table border=\"1\" class=\"dataframe\">\n",
       "  <thead>\n",
       "    <tr style=\"text-align: right;\">\n",
       "      <th></th>\n",
       "      <th>LotArea</th>\n",
       "      <th>SalePrice</th>\n",
       "    </tr>\n",
       "  </thead>\n",
       "  <tbody>\n",
       "    <tr>\n",
       "      <th>LotArea</th>\n",
       "      <td>1.000000</td>\n",
       "      <td>0.390102</td>\n",
       "    </tr>\n",
       "    <tr>\n",
       "      <th>SalePrice</th>\n",
       "      <td>0.390102</td>\n",
       "      <td>1.000000</td>\n",
       "    </tr>\n",
       "  </tbody>\n",
       "</table>\n",
       "</div>"
      ],
      "text/plain": [
       "            LotArea  SalePrice\n",
       "LotArea    1.000000   0.390102\n",
       "SalePrice  0.390102   1.000000"
      ]
     },
     "execution_count": 40,
     "metadata": {},
     "output_type": "execute_result"
    },
    {
     "data": {
      "image/png": "[encoded data removed]",
      "text/plain": [
       "<Figure size 432x288 with 2 Axes>"
      ]
     },
     "metadata": {
      "needs_background": "light"
     },
     "output_type": "display_data"
    }
   ],
   "source": [
    "sns.heatmap(corr)\n",
    "corr"
   ]
  },
  {
   "cell_type": "code",
   "execution_count": 3,
   "id": "cb2bb8a3",
   "metadata": {},
   "outputs": [
    {
     "data": {
      "image/png": "[encoded data removed]",
      "text/plain": [
       "<Figure size 432x288 with 1 Axes>"
      ]
     },
     "metadata": {
      "needs_background": "light"
     },
     "output_type": "display_data"
    }
   ],
   "source": [
    "plt.scatter(x =house.LotArea, y = house.SalePrice)\n",
    "plt.xlabel(\"LotArea\")\n",
    "plt.ylabel(\"SalePrice\")\n",
    "plt.title(\"Scatter Plot of LotArea vs SalePrice\")\n",
    "plt.show()"
   ]
  },
  {
   "cell_type": "code",
   "execution_count": 5,
   "id": "ac071004",
   "metadata": {},
   "outputs": [
    {
     "data": {
      "text/plain": [
       "<AxesSubplot:xlabel='LotArea'>"
      ]
     },
     "execution_count": 5,
     "metadata": {},
     "output_type": "execute_result"
    },
    {
     "data": {
      "image/png": "[encoded data removed]",
      "text/plain": [
       "<Figure size 432x288 with 1 Axes>"
      ]
     },
     "metadata": {
      "needs_background": "light"
     },
     "output_type": "display_data"
    }
   ],
   "source": [
    "house.groupby(\"LotArea\")[\"SalePrice\"].median().plot()"
   ]
  },
  {
   "cell_type": "code",
   "execution_count": 6,
   "id": "618c59b5",
   "metadata": {},
   "outputs": [
    {
     "data": {
      "text/plain": [
       "<AxesSubplot:>"
      ]
     },
     "execution_count": 6,
     "metadata": {},
     "output_type": "execute_result"
    },
    {
     "data": {
      "image/png": "[encoded data removed]",
      "text/plain": [
       "<Figure size 432x288 with 1 Axes>"
      ]
     },
     "metadata": {
      "needs_background": "light"
     },
     "output_type": "display_data"
    }
   ],
   "source": [
    "house.groupby(\"LotArea\")[\"SalePrice\"].median().hist()"
   ]
  },
  {
   "cell_type": "markdown",
   "id": "40444847",
   "metadata": {},
   "source": [
    "# Split Dataset"
   ]
  },
  {
   "cell_type": "code",
   "execution_count": 7,
   "id": "482f42d4",
   "metadata": {},
   "outputs": [
    {
     "name": "stdout",
     "output_type": "stream",
     "text": [
      "shape of X =  (1326, 1)\n",
      "shape of y =  (1326, 1)\n"
     ]
    }
   ],
   "source": [
    "X = house.drop(\"LotArea\", axis = \"columns\")\n",
    "y = house.drop(\"SalePrice\", axis = \"columns\")\n",
    "print(\"shape of X = \", X.shape)\n",
    "print(\"shape of y = \", y.shape)"
   ]
  },
  {
   "cell_type": "code",
   "execution_count": 10,
   "id": "78c0a0a9",
   "metadata": {},
   "outputs": [
    {
     "name": "stdout",
     "output_type": "stream",
     "text": [
      "shape of X_train =  (1060, 1)\n",
      "shape of y_train =  (1060, 1)\n",
      "shape of X_test =  (266, 1)\n",
      "shape of y_test =  (266, 1)\n"
     ]
    }
   ],
   "source": [
    "from sklearn.model_selection import train_test_split\n",
    "X_train , X_test , y_train, y_test = train_test_split(X,y , test_size=0.2, random_state=51)\n",
    "print(\"shape of X_train = \", X_train.shape)\n",
    "print(\"shape of y_train = \", y_train.shape)\n",
    "print(\"shape of X_test = \", X_test.shape)\n",
    "print(\"shape of y_test = \", y_test.shape)\n",
    "\n",
    "#80% data in training , remaining 20% for testing"
   ]
  },
  {
   "cell_type": "markdown",
   "id": "e6bafded",
   "metadata": {},
   "source": [
    "# Model Training"
   ]
  },
  {
   "cell_type": "code",
   "execution_count": 12,
   "id": "3a72b02d",
   "metadata": {},
   "outputs": [],
   "source": [
    " # y = m * x + c\n",
    "from sklearn.linear_model import LinearRegression\n",
    "lr = LinearRegression()"
   ]
  },
  {
   "cell_type": "code",
   "execution_count": 13,
   "id": "0e51bebd",
   "metadata": {},
   "outputs": [
    {
     "data": {
      "text/plain": [
       "LinearRegression()"
      ]
     },
     "execution_count": 13,
     "metadata": {},
     "output_type": "execute_result"
    }
   ],
   "source": [
    "lr.fit(X_train,y_train)"
   ]
  },
  {
   "cell_type": "code",
   "execution_count": 28,
   "id": "815f8b15",
   "metadata": {},
   "outputs": [],
   "source": [
    "m=lr.coef_"
   ]
  },
  {
   "cell_type": "code",
   "execution_count": 29,
   "id": "a9165cdf",
   "metadata": {},
   "outputs": [],
   "source": [
    "c=lr.intercept_"
   ]
  },
  {
   "cell_type": "code",
   "execution_count": 40,
   "id": "2ad40ffb",
   "metadata": {},
   "outputs": [
    {
     "data": {
      "text/plain": [
       "array([[5768.8869247]])"
      ]
     },
     "execution_count": 40,
     "metadata": {},
     "output_type": "execute_result"
    }
   ],
   "source": [
    "#y=mx+c\n",
    "y=m*8450+c\n",
    "y"
   ]
  },
  {
   "cell_type": "code",
   "execution_count": 41,
   "id": "588643d2",
   "metadata": {},
   "outputs": [
    {
     "data": {
      "text/plain": [
       "5721.41"
      ]
     },
     "execution_count": 41,
     "metadata": {},
     "output_type": "execute_result"
    }
   ],
   "source": [
    "lr.predict([[6120]])[0][0].round(2) #almost same"
   ]
  },
  {
   "cell_type": "code",
   "execution_count": 33,
   "id": "49528db0",
   "metadata": {},
   "outputs": [
    {
     "data": {
      "text/plain": [
       "array([[ 8397.22509609],\n",
       "       [ 8275.99554478],\n",
       "       [ 9345.66805639],\n",
       "       [ 7389.69546372],\n",
       "       [ 8856.67490823],\n",
       "       [ 6839.57817204],\n",
       "       [10201.40606569],\n",
       "       [ 8652.92776316],\n",
       "       [11705.0599963 ],\n",
       "       [ 9029.85998154],\n",
       "       [ 8347.30704555],\n",
       "       [ 9422.07323579],\n",
       "       [ 8856.67490823],\n",
       "       [ 7461.0069645 ],\n",
       "       [ 9203.04505484],\n",
       "       [11444.26365061],\n",
       "       [ 9139.88343987],\n",
       "       [10894.14635892],\n",
       "       [ 8907.61169449],\n",
       "       [ 8714.05190668],\n",
       "       [ 9182.67034034],\n",
       "       [10282.90492371],\n",
       "       [ 9264.16919837],\n",
       "       [ 8815.92547921],\n",
       "       [10079.15777864],\n",
       "       [ 8551.05419062],\n",
       "       [10262.53020921],\n",
       "       [ 8569.39143368],\n",
       "       [ 7450.81960725],\n",
       "       [ 8815.92547921],\n",
       "       [10347.4927687 ],\n",
       "       [ 9610.53934498],\n",
       "       [ 7277.63453394],\n",
       "       [ 7878.68861189],\n",
       "       [ 9364.00529945],\n",
       "       [ 7939.81275541],\n",
       "       [ 8591.80361964],\n",
       "       [ 9213.2324121 ],\n",
       "       [ 8510.30476161],\n",
       "       [ 8214.87140126],\n",
       "       [ 8337.1196883 ],\n",
       "       [ 8693.67719217],\n",
       "       [ 8846.48755097],\n",
       "       [ 8337.1196883 ],\n",
       "       [ 9467.91634343],\n",
       "       [ 9284.54391287],\n",
       "       [ 8937.97001911],\n",
       "       [ 9017.63515283],\n",
       "       [ 9673.70095996],\n",
       "       [ 9773.53706104],\n",
       "       [10690.39921385],\n",
       "       [ 8306.55761654],\n",
       "       [ 8367.68176006],\n",
       "       [ 7328.5713202 ],\n",
       "       [11361.17556485],\n",
       "       [10466.27735428],\n",
       "       [ 7247.07246218],\n",
       "       [10480.25440843],\n",
       "       [ 8398.24383182],\n",
       "       [10028.22099238],\n",
       "       [ 8530.67947611],\n",
       "       [ 9058.38458185],\n",
       "       [ 8754.80133569],\n",
       "       [ 8167.50019003],\n",
       "       [10978.33467927],\n",
       "       [ 8628.47810575],\n",
       "       [ 9162.29562583],\n",
       "       [ 6961.82645908],\n",
       "       [ 8245.43347302],\n",
       "       [ 7990.74954168],\n",
       "       [ 6717.329885  ],\n",
       "       [ 9264.16919837],\n",
       "       [ 7736.06561034],\n",
       "       [ 7929.70689702],\n",
       "       [ 8194.49668675],\n",
       "       [ 9213.2324121 ],\n",
       "       [ 8153.74725774],\n",
       "       [ 9467.91634343],\n",
       "       [ 7593.44260879],\n",
       "       [ 9060.4220533 ],\n",
       "       [ 8917.79905175],\n",
       "       [ 9956.9094916 ],\n",
       "       [ 9590.16463048],\n",
       "       [ 9934.49730564],\n",
       "       [ 7206.32303316],\n",
       "       [10435.71528252],\n",
       "       [11185.50477637],\n",
       "       [10170.84399393],\n",
       "       [ 8754.80133569],\n",
       "       [ 8489.9300471 ],\n",
       "       [10656.3326912 ],\n",
       "       [10007.84627787],\n",
       "       [11036.76936047],\n",
       "       [ 8449.18061809],\n",
       "       [ 9406.79219991],\n",
       "       [ 8754.80133569],\n",
       "       [ 9192.85769759],\n",
       "       [ 8021.31161344],\n",
       "       [11617.30610092],\n",
       "       [ 7816.72910508],\n",
       "       [ 8968.73583801],\n",
       "       [ 8367.68176006],\n",
       "       [ 8286.18290203],\n",
       "       [ 8591.80361964],\n",
       "       [10744.9626993 ],\n",
       "       [10873.77164442],\n",
       "       [ 9753.16234653],\n",
       "       [ 9264.16919837],\n",
       "       [10527.4014978 ],\n",
       "       [10940.600708  ],\n",
       "       [ 8813.88800776],\n",
       "       [ 9975.24673466],\n",
       "       [10387.38645971],\n",
       "       [ 9019.67262428],\n",
       "       [10568.15092681],\n",
       "       [12047.35520002],\n",
       "       [10547.7762123 ],\n",
       "       [ 9610.53934498],\n",
       "       [ 8734.42662118],\n",
       "       [ 9121.54619682],\n",
       "       [ 8999.29790977],\n",
       "       [ 8235.24611576],\n",
       "       [10201.40606569],\n",
       "       [ 8632.55304865],\n",
       "       [11383.13950709],\n",
       "       [ 7226.69774767],\n",
       "       [11301.64064906],\n",
       "       [ 8897.42433724],\n",
       "       [ 9141.92091132],\n",
       "       [ 7756.44032485],\n",
       "       [ 9437.35427167],\n",
       "       [ 8255.62083027],\n",
       "       [ 8051.8736852 ],\n",
       "       [ 8000.93689893],\n",
       "       [10068.97042139],\n",
       "       [ 9549.41520146],\n",
       "       [ 9304.91862738],\n",
       "       [10384.77849625],\n",
       "       [ 8102.81047147],\n",
       "       [ 9467.91634343],\n",
       "       [ 8286.18290203],\n",
       "       [11749.88436821],\n",
       "       [10486.65206878],\n",
       "       [ 9029.85998154],\n",
       "       [ 7124.82417513],\n",
       "       [ 6411.70916739],\n",
       "       [ 8345.2695741 ],\n",
       "       [11014.35717451],\n",
       "       [10181.03135118],\n",
       "       [12218.50280187],\n",
       "       [ 8133.37254323],\n",
       "       [ 8551.05419062],\n",
       "       [11505.38779413],\n",
       "       [ 9274.35655562],\n",
       "       [ 8123.18518598],\n",
       "       [ 8449.18061809],\n",
       "       [ 7437.57604282],\n",
       "       [11951.02354983],\n",
       "       [ 9946.72213435],\n",
       "       [ 8141.52242903],\n",
       "       [ 8671.26500621],\n",
       "       [ 8612.17833414],\n",
       "       [ 7369.32074922],\n",
       "       [ 9213.2324121 ],\n",
       "       [ 8530.67947611],\n",
       "       [ 9977.28420611],\n",
       "       [ 9160.25815438],\n",
       "       [ 7848.12654013],\n",
       "       [ 8115.03530017],\n",
       "       [ 9977.28420611],\n",
       "       [ 8051.8736852 ],\n",
       "       [ 7277.63453394],\n",
       "       [ 8428.80590358],\n",
       "       [ 8082.43575696],\n",
       "       [ 8632.55304865],\n",
       "       [ 9865.22327632],\n",
       "       [ 9732.78763203],\n",
       "       [ 7817.72746609],\n",
       "       [ 8999.29790977],\n",
       "       [11648.01079568],\n",
       "       [12014.75565681],\n",
       "       [ 9262.13172691],\n",
       "       [ 9386.41748541],\n",
       "       [ 8025.38655634],\n",
       "       [ 7939.81275541],\n",
       "       [11943.44415603],\n",
       "       [ 9366.0427709 ],\n",
       "       [ 8938.17376625],\n",
       "       [ 8398.24383182],\n",
       "       [10130.09456491],\n",
       "       [ 8265.80818752],\n",
       "       [ 8734.42662118],\n",
       "       [ 8650.89029171],\n",
       "       [ 8031.49897069],\n",
       "       [ 8775.1760502 ],\n",
       "       [ 7827.75182562],\n",
       "       [ 9600.35198773],\n",
       "       [ 9264.16919837],\n",
       "       [ 7766.6276821 ],\n",
       "       [ 7776.81503936],\n",
       "       [ 8377.86911731],\n",
       "       [ 8436.95578938],\n",
       "       [ 8286.18290203],\n",
       "       [ 9467.91634343],\n",
       "       [ 9262.13172691],\n",
       "       [ 8754.80133569],\n",
       "       [ 9824.47384731],\n",
       "       [ 7837.93918288],\n",
       "       [ 8225.05875851],\n",
       "       [10079.15777864],\n",
       "       [ 8693.67719217],\n",
       "       [ 8316.74497379],\n",
       "       [ 8897.42433724],\n",
       "       [ 9773.53706104],\n",
       "       [10595.6567914 ],\n",
       "       [10130.09456491],\n",
       "       [ 7835.90171143],\n",
       "       [10239.60865539],\n",
       "       [10902.29624473],\n",
       "       [ 9253.98184111],\n",
       "       [ 8938.17376625],\n",
       "       [ 7674.94146682],\n",
       "       [ 8143.55990048],\n",
       "       [ 7980.56218443],\n",
       "       [ 8612.17833414],\n",
       "       [ 8204.684044  ],\n",
       "       [ 8143.55990048],\n",
       "       [ 8836.30019372],\n",
       "       [ 8082.43575696],\n",
       "       [ 9467.91634343],\n",
       "       [10684.2867995 ],\n",
       "       [ 8449.18061809],\n",
       "       [ 8343.23210265],\n",
       "       [10818.75991525],\n",
       "       [ 9732.78763203],\n",
       "       [ 7527.22478665],\n",
       "       [ 8245.43347302],\n",
       "       [ 9121.54619682],\n",
       "       [ 7837.93918288],\n",
       "       [ 7532.31846527],\n",
       "       [ 9060.4220533 ],\n",
       "       [ 8612.17833414],\n",
       "       [10235.63558606],\n",
       "       [ 9009.48526703],\n",
       "       [ 8296.37025928],\n",
       "       [ 7326.53384875],\n",
       "       [ 8000.93689893],\n",
       "       [ 7878.68861189],\n",
       "       [ 8734.42662118],\n",
       "       [ 9518.8531297 ],\n",
       "       [ 8591.80361964],\n",
       "       [ 7939.81275541],\n",
       "       [ 8235.24611576],\n",
       "       [11912.88208427],\n",
       "       [11892.50736976],\n",
       "       [ 9620.72670224],\n",
       "       [ 7430.44489274],\n",
       "       [ 8612.17833414],\n",
       "       [ 8612.17833414],\n",
       "       [ 7573.06789429],\n",
       "       [10810.61002944],\n",
       "       [ 8296.37025928],\n",
       "       [ 7837.93918288],\n",
       "       [ 9192.85769759],\n",
       "       [10833.0222154 ],\n",
       "       [ 8856.67490823]])"
      ]
     },
     "execution_count": 33,
     "metadata": {},
     "output_type": "execute_result"
    }
   ],
   "source": [
    "y_pred=lr.predict(X_test)\n",
    "y_pred"
   ]
  },
  {
   "cell_type": "code",
   "execution_count": 42,
   "id": "4c0bdc65",
   "metadata": {},
   "outputs": [
    {
     "data": {
      "text/html": [
       "<div>\n",
       "<style scoped>\n",
       "    .dataframe tbody tr th:only-of-type {\n",
       "        vertical-align: middle;\n",
       "    }\n",
       "\n",
       "    .dataframe tbody tr th {\n",
       "        vertical-align: top;\n",
       "    }\n",
       "\n",
       "    .dataframe thead th {\n",
       "        text-align: right;\n",
       "    }\n",
       "</style>\n",
       "<table border=\"1\" class=\"dataframe\">\n",
       "  <thead>\n",
       "    <tr style=\"text-align: right;\">\n",
       "      <th></th>\n",
       "      <th>LotArea</th>\n",
       "      <th>SalePrice_original</th>\n",
       "      <th>SalePrice_predicted</th>\n",
       "    </tr>\n",
       "  </thead>\n",
       "  <tbody>\n",
       "    <tr>\n",
       "      <th>0</th>\n",
       "      <td>137450.0</td>\n",
       "      <td>6171.0</td>\n",
       "      <td>8397.225096</td>\n",
       "    </tr>\n",
       "    <tr>\n",
       "      <th>1</th>\n",
       "      <td>131500.0</td>\n",
       "      <td>12150.0</td>\n",
       "      <td>8275.995545</td>\n",
       "    </tr>\n",
       "    <tr>\n",
       "      <th>2</th>\n",
       "      <td>184000.0</td>\n",
       "      <td>7472.0</td>\n",
       "      <td>9345.668056</td>\n",
       "    </tr>\n",
       "    <tr>\n",
       "      <th>3</th>\n",
       "      <td>88000.0</td>\n",
       "      <td>1680.0</td>\n",
       "      <td>7389.695464</td>\n",
       "    </tr>\n",
       "    <tr>\n",
       "      <th>4</th>\n",
       "      <td>160000.0</td>\n",
       "      <td>17400.0</td>\n",
       "      <td>8856.674908</td>\n",
       "    </tr>\n",
       "    <tr>\n",
       "      <th>...</th>\n",
       "      <td>...</td>\n",
       "      <td>...</td>\n",
       "      <td>...</td>\n",
       "    </tr>\n",
       "    <tr>\n",
       "      <th>261</th>\n",
       "      <td>132500.0</td>\n",
       "      <td>6000.0</td>\n",
       "      <td>8296.370259</td>\n",
       "    </tr>\n",
       "    <tr>\n",
       "      <th>262</th>\n",
       "      <td>110000.0</td>\n",
       "      <td>11475.0</td>\n",
       "      <td>7837.939183</td>\n",
       "    </tr>\n",
       "    <tr>\n",
       "      <th>263</th>\n",
       "      <td>176500.0</td>\n",
       "      <td>11029.0</td>\n",
       "      <td>9192.857698</td>\n",
       "    </tr>\n",
       "    <tr>\n",
       "      <th>264</th>\n",
       "      <td>257000.0</td>\n",
       "      <td>10994.0</td>\n",
       "      <td>10833.022215</td>\n",
       "    </tr>\n",
       "    <tr>\n",
       "      <th>265</th>\n",
       "      <td>160000.0</td>\n",
       "      <td>8658.0</td>\n",
       "      <td>8856.674908</td>\n",
       "    </tr>\n",
       "  </tbody>\n",
       "</table>\n",
       "<p>266 rows × 3 columns</p>\n",
       "</div>"
      ],
      "text/plain": [
       "      LotArea  SalePrice_original  SalePrice_predicted\n",
       "0    137450.0              6171.0          8397.225096\n",
       "1    131500.0             12150.0          8275.995545\n",
       "2    184000.0              7472.0          9345.668056\n",
       "3     88000.0              1680.0          7389.695464\n",
       "4    160000.0             17400.0          8856.674908\n",
       "..        ...                 ...                  ...\n",
       "261  132500.0              6000.0          8296.370259\n",
       "262  110000.0             11475.0          7837.939183\n",
       "263  176500.0             11029.0          9192.857698\n",
       "264  257000.0             10994.0         10833.022215\n",
       "265  160000.0              8658.0          8856.674908\n",
       "\n",
       "[266 rows x 3 columns]"
      ]
     },
     "execution_count": 42,
     "metadata": {},
     "output_type": "execute_result"
    }
   ],
   "source": [
    "pd.DataFrame(np.c_[X_test, y_test, y_pred], columns = [\"LotArea\", \"SalePrice_original\",\"SalePrice_predicted\"])"
   ]
  },
  {
   "cell_type": "code",
   "execution_count": 35,
   "id": "6f99e22e",
   "metadata": {},
   "outputs": [
    {
     "data": {
      "text/plain": [
       "0.17504844762412253"
      ]
     },
     "execution_count": 35,
     "metadata": {},
     "output_type": "execute_result"
    }
   ],
   "source": [
    "lr.score(X_test,y_test)"
   ]
  },
  {
   "cell_type": "code",
   "execution_count": 36,
   "id": "0458d70d",
   "metadata": {},
   "outputs": [
    {
     "data": {
      "text/plain": [
       "<matplotlib.collections.PathCollection at 0x2707a4348b0>"
      ]
     },
     "execution_count": 36,
     "metadata": {},
     "output_type": "execute_result"
    },
    {
     "data": {
      "image/png": "[encoded data removed]",
      "text/plain": [
       "<Figure size 432x288 with 1 Axes>"
      ]
     },
     "metadata": {
      "needs_background": "light"
     },
     "output_type": "display_data"
    }
   ],
   "source": [
    "plt.scatter(X_test, y_test)"
   ]
  },
  {
   "cell_type": "code",
   "execution_count": 37,
   "id": "a9aa060e",
   "metadata": {},
   "outputs": [
    {
     "data": {
      "text/plain": [
       "[<matplotlib.lines.Line2D at 0x2707a4a7670>]"
      ]
     },
     "execution_count": 37,
     "metadata": {},
     "output_type": "execute_result"
    },
    {
     "data": {
      "image/png": "[encoded data removed]",
      "text/plain": [
       "<Figure size 432x288 with 1 Axes>"
      ]
     },
     "metadata": {
      "needs_background": "light"
     },
     "output_type": "display_data"
    }
   ],
   "source": [
    "plt.scatter(X_test, y_test)\n",
    "plt.plot(X_train, lr.predict(X_train), color = \"r\")"
   ]
  },
  {
   "cell_type": "code",
   "execution_count": 27,
   "id": "461400d8",
   "metadata": {},
   "outputs": [],
   "source": [
    "#Failed Model"
   ]
  },
  {
   "cell_type": "code",
   "execution_count": 39,
   "id": "46eea9f6",
   "metadata": {},
   "outputs": [
    {
     "data": {
      "text/plain": [
       "[<matplotlib.lines.Line2D at 0x2707a7b9a00>]"
      ]
     },
     "execution_count": 39,
     "metadata": {},
     "output_type": "execute_result"
    },
    {
     "data": {
      "image/png": "[encoded data removed]",
      "text/plain": [
       "<Figure size 432x288 with 1 Axes>"
      ]
     },
     "metadata": {
      "needs_background": "light"
     },
     "output_type": "display_data"
    }
   ],
   "source": [
    "plt.scatter(X_train, y_train)\n",
    "plt.plot(X_test, lr.predict(X_test), color = \"r\")"
   ]
  },
  {
   "cell_type": "code",
   "execution_count": 50,
   "id": "613ddd8e",
   "metadata": {},
   "outputs": [
    {
     "data": {
      "text/plain": [
       "array([[5768.89]])"
      ]
     },
     "execution_count": 50,
     "metadata": {},
     "output_type": "execute_result"
    }
   ],
   "source": [
    "lr.predict([[8450]]).round(2) #worst model"
   ]
  },
  {
   "cell_type": "code",
   "execution_count": null,
   "id": "a361af3f",
   "metadata": {},
   "outputs": [],
   "source": []
  }
 ],
 "metadata": {
  "kernelspec": {
   "display_name": "Python 3 (ipykernel)",
   "language": "python",
   "name": "python3"
  },
  "language_info": {
   "codemirror_mode": {
    "name": "ipython",
    "version": 3
   },
   "file_extension": ".py",
   "mimetype": "text/x-python",
   "name": "python",
   "nbconvert_exporter": "python",
   "pygments_lexer": "ipython3",
   "version": "3.12.2"
  },
  "widgets": {
   "application/vnd.jupyter.widget-state+json": {
    "state": {},
    "version_major": 2,
    "version_minor": 0
   }
  }
 },
 "nbformat": 4,
 "nbformat_minor": 5
}
