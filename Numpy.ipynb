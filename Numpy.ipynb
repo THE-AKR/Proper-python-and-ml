{
 "cells": [
  {
   "cell_type": "code",
   "execution_count": 1,
   "id": "c13a88a5",
   "metadata": {},
   "outputs": [],
   "source": [
    "import numpy as np"
   ]
  },
  {
   "cell_type": "code",
   "execution_count": 7,
   "id": "2d0b13b1",
   "metadata": {},
   "outputs": [
    {
     "name": "stdout",
     "output_type": "stream",
     "text": [
      "[1 2 3 4 5]\n",
      "1\n",
      "<class 'numpy.ndarray'>\n"
     ]
    }
   ],
   "source": [
    "x=np.array([1,2,3,4,5])\n",
    "print(x) #1d \n",
    "print(x.ndim)\n",
    "print(type(x))"
   ]
  },
  {
   "cell_type": "code",
   "execution_count": 9,
   "id": "f5d6614d",
   "metadata": {},
   "outputs": [
    {
     "name": "stdout",
     "output_type": "stream",
     "text": [
      "[[1 2 3 4 5]\n",
      " [1 2 3 4 5]]\n",
      "2\n"
     ]
    }
   ],
   "source": [
    "x=np.array([[1,2,3,4,5],[1,2,3,4,5]])\n",
    "print(x) #2d \n",
    "print(x.ndim)"
   ]
  },
  {
   "cell_type": "code",
   "execution_count": 3,
   "id": "bbfb883f",
   "metadata": {},
   "outputs": [
    {
     "name": "stdout",
     "output_type": "stream",
     "text": [
      "[[[1 2 3 4 5]\n",
      "  [1 2 3 4 5]\n",
      "  [1 2 3 4 5]]]\n",
      "3\n"
     ]
    }
   ],
   "source": [
    "x=np.array([[[1,2,3,4,5],[1,2,3,4,5],[1,2,3,4,5]]])\n",
    "print(x) #3d \n",
    "print(x.ndim) "
   ]
  },
  {
   "cell_type": "code",
   "execution_count": 4,
   "id": "75a46cb8",
   "metadata": {},
   "outputs": [
    {
     "data": {
      "text/plain": [
       "array([1, 9, 4, 8, 6, 5])"
      ]
     },
     "execution_count": 4,
     "metadata": {},
     "output_type": "execute_result"
    }
   ],
   "source": [
    "x=np.random.randint(10,size=6)\n",
    "x"
   ]
  },
  {
   "cell_type": "code",
   "execution_count": 2,
   "id": "2146dbee",
   "metadata": {},
   "outputs": [
    {
     "data": {
      "text/plain": [
       "array([[ 2, 16,  4, 10, 15,  3],\n",
       "       [ 2,  3, 16, 11, 13,  5],\n",
       "       [ 6, 11, 18,  4,  7,  7],\n",
       "       [ 7,  1,  6, 12,  6, 12],\n",
       "       [ 2, 13,  1, 19, 11,  5]])"
      ]
     },
     "execution_count": 2,
     "metadata": {},
     "output_type": "execute_result"
    }
   ],
   "source": [
    "x=np.random.randint(20,size=(5,6))\n",
    "x"
   ]
  },
  {
   "cell_type": "code",
   "execution_count": 3,
   "id": "573ee04a",
   "metadata": {},
   "outputs": [
    {
     "data": {
      "text/plain": [
       "array([[[ 7, 12,  8, 13],\n",
       "        [14,  0, 10, 18]],\n",
       "\n",
       "       [[17, 14,  5,  1],\n",
       "        [12,  8, 11,  7]],\n",
       "\n",
       "       [[18,  4, 16, 13],\n",
       "        [14,  4, 17,  3]]])"
      ]
     },
     "execution_count": 3,
     "metadata": {},
     "output_type": "execute_result"
    }
   ],
   "source": [
    "x=np.random.randint(20,size=(3,2,4))\n",
    "x"
   ]
  },
  {
   "cell_type": "code",
   "execution_count": 6,
   "id": "be5a3b98",
   "metadata": {},
   "outputs": [
    {
     "data": {
      "text/plain": [
       "4"
      ]
     },
     "execution_count": 6,
     "metadata": {},
     "output_type": "execute_result"
    }
   ],
   "source": [
    "x=20\n",
    "np.floor_divide(x,5)"
   ]
  },
  {
   "cell_type": "code",
   "execution_count": 10,
   "id": "6922cc28",
   "metadata": {},
   "outputs": [
    {
     "data": {
      "text/plain": [
       "array([4, 6, 8])"
      ]
     },
     "execution_count": 10,
     "metadata": {},
     "output_type": "execute_result"
    }
   ],
   "source": [
    "x=np.arange(4,10,2)\n",
    "x"
   ]
  },
  {
   "cell_type": "markdown",
   "id": "375dba3d",
   "metadata": {},
   "source": [
    "## taking array from user"
   ]
  },
  {
   "cell_type": "code",
   "execution_count": 8,
   "id": "e1489b67",
   "metadata": {},
   "outputs": [
    {
     "name": "stdout",
     "output_type": "stream",
     "text": [
      "values : 10\n",
      "values : 12\n",
      "values : 14\n",
      "values : 16\n",
      "[10, 12, 14, 16]\n",
      "<class 'list'>\n",
      "[10 12 14 16]\n",
      "<class 'numpy.ndarray'>\n"
     ]
    }
   ],
   "source": [
    "l=[]\n",
    "\n",
    "for i in range(1,5):\n",
    "    value=int(input(\"values : \")) #input always takes values as a string , thats why i used int(input)\n",
    "    l.append(value)\n",
    "    \n",
    "print(l)\n",
    "print(type(l))\n",
    "print(np.array(l))\n",
    "a=np.array(l)\n",
    "print(type(a))"
   ]
  },
  {
   "cell_type": "markdown",
   "id": "80c65529",
   "metadata": {},
   "source": [
    "## 10D array"
   ]
  },
  {
   "cell_type": "code",
   "execution_count": 10,
   "id": "6f739f01",
   "metadata": {},
   "outputs": [
    {
     "name": "stdout",
     "output_type": "stream",
     "text": [
      "[[[[[[[[[[1 2 3 4]]]]]]]]]]\n"
     ]
    }
   ],
   "source": [
    "x=np.array([1,2,3,4],ndmin=10)\n",
    "print(x)"
   ]
  },
  {
   "cell_type": "markdown",
   "id": "7474553b",
   "metadata": {},
   "source": [
    "## Zeroes"
   ]
  },
  {
   "cell_type": "code",
   "execution_count": 13,
   "id": "0b4644af",
   "metadata": {},
   "outputs": [
    {
     "data": {
      "text/plain": [
       "array([0., 0., 0., 0.])"
      ]
     },
     "execution_count": 13,
     "metadata": {},
     "output_type": "execute_result"
    }
   ],
   "source": [
    "#1d\n",
    "\n",
    "x=np.zeros(4)\n",
    "x"
   ]
  },
  {
   "cell_type": "code",
   "execution_count": 16,
   "id": "7d4842a7",
   "metadata": {},
   "outputs": [
    {
     "data": {
      "text/plain": [
       "array([[0., 0., 0., 0.],\n",
       "       [0., 0., 0., 0.]])"
      ]
     },
     "execution_count": 16,
     "metadata": {},
     "output_type": "execute_result"
    }
   ],
   "source": [
    "#2d\n",
    "\n",
    "x=np.zeros((2,4))\n",
    "x"
   ]
  },
  {
   "cell_type": "code",
   "execution_count": 18,
   "id": "b96c3590",
   "metadata": {},
   "outputs": [
    {
     "data": {
      "text/plain": [
       "array([[[0., 0., 0., 0.],\n",
       "        [0., 0., 0., 0.],\n",
       "        [0., 0., 0., 0.],\n",
       "        [0., 0., 0., 0.],\n",
       "        [0., 0., 0., 0.]],\n",
       "\n",
       "       [[0., 0., 0., 0.],\n",
       "        [0., 0., 0., 0.],\n",
       "        [0., 0., 0., 0.],\n",
       "        [0., 0., 0., 0.],\n",
       "        [0., 0., 0., 0.]],\n",
       "\n",
       "       [[0., 0., 0., 0.],\n",
       "        [0., 0., 0., 0.],\n",
       "        [0., 0., 0., 0.],\n",
       "        [0., 0., 0., 0.],\n",
       "        [0., 0., 0., 0.]]])"
      ]
     },
     "execution_count": 18,
     "metadata": {},
     "output_type": "execute_result"
    }
   ],
   "source": [
    "#3d\n",
    "\n",
    "x=np.zeros(((3,5,4)))\n",
    "x"
   ]
  },
  {
   "cell_type": "markdown",
   "id": "3107863b",
   "metadata": {},
   "source": [
    "## Ones"
   ]
  },
  {
   "cell_type": "code",
   "execution_count": 19,
   "id": "8caec784",
   "metadata": {},
   "outputs": [
    {
     "data": {
      "text/plain": [
       "array([1., 1., 1., 1., 1., 1.])"
      ]
     },
     "execution_count": 19,
     "metadata": {},
     "output_type": "execute_result"
    }
   ],
   "source": [
    "#1d\n",
    "\n",
    "x=np.ones(6)\n",
    "x"
   ]
  },
  {
   "cell_type": "code",
   "execution_count": 20,
   "id": "1e739d69",
   "metadata": {},
   "outputs": [
    {
     "data": {
      "text/plain": [
       "array([[1., 1., 1., 1.],\n",
       "       [1., 1., 1., 1.]])"
      ]
     },
     "execution_count": 20,
     "metadata": {},
     "output_type": "execute_result"
    }
   ],
   "source": [
    "#2d\n",
    "\n",
    "x=np.ones((2,4))\n",
    "x"
   ]
  },
  {
   "cell_type": "code",
   "execution_count": 22,
   "id": "74e48923",
   "metadata": {},
   "outputs": [
    {
     "data": {
      "text/plain": [
       "array([[[1., 1., 1., 1.],\n",
       "        [1., 1., 1., 1.],\n",
       "        [1., 1., 1., 1.]],\n",
       "\n",
       "       [[1., 1., 1., 1.],\n",
       "        [1., 1., 1., 1.],\n",
       "        [1., 1., 1., 1.]],\n",
       "\n",
       "       [[1., 1., 1., 1.],\n",
       "        [1., 1., 1., 1.],\n",
       "        [1., 1., 1., 1.]]])"
      ]
     },
     "execution_count": 22,
     "metadata": {},
     "output_type": "execute_result"
    }
   ],
   "source": [
    "#3d\n",
    "\n",
    "x=np.ones(((3,3,4)))\n",
    "x"
   ]
  },
  {
   "cell_type": "markdown",
   "id": "b8179ca7",
   "metadata": {},
   "source": [
    "# Empty"
   ]
  },
  {
   "cell_type": "code",
   "execution_count": 23,
   "id": "9d3ac3c0",
   "metadata": {},
   "outputs": [
    {
     "data": {
      "text/plain": [
       "array([1., 1., 1., 1., 1., 1.])"
      ]
     },
     "execution_count": 23,
     "metadata": {},
     "output_type": "execute_result"
    }
   ],
   "source": [
    "x=np.empty(6)\n",
    "x #copy the previous memory's data"
   ]
  },
  {
   "cell_type": "markdown",
   "id": "db8389b3",
   "metadata": {},
   "source": [
    "## Range"
   ]
  },
  {
   "cell_type": "code",
   "execution_count": 26,
   "id": "e446ce64",
   "metadata": {},
   "outputs": [
    {
     "data": {
      "text/plain": [
       "array([0, 1, 2, 3])"
      ]
     },
     "execution_count": 26,
     "metadata": {},
     "output_type": "execute_result"
    }
   ],
   "source": [
    "y= np.arange(4) #first 4 values of counting no.'s\n",
    "y \n",
    "                #? only work for 1d."
   ]
  },
  {
   "cell_type": "code",
   "execution_count": 35,
   "id": "c6d52dc4",
   "metadata": {},
   "outputs": [
    {
     "data": {
      "text/plain": [
       "array([10, 12, 14, 16, 18, 20, 22, 24, 26, 28])"
      ]
     },
     "execution_count": 35,
     "metadata": {},
     "output_type": "execute_result"
    }
   ],
   "source": [
    "x1=np.arange(10,30,2) #syntax (start:end:step) end values doesn't print\n",
    "x1"
   ]
  },
  {
   "cell_type": "code",
   "execution_count": 54,
   "id": "1cab45bf",
   "metadata": {},
   "outputs": [
    {
     "data": {
      "text/plain": [
       "array([10. , 12.5, 15. , 17.5, 20. , 22.5, 25. , 27.5])"
      ]
     },
     "execution_count": 54,
     "metadata": {},
     "output_type": "execute_result"
    }
   ],
   "source": [
    "x1=np.arange(10,30,2.5) #syntax (start:end:step) end values doesn't print\n",
    "x1"
   ]
  },
  {
   "cell_type": "code",
   "execution_count": null,
   "id": "e5868d4c",
   "metadata": {},
   "outputs": [],
   "source": []
  },
  {
   "cell_type": "markdown",
   "id": "febad739",
   "metadata": {},
   "source": [
    "## Diagonal"
   ]
  },
  {
   "cell_type": "code",
   "execution_count": 32,
   "id": "0fff6123",
   "metadata": {},
   "outputs": [
    {
     "data": {
      "text/plain": [
       "array([[1., 0., 0., 0., 0., 0.],\n",
       "       [0., 1., 0., 0., 0., 0.],\n",
       "       [0., 0., 1., 0., 0., 0.],\n",
       "       [0., 0., 0., 1., 0., 0.],\n",
       "       [0., 0., 0., 0., 1., 0.],\n",
       "       [0., 0., 0., 0., 0., 1.]])"
      ]
     },
     "execution_count": 32,
     "metadata": {},
     "output_type": "execute_result"
    }
   ],
   "source": [
    "k= np.eye(6)\n",
    "k #add 1 in diagonals of array"
   ]
  },
  {
   "cell_type": "code",
   "execution_count": null,
   "id": "113f646f",
   "metadata": {},
   "outputs": [],
   "source": []
  },
  {
   "cell_type": "markdown",
   "id": "536c3551",
   "metadata": {},
   "source": [
    "## Linspace"
   ]
  },
  {
   "cell_type": "code",
   "execution_count": 40,
   "id": "df987cd7",
   "metadata": {},
   "outputs": [
    {
     "data": {
      "text/plain": [
       "array([ 1. ,  2.8,  4.6,  6.4,  8.2, 10. ])"
      ]
     },
     "execution_count": 40,
     "metadata": {},
     "output_type": "execute_result"
    }
   ],
   "source": [
    "x2= np.linspace(1,10,num=6)   #fetches 6 numbers between 1 to 10 with equal distances\n",
    "x2\n",
    "#starting and end value both get printed."
   ]
  },
  {
   "cell_type": "code",
   "execution_count": null,
   "id": "4b42fa3c",
   "metadata": {},
   "outputs": [],
   "source": []
  },
  {
   "cell_type": "markdown",
   "id": "1b43d1e6",
   "metadata": {},
   "source": [
    "## Create numpy arrays with random numbers"
   ]
  },
  {
   "cell_type": "markdown",
   "id": "06158928",
   "metadata": {},
   "source": [
    "## Rand()"
   ]
  },
  {
   "cell_type": "code",
   "execution_count": 42,
   "id": "4e2b857d",
   "metadata": {},
   "outputs": [
    {
     "data": {
      "text/plain": [
       "array([0.2429922 , 0.94188011, 0.23161526, 0.17438474, 0.17884233])"
      ]
     },
     "execution_count": 42,
     "metadata": {},
     "output_type": "execute_result"
    }
   ],
   "source": [
    "#create random value between 0 to 1\n",
    "\n",
    "x=np.random.rand(5)\n",
    "x"
   ]
  },
  {
   "cell_type": "code",
   "execution_count": 45,
   "id": "62f88f6f",
   "metadata": {},
   "outputs": [
    {
     "data": {
      "text/plain": [
       "array([[0.68822794, 0.76262473, 0.51899645, 0.91168391],\n",
       "       [0.72631045, 0.7678811 , 0.43448564, 0.16251665]])"
      ]
     },
     "execution_count": 45,
     "metadata": {},
     "output_type": "execute_result"
    }
   ],
   "source": [
    "x=np.random.rand(2,4)\n",
    "x"
   ]
  },
  {
   "cell_type": "code",
   "execution_count": 48,
   "id": "64b58450",
   "metadata": {},
   "outputs": [
    {
     "data": {
      "text/plain": [
       "array([[[0.50456502, 0.66862973, 0.01777946, 0.93647989, 0.24525906],\n",
       "        [0.89196146, 0.04861665, 0.88976819, 0.04868435, 0.6231631 ],\n",
       "        [0.43239995, 0.93990271, 0.02225559, 0.03213558, 0.23446463],\n",
       "        [0.36412367, 0.53054742, 0.04365767, 0.0711958 , 0.87040265]],\n",
       "\n",
       "       [[0.8318722 , 0.65620912, 0.61663216, 0.76609843, 0.15385836],\n",
       "        [0.99472145, 0.32454442, 0.51583915, 0.92842212, 0.38433892],\n",
       "        [0.88566633, 0.98897717, 0.26901722, 0.90733885, 0.58842529],\n",
       "        [0.64496758, 0.91154297, 0.10743067, 0.86422617, 0.51576354]]])"
      ]
     },
     "execution_count": 48,
     "metadata": {},
     "output_type": "execute_result"
    }
   ],
   "source": [
    "x=np.random.rand(2,4,5)\n",
    "x"
   ]
  },
  {
   "cell_type": "code",
   "execution_count": 49,
   "id": "e068bf42",
   "metadata": {},
   "outputs": [
    {
     "data": {
      "text/plain": [
       "array([[[[0.61025822, 0.25789203],\n",
       "         [0.06350268, 0.9160463 ]],\n",
       "\n",
       "        [[0.9292832 , 0.52754896],\n",
       "         [0.38079557, 0.73567528]]],\n",
       "\n",
       "\n",
       "       [[[0.73719141, 0.82176155],\n",
       "         [0.24485741, 0.67917618]],\n",
       "\n",
       "        [[0.50919936, 0.5049976 ],\n",
       "         [0.15862613, 0.34043294]]]])"
      ]
     },
     "execution_count": 49,
     "metadata": {},
     "output_type": "execute_result"
    }
   ],
   "source": [
    "x=np.random.rand(2,2,2,2)\n",
    "x"
   ]
  },
  {
   "cell_type": "code",
   "execution_count": null,
   "id": "aca232d2",
   "metadata": {},
   "outputs": [],
   "source": []
  },
  {
   "cell_type": "markdown",
   "id": "018bae24",
   "metadata": {},
   "source": [
    "## Randn()"
   ]
  },
  {
   "cell_type": "code",
   "execution_count": 51,
   "id": "b19a0f53",
   "metadata": {},
   "outputs": [
    {
     "data": {
      "text/plain": [
       "array([ 0.73398747, -0.68027293, -0.62658796, -0.39198469, -2.00767285])"
      ]
     },
     "execution_count": 51,
     "metadata": {},
     "output_type": "execute_result"
    }
   ],
   "source": [
    "#values close to 0 means negative to 0.\n",
    "\n",
    "x=np.random.randn(5)\n",
    "x"
   ]
  },
  {
   "cell_type": "code",
   "execution_count": 55,
   "id": "5782b458",
   "metadata": {},
   "outputs": [
    {
     "data": {
      "text/plain": [
       "array([[-0.62946243,  0.71496698, -0.84621668, -1.34778689],\n",
       "       [-0.20994775, -0.43318213,  0.80031968,  0.51352864]])"
      ]
     },
     "execution_count": 55,
     "metadata": {},
     "output_type": "execute_result"
    }
   ],
   "source": [
    "x=np.random.randn(2,4)\n",
    "x"
   ]
  },
  {
   "cell_type": "markdown",
   "id": "fa4e02bd",
   "metadata": {},
   "source": [
    "## Ranf()"
   ]
  },
  {
   "cell_type": "code",
   "execution_count": 57,
   "id": "f8e3ce09",
   "metadata": {},
   "outputs": [
    {
     "data": {
      "text/plain": [
       "array([0.6577031 , 0.13748556, 0.62326489, 0.3326247 , 0.03639338])"
      ]
     },
     "execution_count": 57,
     "metadata": {},
     "output_type": "execute_result"
    }
   ],
   "source": [
    "#random floats in the half open interval[0.0,1.0] 1 is not included\n",
    "\n",
    "x=np.random.ranf(5)\n",
    "x"
   ]
  },
  {
   "cell_type": "code",
   "execution_count": null,
   "id": "29eca9ed",
   "metadata": {},
   "outputs": [],
   "source": []
  },
  {
   "cell_type": "markdown",
   "id": "c755cb34",
   "metadata": {},
   "source": [
    "## Randint()"
   ]
  },
  {
   "cell_type": "code",
   "execution_count": 60,
   "id": "64b66465",
   "metadata": {},
   "outputs": [
    {
     "data": {
      "text/plain": [
       "array([20, 31, 25, 26, 35, 24, 27, 26, 25, 37, 23, 14, 27, 25, 25, 18, 14,\n",
       "       15, 28, 35, 37, 25, 21, 38, 17, 24, 24, 11, 29, 16])"
      ]
     },
     "execution_count": 60,
     "metadata": {},
     "output_type": "execute_result"
    }
   ],
   "source": [
    "#pass min or max values and it generate random numbers between them.\n",
    "\n",
    "#syntax : np.random.randint(min,max,total numbers)\n",
    "\n",
    "x=np.random.randint(10,40,30)\n",
    "x #numbers can be repeated , but min or max values doesn't print"
   ]
  },
  {
   "cell_type": "code",
   "execution_count": null,
   "id": "ddb638a9",
   "metadata": {},
   "outputs": [],
   "source": []
  },
  {
   "cell_type": "markdown",
   "id": "227be5f7",
   "metadata": {},
   "source": [
    "## Shape()"
   ]
  },
  {
   "cell_type": "code",
   "execution_count": 61,
   "id": "e1982f0a",
   "metadata": {},
   "outputs": [
    {
     "data": {
      "text/plain": [
       "(2, 4)"
      ]
     },
     "execution_count": 61,
     "metadata": {},
     "output_type": "execute_result"
    }
   ],
   "source": [
    "x=np.array([[1,2,3,4],[1,2,3,4]])\n",
    "x.shape"
   ]
  },
  {
   "cell_type": "code",
   "execution_count": 64,
   "id": "91d08d44",
   "metadata": {},
   "outputs": [
    {
     "name": "stdout",
     "output_type": "stream",
     "text": [
      "[[[[1 2 3 4]]]]\n",
      "(1, 1, 1, 4)\n"
     ]
    }
   ],
   "source": [
    "x=np.array([1,2,3,4],ndmin=4)\n",
    "print(x)\n",
    "print(x.shape)"
   ]
  },
  {
   "cell_type": "code",
   "execution_count": 4,
   "id": "0d13c1b5",
   "metadata": {},
   "outputs": [
    {
     "data": {
      "text/plain": [
       "nan"
      ]
     },
     "execution_count": 4,
     "metadata": {},
     "output_type": "execute_result"
    }
   ],
   "source": [
    "np.nan"
   ]
  },
  {
   "cell_type": "code",
   "execution_count": 6,
   "id": "f0f19e60",
   "metadata": {},
   "outputs": [
    {
     "data": {
      "text/plain": [
       "False"
      ]
     },
     "execution_count": 6,
     "metadata": {},
     "output_type": "execute_result"
    }
   ],
   "source": [
    "np.nan==np.nan ?"
   ]
  },
  {
   "cell_type": "markdown",
   "id": "fa9e0eb7",
   "metadata": {},
   "source": [
    "## array"
   ]
  },
  {
   "cell_type": "code",
   "execution_count": 4,
   "id": "2069d09e",
   "metadata": {},
   "outputs": [
    {
     "name": "stdout",
     "output_type": "stream",
     "text": [
      "1\n",
      "2\n",
      "3\n",
      "4\n",
      "5\n",
      "1\n",
      "2\n",
      "3\n",
      "4\n",
      "5\n",
      "1\n",
      "2\n",
      "3\n",
      "4\n",
      "5\n"
     ]
    }
   ],
   "source": [
    "for i in np.nditer(x):\n",
    "    print(i)"
   ]
  },
  {
   "cell_type": "code",
   "execution_count": 5,
   "id": "7a584c55",
   "metadata": {},
   "outputs": [
    {
     "data": {
      "text/plain": [
       "matrix([[1, 2, 3],\n",
       "        [4, 5, 6]])"
      ]
     },
     "execution_count": 5,
     "metadata": {},
     "output_type": "execute_result"
    }
   ],
   "source": [
    "n1=np.matrix([[1,2,3],[4,5,6]])\n",
    "n1"
   ]
  },
  {
   "cell_type": "code",
   "execution_count": 9,
   "id": "5c05b059",
   "metadata": {},
   "outputs": [
    {
     "data": {
      "text/plain": [
       "matrix([[ 7,  8,  9],\n",
       "        [11, 12, 13]])"
      ]
     },
     "execution_count": 9,
     "metadata": {},
     "output_type": "execute_result"
    }
   ],
   "source": [
    "n2=np.matrix([[7,8,9],[11,12,13]])\n",
    "n2"
   ]
  },
  {
   "cell_type": "code",
   "execution_count": 11,
   "id": "f6f32c37",
   "metadata": {},
   "outputs": [
    {
     "ename": "AttributeError",
     "evalue": "'matrix' object has no attribute 'n2'",
     "output_type": "error",
     "traceback": [
      "\u001b[1;31m---------------------------------------------------------------------------\u001b[0m",
      "\u001b[1;31mAttributeError\u001b[0m                            Traceback (most recent call last)",
      "\u001b[1;32m<ipython-input-11-789d81bde756>\u001b[0m in \u001b[0;36m<module>\u001b[1;34m\u001b[0m\n\u001b[1;32m----> 1\u001b[1;33m \u001b[0mz\u001b[0m\u001b[1;33m=\u001b[0m\u001b[0mn1\u001b[0m\u001b[1;33m.\u001b[0m\u001b[0mn2\u001b[0m\u001b[1;33m\u001b[0m\u001b[1;33m\u001b[0m\u001b[0m\n\u001b[0m",
      "\u001b[1;31mAttributeError\u001b[0m: 'matrix' object has no attribute 'n2'"
     ]
    }
   ],
   "source": [
    "z=n1.n2"
   ]
  },
  {
   "cell_type": "code",
   "execution_count": null,
   "id": "58e61f50",
   "metadata": {},
   "outputs": [],
   "source": []
  }
 ],
 "metadata": {
  "kernelspec": {
   "display_name": "Python 3",
   "language": "python",
   "name": "python3"
  },
  "language_info": {
   "codemirror_mode": {
    "name": "ipython",
    "version": 3
   },
   "file_extension": ".py",
   "mimetype": "text/x-python",
   "name": "python",
   "nbconvert_exporter": "python",
   "pygments_lexer": "ipython3",
   "version": "3.8.8"
  }
 },
 "nbformat": 4,
 "nbformat_minor": 5
}
