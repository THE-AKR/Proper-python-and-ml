{
 "cells": [
  {
   "cell_type": "markdown",
   "id": "2d61d2e6",
   "metadata": {},
   "source": [
    "# List operations "
   ]
  },
  {
   "cell_type": "code",
   "execution_count": 2,
   "id": "0eacdb2f",
   "metadata": {},
   "outputs": [
    {
     "name": "stdout",
     "output_type": "stream",
     "text": [
      "<class 'str'>\n",
      "<class 'list'>\n"
     ]
    }
   ],
   "source": [
    "x1= \"name\"\n",
    "print(type(x1))\n",
    "x1= list(x1) #string to list\n",
    "print(type(x1))"
   ]
  },
  {
   "cell_type": "code",
   "execution_count": 4,
   "id": "45d72db2",
   "metadata": {},
   "outputs": [
    {
     "data": {
      "text/plain": [
       "list"
      ]
     },
     "execution_count": 4,
     "metadata": {},
     "output_type": "execute_result"
    }
   ],
   "source": [
    "x2= []\n",
    "type(x2)"
   ]
  },
  {
   "cell_type": "code",
   "execution_count": 8,
   "id": "efc86eda",
   "metadata": {},
   "outputs": [
    {
     "data": {
      "text/plain": [
       "list"
      ]
     },
     "execution_count": 8,
     "metadata": {},
     "output_type": "execute_result"
    }
   ],
   "source": [
    "x3= [\"Abc\",123,True,56.3]\n",
    "x3\n",
    "type(x3)"
   ]
  },
  {
   "cell_type": "code",
   "execution_count": 10,
   "id": "caa7a217",
   "metadata": {},
   "outputs": [
    {
     "name": "stdout",
     "output_type": "stream",
     "text": [
      "Abc\n",
      "123\n",
      "True\n",
      "56.3\n"
     ]
    }
   ],
   "source": [
    "for i in x3:\n",
    "    print(i)"
   ]
  },
  {
   "cell_type": "code",
   "execution_count": 11,
   "id": "0470af02",
   "metadata": {},
   "outputs": [
    {
     "name": "stdout",
     "output_type": "stream",
     "text": [
      "['Abc', 123, True, 56.3]\n",
      "['Abc', 123, True, 56.3]\n",
      "['Abc', 123, True, 56.3]\n",
      "['Abc', 123, True, 56.3]\n"
     ]
    }
   ],
   "source": [
    "for i in x3:\n",
    "    print(x3)"
   ]
  },
  {
   "cell_type": "code",
   "execution_count": 39,
   "id": "04f569a2",
   "metadata": {},
   "outputs": [
    {
     "name": "stdout",
     "output_type": "stream",
     "text": [
      "present\n",
      "Abc\n",
      "present\n",
      "123\n",
      "present\n",
      "True\n",
      "present\n",
      "56.3\n"
     ]
    }
   ],
   "source": [
    "for i in x3:\n",
    "    if \"Abc\" in x3:\n",
    "        print(\"present\")\n",
    "        print(i)\n",
    "    else:\n",
    "        print(\"not\")"
   ]
  },
  {
   "cell_type": "code",
   "execution_count": 40,
   "id": "1a96e173",
   "metadata": {},
   "outputs": [
    {
     "name": "stdout",
     "output_type": "stream",
     "text": [
      "not\n",
      "not\n",
      "not\n",
      "not\n"
     ]
    }
   ],
   "source": [
    "for i in x3:\n",
    "    if \"Abc\" in x3[:0]:\n",
    "        print(\"present\")\n",
    "        print(i)\n",
    "    else:\n",
    "        print(\"not\")"
   ]
  },
  {
   "cell_type": "code",
   "execution_count": 41,
   "id": "da473bc2",
   "metadata": {},
   "outputs": [
    {
     "name": "stdout",
     "output_type": "stream",
     "text": [
      "present\n",
      "Abc\n",
      "present\n",
      "123\n",
      "present\n",
      "True\n",
      "present\n",
      "56.3\n"
     ]
    }
   ],
   "source": [
    "for i in x3:\n",
    "    if \"Abc\" in x3[:1]:\n",
    "        print(\"present\")\n",
    "        print(i)\n",
    "    else:\n",
    "        print(\"not\")"
   ]
  },
  {
   "cell_type": "code",
   "execution_count": 62,
   "id": "2189f099",
   "metadata": {},
   "outputs": [
    {
     "data": {
      "text/plain": [
       "[45, 'huy', True, 'Hello', 678, 9.7, False]"
      ]
     },
     "execution_count": 62,
     "metadata": {},
     "output_type": "execute_result"
    }
   ],
   "source": [
    "x4=[45,\"huy\",True,\"Hello\",678,9.7,False]\n",
    "x4"
   ]
  },
  {
   "cell_type": "code",
   "execution_count": 68,
   "id": "331b1f33",
   "metadata": {},
   "outputs": [
    {
     "data": {
      "text/plain": [
       "True"
      ]
     },
     "execution_count": 68,
     "metadata": {},
     "output_type": "execute_result"
    }
   ],
   "source": [
    "x4[2]"
   ]
  },
  {
   "cell_type": "code",
   "execution_count": 63,
   "id": "5d57b9c1",
   "metadata": {},
   "outputs": [
    {
     "data": {
      "text/plain": [
       "[9.7]"
      ]
     },
     "execution_count": 63,
     "metadata": {},
     "output_type": "execute_result"
    }
   ],
   "source": [
    "x4[5:6]"
   ]
  },
  {
   "cell_type": "code",
   "execution_count": 64,
   "id": "36f64fd6",
   "metadata": {},
   "outputs": [
    {
     "data": {
      "text/plain": [
       "[45, 'huy', True, 'Hello', 678, 9.7]"
      ]
     },
     "execution_count": 64,
     "metadata": {},
     "output_type": "execute_result"
    }
   ],
   "source": [
    "x4[:-1]"
   ]
  },
  {
   "cell_type": "code",
   "execution_count": 65,
   "id": "48c7ee97",
   "metadata": {},
   "outputs": [
    {
     "data": {
      "text/plain": [
       "[45, 'huy', True, 'Hello', 678, 9.7, False]"
      ]
     },
     "execution_count": 65,
     "metadata": {},
     "output_type": "execute_result"
    }
   ],
   "source": [
    "x4[:]"
   ]
  },
  {
   "cell_type": "code",
   "execution_count": 66,
   "id": "27cfca21",
   "metadata": {},
   "outputs": [
    {
     "data": {
      "text/plain": [
       "[False, 9.7, 678, 'Hello', True, 'huy', 45]"
      ]
     },
     "execution_count": 66,
     "metadata": {},
     "output_type": "execute_result"
    }
   ],
   "source": [
    "x4[::-1]"
   ]
  },
  {
   "cell_type": "code",
   "execution_count": null,
   "id": "4ecb38d6",
   "metadata": {},
   "outputs": [],
   "source": []
  }
 ],
 "metadata": {
  "kernelspec": {
   "display_name": "Python 3",
   "language": "python",
   "name": "python3"
  },
  "language_info": {
   "codemirror_mode": {
    "name": "ipython",
    "version": 3
   },
   "file_extension": ".py",
   "mimetype": "text/x-python",
   "name": "python",
   "nbconvert_exporter": "python",
   "pygments_lexer": "ipython3",
   "version": "3.8.8"
  }
 },
 "nbformat": 4,
 "nbformat_minor": 5
}
