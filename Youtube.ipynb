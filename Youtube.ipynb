{
 "cells": [
  {
   "cell_type": "markdown",
   "id": "9fb885a2",
   "metadata": {},
   "source": [
    "# Split Method"
   ]
  },
  {
   "cell_type": "code",
   "execution_count": 14,
   "id": "1071df08",
   "metadata": {},
   "outputs": [
    {
     "name": "stdout",
     "output_type": "stream",
     "text": [
      "['', 's ', ' Coders']\n",
      "['', 's A Coders']\n"
     ]
    }
   ],
   "source": [
    "x=\"As A Coders\"\n",
    "print(x.split(\"A\")) # split all caps \"A\"\n",
    "print(x.split(\"A\",1)) #split first occurence of \"A\""
   ]
  },
  {
   "cell_type": "code",
   "execution_count": null,
   "id": "365ab695",
   "metadata": {},
   "outputs": [],
   "source": []
  },
  {
   "cell_type": "markdown",
   "id": "e2a55d38",
   "metadata": {},
   "source": [
    "# Find Method"
   ]
  },
  {
   "cell_type": "code",
   "execution_count": 24,
   "id": "acbdaa36",
   "metadata": {},
   "outputs": [
    {
     "name": "stdout",
     "output_type": "stream",
     "text": [
      "4\n",
      "0\n",
      "3\n"
     ]
    }
   ],
   "source": [
    "x= \"As, a Coder\"\n",
    "print(x.find(\"a\")) #finds the first occurance of specified letter i.e.\"A\".\n",
    "print(x.find(\"A\")) #index starts with 0 \n",
    "print(x.find(\" \")) #also count commas and freespaces"
   ]
  },
  {
   "cell_type": "code",
   "execution_count": null,
   "id": "0e2149e2",
   "metadata": {},
   "outputs": [],
   "source": []
  },
  {
   "cell_type": "markdown",
   "id": "d09f5a66",
   "metadata": {},
   "source": [
    "# count method"
   ]
  },
  {
   "cell_type": "code",
   "execution_count": 1,
   "id": "2b566e62",
   "metadata": {},
   "outputs": [
    {
     "data": {
      "text/plain": [
       "3"
      ]
     },
     "execution_count": 1,
     "metadata": {},
     "output_type": "execute_result"
    }
   ],
   "source": [
    "x= \"As coders\"\n",
    "print(x.count(\"s\")) #count the occurance of a character\n",
    "y=\"hello world\"\n",
    "print(y.count(\"l\"))"
   ]
  },
  {
   "cell_type": "code",
   "execution_count": null,
   "id": "ba7bc8d0",
   "metadata": {},
   "outputs": [],
   "source": []
  },
  {
   "cell_type": "markdown",
   "id": "3bd0799b",
   "metadata": {},
   "source": [
    "# Endswith()"
   ]
  },
  {
   "cell_type": "code",
   "execution_count": 30,
   "id": "e90e7abf",
   "metadata": {},
   "outputs": [
    {
     "name": "stdout",
     "output_type": "stream",
     "text": [
      "True\n",
      "False\n"
     ]
    }
   ],
   "source": [
    "x= \"as coders\"\n",
    "print(x.endswith(\"rs\")) #returns true if string ends with specified value.\n",
    "print(x.endswith(\"as\"))"
   ]
  },
  {
   "cell_type": "code",
   "execution_count": null,
   "id": "e7700717",
   "metadata": {},
   "outputs": [],
   "source": []
  },
  {
   "cell_type": "markdown",
   "id": "7f725011",
   "metadata": {},
   "source": [
    "# Join() Method"
   ]
  },
  {
   "cell_type": "code",
   "execution_count": 4,
   "id": "45434211",
   "metadata": {},
   "outputs": [
    {
     "data": {
      "text/plain": [
       "'Hello#World'"
      ]
     },
     "execution_count": 4,
     "metadata": {},
     "output_type": "execute_result"
    }
   ],
   "source": [
    "x=(\"Hello\",\"World\")\n",
    "y ='#'\n",
    "\n",
    "y.join(x)"
   ]
  },
  {
   "cell_type": "code",
   "execution_count": null,
   "id": "7794e951",
   "metadata": {},
   "outputs": [],
   "source": []
  },
  {
   "cell_type": "markdown",
   "id": "63dac4ce",
   "metadata": {},
   "source": [
    "# Swapcase() Method"
   ]
  },
  {
   "cell_type": "code",
   "execution_count": 43,
   "id": "6b8782bd",
   "metadata": {},
   "outputs": [
    {
     "name": "stdout",
     "output_type": "stream",
     "text": [
      "AS CODER\n",
      "AS cODeR\n"
     ]
    }
   ],
   "source": [
    "x= \"as coder\"\n",
    "print(x.swapcase()) #lower to upper case and uppercase to lower\n",
    "y= \"as CodEr\"\n",
    "print(y.swapcase())"
   ]
  },
  {
   "cell_type": "code",
   "execution_count": null,
   "id": "26271ebd",
   "metadata": {},
   "outputs": [],
   "source": []
  },
  {
   "cell_type": "markdown",
   "id": "775a4f82",
   "metadata": {},
   "source": [
    "# subsetting"
   ]
  },
  {
   "cell_type": "code",
   "execution_count": 46,
   "id": "db4413c5",
   "metadata": {},
   "outputs": [
    {
     "name": "stdout",
     "output_type": "stream",
     "text": [
      "86\n",
      "75\n",
      "[5, 8, 90, 32]\n",
      "[8, 90, 32, 86]\n",
      "[421, 0, 75]\n",
      "[75, 0, 421, 89, 12, 86, 32, 90, 8, 5]\n",
      "[]\n"
     ]
    }
   ],
   "source": [
    "x= [5,8,90,32,86,12,89,421,0,75]\n",
    "\n",
    "print(x[4]) #Fetch 5th element\n",
    "print(x[-1]) #Fetch last element\n",
    "print(x[:4]) #fetch First four elements\n",
    "print(x[1:5]) #fetch Second to fifth elements\n",
    "print(x[-3:]) #Last three elements\n",
    "print(x[::-1]) #reverse the list\n",
    "print(x[-1:-1]) #? comment down "
   ]
  },
  {
   "cell_type": "code",
   "execution_count": null,
   "id": "fa01badc",
   "metadata": {},
   "outputs": [],
   "source": []
  }
 ],
 "metadata": {
  "kernelspec": {
   "display_name": "Python 3",
   "language": "python",
   "name": "python3"
  },
  "language_info": {
   "codemirror_mode": {
    "name": "ipython",
    "version": 3
   },
   "file_extension": ".py",
   "mimetype": "text/x-python",
   "name": "python",
   "nbconvert_exporter": "python",
   "pygments_lexer": "ipython3",
   "version": "3.8.8"
  }
 },
 "nbformat": 4,
 "nbformat_minor": 5
}
