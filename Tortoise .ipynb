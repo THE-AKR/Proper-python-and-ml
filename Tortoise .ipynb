{
 "cells": [
  {
   "cell_type": "code",
   "execution_count": 1,
   "id": "412d6ea8",
   "metadata": {},
   "outputs": [],
   "source": [
    "from turtle import *\n",
    "speed(500)\n",
    "bgcolor(\"black\")\n",
    "for i in range(49):\n",
    "\tcolor(\"cyan\")\n",
    "\tforward(200)\n",
    "\trt(184)\n",
    "\tcircle(84)\n",
    "\tlt(50)\n",
    "\tcircle(150)\n"
   ]
  },
  {
   "cell_type": "code",
   "execution_count": null,
   "id": "998415b7",
   "metadata": {},
   "outputs": [],
   "source": []
  }
 ],
 "metadata": {
  "kernelspec": {
   "display_name": "Python 3",
   "language": "python",
   "name": "python3"
  },
  "language_info": {
   "codemirror_mode": {
    "name": "ipython",
    "version": 3
   },
   "file_extension": ".py",
   "mimetype": "text/x-python",
   "name": "python",
   "nbconvert_exporter": "python",
   "pygments_lexer": "ipython3",
   "version": "3.8.8"
  }
 },
 "nbformat": 4,
 "nbformat_minor": 5
}
