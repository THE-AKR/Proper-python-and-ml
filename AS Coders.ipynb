{
 "cells": [
  {
   "cell_type": "markdown",
   "id": "af7bf5e6",
   "metadata": {},
   "source": [
    "# subsetting"
   ]
  },
  {
   "cell_type": "code",
   "execution_count": 10,
   "id": "7fc7915a",
   "metadata": {},
   "outputs": [
    {
     "name": "stdout",
     "output_type": "stream",
     "text": [
      "[8, 90, 32, 86, 12, 89, 421, 0]\n"
     ]
    }
   ],
   "source": [
    "x= [5,8,90,32,86,12,89,421,0,75]\n",
    "\n",
    "print(x[1:-1]) #? comment down "
   ]
  },
  {
   "cell_type": "code",
   "execution_count": null,
   "id": "a6121368",
   "metadata": {},
   "outputs": [],
   "source": []
  },
  {
   "cell_type": "code",
   "execution_count": null,
   "id": "707a686a",
   "metadata": {},
   "outputs": [],
   "source": []
  }
 ],
 "metadata": {
  "kernelspec": {
   "display_name": "Python 3 (ipykernel)",
   "language": "python",
   "name": "python3"
  },
  "language_info": {
   "codemirror_mode": {
    "name": "ipython",
    "version": 3
   },
   "file_extension": ".py",
   "mimetype": "text/x-python",
   "name": "python",
   "nbconvert_exporter": "python",
   "pygments_lexer": "ipython3",
   "version": "3.7.8"
  }
 },
 "nbformat": 4,
 "nbformat_minor": 5
}
