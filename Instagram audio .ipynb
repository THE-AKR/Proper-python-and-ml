{
 "cells": [
  {
   "cell_type": "markdown",
   "id": "50476502",
   "metadata": {},
   "source": [
    "#aim of the project\n",
    "\n",
    "----> 1.trying to simple as much as simple \n",
    "\n",
    "----> 2.trying to adjust song in a manner that I get  trending reels audio  based on their time, reels count. "
   ]
  },
  {
   "cell_type": "code",
   "execution_count": 36,
   "id": "d03f5b68",
   "metadata": {},
   "outputs": [],
   "source": [
    "import pandas as pd\n",
    "import numpy as np \n",
    "import seaborn as sns"
   ]
  },
  {
   "cell_type": "code",
   "execution_count": 4,
   "id": "8e2dc2ea",
   "metadata": {},
   "outputs": [],
   "source": [
    "audio_list= dict({\"Sno\":1, \"Name\":\"indian_unplugged.in\", \"Reels\":948, \"Time\":\"1:00\"})"
   ]
  },
  {
   "cell_type": "code",
   "execution_count": 5,
   "id": "63df390e",
   "metadata": {},
   "outputs": [
    {
     "data": {
      "text/plain": [
       "{'Sno': 1, 'Name': 'indian_unplugged.in', 'Reels': 948, 'Time': '1:00'}"
      ]
     },
     "execution_count": 5,
     "metadata": {},
     "output_type": "execute_result"
    }
   ],
   "source": [
    "audio_list"
   ]
  },
  {
   "cell_type": "code",
   "execution_count": 14,
   "id": "2220b498",
   "metadata": {},
   "outputs": [],
   "source": [
    "audio_list= dict({\"Sno\":[1,2],\"Name\":[\"Original Audio\",\"Original Audio\"], \"Author\":[\"indian_unplugged.in\",\"agus_syaputra66\"],\"Reels\":[948,3600],\"Time\":[\"1:00\",\"0:53\"]})"
   ]
  },
  {
   "cell_type": "code",
   "execution_count": 15,
   "id": "cf571c26",
   "metadata": {},
   "outputs": [
    {
     "data": {
      "text/plain": [
       "{'Sno': [1, 2],\n",
       " 'Name': ['Original Audio', 'Original Audio'],\n",
       " 'Author': ['indian_unplugged.in', 'agus_syaputra66'],\n",
       " 'Reels': [948, 3600],\n",
       " 'Time': ['1:00', '0:53']}"
      ]
     },
     "execution_count": 15,
     "metadata": {},
     "output_type": "execute_result"
    }
   ],
   "source": [
    "audio_list"
   ]
  },
  {
   "cell_type": "code",
   "execution_count": 16,
   "id": "d44f4825",
   "metadata": {},
   "outputs": [],
   "source": [
    "audio=pd.DataFrame(audio_list)"
   ]
  },
  {
   "cell_type": "code",
   "execution_count": 17,
   "id": "1b6bc818",
   "metadata": {},
   "outputs": [
    {
     "data": {
      "text/html": [
       "<div>\n",
       "<style scoped>\n",
       "    .dataframe tbody tr th:only-of-type {\n",
       "        vertical-align: middle;\n",
       "    }\n",
       "\n",
       "    .dataframe tbody tr th {\n",
       "        vertical-align: top;\n",
       "    }\n",
       "\n",
       "    .dataframe thead th {\n",
       "        text-align: right;\n",
       "    }\n",
       "</style>\n",
       "<table border=\"1\" class=\"dataframe\">\n",
       "  <thead>\n",
       "    <tr style=\"text-align: right;\">\n",
       "      <th></th>\n",
       "      <th>Sno</th>\n",
       "      <th>Name</th>\n",
       "      <th>Author</th>\n",
       "      <th>Reels</th>\n",
       "      <th>Time</th>\n",
       "    </tr>\n",
       "  </thead>\n",
       "  <tbody>\n",
       "    <tr>\n",
       "      <th>0</th>\n",
       "      <td>1</td>\n",
       "      <td>Original Audio</td>\n",
       "      <td>indian_unplugged.in</td>\n",
       "      <td>948</td>\n",
       "      <td>1:00</td>\n",
       "    </tr>\n",
       "    <tr>\n",
       "      <th>1</th>\n",
       "      <td>2</td>\n",
       "      <td>Original Audio</td>\n",
       "      <td>agus_syaputra66</td>\n",
       "      <td>3600</td>\n",
       "      <td>0:53</td>\n",
       "    </tr>\n",
       "  </tbody>\n",
       "</table>\n",
       "</div>"
      ],
      "text/plain": [
       "   Sno            Name               Author  Reels  Time\n",
       "0    1  Original Audio  indian_unplugged.in    948  1:00\n",
       "1    2  Original Audio      agus_syaputra66   3600  0:53"
      ]
     },
     "execution_count": 17,
     "metadata": {},
     "output_type": "execute_result"
    }
   ],
   "source": [
    "audio"
   ]
  },
  {
   "cell_type": "code",
   "execution_count": 27,
   "id": "8faeb24c",
   "metadata": {},
   "outputs": [
    {
     "ename": "TypeError",
     "evalue": "cannot concatenate object of type '<class 'str'>'; only Series and DataFrame objs are valid",
     "output_type": "error",
     "traceback": [
      "\u001b[1;31m---------------------------------------------------------------------------\u001b[0m",
      "\u001b[1;31mTypeError\u001b[0m                                 Traceback (most recent call last)",
      "\u001b[1;32m<ipython-input-27-a51e45521048>\u001b[0m in \u001b[0;36m<module>\u001b[1;34m\u001b[0m\n\u001b[1;32m----> 1\u001b[1;33m \u001b[0maudio\u001b[0m\u001b[1;33m.\u001b[0m\u001b[0mappend\u001b[0m\u001b[1;33m(\u001b[0m\u001b[1;34m\"Original Audio\"\u001b[0m\u001b[1;33m,\u001b[0m\u001b[1;34m\"kd_karan_offil\"\u001b[0m\u001b[1;33m,\u001b[0m\u001b[1;36m713\u001b[0m\u001b[1;33m,\u001b[0m\u001b[1;34m\"0:25\"\u001b[0m\u001b[1;33m)\u001b[0m\u001b[1;33m\u001b[0m\u001b[1;33m\u001b[0m\u001b[0m\n\u001b[0m",
      "\u001b[1;32m~\\anaconda3\\lib\\site-packages\\pandas\\core\\frame.py\u001b[0m in \u001b[0;36mappend\u001b[1;34m(self, other, ignore_index, verify_integrity, sort)\u001b[0m\n\u001b[0;32m   7980\u001b[0m             \u001b[0mto_concat\u001b[0m \u001b[1;33m=\u001b[0m \u001b[1;33m[\u001b[0m\u001b[0mself\u001b[0m\u001b[1;33m,\u001b[0m \u001b[0mother\u001b[0m\u001b[1;33m]\u001b[0m\u001b[1;33m\u001b[0m\u001b[1;33m\u001b[0m\u001b[0m\n\u001b[0;32m   7981\u001b[0m         return (\n\u001b[1;32m-> 7982\u001b[1;33m             concat(\n\u001b[0m\u001b[0;32m   7983\u001b[0m                 \u001b[0mto_concat\u001b[0m\u001b[1;33m,\u001b[0m\u001b[1;33m\u001b[0m\u001b[1;33m\u001b[0m\u001b[0m\n\u001b[0;32m   7984\u001b[0m                 \u001b[0mignore_index\u001b[0m\u001b[1;33m=\u001b[0m\u001b[0mignore_index\u001b[0m\u001b[1;33m,\u001b[0m\u001b[1;33m\u001b[0m\u001b[1;33m\u001b[0m\u001b[0m\n",
      "\u001b[1;32m~\\anaconda3\\lib\\site-packages\\pandas\\core\\reshape\\concat.py\u001b[0m in \u001b[0;36mconcat\u001b[1;34m(objs, axis, join, ignore_index, keys, levels, names, verify_integrity, sort, copy)\u001b[0m\n\u001b[0;32m    283\u001b[0m     \u001b[0mValueError\u001b[0m\u001b[1;33m:\u001b[0m \u001b[0mIndexes\u001b[0m \u001b[0mhave\u001b[0m \u001b[0moverlapping\u001b[0m \u001b[0mvalues\u001b[0m\u001b[1;33m:\u001b[0m \u001b[1;33m[\u001b[0m\u001b[1;34m'a'\u001b[0m\u001b[1;33m]\u001b[0m\u001b[1;33m\u001b[0m\u001b[1;33m\u001b[0m\u001b[0m\n\u001b[0;32m    284\u001b[0m     \"\"\"\n\u001b[1;32m--> 285\u001b[1;33m     op = _Concatenator(\n\u001b[0m\u001b[0;32m    286\u001b[0m         \u001b[0mobjs\u001b[0m\u001b[1;33m,\u001b[0m\u001b[1;33m\u001b[0m\u001b[1;33m\u001b[0m\u001b[0m\n\u001b[0;32m    287\u001b[0m         \u001b[0maxis\u001b[0m\u001b[1;33m=\u001b[0m\u001b[0maxis\u001b[0m\u001b[1;33m,\u001b[0m\u001b[1;33m\u001b[0m\u001b[1;33m\u001b[0m\u001b[0m\n",
      "\u001b[1;32m~\\anaconda3\\lib\\site-packages\\pandas\\core\\reshape\\concat.py\u001b[0m in \u001b[0;36m__init__\u001b[1;34m(self, objs, axis, join, keys, levels, names, ignore_index, verify_integrity, copy, sort)\u001b[0m\n\u001b[0;32m    368\u001b[0m                     \u001b[1;34m\"only Series and DataFrame objs are valid\"\u001b[0m\u001b[1;33m\u001b[0m\u001b[1;33m\u001b[0m\u001b[0m\n\u001b[0;32m    369\u001b[0m                 )\n\u001b[1;32m--> 370\u001b[1;33m                 \u001b[1;32mraise\u001b[0m \u001b[0mTypeError\u001b[0m\u001b[1;33m(\u001b[0m\u001b[0mmsg\u001b[0m\u001b[1;33m)\u001b[0m\u001b[1;33m\u001b[0m\u001b[1;33m\u001b[0m\u001b[0m\n\u001b[0m\u001b[0;32m    371\u001b[0m \u001b[1;33m\u001b[0m\u001b[0m\n\u001b[0;32m    372\u001b[0m             \u001b[1;31m# consolidate\u001b[0m\u001b[1;33m\u001b[0m\u001b[1;33m\u001b[0m\u001b[1;33m\u001b[0m\u001b[0m\n",
      "\u001b[1;31mTypeError\u001b[0m: cannot concatenate object of type '<class 'str'>'; only Series and DataFrame objs are valid"
     ]
    }
   ],
   "source": [
    "audio.append(2,\"Original Audio\",\"kd_karan_offil\",713,\"0:25\")"
   ]
  },
  {
   "cell_type": "code",
   "execution_count": 30,
   "id": "e6b8f05c",
   "metadata": {},
   "outputs": [],
   "source": [
    "audio.loc[2]=[3,\"Original Audio\",\"kd_karan_offil\",713,\"0:25\"]"
   ]
  },
  {
   "cell_type": "code",
   "execution_count": 33,
   "id": "d3fe856a",
   "metadata": {},
   "outputs": [
    {
     "data": {
      "text/html": [
       "<div>\n",
       "<style scoped>\n",
       "    .dataframe tbody tr th:only-of-type {\n",
       "        vertical-align: middle;\n",
       "    }\n",
       "\n",
       "    .dataframe tbody tr th {\n",
       "        vertical-align: top;\n",
       "    }\n",
       "\n",
       "    .dataframe thead th {\n",
       "        text-align: right;\n",
       "    }\n",
       "</style>\n",
       "<table border=\"1\" class=\"dataframe\">\n",
       "  <thead>\n",
       "    <tr style=\"text-align: right;\">\n",
       "      <th></th>\n",
       "      <th>Sno</th>\n",
       "      <th>Name</th>\n",
       "      <th>Author</th>\n",
       "      <th>Reels</th>\n",
       "      <th>Time</th>\n",
       "    </tr>\n",
       "  </thead>\n",
       "  <tbody>\n",
       "    <tr>\n",
       "      <th>0</th>\n",
       "      <td>1</td>\n",
       "      <td>Original Audio</td>\n",
       "      <td>indian_unplugged.in</td>\n",
       "      <td>948</td>\n",
       "      <td>1:00</td>\n",
       "    </tr>\n",
       "    <tr>\n",
       "      <th>1</th>\n",
       "      <td>2</td>\n",
       "      <td>Original Audio</td>\n",
       "      <td>agus_syaputra66</td>\n",
       "      <td>3600</td>\n",
       "      <td>0:53</td>\n",
       "    </tr>\n",
       "    <tr>\n",
       "      <th>2</th>\n",
       "      <td>3</td>\n",
       "      <td>Original Audio</td>\n",
       "      <td>kd_karan_offil</td>\n",
       "      <td>713</td>\n",
       "      <td>0:25</td>\n",
       "    </tr>\n",
       "    <tr>\n",
       "      <th>3</th>\n",
       "      <td>4</td>\n",
       "      <td>Original Audio</td>\n",
       "      <td>sumeet.69</td>\n",
       "      <td>311</td>\n",
       "      <td>0:34</td>\n",
       "    </tr>\n",
       "  </tbody>\n",
       "</table>\n",
       "</div>"
      ],
      "text/plain": [
       "   Sno            Name               Author  Reels  Time\n",
       "0    1  Original Audio  indian_unplugged.in    948  1:00\n",
       "1    2  Original Audio      agus_syaputra66   3600  0:53\n",
       "2    3  Original Audio       kd_karan_offil    713  0:25\n",
       "3    4  Original Audio            sumeet.69    311  0:34"
      ]
     },
     "execution_count": 33,
     "metadata": {},
     "output_type": "execute_result"
    }
   ],
   "source": [
    "audio"
   ]
  },
  {
   "cell_type": "code",
   "execution_count": 32,
   "id": "2df7ddfa",
   "metadata": {},
   "outputs": [],
   "source": [
    "audio.loc[3]=[4,\"Original Audio\",\"sumeet.69\",311,\"0:34\"]"
   ]
  },
  {
   "cell_type": "code",
   "execution_count": null,
   "id": "89b2be20",
   "metadata": {},
   "outputs": [],
   "source": []
  },
  {
   "cell_type": "code",
   "execution_count": null,
   "id": "c1285b80",
   "metadata": {},
   "outputs": [],
   "source": []
  }
 ],
 "metadata": {
  "kernelspec": {
   "display_name": "Python 3",
   "language": "python",
   "name": "python3"
  },
  "language_info": {
   "codemirror_mode": {
    "name": "ipython",
    "version": 3
   },
   "file_extension": ".py",
   "mimetype": "text/x-python",
   "name": "python",
   "nbconvert_exporter": "python",
   "pygments_lexer": "ipython3",
   "version": "3.8.8"
  }
 },
 "nbformat": 4,
 "nbformat_minor": 5
}
